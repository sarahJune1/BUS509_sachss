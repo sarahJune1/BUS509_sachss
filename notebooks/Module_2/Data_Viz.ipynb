{
  "nbformat": 4,
  "nbformat_minor": 0,
  "metadata": {
    "colab": {
      "name": "Data Viz.ipynb",
      "provenance": [],
      "collapsed_sections": [],
      "authorship_tag": "ABX9TyMf/pq47+fRm5H2E6ZPbCaA",
      "include_colab_link": true
    },
    "kernelspec": {
      "name": "python3",
      "display_name": "Python 3"
    },
    "language_info": {
      "name": "python"
    }
  },
  "cells": [
    {
      "cell_type": "markdown",
      "metadata": {
        "id": "view-in-github",
        "colab_type": "text"
      },
      "source": [
        "<a href=\"https://colab.research.google.com/github/sarahJune1/BUS509_sachss/blob/main/notebooks/Module_2/Data_Viz.ipynb\" target=\"_parent\"><img src=\"https://colab.research.google.com/assets/colab-badge.svg\" alt=\"Open In Colab\"/></a>"
      ]
    },
    {
      "cell_type": "markdown",
      "source": [
        "# Module 2: Tabular and Graphical Methods\n",
        "\n",
        "In this notebook, we will explore data visualizations, how to construct different graphs, and the principles of design. Additionally we will answer the question: why visualize? We will review Anscombe's quartet as a demonstration.\n"
      ],
      "metadata": {
        "id": "OM6b6BGW5xtQ"
      }
    },
    {
      "cell_type": "code",
      "execution_count": null,
      "metadata": {
        "colab": {
          "base_uri": "https://localhost:8080/"
        },
        "id": "Gfc6TM2M795k",
        "outputId": "95c7fc1b-3afe-4bc2-ee02-75bd3d1a7591"
      },
      "outputs": [
        {
          "output_type": "stream",
          "name": "stderr",
          "text": [
            "/usr/local/lib/python3.7/dist-packages/statsmodels/tools/_testing.py:19: FutureWarning: pandas.util.testing is deprecated. Use the functions in the public API at pandas.testing instead.\n",
            "  import pandas.util.testing as tm\n"
          ]
        }
      ],
      "source": [
        "import pandas as pd\n",
        "import matplotlib.pyplot as plt\n",
        "import os\n",
        "import numpy as np\n",
        "import seaborn as sns\n",
        "\n",
        "import statsmodels.api as sm\n",
        "import statsmodels.formula.api as smf"
      ]
    },
    {
      "cell_type": "markdown",
      "source": [
        "## Data Visualizations\n",
        "\n",
        "#### Methods to Visualize\n",
        "\n",
        "Categorical Variables:\n",
        "\n",
        "\n",
        "1.   Bar Charts\n",
        "2.   Pie Charts\n",
        "3.   Frequency Distribution\n",
        "\n",
        "\n"
      ],
      "metadata": {
        "id": "yR_JofS38FfL"
      }
    },
    {
      "cell_type": "markdown",
      "source": [
        "Frequency distribution example, personality types for HR department using the Myers-Briggs assessment into 4 categories."
      ],
      "metadata": {
        "id": "t7wbbcnIe_eB"
      }
    },
    {
      "cell_type": "code",
      "source": [
        "# read in dataframe directly from source, to ensure reproducible research\n",
        "myer_brig = pd.read_excel(\"https://lectures.mhhe.com/connect/jaggia4e_1260719294/student/data_files/jaggia_BS_4e_ch02_Data_Files.xlsx\",\n",
        "                   sheet_name='Myers_Briggs')"
      ],
      "metadata": {
        "id": "QLt_Y8_rekMt"
      },
      "execution_count": null,
      "outputs": []
    },
    {
      "cell_type": "code",
      "source": [
        "myer_brig.head()"
      ],
      "metadata": {
        "colab": {
          "base_uri": "https://localhost:8080/",
          "height": 206
        },
        "id": "7kQAtVsWe9lr",
        "outputId": "6a4d852b-88a0-43d8-e9f2-7a4ea26281b6"
      },
      "execution_count": null,
      "outputs": [
        {
          "output_type": "execute_result",
          "data": {
            "text/html": [
              "\n",
              "  <div id=\"df-65628edc-3930-4e33-994a-080ccdc6a060\">\n",
              "    <div class=\"colab-df-container\">\n",
              "      <div>\n",
              "<style scoped>\n",
              "    .dataframe tbody tr th:only-of-type {\n",
              "        vertical-align: middle;\n",
              "    }\n",
              "\n",
              "    .dataframe tbody tr th {\n",
              "        vertical-align: top;\n",
              "    }\n",
              "\n",
              "    .dataframe thead th {\n",
              "        text-align: right;\n",
              "    }\n",
              "</style>\n",
              "<table border=\"1\" class=\"dataframe\">\n",
              "  <thead>\n",
              "    <tr style=\"text-align: right;\">\n",
              "      <th></th>\n",
              "      <th>Employee</th>\n",
              "      <th>Personality</th>\n",
              "    </tr>\n",
              "  </thead>\n",
              "  <tbody>\n",
              "    <tr>\n",
              "      <th>0</th>\n",
              "      <td>1</td>\n",
              "      <td>Diplomat</td>\n",
              "    </tr>\n",
              "    <tr>\n",
              "      <th>1</th>\n",
              "      <td>2</td>\n",
              "      <td>Diplomat</td>\n",
              "    </tr>\n",
              "    <tr>\n",
              "      <th>2</th>\n",
              "      <td>3</td>\n",
              "      <td>Explorer</td>\n",
              "    </tr>\n",
              "    <tr>\n",
              "      <th>3</th>\n",
              "      <td>4</td>\n",
              "      <td>Diplomat</td>\n",
              "    </tr>\n",
              "    <tr>\n",
              "      <th>4</th>\n",
              "      <td>5</td>\n",
              "      <td>Diplomat</td>\n",
              "    </tr>\n",
              "  </tbody>\n",
              "</table>\n",
              "</div>\n",
              "      <button class=\"colab-df-convert\" onclick=\"convertToInteractive('df-65628edc-3930-4e33-994a-080ccdc6a060')\"\n",
              "              title=\"Convert this dataframe to an interactive table.\"\n",
              "              style=\"display:none;\">\n",
              "        \n",
              "  <svg xmlns=\"http://www.w3.org/2000/svg\" height=\"24px\"viewBox=\"0 0 24 24\"\n",
              "       width=\"24px\">\n",
              "    <path d=\"M0 0h24v24H0V0z\" fill=\"none\"/>\n",
              "    <path d=\"M18.56 5.44l.94 2.06.94-2.06 2.06-.94-2.06-.94-.94-2.06-.94 2.06-2.06.94zm-11 1L8.5 8.5l.94-2.06 2.06-.94-2.06-.94L8.5 2.5l-.94 2.06-2.06.94zm10 10l.94 2.06.94-2.06 2.06-.94-2.06-.94-.94-2.06-.94 2.06-2.06.94z\"/><path d=\"M17.41 7.96l-1.37-1.37c-.4-.4-.92-.59-1.43-.59-.52 0-1.04.2-1.43.59L10.3 9.45l-7.72 7.72c-.78.78-.78 2.05 0 2.83L4 21.41c.39.39.9.59 1.41.59.51 0 1.02-.2 1.41-.59l7.78-7.78 2.81-2.81c.8-.78.8-2.07 0-2.86zM5.41 20L4 18.59l7.72-7.72 1.47 1.35L5.41 20z\"/>\n",
              "  </svg>\n",
              "      </button>\n",
              "      \n",
              "  <style>\n",
              "    .colab-df-container {\n",
              "      display:flex;\n",
              "      flex-wrap:wrap;\n",
              "      gap: 12px;\n",
              "    }\n",
              "\n",
              "    .colab-df-convert {\n",
              "      background-color: #E8F0FE;\n",
              "      border: none;\n",
              "      border-radius: 50%;\n",
              "      cursor: pointer;\n",
              "      display: none;\n",
              "      fill: #1967D2;\n",
              "      height: 32px;\n",
              "      padding: 0 0 0 0;\n",
              "      width: 32px;\n",
              "    }\n",
              "\n",
              "    .colab-df-convert:hover {\n",
              "      background-color: #E2EBFA;\n",
              "      box-shadow: 0px 1px 2px rgba(60, 64, 67, 0.3), 0px 1px 3px 1px rgba(60, 64, 67, 0.15);\n",
              "      fill: #174EA6;\n",
              "    }\n",
              "\n",
              "    [theme=dark] .colab-df-convert {\n",
              "      background-color: #3B4455;\n",
              "      fill: #D2E3FC;\n",
              "    }\n",
              "\n",
              "    [theme=dark] .colab-df-convert:hover {\n",
              "      background-color: #434B5C;\n",
              "      box-shadow: 0px 1px 3px 1px rgba(0, 0, 0, 0.15);\n",
              "      filter: drop-shadow(0px 1px 2px rgba(0, 0, 0, 0.3));\n",
              "      fill: #FFFFFF;\n",
              "    }\n",
              "  </style>\n",
              "\n",
              "      <script>\n",
              "        const buttonEl =\n",
              "          document.querySelector('#df-65628edc-3930-4e33-994a-080ccdc6a060 button.colab-df-convert');\n",
              "        buttonEl.style.display =\n",
              "          google.colab.kernel.accessAllowed ? 'block' : 'none';\n",
              "\n",
              "        async function convertToInteractive(key) {\n",
              "          const element = document.querySelector('#df-65628edc-3930-4e33-994a-080ccdc6a060');\n",
              "          const dataTable =\n",
              "            await google.colab.kernel.invokeFunction('convertToInteractive',\n",
              "                                                     [key], {});\n",
              "          if (!dataTable) return;\n",
              "\n",
              "          const docLinkHtml = 'Like what you see? Visit the ' +\n",
              "            '<a target=\"_blank\" href=https://colab.research.google.com/notebooks/data_table.ipynb>data table notebook</a>'\n",
              "            + ' to learn more about interactive tables.';\n",
              "          element.innerHTML = '';\n",
              "          dataTable['output_type'] = 'display_data';\n",
              "          await google.colab.output.renderOutput(dataTable, element);\n",
              "          const docLink = document.createElement('div');\n",
              "          docLink.innerHTML = docLinkHtml;\n",
              "          element.appendChild(docLink);\n",
              "        }\n",
              "      </script>\n",
              "    </div>\n",
              "  </div>\n",
              "  "
            ],
            "text/plain": [
              "   Employee Personality\n",
              "0         1    Diplomat\n",
              "1         2    Diplomat\n",
              "2         3    Explorer\n",
              "3         4    Diplomat\n",
              "4         5    Diplomat"
            ]
          },
          "metadata": {},
          "execution_count": 11
        }
      ]
    },
    {
      "cell_type": "code",
      "source": [
        "# how often does each label occur?\n",
        "myer_brig.Personality.value_counts().index"
      ],
      "metadata": {
        "colab": {
          "base_uri": "https://localhost:8080/"
        },
        "id": "73AyximtfkzB",
        "outputId": "bd19c6b3-d04d-4473-eb78-d308fe8e4f53"
      },
      "execution_count": null,
      "outputs": [
        {
          "output_type": "execute_result",
          "data": {
            "text/plain": [
              "Index(['Explorer', 'Diplomat', 'Sentinel', 'Analyst'], dtype='object')"
            ]
          },
          "metadata": {},
          "execution_count": 21
        }
      ]
    },
    {
      "cell_type": "code",
      "source": [
        "# Bar Chart"
      ],
      "metadata": {
        "id": "7p-e32hXiPTU"
      },
      "execution_count": null,
      "outputs": []
    },
    {
      "cell_type": "code",
      "source": [
        "fig, ax = plt.subplots(1, 1, figsize=(8, 6))\n",
        "# make index in the same order as the value counts\n",
        "indx = myer_brig.Personality.value_counts().index\n",
        "# divide each by len\n",
        "series = myer_brig.Personality.value_counts()/len(myer_brig)\n",
        "# multiply by 100 \n",
        "plt.bar(indx, series * 100)\n",
        "plt.title(\"Distribution of Personality Types\", size=15)\n",
        "plt.ylabel('Relative Frequency (%)', size=12)\n",
        "plt.show()"
      ],
      "metadata": {
        "colab": {
          "base_uri": "https://localhost:8080/",
          "height": 392
        },
        "id": "DqhADA-0hH6x",
        "outputId": "86a91102-13b5-454c-840d-1a1d5fe2599b"
      },
      "execution_count": null,
      "outputs": [
        {
          "output_type": "display_data",
          "data": {
            "image/png": "[encoded data removed]",
            "text/plain": [
              "<Figure size 576x432 with 1 Axes>"
            ]
          },
          "metadata": {
            "needs_background": "light"
          }
        }
      ]
    },
    {
      "cell_type": "code",
      "source": [
        "# Pie Chart\n",
        "fig, ax = plt.subplots(1, 1, figsize=(8, 6))\n",
        "myer_brig['Personality'].value_counts().plot.pie(autopct='%1.1f%%', label='')\n",
        "\n",
        "plt.title(\"Distribution of Personality Types\", size=15)\n",
        "plt.show()"
      ],
      "metadata": {
        "colab": {
          "base_uri": "https://localhost:8080/",
          "height": 375
        },
        "id": "Qwj39tnVhBC0",
        "outputId": "4ec67c04-58ea-4921-fedb-bb515f8e1b85"
      },
      "execution_count": null,
      "outputs": [
        {
          "output_type": "display_data",
          "data": {
            "image/png": "[encoded data removed]",
            "text/plain": [
              "<Figure size 576x432 with 1 Axes>"
            ]
          },
          "metadata": {}
        }
      ]
    },
    {
      "cell_type": "code",
      "source": [
        "# read in dataframe directly from source, to ensure reproducible research\n",
        "myer_brig2 = pd.read_excel(\"https://lectures.mhhe.com/connect/jaggia4e_1260719294/student/data_files/jaggia_BS_4e_ch02_Data_Files.xlsx\",\n",
        "                   sheet_name='Myers_Briggs2')"
      ],
      "metadata": {
        "id": "eSKy7LtgnPEq"
      },
      "execution_count": null,
      "outputs": []
    },
    {
      "cell_type": "code",
      "source": [
        "myer_brig2.head()"
      ],
      "metadata": {
        "colab": {
          "base_uri": "https://localhost:8080/",
          "height": 206
        },
        "id": "tBu8hV4unQ0v",
        "outputId": "e19d6818-787c-4dee-ccff-d39620958523"
      },
      "execution_count": null,
      "outputs": [
        {
          "output_type": "execute_result",
          "data": {
            "text/html": [
              "\n",
              "  <div id=\"df-d096f7dc-c337-4f03-8b74-47e2a96cff1e\">\n",
              "    <div class=\"colab-df-container\">\n",
              "      <div>\n",
              "<style scoped>\n",
              "    .dataframe tbody tr th:only-of-type {\n",
              "        vertical-align: middle;\n",
              "    }\n",
              "\n",
              "    .dataframe tbody tr th {\n",
              "        vertical-align: top;\n",
              "    }\n",
              "\n",
              "    .dataframe thead th {\n",
              "        text-align: right;\n",
              "    }\n",
              "</style>\n",
              "<table border=\"1\" class=\"dataframe\">\n",
              "  <thead>\n",
              "    <tr style=\"text-align: right;\">\n",
              "      <th></th>\n",
              "      <th>Employee</th>\n",
              "      <th>Personality</th>\n",
              "      <th>Sex</th>\n",
              "    </tr>\n",
              "  </thead>\n",
              "  <tbody>\n",
              "    <tr>\n",
              "      <th>0</th>\n",
              "      <td>1</td>\n",
              "      <td>Diplomat</td>\n",
              "      <td>Female</td>\n",
              "    </tr>\n",
              "    <tr>\n",
              "      <th>1</th>\n",
              "      <td>2</td>\n",
              "      <td>Diplomat</td>\n",
              "      <td>Female</td>\n",
              "    </tr>\n",
              "    <tr>\n",
              "      <th>2</th>\n",
              "      <td>3</td>\n",
              "      <td>Explorer</td>\n",
              "      <td>Male</td>\n",
              "    </tr>\n",
              "    <tr>\n",
              "      <th>3</th>\n",
              "      <td>4</td>\n",
              "      <td>Diplomat</td>\n",
              "      <td>Female</td>\n",
              "    </tr>\n",
              "    <tr>\n",
              "      <th>4</th>\n",
              "      <td>5</td>\n",
              "      <td>Diplomat</td>\n",
              "      <td>Female</td>\n",
              "    </tr>\n",
              "  </tbody>\n",
              "</table>\n",
              "</div>\n",
              "      <button class=\"colab-df-convert\" onclick=\"convertToInteractive('df-d096f7dc-c337-4f03-8b74-47e2a96cff1e')\"\n",
              "              title=\"Convert this dataframe to an interactive table.\"\n",
              "              style=\"display:none;\">\n",
              "        \n",
              "  <svg xmlns=\"http://www.w3.org/2000/svg\" height=\"24px\"viewBox=\"0 0 24 24\"\n",
              "       width=\"24px\">\n",
              "    <path d=\"M0 0h24v24H0V0z\" fill=\"none\"/>\n",
              "    <path d=\"M18.56 5.44l.94 2.06.94-2.06 2.06-.94-2.06-.94-.94-2.06-.94 2.06-2.06.94zm-11 1L8.5 8.5l.94-2.06 2.06-.94-2.06-.94L8.5 2.5l-.94 2.06-2.06.94zm10 10l.94 2.06.94-2.06 2.06-.94-2.06-.94-.94-2.06-.94 2.06-2.06.94z\"/><path d=\"M17.41 7.96l-1.37-1.37c-.4-.4-.92-.59-1.43-.59-.52 0-1.04.2-1.43.59L10.3 9.45l-7.72 7.72c-.78.78-.78 2.05 0 2.83L4 21.41c.39.39.9.59 1.41.59.51 0 1.02-.2 1.41-.59l7.78-7.78 2.81-2.81c.8-.78.8-2.07 0-2.86zM5.41 20L4 18.59l7.72-7.72 1.47 1.35L5.41 20z\"/>\n",
              "  </svg>\n",
              "      </button>\n",
              "      \n",
              "  <style>\n",
              "    .colab-df-container {\n",
              "      display:flex;\n",
              "      flex-wrap:wrap;\n",
              "      gap: 12px;\n",
              "    }\n",
              "\n",
              "    .colab-df-convert {\n",
              "      background-color: #E8F0FE;\n",
              "      border: none;\n",
              "      border-radius: 50%;\n",
              "      cursor: pointer;\n",
              "      display: none;\n",
              "      fill: #1967D2;\n",
              "      height: 32px;\n",
              "      padding: 0 0 0 0;\n",
              "      width: 32px;\n",
              "    }\n",
              "\n",
              "    .colab-df-convert:hover {\n",
              "      background-color: #E2EBFA;\n",
              "      box-shadow: 0px 1px 2px rgba(60, 64, 67, 0.3), 0px 1px 3px 1px rgba(60, 64, 67, 0.15);\n",
              "      fill: #174EA6;\n",
              "    }\n",
              "\n",
              "    [theme=dark] .colab-df-convert {\n",
              "      background-color: #3B4455;\n",
              "      fill: #D2E3FC;\n",
              "    }\n",
              "\n",
              "    [theme=dark] .colab-df-convert:hover {\n",
              "      background-color: #434B5C;\n",
              "      box-shadow: 0px 1px 3px 1px rgba(0, 0, 0, 0.15);\n",
              "      filter: drop-shadow(0px 1px 2px rgba(0, 0, 0, 0.3));\n",
              "      fill: #FFFFFF;\n",
              "    }\n",
              "  </style>\n",
              "\n",
              "      <script>\n",
              "        const buttonEl =\n",
              "          document.querySelector('#df-d096f7dc-c337-4f03-8b74-47e2a96cff1e button.colab-df-convert');\n",
              "        buttonEl.style.display =\n",
              "          google.colab.kernel.accessAllowed ? 'block' : 'none';\n",
              "\n",
              "        async function convertToInteractive(key) {\n",
              "          const element = document.querySelector('#df-d096f7dc-c337-4f03-8b74-47e2a96cff1e');\n",
              "          const dataTable =\n",
              "            await google.colab.kernel.invokeFunction('convertToInteractive',\n",
              "                                                     [key], {});\n",
              "          if (!dataTable) return;\n",
              "\n",
              "          const docLinkHtml = 'Like what you see? Visit the ' +\n",
              "            '<a target=\"_blank\" href=https://colab.research.google.com/notebooks/data_table.ipynb>data table notebook</a>'\n",
              "            + ' to learn more about interactive tables.';\n",
              "          element.innerHTML = '';\n",
              "          dataTable['output_type'] = 'display_data';\n",
              "          await google.colab.output.renderOutput(dataTable, element);\n",
              "          const docLink = document.createElement('div');\n",
              "          docLink.innerHTML = docLinkHtml;\n",
              "          element.appendChild(docLink);\n",
              "        }\n",
              "      </script>\n",
              "    </div>\n",
              "  </div>\n",
              "  "
            ],
            "text/plain": [
              "   Employee Personality     Sex\n",
              "0         1    Diplomat  Female\n",
              "1         2    Diplomat  Female\n",
              "2         3    Explorer    Male\n",
              "3         4    Diplomat  Female\n",
              "4         5    Diplomat  Female"
            ]
          },
          "metadata": {},
          "execution_count": 35
        }
      ]
    },
    {
      "cell_type": "code",
      "source": [
        "# contingency tables\n",
        "pd.crosstab(myer_brig2['Sex'], myer_brig2['Personality'], margins = True)"
      ],
      "metadata": {
        "colab": {
          "base_uri": "https://localhost:8080/",
          "height": 175
        },
        "id": "6v6fBD16ni-X",
        "outputId": "e776409b-d553-4d89-cebb-308f137c56af"
      },
      "execution_count": null,
      "outputs": [
        {
          "output_type": "execute_result",
          "data": {
            "text/html": [
              "\n",
              "  <div id=\"df-0b8c5f48-377e-4e59-b764-36f5be04b34d\">\n",
              "    <div class=\"colab-df-container\">\n",
              "      <div>\n",
              "<style scoped>\n",
              "    .dataframe tbody tr th:only-of-type {\n",
              "        vertical-align: middle;\n",
              "    }\n",
              "\n",
              "    .dataframe tbody tr th {\n",
              "        vertical-align: top;\n",
              "    }\n",
              "\n",
              "    .dataframe thead th {\n",
              "        text-align: right;\n",
              "    }\n",
              "</style>\n",
              "<table border=\"1\" class=\"dataframe\">\n",
              "  <thead>\n",
              "    <tr style=\"text-align: right;\">\n",
              "      <th>Personality</th>\n",
              "      <th>Analyst</th>\n",
              "      <th>Diplomat</th>\n",
              "      <th>Explorer</th>\n",
              "      <th>Sentinel</th>\n",
              "      <th>All</th>\n",
              "    </tr>\n",
              "    <tr>\n",
              "      <th>Sex</th>\n",
              "      <th></th>\n",
              "      <th></th>\n",
              "      <th></th>\n",
              "      <th></th>\n",
              "      <th></th>\n",
              "    </tr>\n",
              "  </thead>\n",
              "  <tbody>\n",
              "    <tr>\n",
              "      <th>Female</th>\n",
              "      <td>55</td>\n",
              "      <td>164</td>\n",
              "      <td>194</td>\n",
              "      <td>79</td>\n",
              "      <td>492</td>\n",
              "    </tr>\n",
              "    <tr>\n",
              "      <th>Male</th>\n",
              "      <td>61</td>\n",
              "      <td>160</td>\n",
              "      <td>210</td>\n",
              "      <td>77</td>\n",
              "      <td>508</td>\n",
              "    </tr>\n",
              "    <tr>\n",
              "      <th>All</th>\n",
              "      <td>116</td>\n",
              "      <td>324</td>\n",
              "      <td>404</td>\n",
              "      <td>156</td>\n",
              "      <td>1000</td>\n",
              "    </tr>\n",
              "  </tbody>\n",
              "</table>\n",
              "</div>\n",
              "      <button class=\"colab-df-convert\" onclick=\"convertToInteractive('df-0b8c5f48-377e-4e59-b764-36f5be04b34d')\"\n",
              "              title=\"Convert this dataframe to an interactive table.\"\n",
              "              style=\"display:none;\">\n",
              "        \n",
              "  <svg xmlns=\"http://www.w3.org/2000/svg\" height=\"24px\"viewBox=\"0 0 24 24\"\n",
              "       width=\"24px\">\n",
              "    <path d=\"M0 0h24v24H0V0z\" fill=\"none\"/>\n",
              "    <path d=\"M18.56 5.44l.94 2.06.94-2.06 2.06-.94-2.06-.94-.94-2.06-.94 2.06-2.06.94zm-11 1L8.5 8.5l.94-2.06 2.06-.94-2.06-.94L8.5 2.5l-.94 2.06-2.06.94zm10 10l.94 2.06.94-2.06 2.06-.94-2.06-.94-.94-2.06-.94 2.06-2.06.94z\"/><path d=\"M17.41 7.96l-1.37-1.37c-.4-.4-.92-.59-1.43-.59-.52 0-1.04.2-1.43.59L10.3 9.45l-7.72 7.72c-.78.78-.78 2.05 0 2.83L4 21.41c.39.39.9.59 1.41.59.51 0 1.02-.2 1.41-.59l7.78-7.78 2.81-2.81c.8-.78.8-2.07 0-2.86zM5.41 20L4 18.59l7.72-7.72 1.47 1.35L5.41 20z\"/>\n",
              "  </svg>\n",
              "      </button>\n",
              "      \n",
              "  <style>\n",
              "    .colab-df-container {\n",
              "      display:flex;\n",
              "      flex-wrap:wrap;\n",
              "      gap: 12px;\n",
              "    }\n",
              "\n",
              "    .colab-df-convert {\n",
              "      background-color: #E8F0FE;\n",
              "      border: none;\n",
              "      border-radius: 50%;\n",
              "      cursor: pointer;\n",
              "      display: none;\n",
              "      fill: #1967D2;\n",
              "      height: 32px;\n",
              "      padding: 0 0 0 0;\n",
              "      width: 32px;\n",
              "    }\n",
              "\n",
              "    .colab-df-convert:hover {\n",
              "      background-color: #E2EBFA;\n",
              "      box-shadow: 0px 1px 2px rgba(60, 64, 67, 0.3), 0px 1px 3px 1px rgba(60, 64, 67, 0.15);\n",
              "      fill: #174EA6;\n",
              "    }\n",
              "\n",
              "    [theme=dark] .colab-df-convert {\n",
              "      background-color: #3B4455;\n",
              "      fill: #D2E3FC;\n",
              "    }\n",
              "\n",
              "    [theme=dark] .colab-df-convert:hover {\n",
              "      background-color: #434B5C;\n",
              "      box-shadow: 0px 1px 3px 1px rgba(0, 0, 0, 0.15);\n",
              "      filter: drop-shadow(0px 1px 2px rgba(0, 0, 0, 0.3));\n",
              "      fill: #FFFFFF;\n",
              "    }\n",
              "  </style>\n",
              "\n",
              "      <script>\n",
              "        const buttonEl =\n",
              "          document.querySelector('#df-0b8c5f48-377e-4e59-b764-36f5be04b34d button.colab-df-convert');\n",
              "        buttonEl.style.display =\n",
              "          google.colab.kernel.accessAllowed ? 'block' : 'none';\n",
              "\n",
              "        async function convertToInteractive(key) {\n",
              "          const element = document.querySelector('#df-0b8c5f48-377e-4e59-b764-36f5be04b34d');\n",
              "          const dataTable =\n",
              "            await google.colab.kernel.invokeFunction('convertToInteractive',\n",
              "                                                     [key], {});\n",
              "          if (!dataTable) return;\n",
              "\n",
              "          const docLinkHtml = 'Like what you see? Visit the ' +\n",
              "            '<a target=\"_blank\" href=https://colab.research.google.com/notebooks/data_table.ipynb>data table notebook</a>'\n",
              "            + ' to learn more about interactive tables.';\n",
              "          element.innerHTML = '';\n",
              "          dataTable['output_type'] = 'display_data';\n",
              "          await google.colab.output.renderOutput(dataTable, element);\n",
              "          const docLink = document.createElement('div');\n",
              "          docLink.innerHTML = docLinkHtml;\n",
              "          element.appendChild(docLink);\n",
              "        }\n",
              "      </script>\n",
              "    </div>\n",
              "  </div>\n",
              "  "
            ],
            "text/plain": [
              "Personality  Analyst  Diplomat  Explorer  Sentinel   All\n",
              "Sex                                                     \n",
              "Female            55       164       194        79   492\n",
              "Male              61       160       210        77   508\n",
              "All              116       324       404       156  1000"
            ]
          },
          "metadata": {},
          "execution_count": 38
        }
      ]
    },
    {
      "cell_type": "code",
      "source": [
        "myer_brig2_stacked = myer_brig2.groupby(['Personality', 'Sex'])['Sex'].count().unstack('Sex')\n",
        "myer_brig2_stacked"
      ],
      "metadata": {
        "colab": {
          "base_uri": "https://localhost:8080/",
          "height": 206
        },
        "id": "JTXkiqFrpXuw",
        "outputId": "855eea57-01c1-48c8-bf14-bd36ce0cca38"
      },
      "execution_count": null,
      "outputs": [
        {
          "output_type": "execute_result",
          "data": {
            "text/html": [
              "\n",
              "  <div id=\"df-e3d65e55-b129-4752-8920-e2126d29c4bd\">\n",
              "    <div class=\"colab-df-container\">\n",
              "      <div>\n",
              "<style scoped>\n",
              "    .dataframe tbody tr th:only-of-type {\n",
              "        vertical-align: middle;\n",
              "    }\n",
              "\n",
              "    .dataframe tbody tr th {\n",
              "        vertical-align: top;\n",
              "    }\n",
              "\n",
              "    .dataframe thead th {\n",
              "        text-align: right;\n",
              "    }\n",
              "</style>\n",
              "<table border=\"1\" class=\"dataframe\">\n",
              "  <thead>\n",
              "    <tr style=\"text-align: right;\">\n",
              "      <th>Sex</th>\n",
              "      <th>Female</th>\n",
              "      <th>Male</th>\n",
              "    </tr>\n",
              "    <tr>\n",
              "      <th>Personality</th>\n",
              "      <th></th>\n",
              "      <th></th>\n",
              "    </tr>\n",
              "  </thead>\n",
              "  <tbody>\n",
              "    <tr>\n",
              "      <th>Analyst</th>\n",
              "      <td>55</td>\n",
              "      <td>61</td>\n",
              "    </tr>\n",
              "    <tr>\n",
              "      <th>Diplomat</th>\n",
              "      <td>164</td>\n",
              "      <td>160</td>\n",
              "    </tr>\n",
              "    <tr>\n",
              "      <th>Explorer</th>\n",
              "      <td>194</td>\n",
              "      <td>210</td>\n",
              "    </tr>\n",
              "    <tr>\n",
              "      <th>Sentinel</th>\n",
              "      <td>79</td>\n",
              "      <td>77</td>\n",
              "    </tr>\n",
              "  </tbody>\n",
              "</table>\n",
              "</div>\n",
              "      <button class=\"colab-df-convert\" onclick=\"convertToInteractive('df-e3d65e55-b129-4752-8920-e2126d29c4bd')\"\n",
              "              title=\"Convert this dataframe to an interactive table.\"\n",
              "              style=\"display:none;\">\n",
              "        \n",
              "  <svg xmlns=\"http://www.w3.org/2000/svg\" height=\"24px\"viewBox=\"0 0 24 24\"\n",
              "       width=\"24px\">\n",
              "    <path d=\"M0 0h24v24H0V0z\" fill=\"none\"/>\n",
              "    <path d=\"M18.56 5.44l.94 2.06.94-2.06 2.06-.94-2.06-.94-.94-2.06-.94 2.06-2.06.94zm-11 1L8.5 8.5l.94-2.06 2.06-.94-2.06-.94L8.5 2.5l-.94 2.06-2.06.94zm10 10l.94 2.06.94-2.06 2.06-.94-2.06-.94-.94-2.06-.94 2.06-2.06.94z\"/><path d=\"M17.41 7.96l-1.37-1.37c-.4-.4-.92-.59-1.43-.59-.52 0-1.04.2-1.43.59L10.3 9.45l-7.72 7.72c-.78.78-.78 2.05 0 2.83L4 21.41c.39.39.9.59 1.41.59.51 0 1.02-.2 1.41-.59l7.78-7.78 2.81-2.81c.8-.78.8-2.07 0-2.86zM5.41 20L4 18.59l7.72-7.72 1.47 1.35L5.41 20z\"/>\n",
              "  </svg>\n",
              "      </button>\n",
              "      \n",
              "  <style>\n",
              "    .colab-df-container {\n",
              "      display:flex;\n",
              "      flex-wrap:wrap;\n",
              "      gap: 12px;\n",
              "    }\n",
              "\n",
              "    .colab-df-convert {\n",
              "      background-color: #E8F0FE;\n",
              "      border: none;\n",
              "      border-radius: 50%;\n",
              "      cursor: pointer;\n",
              "      display: none;\n",
              "      fill: #1967D2;\n",
              "      height: 32px;\n",
              "      padding: 0 0 0 0;\n",
              "      width: 32px;\n",
              "    }\n",
              "\n",
              "    .colab-df-convert:hover {\n",
              "      background-color: #E2EBFA;\n",
              "      box-shadow: 0px 1px 2px rgba(60, 64, 67, 0.3), 0px 1px 3px 1px rgba(60, 64, 67, 0.15);\n",
              "      fill: #174EA6;\n",
              "    }\n",
              "\n",
              "    [theme=dark] .colab-df-convert {\n",
              "      background-color: #3B4455;\n",
              "      fill: #D2E3FC;\n",
              "    }\n",
              "\n",
              "    [theme=dark] .colab-df-convert:hover {\n",
              "      background-color: #434B5C;\n",
              "      box-shadow: 0px 1px 3px 1px rgba(0, 0, 0, 0.15);\n",
              "      filter: drop-shadow(0px 1px 2px rgba(0, 0, 0, 0.3));\n",
              "      fill: #FFFFFF;\n",
              "    }\n",
              "  </style>\n",
              "\n",
              "      <script>\n",
              "        const buttonEl =\n",
              "          document.querySelector('#df-e3d65e55-b129-4752-8920-e2126d29c4bd button.colab-df-convert');\n",
              "        buttonEl.style.display =\n",
              "          google.colab.kernel.accessAllowed ? 'block' : 'none';\n",
              "\n",
              "        async function convertToInteractive(key) {\n",
              "          const element = document.querySelector('#df-e3d65e55-b129-4752-8920-e2126d29c4bd');\n",
              "          const dataTable =\n",
              "            await google.colab.kernel.invokeFunction('convertToInteractive',\n",
              "                                                     [key], {});\n",
              "          if (!dataTable) return;\n",
              "\n",
              "          const docLinkHtml = 'Like what you see? Visit the ' +\n",
              "            '<a target=\"_blank\" href=https://colab.research.google.com/notebooks/data_table.ipynb>data table notebook</a>'\n",
              "            + ' to learn more about interactive tables.';\n",
              "          element.innerHTML = '';\n",
              "          dataTable['output_type'] = 'display_data';\n",
              "          await google.colab.output.renderOutput(dataTable, element);\n",
              "          const docLink = document.createElement('div');\n",
              "          docLink.innerHTML = docLinkHtml;\n",
              "          element.appendChild(docLink);\n",
              "        }\n",
              "      </script>\n",
              "    </div>\n",
              "  </div>\n",
              "  "
            ],
            "text/plain": [
              "Sex          Female  Male\n",
              "Personality              \n",
              "Analyst          55    61\n",
              "Diplomat        164   160\n",
              "Explorer        194   210\n",
              "Sentinel         79    77"
            ]
          },
          "metadata": {},
          "execution_count": 50
        }
      ]
    },
    {
      "cell_type": "code",
      "source": [
        "myer_brig2_stacked.columns"
      ],
      "metadata": {
        "colab": {
          "base_uri": "https://localhost:8080/"
        },
        "id": "IyIu0kYNp7Mm",
        "outputId": "e44d2637-6133-475b-ff87-801991db6abc"
      },
      "execution_count": null,
      "outputs": [
        {
          "output_type": "execute_result",
          "data": {
            "text/plain": [
              "Index(['Female', 'Male'], dtype='object', name='Sex')"
            ]
          },
          "metadata": {},
          "execution_count": 51
        }
      ]
    },
    {
      "cell_type": "code",
      "source": [
        "# bar chart\n",
        "\n",
        "fig, ax = plt.subplots(1, 1, figsize=(8, 6))\n",
        "\n",
        "# plot male vs female\n",
        "myer_brig2_stacked[['Female', 'Male']].plot(kind='bar', stacked=True, ax=ax, color=['purple','lightblue'])\n",
        "\n",
        "ax.set_ylabel('Scores')\n",
        "plt.title(\"Distribution of Personality Types\", size=15)\n",
        "ax.legend()\n",
        "plt.xticks(rotation=45)\n",
        "plt.ylabel('Frequency', size=12)\n",
        "plt.show()"
      ],
      "metadata": {
        "colab": {
          "base_uri": "https://localhost:8080/",
          "height": 435
        },
        "id": "NgIFaHu8oJ7O",
        "outputId": "124cc299-047c-418c-efe5-19d9338e7409"
      },
      "execution_count": null,
      "outputs": [
        {
          "output_type": "display_data",
          "data": {
            "image/png": "[encoded data removed]",
            "text/plain": [
              "<Figure size 576x432 with 1 Axes>"
            ]
          },
          "metadata": {
            "needs_background": "light"
          }
        }
      ]
    },
    {
      "cell_type": "markdown",
      "source": [
        "Here is the stacked bar chart, we break up each segment into the distribution of male to female and use the legend to show the values. So we can see that for each category there is roughly the same number of male to female."
      ],
      "metadata": {
        "id": "SHdreLkbt-Vk"
      }
    },
    {
      "cell_type": "markdown",
      "source": [
        "## Numerical Data\n",
        "\n",
        "Case study: 40 recent real estate transactions, house price (in $1,000s), square footage, number of bedrooms, number of bathrooms, year the house was built, type of house."
      ],
      "metadata": {
        "id": "tXeEIamjt6s5"
      }
    },
    {
      "cell_type": "code",
      "source": [
        "pg_sales = pd.read_excel(\"https://lectures.mhhe.com/connect/jaggia4e_1260719294/student/data_files/jaggia_BS_4e_ch02_Data_Files.xlsx\",\n",
        "                   sheet_name='PG_Sales')"
      ],
      "metadata": {
        "id": "ZPlYbP9tt5hu"
      },
      "execution_count": null,
      "outputs": []
    },
    {
      "cell_type": "code",
      "source": [
        "pg_sales.head()"
      ],
      "metadata": {
        "colab": {
          "base_uri": "https://localhost:8080/",
          "height": 206
        },
        "id": "bGLx4bKOuTRp",
        "outputId": "c362e472-0d52-4e02-c96c-6ed704b3a577"
      },
      "execution_count": null,
      "outputs": [
        {
          "output_type": "execute_result",
          "data": {
            "text/html": [
              "\n",
              "  <div id=\"df-cd1d4b02-4fb6-44e6-b79e-5d89659c9064\">\n",
              "    <div class=\"colab-df-container\">\n",
              "      <div>\n",
              "<style scoped>\n",
              "    .dataframe tbody tr th:only-of-type {\n",
              "        vertical-align: middle;\n",
              "    }\n",
              "\n",
              "    .dataframe tbody tr th {\n",
              "        vertical-align: top;\n",
              "    }\n",
              "\n",
              "    .dataframe thead th {\n",
              "        text-align: right;\n",
              "    }\n",
              "</style>\n",
              "<table border=\"1\" class=\"dataframe\">\n",
              "  <thead>\n",
              "    <tr style=\"text-align: right;\">\n",
              "      <th></th>\n",
              "      <th>Transaction</th>\n",
              "      <th>Price</th>\n",
              "      <th>Sqft</th>\n",
              "      <th>Bedrooms</th>\n",
              "      <th>Baths</th>\n",
              "      <th>Year Built</th>\n",
              "      <th>Type</th>\n",
              "    </tr>\n",
              "  </thead>\n",
              "  <tbody>\n",
              "    <tr>\n",
              "      <th>0</th>\n",
              "      <td>1</td>\n",
              "      <td>200</td>\n",
              "      <td>1684</td>\n",
              "      <td>3</td>\n",
              "      <td>2.0</td>\n",
              "      <td>2005</td>\n",
              "      <td>Single</td>\n",
              "    </tr>\n",
              "    <tr>\n",
              "      <th>1</th>\n",
              "      <td>2</td>\n",
              "      <td>435</td>\n",
              "      <td>2358</td>\n",
              "      <td>3</td>\n",
              "      <td>2.5</td>\n",
              "      <td>2017</td>\n",
              "      <td>Single</td>\n",
              "    </tr>\n",
              "    <tr>\n",
              "      <th>2</th>\n",
              "      <td>3</td>\n",
              "      <td>265</td>\n",
              "      <td>1001</td>\n",
              "      <td>2</td>\n",
              "      <td>2.0</td>\n",
              "      <td>1978</td>\n",
              "      <td>Single</td>\n",
              "    </tr>\n",
              "    <tr>\n",
              "      <th>3</th>\n",
              "      <td>4</td>\n",
              "      <td>300</td>\n",
              "      <td>1238</td>\n",
              "      <td>2</td>\n",
              "      <td>2.0</td>\n",
              "      <td>2000</td>\n",
              "      <td>Single</td>\n",
              "    </tr>\n",
              "    <tr>\n",
              "      <th>4</th>\n",
              "      <td>5</td>\n",
              "      <td>170</td>\n",
              "      <td>1170</td>\n",
              "      <td>3</td>\n",
              "      <td>2.0</td>\n",
              "      <td>2008</td>\n",
              "      <td>Single</td>\n",
              "    </tr>\n",
              "  </tbody>\n",
              "</table>\n",
              "</div>\n",
              "      <button class=\"colab-df-convert\" onclick=\"convertToInteractive('df-cd1d4b02-4fb6-44e6-b79e-5d89659c9064')\"\n",
              "              title=\"Convert this dataframe to an interactive table.\"\n",
              "              style=\"display:none;\">\n",
              "        \n",
              "  <svg xmlns=\"http://www.w3.org/2000/svg\" height=\"24px\"viewBox=\"0 0 24 24\"\n",
              "       width=\"24px\">\n",
              "    <path d=\"M0 0h24v24H0V0z\" fill=\"none\"/>\n",
              "    <path d=\"M18.56 5.44l.94 2.06.94-2.06 2.06-.94-2.06-.94-.94-2.06-.94 2.06-2.06.94zm-11 1L8.5 8.5l.94-2.06 2.06-.94-2.06-.94L8.5 2.5l-.94 2.06-2.06.94zm10 10l.94 2.06.94-2.06 2.06-.94-2.06-.94-.94-2.06-.94 2.06-2.06.94z\"/><path d=\"M17.41 7.96l-1.37-1.37c-.4-.4-.92-.59-1.43-.59-.52 0-1.04.2-1.43.59L10.3 9.45l-7.72 7.72c-.78.78-.78 2.05 0 2.83L4 21.41c.39.39.9.59 1.41.59.51 0 1.02-.2 1.41-.59l7.78-7.78 2.81-2.81c.8-.78.8-2.07 0-2.86zM5.41 20L4 18.59l7.72-7.72 1.47 1.35L5.41 20z\"/>\n",
              "  </svg>\n",
              "      </button>\n",
              "      \n",
              "  <style>\n",
              "    .colab-df-container {\n",
              "      display:flex;\n",
              "      flex-wrap:wrap;\n",
              "      gap: 12px;\n",
              "    }\n",
              "\n",
              "    .colab-df-convert {\n",
              "      background-color: #E8F0FE;\n",
              "      border: none;\n",
              "      border-radius: 50%;\n",
              "      cursor: pointer;\n",
              "      display: none;\n",
              "      fill: #1967D2;\n",
              "      height: 32px;\n",
              "      padding: 0 0 0 0;\n",
              "      width: 32px;\n",
              "    }\n",
              "\n",
              "    .colab-df-convert:hover {\n",
              "      background-color: #E2EBFA;\n",
              "      box-shadow: 0px 1px 2px rgba(60, 64, 67, 0.3), 0px 1px 3px 1px rgba(60, 64, 67, 0.15);\n",
              "      fill: #174EA6;\n",
              "    }\n",
              "\n",
              "    [theme=dark] .colab-df-convert {\n",
              "      background-color: #3B4455;\n",
              "      fill: #D2E3FC;\n",
              "    }\n",
              "\n",
              "    [theme=dark] .colab-df-convert:hover {\n",
              "      background-color: #434B5C;\n",
              "      box-shadow: 0px 1px 3px 1px rgba(0, 0, 0, 0.15);\n",
              "      filter: drop-shadow(0px 1px 2px rgba(0, 0, 0, 0.3));\n",
              "      fill: #FFFFFF;\n",
              "    }\n",
              "  </style>\n",
              "\n",
              "      <script>\n",
              "        const buttonEl =\n",
              "          document.querySelector('#df-cd1d4b02-4fb6-44e6-b79e-5d89659c9064 button.colab-df-convert');\n",
              "        buttonEl.style.display =\n",
              "          google.colab.kernel.accessAllowed ? 'block' : 'none';\n",
              "\n",
              "        async function convertToInteractive(key) {\n",
              "          const element = document.querySelector('#df-cd1d4b02-4fb6-44e6-b79e-5d89659c9064');\n",
              "          const dataTable =\n",
              "            await google.colab.kernel.invokeFunction('convertToInteractive',\n",
              "                                                     [key], {});\n",
              "          if (!dataTable) return;\n",
              "\n",
              "          const docLinkHtml = 'Like what you see? Visit the ' +\n",
              "            '<a target=\"_blank\" href=https://colab.research.google.com/notebooks/data_table.ipynb>data table notebook</a>'\n",
              "            + ' to learn more about interactive tables.';\n",
              "          element.innerHTML = '';\n",
              "          dataTable['output_type'] = 'display_data';\n",
              "          await google.colab.output.renderOutput(dataTable, element);\n",
              "          const docLink = document.createElement('div');\n",
              "          docLink.innerHTML = docLinkHtml;\n",
              "          element.appendChild(docLink);\n",
              "        }\n",
              "      </script>\n",
              "    </div>\n",
              "  </div>\n",
              "  "
            ],
            "text/plain": [
              "   Transaction  Price  Sqft  Bedrooms  Baths  Year Built    Type\n",
              "0            1    200  1684         3    2.0        2005  Single\n",
              "1            2    435  2358         3    2.5        2017  Single\n",
              "2            3    265  1001         2    2.0        1978  Single\n",
              "3            4    300  1238         2    2.0        2000  Single\n",
              "4            5    170  1170         3    2.0        2008  Single"
            ]
          },
          "metadata": {},
          "execution_count": 66
        }
      ]
    },
    {
      "cell_type": "code",
      "source": [
        "pg_sales.Price.min(), pg_sales.Price.max()"
      ],
      "metadata": {
        "colab": {
          "base_uri": "https://localhost:8080/"
        },
        "id": "WeQalIr8uYIp",
        "outputId": "5bbc2a9f-6b39-48c0-96f5-5852913eba65"
      },
      "execution_count": null,
      "outputs": [
        {
          "output_type": "execute_result",
          "data": {
            "text/plain": [
              "(125, 649)"
            ]
          },
          "metadata": {},
          "execution_count": 67
        }
      ]
    },
    {
      "cell_type": "code",
      "source": [
        "(pg_sales.Price.max() - pg_sales.Price.min())/6"
      ],
      "metadata": {
        "colab": {
          "base_uri": "https://localhost:8080/"
        },
        "id": "Pk08gUU-ui2j",
        "outputId": "9e1d45e6-685f-4f0d-8121-f25e5775946a"
      },
      "execution_count": null,
      "outputs": [
        {
          "output_type": "execute_result",
          "data": {
            "text/plain": [
              "87.33333333333333"
            ]
          },
          "metadata": {},
          "execution_count": 69
        }
      ]
    },
    {
      "cell_type": "markdown",
      "source": [
        "This interval size is difficult to interpret, we can use it as a basis to round up to a whole number such as $100"
      ],
      "metadata": {
        "id": "joTOavMBupTZ"
      }
    },
    {
      "cell_type": "code",
      "source": [
        "# cut the data into intervals, that range from 100 to 800 and step by 100\n",
        "pg_sales['interval'] = pd.cut(pg_sales['Price'], range(100, 800, 100))\n",
        "\n",
        "# group by the interval count, rename the column to frequency\n",
        "pg_sales_grp = pg_sales.groupby('interval')[['interval']].count().rename(columns={'interval':'frequency'}).reset_index()\n",
        "pg_sales_grp"
      ],
      "metadata": {
        "colab": {
          "base_uri": "https://localhost:8080/",
          "height": 238
        },
        "id": "GJ_GWQSxu-_l",
        "outputId": "5034b14e-287e-4da9-8eb3-9aa82eb3fe8b"
      },
      "execution_count": null,
      "outputs": [
        {
          "output_type": "execute_result",
          "data": {
            "text/html": [
              "\n",
              "  <div id=\"df-fadbe53d-5e3c-4661-8c90-c2bc0bd0cb39\">\n",
              "    <div class=\"colab-df-container\">\n",
              "      <div>\n",
              "<style scoped>\n",
              "    .dataframe tbody tr th:only-of-type {\n",
              "        vertical-align: middle;\n",
              "    }\n",
              "\n",
              "    .dataframe tbody tr th {\n",
              "        vertical-align: top;\n",
              "    }\n",
              "\n",
              "    .dataframe thead th {\n",
              "        text-align: right;\n",
              "    }\n",
              "</style>\n",
              "<table border=\"1\" class=\"dataframe\">\n",
              "  <thead>\n",
              "    <tr style=\"text-align: right;\">\n",
              "      <th></th>\n",
              "      <th>interval</th>\n",
              "      <th>frequency</th>\n",
              "    </tr>\n",
              "  </thead>\n",
              "  <tbody>\n",
              "    <tr>\n",
              "      <th>0</th>\n",
              "      <td>(100, 200]</td>\n",
              "      <td>9</td>\n",
              "    </tr>\n",
              "    <tr>\n",
              "      <th>1</th>\n",
              "      <td>(200, 300]</td>\n",
              "      <td>16</td>\n",
              "    </tr>\n",
              "    <tr>\n",
              "      <th>2</th>\n",
              "      <td>(300, 400]</td>\n",
              "      <td>8</td>\n",
              "    </tr>\n",
              "    <tr>\n",
              "      <th>3</th>\n",
              "      <td>(400, 500]</td>\n",
              "      <td>4</td>\n",
              "    </tr>\n",
              "    <tr>\n",
              "      <th>4</th>\n",
              "      <td>(500, 600]</td>\n",
              "      <td>2</td>\n",
              "    </tr>\n",
              "    <tr>\n",
              "      <th>5</th>\n",
              "      <td>(600, 700]</td>\n",
              "      <td>1</td>\n",
              "    </tr>\n",
              "  </tbody>\n",
              "</table>\n",
              "</div>\n",
              "      <button class=\"colab-df-convert\" onclick=\"convertToInteractive('df-fadbe53d-5e3c-4661-8c90-c2bc0bd0cb39')\"\n",
              "              title=\"Convert this dataframe to an interactive table.\"\n",
              "              style=\"display:none;\">\n",
              "        \n",
              "  <svg xmlns=\"http://www.w3.org/2000/svg\" height=\"24px\"viewBox=\"0 0 24 24\"\n",
              "       width=\"24px\">\n",
              "    <path d=\"M0 0h24v24H0V0z\" fill=\"none\"/>\n",
              "    <path d=\"M18.56 5.44l.94 2.06.94-2.06 2.06-.94-2.06-.94-.94-2.06-.94 2.06-2.06.94zm-11 1L8.5 8.5l.94-2.06 2.06-.94-2.06-.94L8.5 2.5l-.94 2.06-2.06.94zm10 10l.94 2.06.94-2.06 2.06-.94-2.06-.94-.94-2.06-.94 2.06-2.06.94z\"/><path d=\"M17.41 7.96l-1.37-1.37c-.4-.4-.92-.59-1.43-.59-.52 0-1.04.2-1.43.59L10.3 9.45l-7.72 7.72c-.78.78-.78 2.05 0 2.83L4 21.41c.39.39.9.59 1.41.59.51 0 1.02-.2 1.41-.59l7.78-7.78 2.81-2.81c.8-.78.8-2.07 0-2.86zM5.41 20L4 18.59l7.72-7.72 1.47 1.35L5.41 20z\"/>\n",
              "  </svg>\n",
              "      </button>\n",
              "      \n",
              "  <style>\n",
              "    .colab-df-container {\n",
              "      display:flex;\n",
              "      flex-wrap:wrap;\n",
              "      gap: 12px;\n",
              "    }\n",
              "\n",
              "    .colab-df-convert {\n",
              "      background-color: #E8F0FE;\n",
              "      border: none;\n",
              "      border-radius: 50%;\n",
              "      cursor: pointer;\n",
              "      display: none;\n",
              "      fill: #1967D2;\n",
              "      height: 32px;\n",
              "      padding: 0 0 0 0;\n",
              "      width: 32px;\n",
              "    }\n",
              "\n",
              "    .colab-df-convert:hover {\n",
              "      background-color: #E2EBFA;\n",
              "      box-shadow: 0px 1px 2px rgba(60, 64, 67, 0.3), 0px 1px 3px 1px rgba(60, 64, 67, 0.15);\n",
              "      fill: #174EA6;\n",
              "    }\n",
              "\n",
              "    [theme=dark] .colab-df-convert {\n",
              "      background-color: #3B4455;\n",
              "      fill: #D2E3FC;\n",
              "    }\n",
              "\n",
              "    [theme=dark] .colab-df-convert:hover {\n",
              "      background-color: #434B5C;\n",
              "      box-shadow: 0px 1px 3px 1px rgba(0, 0, 0, 0.15);\n",
              "      filter: drop-shadow(0px 1px 2px rgba(0, 0, 0, 0.3));\n",
              "      fill: #FFFFFF;\n",
              "    }\n",
              "  </style>\n",
              "\n",
              "      <script>\n",
              "        const buttonEl =\n",
              "          document.querySelector('#df-fadbe53d-5e3c-4661-8c90-c2bc0bd0cb39 button.colab-df-convert');\n",
              "        buttonEl.style.display =\n",
              "          google.colab.kernel.accessAllowed ? 'block' : 'none';\n",
              "\n",
              "        async function convertToInteractive(key) {\n",
              "          const element = document.querySelector('#df-fadbe53d-5e3c-4661-8c90-c2bc0bd0cb39');\n",
              "          const dataTable =\n",
              "            await google.colab.kernel.invokeFunction('convertToInteractive',\n",
              "                                                     [key], {});\n",
              "          if (!dataTable) return;\n",
              "\n",
              "          const docLinkHtml = 'Like what you see? Visit the ' +\n",
              "            '<a target=\"_blank\" href=https://colab.research.google.com/notebooks/data_table.ipynb>data table notebook</a>'\n",
              "            + ' to learn more about interactive tables.';\n",
              "          element.innerHTML = '';\n",
              "          dataTable['output_type'] = 'display_data';\n",
              "          await google.colab.output.renderOutput(dataTable, element);\n",
              "          const docLink = document.createElement('div');\n",
              "          docLink.innerHTML = docLinkHtml;\n",
              "          element.appendChild(docLink);\n",
              "        }\n",
              "      </script>\n",
              "    </div>\n",
              "  </div>\n",
              "  "
            ],
            "text/plain": [
              "     interval  frequency\n",
              "0  (100, 200]          9\n",
              "1  (200, 300]         16\n",
              "2  (300, 400]          8\n",
              "3  (400, 500]          4\n",
              "4  (500, 600]          2\n",
              "5  (600, 700]          1"
            ]
          },
          "metadata": {},
          "execution_count": 3
        }
      ]
    },
    {
      "cell_type": "code",
      "source": [
        "# convert interval into string to use as the index\n",
        "[str(i) for i in pg_sales.groupby('interval')[['interval']].count().index]"
      ],
      "metadata": {
        "colab": {
          "base_uri": "https://localhost:8080/"
        },
        "id": "B7D5Gh1NxShz",
        "outputId": "856048f2-d62c-44cc-bb43-793173c2252c"
      },
      "execution_count": null,
      "outputs": [
        {
          "output_type": "execute_result",
          "data": {
            "text/plain": [
              "['(100, 200]',\n",
              " '(200, 300]',\n",
              " '(300, 400]',\n",
              " '(400, 500]',\n",
              " '(500, 600]',\n",
              " '(600, 700]']"
            ]
          },
          "metadata": {},
          "execution_count": 89
        }
      ]
    },
    {
      "cell_type": "code",
      "source": [
        "fig, ax = plt.subplots(1, 1, figsize=(8, 6))\n",
        "# make index in the same order as the value counts\n",
        "indx = [str(i) for i in pg_sales.groupby('interval')[['interval']].count().index]\n",
        "# divide each by len\n",
        "series = pg_sales.groupby('interval')['interval'].count()\n",
        "# multiply by 100 \n",
        "plt.bar(indx, series)\n",
        "plt.title(\"Distribution of Price Range\", size=15)\n",
        "plt.ylabel('Frequency', size=12)\n",
        "plt.xlabel('Interval (in $1,000s)', size=12)\n",
        "plt.show()"
      ],
      "metadata": {
        "colab": {
          "base_uri": "https://localhost:8080/",
          "height": 409
        },
        "id": "mRuPg8N8xEKk",
        "outputId": "a39b6539-c340-4d74-e921-ecf4711dc2ea"
      },
      "execution_count": null,
      "outputs": [
        {
          "output_type": "display_data",
          "data": {
            "image/png": "[encoded data removed]",
            "text/plain": [
              "<Figure size 576x432 with 1 Axes>"
            ]
          },
          "metadata": {
            "needs_background": "light"
          }
        }
      ]
    },
    {
      "cell_type": "markdown",
      "source": [
        "We can see how the frequency distribution looks like. We see most houses are in the range of 200-300 thousand dollars. And the rest of the houses are close to this value, with a right tail of only 1 home that is 600-700 thousand dollars"
      ],
      "metadata": {
        "id": "UucOYFIUykhB"
      }
    },
    {
      "cell_type": "code",
      "source": [
        "# if we want the cumulative sum\n",
        "pg_sales_grp.frequency.cumsum()"
      ],
      "metadata": {
        "colab": {
          "base_uri": "https://localhost:8080/"
        },
        "id": "TQGuf1GGzF2T",
        "outputId": "49e9d73c-1a70-49ba-83b4-2703cf16801a"
      },
      "execution_count": null,
      "outputs": [
        {
          "output_type": "execute_result",
          "data": {
            "text/plain": [
              "0     9\n",
              "1    25\n",
              "2    33\n",
              "3    37\n",
              "4    39\n",
              "5    40\n",
              "Name: frequency, dtype: int64"
            ]
          },
          "metadata": {},
          "execution_count": 108
        }
      ]
    },
    {
      "cell_type": "code",
      "source": [
        "fig, ax = plt.subplots(1, 1, figsize=(8, 6))\n",
        "# make index in the same order as the value counts\n",
        "indx = [str(i) for i in pg_sales.groupby('interval')[['interval']].count().index]\n",
        "# divide each by len\n",
        "series = pg_sales_grp.frequency.cumsum()/len(pg_sales)\n",
        "# multiply by 100 \n",
        "plt.bar(indx, series*100)\n",
        "plt.title(\"Cumulative Price Range\", size=15)\n",
        "plt.ylabel('Relative Frequency', size=12)\n",
        "plt.xlabel('Interval (in $1,000s)', size=12)\n",
        "plt.show()"
      ],
      "metadata": {
        "colab": {
          "base_uri": "https://localhost:8080/",
          "height": 409
        },
        "id": "QisKvwYEzs_L",
        "outputId": "4bc1a48a-7225-4f09-fdcd-224b69eac001"
      },
      "execution_count": null,
      "outputs": [
        {
          "output_type": "display_data",
          "data": {
            "image/png": "[encoded data removed]",
            "text/plain": [
              "<Figure size 576x432 with 1 Axes>"
            ]
          },
          "metadata": {
            "needs_background": "light"
          }
        }
      ]
    },
    {
      "cell_type": "markdown",
      "source": [
        "We can visualize on a cumulative basis that 80% of all homes are less than $400,000 and see the relative growth plateaus after that. Notice we reach 100% when we are at the end of all frequencies.\n",
        "\n"
      ],
      "metadata": {
        "id": "MHvmI6g71IDa"
      }
    },
    {
      "cell_type": "code",
      "source": [
        "# Histograms\n",
        "fig, ax = plt.subplots(1, 1, figsize=(8, 6))\n",
        "plt.hist(pg_sales.Price)\n",
        "plt.title(\"Distribution of Price Range\", size=15)\n",
        "plt.ylabel('Frequency', size=12)\n",
        "plt.xlabel('Price (in $1,000s)', size=12)\n",
        "plt.show()"
      ],
      "metadata": {
        "colab": {
          "base_uri": "https://localhost:8080/",
          "height": 409
        },
        "id": "sUYN3r-21kqK",
        "outputId": "95256289-914a-48bc-eca0-41c468032cce"
      },
      "execution_count": null,
      "outputs": [
        {
          "output_type": "display_data",
          "data": {
            "image/png": "[encoded data removed]",
            "text/plain": [
              "<Figure size 576x432 with 1 Axes>"
            ]
          },
          "metadata": {
            "needs_background": "light"
          }
        }
      ]
    },
    {
      "cell_type": "markdown",
      "source": [
        "Now we see more granularity in the information and can see more that around $250,000 is where most of the houses are in the price range. Notice how we now can see more detail in the overall distribution of values. "
      ],
      "metadata": {
        "id": "xyHAEPcY2sU3"
      }
    },
    {
      "cell_type": "code",
      "source": [
        "# line plot\n",
        "\n",
        "fig, ax = plt.subplots(1, 1, figsize=(8, 6))\n",
        "# make index in the same order as the value counts\n",
        "indx = [str(i) for i in pg_sales.groupby('interval')[['interval']].count().index]\n",
        "# divide each by len\n",
        "series = pg_sales.groupby('interval')['interval'].count()\n",
        "# multiply by 100 \n",
        "plt.plot(indx, series, '-o')\n",
        "plt.title(\"Distribution of Price Range\", size=15)\n",
        "plt.ylabel('Frequency', size=12)\n",
        "plt.xlabel('Interval (in $1,000s)', size=12)\n",
        "plt.show()"
      ],
      "metadata": {
        "colab": {
          "base_uri": "https://localhost:8080/",
          "height": 409
        },
        "id": "X7J7Muh53nxh",
        "outputId": "925ffe46-46be-48fb-e280-ea0397b6eb4e"
      },
      "execution_count": null,
      "outputs": [
        {
          "output_type": "display_data",
          "data": {
            "image/png": "[encoded data removed]",
            "text/plain": [
              "<Figure size 576x432 with 1 Axes>"
            ]
          },
          "metadata": {
            "needs_background": "light"
          }
        }
      ]
    },
    {
      "cell_type": "markdown",
      "source": [
        "We see the data is positively skewed with most of the houses within the 200,300 thousand dollar range."
      ],
      "metadata": {
        "id": "4v4mbxEB4Tlm"
      }
    },
    {
      "cell_type": "code",
      "source": [
        "fig, ax = plt.subplots(1, 1, figsize=(8, 6))\n",
        "# make index in the same order as the value counts\n",
        "indx = [str(i) for i in pg_sales.groupby('interval')[['interval']].count().index]\n",
        "# divide each by len\n",
        "series = pg_sales_grp.frequency.cumsum()/len(pg_sales)\n",
        "# multiply by 100 \n",
        "plt.plot(indx, series*100, '-o')\n",
        "plt.title(\"Cumulative Price Range\", size=15)\n",
        "plt.ylabel('Relative Frequency', size=12)\n",
        "plt.xlabel('Interval (in $1,000s)', size=12)\n",
        "plt.show()"
      ],
      "metadata": {
        "colab": {
          "base_uri": "https://localhost:8080/",
          "height": 409
        },
        "id": "iBeMdXKl4VQm",
        "outputId": "7d28a8ef-11b9-4240-99d6-fdd04557f4e3"
      },
      "execution_count": null,
      "outputs": [
        {
          "output_type": "display_data",
          "data": {
            "image/png": "[encoded data removed]",
            "text/plain": [
              "<Figure size 576x432 with 1 Axes>"
            ]
          },
          "metadata": {
            "needs_background": "light"
          }
        }
      ]
    },
    {
      "cell_type": "markdown",
      "source": [
        "We see a similar pattern from the bar chart, the smooth curve helps to visualize the plateau a bit more clear."
      ],
      "metadata": {
        "id": "ad9psG9v4uWz"
      }
    },
    {
      "cell_type": "markdown",
      "source": [
        "## Scatter plots"
      ],
      "metadata": {
        "id": "RXPYo7augdtN"
      }
    },
    {
      "cell_type": "code",
      "source": [
        "fig, ax = plt.subplots(1, 1, figsize=(8, 6))\n",
        "# make plot\n",
        "pg_sales.plot.scatter(x='Sqft', y='Price', ax=ax, c='r', s=15)\n",
        "# plot a line of best fit\n",
        "plt.plot(np.unique(pg_sales['Sqft']), \n",
        "         np.poly1d(np.polyfit(pg_sales['Sqft'], \n",
        "         pg_sales['Price'], 1))(np.unique(pg_sales['Sqft'])))\n",
        "plt.title(\"Square footage vs. Price\", size=15)\n",
        "plt.ylabel('Price (in $1,000s)', size=12)\n",
        "plt.xlabel('Square footage', size=12)\n",
        "plt.show()"
      ],
      "metadata": {
        "colab": {
          "base_uri": "https://localhost:8080/",
          "height": 409
        },
        "id": "2XmBH7QpfeRm",
        "outputId": "f5c356b8-7376-4a3c-aeb2-bdef43564cef"
      },
      "execution_count": null,
      "outputs": [
        {
          "output_type": "display_data",
          "data": {
            "image/png": "[encoded data removed]",
            "text/plain": [
              "<Figure size 576x432 with 1 Axes>"
            ]
          },
          "metadata": {
            "needs_background": "light"
          }
        }
      ]
    },
    {
      "cell_type": "markdown",
      "source": [
        "Here is a scatterplot of Square footage against price. Notice the x axis has the independent variable of square footage and the y axis has the dependent variable of price. \n",
        "\n",
        "We plot a line of best fit using the least squares polynomial fit, this creates a y = mx+b line to capture the general linear pattern of the data. Using this line, we can articulate that there is a positive relationship between square footage and the price. So the larger the house, the higher the price."
      ],
      "metadata": {
        "id": "Y87xHbiAi2B3"
      }
    },
    {
      "cell_type": "markdown",
      "source": [
        "Plot and color by category"
      ],
      "metadata": {
        "id": "UrnBM5ZAnWXm"
      }
    },
    {
      "cell_type": "code",
      "source": [
        "pg_sales['Type'].unique()"
      ],
      "metadata": {
        "colab": {
          "base_uri": "https://localhost:8080/"
        },
        "id": "KYhMAiZqnZfw",
        "outputId": "be06979d-523f-4192-8bdb-a31467c5e038"
      },
      "execution_count": null,
      "outputs": [
        {
          "output_type": "execute_result",
          "data": {
            "text/plain": [
              "array(['Single', 'Condo'], dtype=object)"
            ]
          },
          "metadata": {},
          "execution_count": 20
        }
      ]
    },
    {
      "cell_type": "code",
      "source": [
        "colors = {'Single':'purple', 'Condo':'red'}"
      ],
      "metadata": {
        "id": "ImxBndXOncc3"
      },
      "execution_count": null,
      "outputs": []
    },
    {
      "cell_type": "code",
      "source": [
        "## Categorical scatter plot\n",
        "\n",
        "fig, ax = plt.subplots(1, 1, figsize=(8, 6))\n",
        "# make plot\n",
        "pg_sales.plot.scatter(x='Sqft', y='Price', ax=ax, c=pg_sales['Type'].map(colors), s=15)\n",
        "plt.title(\"Square footage vs. Price\", size=15)\n",
        "plt.ylabel('Price (in $1,000s)', size=12)\n",
        "plt.xlabel('Square footage', size=12)\n",
        "plt.show()"
      ],
      "metadata": {
        "colab": {
          "base_uri": "https://localhost:8080/",
          "height": 409
        },
        "id": "voO34QUdm4YJ",
        "outputId": "8e254599-7dd2-48c4-83ae-066f201e20a0"
      },
      "execution_count": null,
      "outputs": [
        {
          "output_type": "display_data",
          "data": {
            "image/png": "[encoded data removed]",
            "text/plain": [
              "<Figure size 576x432 with 1 Axes>"
            ]
          },
          "metadata": {
            "needs_background": "light"
          }
        }
      ]
    },
    {
      "cell_type": "code",
      "source": [
        "# To add the legend automatically, let's use groupby\n",
        "fig, ax = plt.subplots(1, 1, figsize=(8, 6))\n",
        "# group by the type\n",
        "grouped = pg_sales.groupby('Type')\n",
        "# iterate over values\n",
        "for key, group in grouped:\n",
        "    group.plot(ax=ax, kind='scatter', x='Sqft', y='Price', label=key, color=colors[key])\n",
        "plt.title(\"Square footage vs. Price\", size=15)\n",
        "plt.ylabel('Price (in $1,000s)', size=12)\n",
        "plt.xlabel('Square footage', size=12)\n",
        "plt.show()"
      ],
      "metadata": {
        "colab": {
          "base_uri": "https://localhost:8080/",
          "height": 409
        },
        "id": "VGo-WRsPnze4",
        "outputId": "064f8d17-87d7-472b-dfc2-13d8b771e98f"
      },
      "execution_count": null,
      "outputs": [
        {
          "output_type": "display_data",
          "data": {
            "image/png": "[encoded data removed]",
            "text/plain": [
              "<Figure size 576x432 with 1 Axes>"
            ]
          },
          "metadata": {
            "needs_background": "light"
          }
        }
      ]
    },
    {
      "cell_type": "markdown",
      "source": [
        "We see a positive linear relationship, this also holds true depending on the type of house. Where condominiums tend to be smaller than single family houses and therefore sell for less. "
      ],
      "metadata": {
        "id": "sZvpOmFRoiMQ"
      }
    },
    {
      "cell_type": "markdown",
      "source": [
        "## Line Charts over time"
      ],
      "metadata": {
        "id": "SXBr0RGFoqip"
      }
    },
    {
      "cell_type": "code",
      "source": [
        "stock_pr = pd.read_excel(\"https://lectures.mhhe.com/connect/jaggia4e_1260719294/student/data_files/jaggia_BS_4e_ch02_Data_Files.xlsx\",\n",
        "                   sheet_name='Apple_Merck')"
      ],
      "metadata": {
        "id": "6G8OOcuAomoj"
      },
      "execution_count": null,
      "outputs": []
    },
    {
      "cell_type": "code",
      "source": [
        "stock_pr.head()"
      ],
      "metadata": {
        "colab": {
          "base_uri": "https://localhost:8080/",
          "height": 206
        },
        "id": "kjgbnRXop0rA",
        "outputId": "7144611a-1702-4104-ac06-63d668c4ad4e"
      },
      "execution_count": null,
      "outputs": [
        {
          "output_type": "execute_result",
          "data": {
            "text/html": [
              "\n",
              "  <div id=\"df-32f0a5e6-41ca-4696-8918-325618724ce4\">\n",
              "    <div class=\"colab-df-container\">\n",
              "      <div>\n",
              "<style scoped>\n",
              "    .dataframe tbody tr th:only-of-type {\n",
              "        vertical-align: middle;\n",
              "    }\n",
              "\n",
              "    .dataframe tbody tr th {\n",
              "        vertical-align: top;\n",
              "    }\n",
              "\n",
              "    .dataframe thead th {\n",
              "        text-align: right;\n",
              "    }\n",
              "</style>\n",
              "<table border=\"1\" class=\"dataframe\">\n",
              "  <thead>\n",
              "    <tr style=\"text-align: right;\">\n",
              "      <th></th>\n",
              "      <th>Date</th>\n",
              "      <th>Apple</th>\n",
              "      <th>Merck</th>\n",
              "    </tr>\n",
              "  </thead>\n",
              "  <tbody>\n",
              "    <tr>\n",
              "      <th>0</th>\n",
              "      <td>2016-01-01</td>\n",
              "      <td>90.96</td>\n",
              "      <td>44.98</td>\n",
              "    </tr>\n",
              "    <tr>\n",
              "      <th>1</th>\n",
              "      <td>2016-02-01</td>\n",
              "      <td>90.35</td>\n",
              "      <td>44.57</td>\n",
              "    </tr>\n",
              "    <tr>\n",
              "      <th>2</th>\n",
              "      <td>2016-03-01</td>\n",
              "      <td>102.40</td>\n",
              "      <td>46.97</td>\n",
              "    </tr>\n",
              "    <tr>\n",
              "      <th>3</th>\n",
              "      <td>2016-04-01</td>\n",
              "      <td>88.07</td>\n",
              "      <td>49.11</td>\n",
              "    </tr>\n",
              "    <tr>\n",
              "      <th>4</th>\n",
              "      <td>2016-05-01</td>\n",
              "      <td>93.82</td>\n",
              "      <td>50.38</td>\n",
              "    </tr>\n",
              "  </tbody>\n",
              "</table>\n",
              "</div>\n",
              "      <button class=\"colab-df-convert\" onclick=\"convertToInteractive('df-32f0a5e6-41ca-4696-8918-325618724ce4')\"\n",
              "              title=\"Convert this dataframe to an interactive table.\"\n",
              "              style=\"display:none;\">\n",
              "        \n",
              "  <svg xmlns=\"http://www.w3.org/2000/svg\" height=\"24px\"viewBox=\"0 0 24 24\"\n",
              "       width=\"24px\">\n",
              "    <path d=\"M0 0h24v24H0V0z\" fill=\"none\"/>\n",
              "    <path d=\"M18.56 5.44l.94 2.06.94-2.06 2.06-.94-2.06-.94-.94-2.06-.94 2.06-2.06.94zm-11 1L8.5 8.5l.94-2.06 2.06-.94-2.06-.94L8.5 2.5l-.94 2.06-2.06.94zm10 10l.94 2.06.94-2.06 2.06-.94-2.06-.94-.94-2.06-.94 2.06-2.06.94z\"/><path d=\"M17.41 7.96l-1.37-1.37c-.4-.4-.92-.59-1.43-.59-.52 0-1.04.2-1.43.59L10.3 9.45l-7.72 7.72c-.78.78-.78 2.05 0 2.83L4 21.41c.39.39.9.59 1.41.59.51 0 1.02-.2 1.41-.59l7.78-7.78 2.81-2.81c.8-.78.8-2.07 0-2.86zM5.41 20L4 18.59l7.72-7.72 1.47 1.35L5.41 20z\"/>\n",
              "  </svg>\n",
              "      </button>\n",
              "      \n",
              "  <style>\n",
              "    .colab-df-container {\n",
              "      display:flex;\n",
              "      flex-wrap:wrap;\n",
              "      gap: 12px;\n",
              "    }\n",
              "\n",
              "    .colab-df-convert {\n",
              "      background-color: #E8F0FE;\n",
              "      border: none;\n",
              "      border-radius: 50%;\n",
              "      cursor: pointer;\n",
              "      display: none;\n",
              "      fill: #1967D2;\n",
              "      height: 32px;\n",
              "      padding: 0 0 0 0;\n",
              "      width: 32px;\n",
              "    }\n",
              "\n",
              "    .colab-df-convert:hover {\n",
              "      background-color: #E2EBFA;\n",
              "      box-shadow: 0px 1px 2px rgba(60, 64, 67, 0.3), 0px 1px 3px 1px rgba(60, 64, 67, 0.15);\n",
              "      fill: #174EA6;\n",
              "    }\n",
              "\n",
              "    [theme=dark] .colab-df-convert {\n",
              "      background-color: #3B4455;\n",
              "      fill: #D2E3FC;\n",
              "    }\n",
              "\n",
              "    [theme=dark] .colab-df-convert:hover {\n",
              "      background-color: #434B5C;\n",
              "      box-shadow: 0px 1px 3px 1px rgba(0, 0, 0, 0.15);\n",
              "      filter: drop-shadow(0px 1px 2px rgba(0, 0, 0, 0.3));\n",
              "      fill: #FFFFFF;\n",
              "    }\n",
              "  </style>\n",
              "\n",
              "      <script>\n",
              "        const buttonEl =\n",
              "          document.querySelector('#df-32f0a5e6-41ca-4696-8918-325618724ce4 button.colab-df-convert');\n",
              "        buttonEl.style.display =\n",
              "          google.colab.kernel.accessAllowed ? 'block' : 'none';\n",
              "\n",
              "        async function convertToInteractive(key) {\n",
              "          const element = document.querySelector('#df-32f0a5e6-41ca-4696-8918-325618724ce4');\n",
              "          const dataTable =\n",
              "            await google.colab.kernel.invokeFunction('convertToInteractive',\n",
              "                                                     [key], {});\n",
              "          if (!dataTable) return;\n",
              "\n",
              "          const docLinkHtml = 'Like what you see? Visit the ' +\n",
              "            '<a target=\"_blank\" href=https://colab.research.google.com/notebooks/data_table.ipynb>data table notebook</a>'\n",
              "            + ' to learn more about interactive tables.';\n",
              "          element.innerHTML = '';\n",
              "          dataTable['output_type'] = 'display_data';\n",
              "          await google.colab.output.renderOutput(dataTable, element);\n",
              "          const docLink = document.createElement('div');\n",
              "          docLink.innerHTML = docLinkHtml;\n",
              "          element.appendChild(docLink);\n",
              "        }\n",
              "      </script>\n",
              "    </div>\n",
              "  </div>\n",
              "  "
            ],
            "text/plain": [
              "        Date  Apple   Merck\n",
              "0 2016-01-01   90.96  44.98\n",
              "1 2016-02-01   90.35  44.57\n",
              "2 2016-03-01  102.40  46.97\n",
              "3 2016-04-01   88.07  49.11\n",
              "4 2016-05-01   93.82  50.38"
            ]
          },
          "metadata": {},
          "execution_count": 36
        }
      ]
    },
    {
      "cell_type": "code",
      "source": [
        "# convert date to datetime\n",
        "stock_pr['Date'] = stock_pr['Date'].apply(pd.to_datetime)"
      ],
      "metadata": {
        "id": "GjP_jFWTqktV"
      },
      "execution_count": null,
      "outputs": []
    },
    {
      "cell_type": "code",
      "source": [
        "# set the date as the index\n",
        "stock_pr.set_index('Date', inplace=True)"
      ],
      "metadata": {
        "id": "itZMtTr9qKMa"
      },
      "execution_count": null,
      "outputs": []
    },
    {
      "cell_type": "code",
      "source": [
        "# notice how the index has changed\n",
        "stock_pr.head()"
      ],
      "metadata": {
        "colab": {
          "base_uri": "https://localhost:8080/",
          "height": 238
        },
        "id": "CB_DFtNerAej",
        "outputId": "ba41b78a-e38f-4149-b1b5-399fc611a2fc"
      },
      "execution_count": null,
      "outputs": [
        {
          "output_type": "execute_result",
          "data": {
            "text/html": [
              "\n",
              "  <div id=\"df-934eb17f-00e6-4a6e-889b-bf77312e5fdf\">\n",
              "    <div class=\"colab-df-container\">\n",
              "      <div>\n",
              "<style scoped>\n",
              "    .dataframe tbody tr th:only-of-type {\n",
              "        vertical-align: middle;\n",
              "    }\n",
              "\n",
              "    .dataframe tbody tr th {\n",
              "        vertical-align: top;\n",
              "    }\n",
              "\n",
              "    .dataframe thead th {\n",
              "        text-align: right;\n",
              "    }\n",
              "</style>\n",
              "<table border=\"1\" class=\"dataframe\">\n",
              "  <thead>\n",
              "    <tr style=\"text-align: right;\">\n",
              "      <th></th>\n",
              "      <th>Apple</th>\n",
              "      <th>Merck</th>\n",
              "    </tr>\n",
              "    <tr>\n",
              "      <th>Date</th>\n",
              "      <th></th>\n",
              "      <th></th>\n",
              "    </tr>\n",
              "  </thead>\n",
              "  <tbody>\n",
              "    <tr>\n",
              "      <th>2016-01-01</th>\n",
              "      <td>90.96</td>\n",
              "      <td>44.98</td>\n",
              "    </tr>\n",
              "    <tr>\n",
              "      <th>2016-02-01</th>\n",
              "      <td>90.35</td>\n",
              "      <td>44.57</td>\n",
              "    </tr>\n",
              "    <tr>\n",
              "      <th>2016-03-01</th>\n",
              "      <td>102.40</td>\n",
              "      <td>46.97</td>\n",
              "    </tr>\n",
              "    <tr>\n",
              "      <th>2016-04-01</th>\n",
              "      <td>88.07</td>\n",
              "      <td>49.11</td>\n",
              "    </tr>\n",
              "    <tr>\n",
              "      <th>2016-05-01</th>\n",
              "      <td>93.82</td>\n",
              "      <td>50.38</td>\n",
              "    </tr>\n",
              "  </tbody>\n",
              "</table>\n",
              "</div>\n",
              "      <button class=\"colab-df-convert\" onclick=\"convertToInteractive('df-934eb17f-00e6-4a6e-889b-bf77312e5fdf')\"\n",
              "              title=\"Convert this dataframe to an interactive table.\"\n",
              "              style=\"display:none;\">\n",
              "        \n",
              "  <svg xmlns=\"http://www.w3.org/2000/svg\" height=\"24px\"viewBox=\"0 0 24 24\"\n",
              "       width=\"24px\">\n",
              "    <path d=\"M0 0h24v24H0V0z\" fill=\"none\"/>\n",
              "    <path d=\"M18.56 5.44l.94 2.06.94-2.06 2.06-.94-2.06-.94-.94-2.06-.94 2.06-2.06.94zm-11 1L8.5 8.5l.94-2.06 2.06-.94-2.06-.94L8.5 2.5l-.94 2.06-2.06.94zm10 10l.94 2.06.94-2.06 2.06-.94-2.06-.94-.94-2.06-.94 2.06-2.06.94z\"/><path d=\"M17.41 7.96l-1.37-1.37c-.4-.4-.92-.59-1.43-.59-.52 0-1.04.2-1.43.59L10.3 9.45l-7.72 7.72c-.78.78-.78 2.05 0 2.83L4 21.41c.39.39.9.59 1.41.59.51 0 1.02-.2 1.41-.59l7.78-7.78 2.81-2.81c.8-.78.8-2.07 0-2.86zM5.41 20L4 18.59l7.72-7.72 1.47 1.35L5.41 20z\"/>\n",
              "  </svg>\n",
              "      </button>\n",
              "      \n",
              "  <style>\n",
              "    .colab-df-container {\n",
              "      display:flex;\n",
              "      flex-wrap:wrap;\n",
              "      gap: 12px;\n",
              "    }\n",
              "\n",
              "    .colab-df-convert {\n",
              "      background-color: #E8F0FE;\n",
              "      border: none;\n",
              "      border-radius: 50%;\n",
              "      cursor: pointer;\n",
              "      display: none;\n",
              "      fill: #1967D2;\n",
              "      height: 32px;\n",
              "      padding: 0 0 0 0;\n",
              "      width: 32px;\n",
              "    }\n",
              "\n",
              "    .colab-df-convert:hover {\n",
              "      background-color: #E2EBFA;\n",
              "      box-shadow: 0px 1px 2px rgba(60, 64, 67, 0.3), 0px 1px 3px 1px rgba(60, 64, 67, 0.15);\n",
              "      fill: #174EA6;\n",
              "    }\n",
              "\n",
              "    [theme=dark] .colab-df-convert {\n",
              "      background-color: #3B4455;\n",
              "      fill: #D2E3FC;\n",
              "    }\n",
              "\n",
              "    [theme=dark] .colab-df-convert:hover {\n",
              "      background-color: #434B5C;\n",
              "      box-shadow: 0px 1px 3px 1px rgba(0, 0, 0, 0.15);\n",
              "      filter: drop-shadow(0px 1px 2px rgba(0, 0, 0, 0.3));\n",
              "      fill: #FFFFFF;\n",
              "    }\n",
              "  </style>\n",
              "\n",
              "      <script>\n",
              "        const buttonEl =\n",
              "          document.querySelector('#df-934eb17f-00e6-4a6e-889b-bf77312e5fdf button.colab-df-convert');\n",
              "        buttonEl.style.display =\n",
              "          google.colab.kernel.accessAllowed ? 'block' : 'none';\n",
              "\n",
              "        async function convertToInteractive(key) {\n",
              "          const element = document.querySelector('#df-934eb17f-00e6-4a6e-889b-bf77312e5fdf');\n",
              "          const dataTable =\n",
              "            await google.colab.kernel.invokeFunction('convertToInteractive',\n",
              "                                                     [key], {});\n",
              "          if (!dataTable) return;\n",
              "\n",
              "          const docLinkHtml = 'Like what you see? Visit the ' +\n",
              "            '<a target=\"_blank\" href=https://colab.research.google.com/notebooks/data_table.ipynb>data table notebook</a>'\n",
              "            + ' to learn more about interactive tables.';\n",
              "          element.innerHTML = '';\n",
              "          dataTable['output_type'] = 'display_data';\n",
              "          await google.colab.output.renderOutput(dataTable, element);\n",
              "          const docLink = document.createElement('div');\n",
              "          docLink.innerHTML = docLinkHtml;\n",
              "          element.appendChild(docLink);\n",
              "        }\n",
              "      </script>\n",
              "    </div>\n",
              "  </div>\n",
              "  "
            ],
            "text/plain": [
              "            Apple   Merck\n",
              "Date                     \n",
              "2016-01-01   90.96  44.98\n",
              "2016-02-01   90.35  44.57\n",
              "2016-03-01  102.40  46.97\n",
              "2016-04-01   88.07  49.11\n",
              "2016-05-01   93.82  50.38"
            ]
          },
          "metadata": {},
          "execution_count": 40
        }
      ]
    },
    {
      "cell_type": "code",
      "source": [
        "fig, ax = plt.subplots(1, 1, figsize=(10, 5))\n",
        "# make plot\n",
        "stock_pr.plot(ax=ax)\n",
        "plt.title(\"Monthly Stock Price\", size=15)\n",
        "plt.ylabel('Stock Price (in $)', size=12)\n",
        "plt.xlabel('', size=12)\n",
        "plt.show()"
      ],
      "metadata": {
        "colab": {
          "base_uri": "https://localhost:8080/",
          "height": 349
        },
        "id": "TjmSPb5qrGpP",
        "outputId": "82bbb1ab-49f4-4322-cb12-61c42f0abf3c"
      },
      "execution_count": null,
      "outputs": [
        {
          "output_type": "display_data",
          "data": {
            "image/png": "[encoded data removed]",
            "text/plain": [
              "<Figure size 720x360 with 1 Axes>"
            ]
          },
          "metadata": {
            "needs_background": "light"
          }
        }
      ]
    },
    {
      "cell_type": "markdown",
      "source": [
        "This plot shows \"the monthly stock prices for Apple and Merck over the years 2016 through 2019. Both stocks rose over this period which is not surprising given the growth in the U.S. economy over this time period. However, the rise in Apple’s stock price is far more dramatic as compared to Merck’s stock price. There is also a lot more volatility in Apple’s stock price. Specifically, we see a dramatic decline in Apple’s stock at the end of 2018. This dip corresponded to news that the company would no longer offer unit sales data for its products. At the time, some wondered if this lack of transparency presaged weaker iPhone sales in the future. Fortunately for Apple, this prediction did not materialize.\""
      ],
      "metadata": {
        "id": "pQ6HD7ugqvRj"
      }
    },
    {
      "cell_type": "markdown",
      "source": [
        "### Why Visualize?\n",
        "\n",
        "#### Anscombe's Quartet - Code from Professor Bianco\n",
        "\n",
        "https://github.com/fedhere/UInotebooks/blob/master/Anscombe's%20Quartet.ipynb"
      ],
      "metadata": {
        "id": "ZDeouiDS9WKF"
      }
    },
    {
      "cell_type": "code",
      "source": [
        "# read in file from github\n",
        "if not os.path.isfile(\"anscombe.txt\"):\n",
        "    !curl -O https://raw.githubusercontent.com/fedhere/UInotebooks/master/anscombe.txt"
      ],
      "metadata": {
        "colab": {
          "base_uri": "https://localhost:8080/"
        },
        "id": "GjKZJGrG8ClS",
        "outputId": "c973ecff-64d8-42f0-a3c2-19c8675866d1"
      },
      "execution_count": null,
      "outputs": [
        {
          "output_type": "stream",
          "name": "stdout",
          "text": [
            "  % Total    % Received % Xferd  Average Speed   Time    Time     Time  Current\n",
            "                                 Dload  Upload   Total   Spent    Left  Speed\n",
            "100   651  100   651    0     0   3616      0 --:--:-- --:--:-- --:--:--  3616\n"
          ]
        }
      ]
    },
    {
      "cell_type": "code",
      "source": [
        "df = pd.read_csv(\"anscombe.txt\", header = [1, 2], nrows = 11, delimiter=' ')\n",
        "df"
      ],
      "metadata": {
        "colab": {
          "base_uri": "https://localhost:8080/",
          "height": 426
        },
        "id": "i7T2F58W9CD-",
        "outputId": "49574186-09cd-4c42-d581-99948fc08cda"
      },
      "execution_count": null,
      "outputs": [
        {
          "output_type": "execute_result",
          "data": {
            "text/html": [
              "\n",
              "  <div id=\"df-2a3dcd66-2049-411e-b0d4-ce8eb25b855a\">\n",
              "    <div class=\"colab-df-container\">\n",
              "      <div>\n",
              "<style scoped>\n",
              "    .dataframe tbody tr th:only-of-type {\n",
              "        vertical-align: middle;\n",
              "    }\n",
              "\n",
              "    .dataframe tbody tr th {\n",
              "        vertical-align: top;\n",
              "    }\n",
              "\n",
              "    .dataframe thead tr th {\n",
              "        text-align: left;\n",
              "    }\n",
              "</style>\n",
              "<table border=\"1\" class=\"dataframe\">\n",
              "  <thead>\n",
              "    <tr>\n",
              "      <th></th>\n",
              "      <th>Anscombe-Data-Set</th>\n",
              "      <th colspan=\"2\" halign=\"left\">I</th>\n",
              "      <th colspan=\"2\" halign=\"left\">II</th>\n",
              "      <th colspan=\"2\" halign=\"left\">III</th>\n",
              "      <th colspan=\"2\" halign=\"left\">IV</th>\n",
              "      <th>Unnamed: 9_level_0</th>\n",
              "      <th>Unnamed: 10_level_0</th>\n",
              "    </tr>\n",
              "    <tr>\n",
              "      <th></th>\n",
              "      <th>Unnamed: 0_level_1</th>\n",
              "      <th>X</th>\n",
              "      <th>Y</th>\n",
              "      <th>X</th>\n",
              "      <th>Y</th>\n",
              "      <th>X</th>\n",
              "      <th>Y</th>\n",
              "      <th>X</th>\n",
              "      <th>Y</th>\n",
              "      <th>Unnamed: 9_level_1</th>\n",
              "      <th>Unnamed: 10_level_1</th>\n",
              "    </tr>\n",
              "  </thead>\n",
              "  <tbody>\n",
              "    <tr>\n",
              "      <th>0</th>\n",
              "      <td>NaN</td>\n",
              "      <td>10</td>\n",
              "      <td>8.04</td>\n",
              "      <td>10</td>\n",
              "      <td>9.14</td>\n",
              "      <td>10</td>\n",
              "      <td>7.46</td>\n",
              "      <td>8</td>\n",
              "      <td>6.58</td>\n",
              "      <td>NaN</td>\n",
              "      <td>NaN</td>\n",
              "    </tr>\n",
              "    <tr>\n",
              "      <th>1</th>\n",
              "      <td>NaN</td>\n",
              "      <td>8</td>\n",
              "      <td>6.95</td>\n",
              "      <td>8</td>\n",
              "      <td>8.14</td>\n",
              "      <td>8</td>\n",
              "      <td>6.77</td>\n",
              "      <td>8</td>\n",
              "      <td>5.76</td>\n",
              "      <td>NaN</td>\n",
              "      <td>NaN</td>\n",
              "    </tr>\n",
              "    <tr>\n",
              "      <th>2</th>\n",
              "      <td>NaN</td>\n",
              "      <td>13</td>\n",
              "      <td>7.58</td>\n",
              "      <td>13</td>\n",
              "      <td>8.74</td>\n",
              "      <td>13</td>\n",
              "      <td>12.74</td>\n",
              "      <td>8</td>\n",
              "      <td>7.71</td>\n",
              "      <td>NaN</td>\n",
              "      <td>NaN</td>\n",
              "    </tr>\n",
              "    <tr>\n",
              "      <th>3</th>\n",
              "      <td>NaN</td>\n",
              "      <td>9</td>\n",
              "      <td>8.81</td>\n",
              "      <td>9</td>\n",
              "      <td>8.77</td>\n",
              "      <td>9</td>\n",
              "      <td>7.11</td>\n",
              "      <td>8</td>\n",
              "      <td>8.84</td>\n",
              "      <td>NaN</td>\n",
              "      <td>NaN</td>\n",
              "    </tr>\n",
              "    <tr>\n",
              "      <th>4</th>\n",
              "      <td>NaN</td>\n",
              "      <td>11</td>\n",
              "      <td>8.33</td>\n",
              "      <td>11</td>\n",
              "      <td>9.26</td>\n",
              "      <td>11</td>\n",
              "      <td>7.81</td>\n",
              "      <td>8</td>\n",
              "      <td>8.47</td>\n",
              "      <td>NaN</td>\n",
              "      <td>NaN</td>\n",
              "    </tr>\n",
              "    <tr>\n",
              "      <th>5</th>\n",
              "      <td>NaN</td>\n",
              "      <td>14</td>\n",
              "      <td>9.96</td>\n",
              "      <td>14</td>\n",
              "      <td>8.10</td>\n",
              "      <td>14</td>\n",
              "      <td>8.84</td>\n",
              "      <td>8</td>\n",
              "      <td>7.04</td>\n",
              "      <td>NaN</td>\n",
              "      <td>NaN</td>\n",
              "    </tr>\n",
              "    <tr>\n",
              "      <th>6</th>\n",
              "      <td>NaN</td>\n",
              "      <td>6</td>\n",
              "      <td>7.24</td>\n",
              "      <td>6</td>\n",
              "      <td>6.13</td>\n",
              "      <td>6</td>\n",
              "      <td>6.08</td>\n",
              "      <td>8</td>\n",
              "      <td>5.25</td>\n",
              "      <td>NaN</td>\n",
              "      <td>NaN</td>\n",
              "    </tr>\n",
              "    <tr>\n",
              "      <th>7</th>\n",
              "      <td>NaN</td>\n",
              "      <td>4</td>\n",
              "      <td>4.26</td>\n",
              "      <td>4</td>\n",
              "      <td>3.10</td>\n",
              "      <td>4</td>\n",
              "      <td>5.39</td>\n",
              "      <td>19</td>\n",
              "      <td>12.50</td>\n",
              "      <td>NaN</td>\n",
              "      <td>NaN</td>\n",
              "    </tr>\n",
              "    <tr>\n",
              "      <th>8</th>\n",
              "      <td>NaN</td>\n",
              "      <td>12</td>\n",
              "      <td>10.84</td>\n",
              "      <td>12</td>\n",
              "      <td>9.13</td>\n",
              "      <td>12</td>\n",
              "      <td>8.15</td>\n",
              "      <td>8</td>\n",
              "      <td>5.56</td>\n",
              "      <td>NaN</td>\n",
              "      <td>NaN</td>\n",
              "    </tr>\n",
              "    <tr>\n",
              "      <th>9</th>\n",
              "      <td>NaN</td>\n",
              "      <td>7</td>\n",
              "      <td>4.82</td>\n",
              "      <td>7</td>\n",
              "      <td>7.26</td>\n",
              "      <td>7</td>\n",
              "      <td>6.42</td>\n",
              "      <td>8</td>\n",
              "      <td>7.91</td>\n",
              "      <td>NaN</td>\n",
              "      <td>NaN</td>\n",
              "    </tr>\n",
              "    <tr>\n",
              "      <th>10</th>\n",
              "      <td>NaN</td>\n",
              "      <td>5</td>\n",
              "      <td>5.68</td>\n",
              "      <td>5</td>\n",
              "      <td>4.74</td>\n",
              "      <td>5</td>\n",
              "      <td>5.73</td>\n",
              "      <td>8</td>\n",
              "      <td>6.89</td>\n",
              "      <td>NaN</td>\n",
              "      <td>NaN</td>\n",
              "    </tr>\n",
              "  </tbody>\n",
              "</table>\n",
              "</div>\n",
              "      <button class=\"colab-df-convert\" onclick=\"convertToInteractive('df-2a3dcd66-2049-411e-b0d4-ce8eb25b855a')\"\n",
              "              title=\"Convert this dataframe to an interactive table.\"\n",
              "              style=\"display:none;\">\n",
              "        \n",
              "  <svg xmlns=\"http://www.w3.org/2000/svg\" height=\"24px\"viewBox=\"0 0 24 24\"\n",
              "       width=\"24px\">\n",
              "    <path d=\"M0 0h24v24H0V0z\" fill=\"none\"/>\n",
              "    <path d=\"M18.56 5.44l.94 2.06.94-2.06 2.06-.94-2.06-.94-.94-2.06-.94 2.06-2.06.94zm-11 1L8.5 8.5l.94-2.06 2.06-.94-2.06-.94L8.5 2.5l-.94 2.06-2.06.94zm10 10l.94 2.06.94-2.06 2.06-.94-2.06-.94-.94-2.06-.94 2.06-2.06.94z\"/><path d=\"M17.41 7.96l-1.37-1.37c-.4-.4-.92-.59-1.43-.59-.52 0-1.04.2-1.43.59L10.3 9.45l-7.72 7.72c-.78.78-.78 2.05 0 2.83L4 21.41c.39.39.9.59 1.41.59.51 0 1.02-.2 1.41-.59l7.78-7.78 2.81-2.81c.8-.78.8-2.07 0-2.86zM5.41 20L4 18.59l7.72-7.72 1.47 1.35L5.41 20z\"/>\n",
              "  </svg>\n",
              "      </button>\n",
              "      \n",
              "  <style>\n",
              "    .colab-df-container {\n",
              "      display:flex;\n",
              "      flex-wrap:wrap;\n",
              "      gap: 12px;\n",
              "    }\n",
              "\n",
              "    .colab-df-convert {\n",
              "      background-color: #E8F0FE;\n",
              "      border: none;\n",
              "      border-radius: 50%;\n",
              "      cursor: pointer;\n",
              "      display: none;\n",
              "      fill: #1967D2;\n",
              "      height: 32px;\n",
              "      padding: 0 0 0 0;\n",
              "      width: 32px;\n",
              "    }\n",
              "\n",
              "    .colab-df-convert:hover {\n",
              "      background-color: #E2EBFA;\n",
              "      box-shadow: 0px 1px 2px rgba(60, 64, 67, 0.3), 0px 1px 3px 1px rgba(60, 64, 67, 0.15);\n",
              "      fill: #174EA6;\n",
              "    }\n",
              "\n",
              "    [theme=dark] .colab-df-convert {\n",
              "      background-color: #3B4455;\n",
              "      fill: #D2E3FC;\n",
              "    }\n",
              "\n",
              "    [theme=dark] .colab-df-convert:hover {\n",
              "      background-color: #434B5C;\n",
              "      box-shadow: 0px 1px 3px 1px rgba(0, 0, 0, 0.15);\n",
              "      filter: drop-shadow(0px 1px 2px rgba(0, 0, 0, 0.3));\n",
              "      fill: #FFFFFF;\n",
              "    }\n",
              "  </style>\n",
              "\n",
              "      <script>\n",
              "        const buttonEl =\n",
              "          document.querySelector('#df-2a3dcd66-2049-411e-b0d4-ce8eb25b855a button.colab-df-convert');\n",
              "        buttonEl.style.display =\n",
              "          google.colab.kernel.accessAllowed ? 'block' : 'none';\n",
              "\n",
              "        async function convertToInteractive(key) {\n",
              "          const element = document.querySelector('#df-2a3dcd66-2049-411e-b0d4-ce8eb25b855a');\n",
              "          const dataTable =\n",
              "            await google.colab.kernel.invokeFunction('convertToInteractive',\n",
              "                                                     [key], {});\n",
              "          if (!dataTable) return;\n",
              "\n",
              "          const docLinkHtml = 'Like what you see? Visit the ' +\n",
              "            '<a target=\"_blank\" href=https://colab.research.google.com/notebooks/data_table.ipynb>data table notebook</a>'\n",
              "            + ' to learn more about interactive tables.';\n",
              "          element.innerHTML = '';\n",
              "          dataTable['output_type'] = 'display_data';\n",
              "          await google.colab.output.renderOutput(dataTable, element);\n",
              "          const docLink = document.createElement('div');\n",
              "          docLink.innerHTML = docLinkHtml;\n",
              "          element.appendChild(docLink);\n",
              "        }\n",
              "      </script>\n",
              "    </div>\n",
              "  </div>\n",
              "  "
            ],
            "text/plain": [
              "    Anscombe-Data-Set   I         ...     IV Unnamed: 9_level_0 Unnamed: 10_level_0\n",
              "   Unnamed: 0_level_1   X      Y  ...      Y Unnamed: 9_level_1 Unnamed: 10_level_1\n",
              "0                 NaN  10   8.04  ...   6.58                NaN                 NaN\n",
              "1                 NaN   8   6.95  ...   5.76                NaN                 NaN\n",
              "2                 NaN  13   7.58  ...   7.71                NaN                 NaN\n",
              "3                 NaN   9   8.81  ...   8.84                NaN                 NaN\n",
              "4                 NaN  11   8.33  ...   8.47                NaN                 NaN\n",
              "5                 NaN  14   9.96  ...   7.04                NaN                 NaN\n",
              "6                 NaN   6   7.24  ...   5.25                NaN                 NaN\n",
              "7                 NaN   4   4.26  ...  12.50                NaN                 NaN\n",
              "8                 NaN  12  10.84  ...   5.56                NaN                 NaN\n",
              "9                 NaN   7   4.82  ...   7.91                NaN                 NaN\n",
              "10                NaN   5   5.68  ...   6.89                NaN                 NaN\n",
              "\n",
              "[11 rows x 11 columns]"
            ]
          },
          "metadata": {},
          "execution_count": 52
        }
      ]
    },
    {
      "cell_type": "code",
      "source": [
        "# narrow to data we care about\n",
        "ansc = df[['I', 'II', 'III', 'IV']]\n",
        "ansc"
      ],
      "metadata": {
        "colab": {
          "base_uri": "https://localhost:8080/",
          "height": 426
        },
        "id": "apXspg-v9hJD",
        "outputId": "e7865f72-522a-42ed-c48a-98a0d1075307"
      },
      "execution_count": null,
      "outputs": [
        {
          "output_type": "execute_result",
          "data": {
            "text/html": [
              "\n",
              "  <div id=\"df-e3f8192b-74d3-4e64-a8c7-00bfe1b38bc8\">\n",
              "    <div class=\"colab-df-container\">\n",
              "      <div>\n",
              "<style scoped>\n",
              "    .dataframe tbody tr th:only-of-type {\n",
              "        vertical-align: middle;\n",
              "    }\n",
              "\n",
              "    .dataframe tbody tr th {\n",
              "        vertical-align: top;\n",
              "    }\n",
              "\n",
              "    .dataframe thead tr th {\n",
              "        text-align: left;\n",
              "    }\n",
              "</style>\n",
              "<table border=\"1\" class=\"dataframe\">\n",
              "  <thead>\n",
              "    <tr>\n",
              "      <th></th>\n",
              "      <th colspan=\"2\" halign=\"left\">I</th>\n",
              "      <th colspan=\"2\" halign=\"left\">II</th>\n",
              "      <th colspan=\"2\" halign=\"left\">III</th>\n",
              "      <th colspan=\"2\" halign=\"left\">IV</th>\n",
              "    </tr>\n",
              "    <tr>\n",
              "      <th></th>\n",
              "      <th>X</th>\n",
              "      <th>Y</th>\n",
              "      <th>X</th>\n",
              "      <th>Y</th>\n",
              "      <th>X</th>\n",
              "      <th>Y</th>\n",
              "      <th>X</th>\n",
              "      <th>Y</th>\n",
              "    </tr>\n",
              "  </thead>\n",
              "  <tbody>\n",
              "    <tr>\n",
              "      <th>0</th>\n",
              "      <td>10</td>\n",
              "      <td>8.04</td>\n",
              "      <td>10</td>\n",
              "      <td>9.14</td>\n",
              "      <td>10</td>\n",
              "      <td>7.46</td>\n",
              "      <td>8</td>\n",
              "      <td>6.58</td>\n",
              "    </tr>\n",
              "    <tr>\n",
              "      <th>1</th>\n",
              "      <td>8</td>\n",
              "      <td>6.95</td>\n",
              "      <td>8</td>\n",
              "      <td>8.14</td>\n",
              "      <td>8</td>\n",
              "      <td>6.77</td>\n",
              "      <td>8</td>\n",
              "      <td>5.76</td>\n",
              "    </tr>\n",
              "    <tr>\n",
              "      <th>2</th>\n",
              "      <td>13</td>\n",
              "      <td>7.58</td>\n",
              "      <td>13</td>\n",
              "      <td>8.74</td>\n",
              "      <td>13</td>\n",
              "      <td>12.74</td>\n",
              "      <td>8</td>\n",
              "      <td>7.71</td>\n",
              "    </tr>\n",
              "    <tr>\n",
              "      <th>3</th>\n",
              "      <td>9</td>\n",
              "      <td>8.81</td>\n",
              "      <td>9</td>\n",
              "      <td>8.77</td>\n",
              "      <td>9</td>\n",
              "      <td>7.11</td>\n",
              "      <td>8</td>\n",
              "      <td>8.84</td>\n",
              "    </tr>\n",
              "    <tr>\n",
              "      <th>4</th>\n",
              "      <td>11</td>\n",
              "      <td>8.33</td>\n",
              "      <td>11</td>\n",
              "      <td>9.26</td>\n",
              "      <td>11</td>\n",
              "      <td>7.81</td>\n",
              "      <td>8</td>\n",
              "      <td>8.47</td>\n",
              "    </tr>\n",
              "    <tr>\n",
              "      <th>5</th>\n",
              "      <td>14</td>\n",
              "      <td>9.96</td>\n",
              "      <td>14</td>\n",
              "      <td>8.10</td>\n",
              "      <td>14</td>\n",
              "      <td>8.84</td>\n",
              "      <td>8</td>\n",
              "      <td>7.04</td>\n",
              "    </tr>\n",
              "    <tr>\n",
              "      <th>6</th>\n",
              "      <td>6</td>\n",
              "      <td>7.24</td>\n",
              "      <td>6</td>\n",
              "      <td>6.13</td>\n",
              "      <td>6</td>\n",
              "      <td>6.08</td>\n",
              "      <td>8</td>\n",
              "      <td>5.25</td>\n",
              "    </tr>\n",
              "    <tr>\n",
              "      <th>7</th>\n",
              "      <td>4</td>\n",
              "      <td>4.26</td>\n",
              "      <td>4</td>\n",
              "      <td>3.10</td>\n",
              "      <td>4</td>\n",
              "      <td>5.39</td>\n",
              "      <td>19</td>\n",
              "      <td>12.50</td>\n",
              "    </tr>\n",
              "    <tr>\n",
              "      <th>8</th>\n",
              "      <td>12</td>\n",
              "      <td>10.84</td>\n",
              "      <td>12</td>\n",
              "      <td>9.13</td>\n",
              "      <td>12</td>\n",
              "      <td>8.15</td>\n",
              "      <td>8</td>\n",
              "      <td>5.56</td>\n",
              "    </tr>\n",
              "    <tr>\n",
              "      <th>9</th>\n",
              "      <td>7</td>\n",
              "      <td>4.82</td>\n",
              "      <td>7</td>\n",
              "      <td>7.26</td>\n",
              "      <td>7</td>\n",
              "      <td>6.42</td>\n",
              "      <td>8</td>\n",
              "      <td>7.91</td>\n",
              "    </tr>\n",
              "    <tr>\n",
              "      <th>10</th>\n",
              "      <td>5</td>\n",
              "      <td>5.68</td>\n",
              "      <td>5</td>\n",
              "      <td>4.74</td>\n",
              "      <td>5</td>\n",
              "      <td>5.73</td>\n",
              "      <td>8</td>\n",
              "      <td>6.89</td>\n",
              "    </tr>\n",
              "  </tbody>\n",
              "</table>\n",
              "</div>\n",
              "      <button class=\"colab-df-convert\" onclick=\"convertToInteractive('df-e3f8192b-74d3-4e64-a8c7-00bfe1b38bc8')\"\n",
              "              title=\"Convert this dataframe to an interactive table.\"\n",
              "              style=\"display:none;\">\n",
              "        \n",
              "  <svg xmlns=\"http://www.w3.org/2000/svg\" height=\"24px\"viewBox=\"0 0 24 24\"\n",
              "       width=\"24px\">\n",
              "    <path d=\"M0 0h24v24H0V0z\" fill=\"none\"/>\n",
              "    <path d=\"M18.56 5.44l.94 2.06.94-2.06 2.06-.94-2.06-.94-.94-2.06-.94 2.06-2.06.94zm-11 1L8.5 8.5l.94-2.06 2.06-.94-2.06-.94L8.5 2.5l-.94 2.06-2.06.94zm10 10l.94 2.06.94-2.06 2.06-.94-2.06-.94-.94-2.06-.94 2.06-2.06.94z\"/><path d=\"M17.41 7.96l-1.37-1.37c-.4-.4-.92-.59-1.43-.59-.52 0-1.04.2-1.43.59L10.3 9.45l-7.72 7.72c-.78.78-.78 2.05 0 2.83L4 21.41c.39.39.9.59 1.41.59.51 0 1.02-.2 1.41-.59l7.78-7.78 2.81-2.81c.8-.78.8-2.07 0-2.86zM5.41 20L4 18.59l7.72-7.72 1.47 1.35L5.41 20z\"/>\n",
              "  </svg>\n",
              "      </button>\n",
              "      \n",
              "  <style>\n",
              "    .colab-df-container {\n",
              "      display:flex;\n",
              "      flex-wrap:wrap;\n",
              "      gap: 12px;\n",
              "    }\n",
              "\n",
              "    .colab-df-convert {\n",
              "      background-color: #E8F0FE;\n",
              "      border: none;\n",
              "      border-radius: 50%;\n",
              "      cursor: pointer;\n",
              "      display: none;\n",
              "      fill: #1967D2;\n",
              "      height: 32px;\n",
              "      padding: 0 0 0 0;\n",
              "      width: 32px;\n",
              "    }\n",
              "\n",
              "    .colab-df-convert:hover {\n",
              "      background-color: #E2EBFA;\n",
              "      box-shadow: 0px 1px 2px rgba(60, 64, 67, 0.3), 0px 1px 3px 1px rgba(60, 64, 67, 0.15);\n",
              "      fill: #174EA6;\n",
              "    }\n",
              "\n",
              "    [theme=dark] .colab-df-convert {\n",
              "      background-color: #3B4455;\n",
              "      fill: #D2E3FC;\n",
              "    }\n",
              "\n",
              "    [theme=dark] .colab-df-convert:hover {\n",
              "      background-color: #434B5C;\n",
              "      box-shadow: 0px 1px 3px 1px rgba(0, 0, 0, 0.15);\n",
              "      filter: drop-shadow(0px 1px 2px rgba(0, 0, 0, 0.3));\n",
              "      fill: #FFFFFF;\n",
              "    }\n",
              "  </style>\n",
              "\n",
              "      <script>\n",
              "        const buttonEl =\n",
              "          document.querySelector('#df-e3f8192b-74d3-4e64-a8c7-00bfe1b38bc8 button.colab-df-convert');\n",
              "        buttonEl.style.display =\n",
              "          google.colab.kernel.accessAllowed ? 'block' : 'none';\n",
              "\n",
              "        async function convertToInteractive(key) {\n",
              "          const element = document.querySelector('#df-e3f8192b-74d3-4e64-a8c7-00bfe1b38bc8');\n",
              "          const dataTable =\n",
              "            await google.colab.kernel.invokeFunction('convertToInteractive',\n",
              "                                                     [key], {});\n",
              "          if (!dataTable) return;\n",
              "\n",
              "          const docLinkHtml = 'Like what you see? Visit the ' +\n",
              "            '<a target=\"_blank\" href=https://colab.research.google.com/notebooks/data_table.ipynb>data table notebook</a>'\n",
              "            + ' to learn more about interactive tables.';\n",
              "          element.innerHTML = '';\n",
              "          dataTable['output_type'] = 'display_data';\n",
              "          await google.colab.output.renderOutput(dataTable, element);\n",
              "          const docLink = document.createElement('div');\n",
              "          docLink.innerHTML = docLinkHtml;\n",
              "          element.appendChild(docLink);\n",
              "        }\n",
              "      </script>\n",
              "    </div>\n",
              "  </div>\n",
              "  "
            ],
            "text/plain": [
              "     I         II       III         IV       \n",
              "     X      Y   X     Y   X      Y   X      Y\n",
              "0   10   8.04  10  9.14  10   7.46   8   6.58\n",
              "1    8   6.95   8  8.14   8   6.77   8   5.76\n",
              "2   13   7.58  13  8.74  13  12.74   8   7.71\n",
              "3    9   8.81   9  8.77   9   7.11   8   8.84\n",
              "4   11   8.33  11  9.26  11   7.81   8   8.47\n",
              "5   14   9.96  14  8.10  14   8.84   8   7.04\n",
              "6    6   7.24   6  6.13   6   6.08   8   5.25\n",
              "7    4   4.26   4  3.10   4   5.39  19  12.50\n",
              "8   12  10.84  12  9.13  12   8.15   8   5.56\n",
              "9    7   4.82   7  7.26   7   6.42   8   7.91\n",
              "10   5   5.68   5  4.74   5   5.73   8   6.89"
            ]
          },
          "metadata": {},
          "execution_count": 53
        }
      ]
    },
    {
      "cell_type": "markdown",
      "source": [
        "## Summary Statistics\n",
        "\n",
        "How are the means different? What about the standard deviation?"
      ],
      "metadata": {
        "id": "vOXWagJs_LK4"
      }
    },
    {
      "cell_type": "code",
      "source": [
        "print(\"Distribution Means:               {0:.2f}, {1:.2f}, {2:.2f}, {3:.2f}\"\\\n",
        "    .format(ansc.I.Y.mean(), ansc.II.Y.mean(), ansc.III.Y.mean(), ansc.IV.Y.mean()))\n",
        "print(\"Distribution Standard Deviations: {0:.2f}, {1:.2f}, {2:.2f}, {3:.2f}\"\\\n",
        "    .format(ansc.I.Y.std(), ansc.II.Y.std(), ansc.III.Y.std(), ansc.IV.Y.std()))"
      ],
      "metadata": {
        "colab": {
          "base_uri": "https://localhost:8080/"
        },
        "id": "U2CiXFd6_K5k",
        "outputId": "e76a41b4-3f7f-4b58-8410-97468b2756f6"
      },
      "execution_count": null,
      "outputs": [
        {
          "output_type": "stream",
          "name": "stdout",
          "text": [
            "Distribution Means:               7.50, 7.50, 7.50, 7.50\n",
            "Distribution Standard Deviations: 2.03, 2.03, 2.03, 2.03\n"
          ]
        }
      ]
    },
    {
      "cell_type": "markdown",
      "source": [
        "Notice they have the same means and standard deviations. Let's visualize the data first using box plots, then histograms"
      ],
      "metadata": {
        "id": "3VqhOgD8_eNv"
      }
    },
    {
      "cell_type": "code",
      "source": [
        "fig = plt.figure(figsize=(10,10))\n",
        "ax = [0]*4\n",
        "\n",
        "ax[0] = fig.add_subplot(221)\n",
        "ax[1] = fig.add_subplot(222)\n",
        "ax[2] = fig.add_subplot(223)\n",
        "ax[3] = fig.add_subplot(224)\n",
        "# setting y axis limits to the max and mean of each distribution\n",
        "ylims = (min(np.concatenate([ansc.I.Y, ansc.II.Y, ansc.III.Y, ansc.IV.Y])) \n",
        "         + 0.3,\n",
        "         max(np.concatenate([ansc.I.Y, ansc.II.Y, ansc.III.Y, ansc.IV.Y])) \n",
        "         + 0.3)\n",
        "for i,a in enumerate([ansc.I, ansc.II, ansc.III, ansc.IV]):\n",
        "    a.boxplot(column = 'Y', ax = ax[i])\n",
        "    ax[i].set_ylim(ylims)\n",
        "    ax[i].set_title(\"Anscombe's %d\"%(i+1))\n",
        "plt.show()"
      ],
      "metadata": {
        "colab": {
          "base_uri": "https://localhost:8080/",
          "height": 607
        },
        "id": "w1nwiW-f9cnx",
        "outputId": "ce4a4858-d6ce-427a-84f0-3c2f6848f15b"
      },
      "execution_count": null,
      "outputs": [
        {
          "output_type": "display_data",
          "data": {
            "image/png": "[encoded data removed]",
            "text/plain": [
              "<Figure size 720x720 with 4 Axes>"
            ]
          },
          "metadata": {
            "needs_background": "light"
          }
        }
      ]
    },
    {
      "cell_type": "markdown",
      "source": [
        "We see that 1 and 2 have a slightly different distribution of values. But the box plot leaves some information about the granularity of distributions. We can also see the outliers in 3 and 4.\n",
        "\n",
        "Lets see what a histogram will show."
      ],
      "metadata": {
        "id": "MScl64DYA0Fz"
      }
    },
    {
      "cell_type": "code",
      "source": [
        "fig = plt.figure(figsize = (10,10))\n",
        "ax=[0] * 4\n",
        "\n",
        "ax[0] = fig.add_subplot(221)\n",
        "ax[1] = fig.add_subplot(222)\n",
        "ax[2] = fig.add_subplot(223)\n",
        "ax[3] = fig.add_subplot(224)\n",
        "\n",
        "for i, a in enumerate([ansc.I, ansc.II, ansc.III, ansc.IV]):\n",
        "    #\n",
        "    a.hist(column = 'Y', color = 'SteelBlue', bins = 5, ax = ax[i])\n",
        "    ax[i].plot([a.Y.mean(), a.Y.mean()], ax[i].get_ylim(), '-', \n",
        "               color = 'IndianRed', lw = 2)\n",
        "    ax[i].set_title(\"Anscombe's %d\"%(i+1))\n",
        "plt.show()"
      ],
      "metadata": {
        "colab": {
          "base_uri": "https://localhost:8080/",
          "height": 608
        },
        "id": "gSyefuIbALXG",
        "outputId": "ccbcd33f-c49f-49d0-be17-d8ebe3e73db7"
      },
      "execution_count": null,
      "outputs": [
        {
          "output_type": "display_data",
          "data": {
            "image/png": "[encoded data removed]",
            "text/plain": [
              "<Figure size 720x720 with 4 Axes>"
            ]
          },
          "metadata": {
            "needs_background": "light"
          }
        }
      ]
    },
    {
      "cell_type": "markdown",
      "source": [
        "These histograms provide the clearest representation of just how different these data sets are, even though they all have the same mean and standard deviation. \n",
        "\n",
        "Now let's plot the data as a scatter plot. First we will fit a line to the different distributions. One with a linear, the other with a polynomial regression model that squares the X value.\n",
        "\n",
        "When using the regression lines, we fit an ordinary least squares fit to the data. Make sure to add a constant to the X values, this ensures that the line will go through 0. "
      ],
      "metadata": {
        "id": "XlgkfgBE2PKe"
      }
    },
    {
      "cell_type": "code",
      "source": [
        "# dictionary for linear fit\n",
        "lregmodels={}\n",
        "# dictionary for polynomial fit\n",
        "pregmodels={}\n",
        "# iterate through each distribution\n",
        "for i,a in enumerate([ansc.I,ansc.II,ansc.III,ansc.IV]):\n",
        "    #create x^2 column\n",
        "    a['X2'] = a.X**2\n",
        "    rm = sm.OLS(a.Y, sm.add_constant(a.X))\n",
        "    lregmodels[i] = rm.fit()\n",
        "    \n",
        "    pregmodels[i] = smf.ols(formula='Y ~ X2 + X', data = a).fit()\n",
        "    \n",
        "    print (\"linear regression slope {}\".format(lregmodels[i].params))\n",
        "    print (\"polynomial regression slope {}\".format(pregmodels[i].params))  "
      ],
      "metadata": {
        "colab": {
          "base_uri": "https://localhost:8080/"
        },
        "id": "ubWWpuVR3pgY",
        "outputId": "7a27adcf-0c46-45a6-dbe6-696ac3e5a8e0"
      },
      "execution_count": null,
      "outputs": [
        {
          "output_type": "stream",
          "name": "stdout",
          "text": [
            "linear regression slope const    3.000091\n",
            "X        0.500091\n",
            "dtype: float64\n",
            "polynomial regression slope Intercept    0.755068\n",
            "X2          -0.031620\n",
            "X            1.069252\n",
            "dtype: float64\n",
            "linear regression slope const    3.000909\n",
            "X        0.500000\n",
            "dtype: float64\n",
            "polynomial regression slope Intercept   -5.995734\n",
            "X2          -0.126713\n",
            "X            2.780839\n",
            "dtype: float64\n",
            "linear regression slope const    3.002455\n",
            "X        0.499727\n",
            "dtype: float64\n",
            "polynomial regression slope Intercept    5.111767\n",
            "X2           0.029709\n",
            "X           -0.035028\n",
            "dtype: float64\n",
            "linear regression slope const    3.001727\n",
            "X        0.499909\n",
            "dtype: float64\n",
            "polynomial regression slope Intercept    0.178018\n",
            "X2          -0.018577\n",
            "X            1.001489\n",
            "dtype: float64\n"
          ]
        },
        {
          "output_type": "stream",
          "name": "stderr",
          "text": [
            "/usr/local/lib/python3.7/dist-packages/ipykernel_launcher.py:8: SettingWithCopyWarning: \n",
            "A value is trying to be set on a copy of a slice from a DataFrame.\n",
            "Try using .loc[row_indexer,col_indexer] = value instead\n",
            "\n",
            "See the caveats in the documentation: https://pandas.pydata.org/pandas-docs/stable/user_guide/indexing.html#returning-a-view-versus-a-copy\n",
            "  \n"
          ]
        }
      ]
    },
    {
      "cell_type": "code",
      "source": [
        "fig=plt.figure(figsize=(10,10))\n",
        "ax=[0]*4\n",
        "\n",
        "ax[0]=fig.add_subplot(221)\n",
        "ax[1]=fig.add_subplot(222)\n",
        "ax[2]=fig.add_subplot(223)\n",
        "ax[3]=fig.add_subplot(224)\n",
        "\n",
        "for i,a in enumerate([ansc.I,ansc.II,ansc.III,ansc.IV]):\n",
        "    #\n",
        "    a.plot(kind='scatter',s=100, x='X',y='Y', color='SteelBlue', ax=ax[i])\n",
        "    X_prime = sm.add_constant(np.linspace(a.X.min(), a.X.max(), 100))\n",
        "    y_hat = lregmodels[i].predict(X_prime)\n",
        "    ax[i].plot(X_prime[:,1], y_hat, '-', color='IndianRed')  \n",
        "    ax[i].set_title(\"Anscombe's %d\"%(i+1))\n"
      ],
      "metadata": {
        "colab": {
          "base_uri": "https://localhost:8080/",
          "height": 621
        },
        "id": "OXKHfz0m2H-d",
        "outputId": "421ae33c-55be-4298-984f-9206cc7de074"
      },
      "execution_count": null,
      "outputs": [
        {
          "output_type": "display_data",
          "data": {
            "image/png": "[encoded data removed]",
            "text/plain": [
              "<Figure size 720x720 with 4 Axes>"
            ]
          },
          "metadata": {
            "needs_background": "light"
          }
        }
      ]
    },
    {
      "cell_type": "markdown",
      "source": [
        "We see the actual data is very different between each distribution. Although the linear regression slope is similar between each, the points only really fit the line in the first distribution. We see the effect of outliers in 3 and 4. The polynomial fit would be best for distribution 2."
      ],
      "metadata": {
        "id": "HWKtw74N5AMt"
      }
    }
  ]
}