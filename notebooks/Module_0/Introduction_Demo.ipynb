{
  "nbformat": 4,
  "nbformat_minor": 0,
  "metadata": {
    "colab": {
      "name": "Introduction Demo.ipynb",
      "provenance": [],
      "authorship_tag": "ABX9TyOMqgnQTXUgKKfLHhZG5G5O",
      "include_colab_link": true
    },
    "kernelspec": {
      "name": "python3",
      "display_name": "Python 3"
    },
    "language_info": {
      "name": "python"
    }
  },
  "cells": [
    {
      "cell_type": "markdown",
      "metadata": {
        "id": "view-in-github",
        "colab_type": "text"
      },
      "source": [
        "<a href=\"https://colab.research.google.com/github/sarahJune1/BUS509_sachss/blob/main/notebooks/Module_0/Introduction_Demo.ipynb\" target=\"_parent\"><img src=\"https://colab.research.google.com/assets/colab-badge.svg\" alt=\"Open In Colab\"/></a>"
      ]
    },
    {
      "cell_type": "code",
      "source": [
        "# make sure packages used are at the top\n",
        "import pandas as pd\n",
        "import matplotlib.pyplot as plt\n"
      ],
      "metadata": {
        "id": "3BIvLAAt4tGd"
      },
      "execution_count": 11,
      "outputs": []
    },
    {
      "cell_type": "code",
      "execution_count": 2,
      "metadata": {
        "id": "B_aXQzxgU1M0"
      },
      "outputs": [],
      "source": [
        "# Markdown to describe what is in the notebook"
      ]
    },
    {
      "cell_type": "markdown",
      "source": [
        "# Introduction\n",
        "\n",
        "The purpose of this notebook is to introduce the framework of a notebook environment."
      ],
      "metadata": {
        "id": "YJrVKZVG0dU-"
      }
    },
    {
      "cell_type": "code",
      "source": [
        "# define the variable which is 3 points along 1 3 2\n",
        "s = pd.Series([1, 3, 2])"
      ],
      "metadata": {
        "id": "ZDSbUnXN4l3z"
      },
      "execution_count": 7,
      "outputs": []
    },
    {
      "cell_type": "code",
      "source": [
        "# show the plot\n",
        "\n",
        "s.plot.line()\n",
        "plt.title('Pen in Cup')\n",
        "plt.xlabel('Sample Interval')\n",
        "plt.ylabel('Number of Pens')"
      ],
      "metadata": {
        "colab": {
          "base_uri": "https://localhost:8080/",
          "height": 312
        },
        "id": "TfW1hgoJ1JCa",
        "outputId": "44099537-fbad-401b-db8c-3b21b4a9d6d0"
      },
      "execution_count": 13,
      "outputs": [
        {
          "output_type": "execute_result",
          "data": {
            "text/plain": [
              "Text(0, 0.5, 'Number of Pens')"
            ]
          },
          "metadata": {},
          "execution_count": 13
        },
        {
          "output_type": "display_data",
          "data": {
            "image/png": "[encoded data removed]",
            "text/plain": [
              "<Figure size 432x288 with 1 Axes>"
            ]
          },
          "metadata": {
            "needs_background": "light"
          }
        }
      ]
    },
    {
      "cell_type": "markdown",
      "source": [
        "This is a plot about pens sampled over time. At the first interval it goes up...why is this important."
      ],
      "metadata": {
        "id": "nOC33QNA2Mkx"
      }
    },
    {
      "cell_type": "markdown",
      "source": [
        ""
      ],
      "metadata": {
        "id": "c4gPaaA72J_c"
      }
    },
    {
      "cell_type": "code",
      "source": [
        ""
      ],
      "metadata": {
        "id": "mpngDSuo1sNf"
      },
      "execution_count": null,
      "outputs": []
    }
  ]
}