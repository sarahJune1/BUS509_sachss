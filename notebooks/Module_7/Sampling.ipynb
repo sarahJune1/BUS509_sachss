{
  "nbformat": 4,
  "nbformat_minor": 0,
  "metadata": {
    "colab": {
      "name": "Sampling.ipynb",
      "provenance": [],
      "authorship_tag": "ABX9TyMf17a1viddVpAJAXKZroT/",
      "include_colab_link": true
    },
    "kernelspec": {
      "name": "python3",
      "display_name": "Python 3"
    },
    "language_info": {
      "name": "python"
    }
  },
  "cells": [
    {
      "cell_type": "markdown",
      "metadata": {
        "id": "view-in-github",
        "colab_type": "text"
      },
      "source": [
        "<a href=\"https://colab.research.google.com/github/sarahJune1/BUS509_sachss/blob/main/notebooks/Module_7/Sampling.ipynb\" target=\"_parent\"><img src=\"https://colab.research.google.com/assets/colab-badge.svg\" alt=\"Open In Colab\"/></a>"
      ]
    },
    {
      "cell_type": "code",
      "metadata": {
        "id": "4zv8Dds3wXaD"
      },
      "source": [
        "import matplotlib.pyplot as plt\n",
        "import pandas as pd\n",
        "import random\n",
        "import numpy as np\n",
        "import scipy.stats as stats\n",
        "import math\n",
        "import statsmodels.api as sm\n",
        "import statistics"
      ],
      "execution_count": null,
      "outputs": []
    },
    {
      "cell_type": "markdown",
      "source": [
        "# Sampling and Sampling Distributions\n",
        "\n",
        "In this module, we will build upon the previous lesson on the normal distribution and dive into the details of sampling distributions, such as how we measure the sample mean and leverage the central limit theorem to make inferences about a population. We will apply these concepts to develop a control chart as it relates to Quality Control."
      ],
      "metadata": {
        "id": "wcQ2SiNvOsl_"
      }
    },
    {
      "cell_type": "markdown",
      "source": [
        "## Sampling Methods\n",
        "\n",
        "### Simple Random Sample"
      ],
      "metadata": {
        "id": "iFcjh_xlOvam"
      }
    },
    {
      "cell_type": "code",
      "source": [
        "# Set random seed\n",
        "np.random.seed(42)"
      ],
      "metadata": {
        "id": "CctNP35zqJC4"
      },
      "execution_count": null,
      "outputs": []
    },
    {
      "cell_type": "markdown",
      "source": [
        "The following dataset will be used to explore methods of sampling, such as random sampling and stratified random sampling. \n"
      ],
      "metadata": {
        "id": "GtIB0l9CF2c7"
      }
    },
    {
      "cell_type": "markdown",
      "source": [
        "## Which resume attributes drive job callbacks?\n",
        "\n",
        "https://vincentarelbundock.github.io/Rdatasets/doc/openintro/resume.html\n",
        "\n",
        "This experiment data comes from a study that sought to understand the influence of race and gender on job application callback rates. The study monitored job postings in Boston and Chicago for several months during 2001 and 2002 and used this to build up a set of test cases. Over this time period, the researchers randomly generating resumes to go out to a job posting, such as years of experience and education details, to create a realistic-looking resume. They then randomly assigned a name to the resume that would communicate the applicant's gender and race. The first names chosen for the study were selected so that the names would predominantly be recognized as belonging to black or white individuals. For example, Lakisha was a name that their survey indicated would be interpreted as a black woman, while Greg was a name that would generally be interpreted to be associated with a white male."
      ],
      "metadata": {
        "id": "qmI0mGe6RO3Y"
      }
    },
    {
      "cell_type": "code",
      "source": [
        "df = sm.datasets.get_rdataset(\"resume\", \"openintro\").data"
      ],
      "metadata": {
        "id": "g_FQ-74jPBcQ"
      },
      "execution_count": null,
      "outputs": []
    },
    {
      "cell_type": "code",
      "source": [
        "df.head()"
      ],
      "metadata": {
        "colab": {
          "base_uri": "https://localhost:8080/",
          "height": 299
        },
        "id": "XUZFCBE7FoUc",
        "outputId": "807f10b9-ffa2-4297-9971-d33825ec413f"
      },
      "execution_count": null,
      "outputs": [
        {
          "output_type": "execute_result",
          "data": {
            "text/plain": [
              "   job_ad_id job_city   job_industry    job_type  job_fed_contractor  \\\n",
              "0        384  Chicago  manufacturing  supervisor                 NaN   \n",
              "1        384  Chicago  manufacturing  supervisor                 NaN   \n",
              "2        384  Chicago  manufacturing  supervisor                 NaN   \n",
              "3        384  Chicago  manufacturing  supervisor                 NaN   \n",
              "4        385  Chicago  other_service   secretary                 0.0   \n",
              "\n",
              "   job_equal_opp_employer job_ownership  job_req_any  job_req_communication  \\\n",
              "0                       1       unknown            1                      0   \n",
              "1                       1       unknown            1                      0   \n",
              "2                       1       unknown            1                      0   \n",
              "3                       1       unknown            1                      0   \n",
              "4                       1     nonprofit            1                      0   \n",
              "\n",
              "   job_req_education  ... honors  worked_during_school  years_experience  \\\n",
              "0                  0  ...      0                     0                 6   \n",
              "1                  0  ...      0                     1                 6   \n",
              "2                  0  ...      0                     1                 6   \n",
              "3                  0  ...      0                     0                 6   \n",
              "4                  0  ...      0                     1                22   \n",
              "\n",
              "  computer_skills  special_skills volunteer military employment_holes  \\\n",
              "0               1               0         0        0                1   \n",
              "1               1               0         1        1                0   \n",
              "2               1               0         0        0                0   \n",
              "3               1               1         1        0                1   \n",
              "4               1               0         0        0                0   \n",
              "\n",
              "   has_email_address  resume_quality  \n",
              "0                  0             low  \n",
              "1                  1            high  \n",
              "2                  0             low  \n",
              "3                  1            high  \n",
              "4                  1            high  \n",
              "\n",
              "[5 rows x 30 columns]"
            ],
            "text/html": [
              "\n",
              "  <div id=\"df-50e8f608-5da7-47e3-af4b-5c5b6a8e343f\">\n",
              "    <div class=\"colab-df-container\">\n",
              "      <div>\n",
              "<style scoped>\n",
              "    .dataframe tbody tr th:only-of-type {\n",
              "        vertical-align: middle;\n",
              "    }\n",
              "\n",
              "    .dataframe tbody tr th {\n",
              "        vertical-align: top;\n",
              "    }\n",
              "\n",
              "    .dataframe thead th {\n",
              "        text-align: right;\n",
              "    }\n",
              "</style>\n",
              "<table border=\"1\" class=\"dataframe\">\n",
              "  <thead>\n",
              "    <tr style=\"text-align: right;\">\n",
              "      <th></th>\n",
              "      <th>job_ad_id</th>\n",
              "      <th>job_city</th>\n",
              "      <th>job_industry</th>\n",
              "      <th>job_type</th>\n",
              "      <th>job_fed_contractor</th>\n",
              "      <th>job_equal_opp_employer</th>\n",
              "      <th>job_ownership</th>\n",
              "      <th>job_req_any</th>\n",
              "      <th>job_req_communication</th>\n",
              "      <th>job_req_education</th>\n",
              "      <th>...</th>\n",
              "      <th>honors</th>\n",
              "      <th>worked_during_school</th>\n",
              "      <th>years_experience</th>\n",
              "      <th>computer_skills</th>\n",
              "      <th>special_skills</th>\n",
              "      <th>volunteer</th>\n",
              "      <th>military</th>\n",
              "      <th>employment_holes</th>\n",
              "      <th>has_email_address</th>\n",
              "      <th>resume_quality</th>\n",
              "    </tr>\n",
              "  </thead>\n",
              "  <tbody>\n",
              "    <tr>\n",
              "      <th>0</th>\n",
              "      <td>384</td>\n",
              "      <td>Chicago</td>\n",
              "      <td>manufacturing</td>\n",
              "      <td>supervisor</td>\n",
              "      <td>NaN</td>\n",
              "      <td>1</td>\n",
              "      <td>unknown</td>\n",
              "      <td>1</td>\n",
              "      <td>0</td>\n",
              "      <td>0</td>\n",
              "      <td>...</td>\n",
              "      <td>0</td>\n",
              "      <td>0</td>\n",
              "      <td>6</td>\n",
              "      <td>1</td>\n",
              "      <td>0</td>\n",
              "      <td>0</td>\n",
              "      <td>0</td>\n",
              "      <td>1</td>\n",
              "      <td>0</td>\n",
              "      <td>low</td>\n",
              "    </tr>\n",
              "    <tr>\n",
              "      <th>1</th>\n",
              "      <td>384</td>\n",
              "      <td>Chicago</td>\n",
              "      <td>manufacturing</td>\n",
              "      <td>supervisor</td>\n",
              "      <td>NaN</td>\n",
              "      <td>1</td>\n",
              "      <td>unknown</td>\n",
              "      <td>1</td>\n",
              "      <td>0</td>\n",
              "      <td>0</td>\n",
              "      <td>...</td>\n",
              "      <td>0</td>\n",
              "      <td>1</td>\n",
              "      <td>6</td>\n",
              "      <td>1</td>\n",
              "      <td>0</td>\n",
              "      <td>1</td>\n",
              "      <td>1</td>\n",
              "      <td>0</td>\n",
              "      <td>1</td>\n",
              "      <td>high</td>\n",
              "    </tr>\n",
              "    <tr>\n",
              "      <th>2</th>\n",
              "      <td>384</td>\n",
              "      <td>Chicago</td>\n",
              "      <td>manufacturing</td>\n",
              "      <td>supervisor</td>\n",
              "      <td>NaN</td>\n",
              "      <td>1</td>\n",
              "      <td>unknown</td>\n",
              "      <td>1</td>\n",
              "      <td>0</td>\n",
              "      <td>0</td>\n",
              "      <td>...</td>\n",
              "      <td>0</td>\n",
              "      <td>1</td>\n",
              "      <td>6</td>\n",
              "      <td>1</td>\n",
              "      <td>0</td>\n",
              "      <td>0</td>\n",
              "      <td>0</td>\n",
              "      <td>0</td>\n",
              "      <td>0</td>\n",
              "      <td>low</td>\n",
              "    </tr>\n",
              "    <tr>\n",
              "      <th>3</th>\n",
              "      <td>384</td>\n",
              "      <td>Chicago</td>\n",
              "      <td>manufacturing</td>\n",
              "      <td>supervisor</td>\n",
              "      <td>NaN</td>\n",
              "      <td>1</td>\n",
              "      <td>unknown</td>\n",
              "      <td>1</td>\n",
              "      <td>0</td>\n",
              "      <td>0</td>\n",
              "      <td>...</td>\n",
              "      <td>0</td>\n",
              "      <td>0</td>\n",
              "      <td>6</td>\n",
              "      <td>1</td>\n",
              "      <td>1</td>\n",
              "      <td>1</td>\n",
              "      <td>0</td>\n",
              "      <td>1</td>\n",
              "      <td>1</td>\n",
              "      <td>high</td>\n",
              "    </tr>\n",
              "    <tr>\n",
              "      <th>4</th>\n",
              "      <td>385</td>\n",
              "      <td>Chicago</td>\n",
              "      <td>other_service</td>\n",
              "      <td>secretary</td>\n",
              "      <td>0.0</td>\n",
              "      <td>1</td>\n",
              "      <td>nonprofit</td>\n",
              "      <td>1</td>\n",
              "      <td>0</td>\n",
              "      <td>0</td>\n",
              "      <td>...</td>\n",
              "      <td>0</td>\n",
              "      <td>1</td>\n",
              "      <td>22</td>\n",
              "      <td>1</td>\n",
              "      <td>0</td>\n",
              "      <td>0</td>\n",
              "      <td>0</td>\n",
              "      <td>0</td>\n",
              "      <td>1</td>\n",
              "      <td>high</td>\n",
              "    </tr>\n",
              "  </tbody>\n",
              "</table>\n",
              "<p>5 rows × 30 columns</p>\n",
              "</div>\n",
              "      <button class=\"colab-df-convert\" onclick=\"convertToInteractive('df-50e8f608-5da7-47e3-af4b-5c5b6a8e343f')\"\n",
              "              title=\"Convert this dataframe to an interactive table.\"\n",
              "              style=\"display:none;\">\n",
              "        \n",
              "  <svg xmlns=\"http://www.w3.org/2000/svg\" height=\"24px\"viewBox=\"0 0 24 24\"\n",
              "       width=\"24px\">\n",
              "    <path d=\"M0 0h24v24H0V0z\" fill=\"none\"/>\n",
              "    <path d=\"M18.56 5.44l.94 2.06.94-2.06 2.06-.94-2.06-.94-.94-2.06-.94 2.06-2.06.94zm-11 1L8.5 8.5l.94-2.06 2.06-.94-2.06-.94L8.5 2.5l-.94 2.06-2.06.94zm10 10l.94 2.06.94-2.06 2.06-.94-2.06-.94-.94-2.06-.94 2.06-2.06.94z\"/><path d=\"M17.41 7.96l-1.37-1.37c-.4-.4-.92-.59-1.43-.59-.52 0-1.04.2-1.43.59L10.3 9.45l-7.72 7.72c-.78.78-.78 2.05 0 2.83L4 21.41c.39.39.9.59 1.41.59.51 0 1.02-.2 1.41-.59l7.78-7.78 2.81-2.81c.8-.78.8-2.07 0-2.86zM5.41 20L4 18.59l7.72-7.72 1.47 1.35L5.41 20z\"/>\n",
              "  </svg>\n",
              "      </button>\n",
              "      \n",
              "  <style>\n",
              "    .colab-df-container {\n",
              "      display:flex;\n",
              "      flex-wrap:wrap;\n",
              "      gap: 12px;\n",
              "    }\n",
              "\n",
              "    .colab-df-convert {\n",
              "      background-color: #E8F0FE;\n",
              "      border: none;\n",
              "      border-radius: 50%;\n",
              "      cursor: pointer;\n",
              "      display: none;\n",
              "      fill: #1967D2;\n",
              "      height: 32px;\n",
              "      padding: 0 0 0 0;\n",
              "      width: 32px;\n",
              "    }\n",
              "\n",
              "    .colab-df-convert:hover {\n",
              "      background-color: #E2EBFA;\n",
              "      box-shadow: 0px 1px 2px rgba(60, 64, 67, 0.3), 0px 1px 3px 1px rgba(60, 64, 67, 0.15);\n",
              "      fill: #174EA6;\n",
              "    }\n",
              "\n",
              "    [theme=dark] .colab-df-convert {\n",
              "      background-color: #3B4455;\n",
              "      fill: #D2E3FC;\n",
              "    }\n",
              "\n",
              "    [theme=dark] .colab-df-convert:hover {\n",
              "      background-color: #434B5C;\n",
              "      box-shadow: 0px 1px 3px 1px rgba(0, 0, 0, 0.15);\n",
              "      filter: drop-shadow(0px 1px 2px rgba(0, 0, 0, 0.3));\n",
              "      fill: #FFFFFF;\n",
              "    }\n",
              "  </style>\n",
              "\n",
              "      <script>\n",
              "        const buttonEl =\n",
              "          document.querySelector('#df-50e8f608-5da7-47e3-af4b-5c5b6a8e343f button.colab-df-convert');\n",
              "        buttonEl.style.display =\n",
              "          google.colab.kernel.accessAllowed ? 'block' : 'none';\n",
              "\n",
              "        async function convertToInteractive(key) {\n",
              "          const element = document.querySelector('#df-50e8f608-5da7-47e3-af4b-5c5b6a8e343f');\n",
              "          const dataTable =\n",
              "            await google.colab.kernel.invokeFunction('convertToInteractive',\n",
              "                                                     [key], {});\n",
              "          if (!dataTable) return;\n",
              "\n",
              "          const docLinkHtml = 'Like what you see? Visit the ' +\n",
              "            '<a target=\"_blank\" href=https://colab.research.google.com/notebooks/data_table.ipynb>data table notebook</a>'\n",
              "            + ' to learn more about interactive tables.';\n",
              "          element.innerHTML = '';\n",
              "          dataTable['output_type'] = 'display_data';\n",
              "          await google.colab.output.renderOutput(dataTable, element);\n",
              "          const docLink = document.createElement('div');\n",
              "          docLink.innerHTML = docLinkHtml;\n",
              "          element.appendChild(docLink);\n",
              "        }\n",
              "      </script>\n",
              "    </div>\n",
              "  </div>\n",
              "  "
            ]
          },
          "metadata": {},
          "execution_count": 8
        }
      ]
    },
    {
      "cell_type": "code",
      "source": [
        "df.columns"
      ],
      "metadata": {
        "colab": {
          "base_uri": "https://localhost:8080/"
        },
        "id": "TrlQQnUhQUMa",
        "outputId": "515ce8c0-a061-4f44-b72f-35279a2d2338"
      },
      "execution_count": null,
      "outputs": [
        {
          "output_type": "execute_result",
          "data": {
            "text/plain": [
              "Index(['job_ad_id', 'job_city', 'job_industry', 'job_type',\n",
              "       'job_fed_contractor', 'job_equal_opp_employer', 'job_ownership',\n",
              "       'job_req_any', 'job_req_communication', 'job_req_education',\n",
              "       'job_req_min_experience', 'job_req_computer', 'job_req_organization',\n",
              "       'job_req_school', 'received_callback', 'firstname', 'race', 'gender',\n",
              "       'years_college', 'college_degree', 'honors', 'worked_during_school',\n",
              "       'years_experience', 'computer_skills', 'special_skills', 'volunteer',\n",
              "       'military', 'employment_holes', 'has_email_address', 'resume_quality'],\n",
              "      dtype='object')"
            ]
          },
          "metadata": {},
          "execution_count": 9
        }
      ]
    },
    {
      "cell_type": "markdown",
      "source": [
        "Take a simple random sample of 100 participants, what is the probability that the gender is male? \n",
        "\n",
        "First calculate probability of entire population."
      ],
      "metadata": {
        "id": "mnqbqAKDRaLf"
      }
    },
    {
      "cell_type": "code",
      "source": [
        "df.gender.value_counts()"
      ],
      "metadata": {
        "colab": {
          "base_uri": "https://localhost:8080/"
        },
        "id": "EnjPdHeuRZjz",
        "outputId": "276a78a3-aa07-4e9f-88d4-1694e351fa84"
      },
      "execution_count": null,
      "outputs": [
        {
          "output_type": "execute_result",
          "data": {
            "text/plain": [
              "f    3746\n",
              "m    1124\n",
              "Name: gender, dtype: int64"
            ]
          },
          "metadata": {},
          "execution_count": 10
        }
      ]
    },
    {
      "cell_type": "code",
      "source": [
        "print(f\"P(Is Male) = {round(100*df[df['gender'] == 'm'].shape[0]/len(df),2 )}%\")"
      ],
      "metadata": {
        "colab": {
          "base_uri": "https://localhost:8080/"
        },
        "id": "6aHauhElSdba",
        "outputId": "03de23cb-2098-43c4-b169-d2b8894cacda"
      },
      "execution_count": null,
      "outputs": [
        {
          "output_type": "stream",
          "name": "stdout",
          "text": [
            "P(Is Male) = 23.08%\n"
          ]
        }
      ]
    },
    {
      "cell_type": "markdown",
      "source": [
        "Make sure to set the random state for reproducible work, this is analogous to the set seed."
      ],
      "metadata": {
        "id": "ojHn-v1aR5K3"
      }
    },
    {
      "cell_type": "code",
      "source": [
        "rand_sample = df.sample(100, replace=False)"
      ],
      "metadata": {
        "id": "udi33g-ORjgv"
      },
      "execution_count": null,
      "outputs": []
    },
    {
      "cell_type": "code",
      "source": [
        "rand_sample.shape"
      ],
      "metadata": {
        "colab": {
          "base_uri": "https://localhost:8080/"
        },
        "id": "YtI1vZguSIOH",
        "outputId": "28cf3d7f-45b4-4f90-e35f-2e6580c5a6bb"
      },
      "execution_count": null,
      "outputs": [
        {
          "output_type": "execute_result",
          "data": {
            "text/plain": [
              "(100, 30)"
            ]
          },
          "metadata": {},
          "execution_count": 13
        }
      ]
    },
    {
      "cell_type": "code",
      "source": [
        "rand_sample.gender.value_counts()"
      ],
      "metadata": {
        "colab": {
          "base_uri": "https://localhost:8080/"
        },
        "id": "aWX15lNcSOru",
        "outputId": "f527596b-678e-42d3-c721-b495fdb7e7e1"
      },
      "execution_count": null,
      "outputs": [
        {
          "output_type": "execute_result",
          "data": {
            "text/plain": [
              "f    77\n",
              "m    23\n",
              "Name: gender, dtype: int64"
            ]
          },
          "metadata": {},
          "execution_count": 14
        }
      ]
    },
    {
      "cell_type": "code",
      "source": [
        "print(f\"P(Is Male) = {round(100*rand_sample[rand_sample['gender'] == 'm'].shape[0]/len(rand_sample),2 )}%\")"
      ],
      "metadata": {
        "colab": {
          "base_uri": "https://localhost:8080/"
        },
        "id": "oxwhCu5xSSBJ",
        "outputId": "3c093295-6176-4bd0-f537-aa59da1c53e6"
      },
      "execution_count": null,
      "outputs": [
        {
          "output_type": "stream",
          "name": "stdout",
          "text": [
            "P(Is Male) = 23.0%\n"
          ]
        }
      ]
    },
    {
      "cell_type": "markdown",
      "source": [
        "Because these proportions are the same, we can say the sample represents the population wrt gender breakdown."
      ],
      "metadata": {
        "id": "U2tfFMfnSurK"
      }
    },
    {
      "cell_type": "markdown",
      "source": [
        "## Stratified Random Sampling"
      ],
      "metadata": {
        "id": "-bTZMOj1Txwn"
      }
    },
    {
      "cell_type": "code",
      "source": [
        "df.race.value_counts()"
      ],
      "metadata": {
        "colab": {
          "base_uri": "https://localhost:8080/"
        },
        "id": "rKIU_kHiT6Ix",
        "outputId": "1c0bba31-aec1-4630-f401-702f07278fec"
      },
      "execution_count": null,
      "outputs": [
        {
          "output_type": "execute_result",
          "data": {
            "text/plain": [
              "white    2435\n",
              "black    2435\n",
              "Name: race, dtype: int64"
            ]
          },
          "metadata": {},
          "execution_count": 16
        }
      ]
    },
    {
      "cell_type": "code",
      "source": [
        "df.head(1)"
      ],
      "metadata": {
        "colab": {
          "base_uri": "https://localhost:8080/",
          "height": 174
        },
        "id": "oByfN7X3UxZ0",
        "outputId": "31ef0a70-ace0-4155-aef0-59779367a049"
      },
      "execution_count": null,
      "outputs": [
        {
          "output_type": "execute_result",
          "data": {
            "text/plain": [
              "   job_ad_id job_city   job_industry    job_type  job_fed_contractor  \\\n",
              "0        384  Chicago  manufacturing  supervisor                 NaN   \n",
              "\n",
              "   job_equal_opp_employer job_ownership  job_req_any  job_req_communication  \\\n",
              "0                       1       unknown            1                      0   \n",
              "\n",
              "   job_req_education  ... honors  worked_during_school  years_experience  \\\n",
              "0                  0  ...      0                     0                 6   \n",
              "\n",
              "  computer_skills  special_skills volunteer military employment_holes  \\\n",
              "0               1               0         0        0                1   \n",
              "\n",
              "   has_email_address  resume_quality  \n",
              "0                  0             low  \n",
              "\n",
              "[1 rows x 30 columns]"
            ],
            "text/html": [
              "\n",
              "  <div id=\"df-e1706abe-9729-4a8d-a6f8-63a2a02e464b\">\n",
              "    <div class=\"colab-df-container\">\n",
              "      <div>\n",
              "<style scoped>\n",
              "    .dataframe tbody tr th:only-of-type {\n",
              "        vertical-align: middle;\n",
              "    }\n",
              "\n",
              "    .dataframe tbody tr th {\n",
              "        vertical-align: top;\n",
              "    }\n",
              "\n",
              "    .dataframe thead th {\n",
              "        text-align: right;\n",
              "    }\n",
              "</style>\n",
              "<table border=\"1\" class=\"dataframe\">\n",
              "  <thead>\n",
              "    <tr style=\"text-align: right;\">\n",
              "      <th></th>\n",
              "      <th>job_ad_id</th>\n",
              "      <th>job_city</th>\n",
              "      <th>job_industry</th>\n",
              "      <th>job_type</th>\n",
              "      <th>job_fed_contractor</th>\n",
              "      <th>job_equal_opp_employer</th>\n",
              "      <th>job_ownership</th>\n",
              "      <th>job_req_any</th>\n",
              "      <th>job_req_communication</th>\n",
              "      <th>job_req_education</th>\n",
              "      <th>...</th>\n",
              "      <th>honors</th>\n",
              "      <th>worked_during_school</th>\n",
              "      <th>years_experience</th>\n",
              "      <th>computer_skills</th>\n",
              "      <th>special_skills</th>\n",
              "      <th>volunteer</th>\n",
              "      <th>military</th>\n",
              "      <th>employment_holes</th>\n",
              "      <th>has_email_address</th>\n",
              "      <th>resume_quality</th>\n",
              "    </tr>\n",
              "  </thead>\n",
              "  <tbody>\n",
              "    <tr>\n",
              "      <th>0</th>\n",
              "      <td>384</td>\n",
              "      <td>Chicago</td>\n",
              "      <td>manufacturing</td>\n",
              "      <td>supervisor</td>\n",
              "      <td>NaN</td>\n",
              "      <td>1</td>\n",
              "      <td>unknown</td>\n",
              "      <td>1</td>\n",
              "      <td>0</td>\n",
              "      <td>0</td>\n",
              "      <td>...</td>\n",
              "      <td>0</td>\n",
              "      <td>0</td>\n",
              "      <td>6</td>\n",
              "      <td>1</td>\n",
              "      <td>0</td>\n",
              "      <td>0</td>\n",
              "      <td>0</td>\n",
              "      <td>1</td>\n",
              "      <td>0</td>\n",
              "      <td>low</td>\n",
              "    </tr>\n",
              "  </tbody>\n",
              "</table>\n",
              "<p>1 rows × 30 columns</p>\n",
              "</div>\n",
              "      <button class=\"colab-df-convert\" onclick=\"convertToInteractive('df-e1706abe-9729-4a8d-a6f8-63a2a02e464b')\"\n",
              "              title=\"Convert this dataframe to an interactive table.\"\n",
              "              style=\"display:none;\">\n",
              "        \n",
              "  <svg xmlns=\"http://www.w3.org/2000/svg\" height=\"24px\"viewBox=\"0 0 24 24\"\n",
              "       width=\"24px\">\n",
              "    <path d=\"M0 0h24v24H0V0z\" fill=\"none\"/>\n",
              "    <path d=\"M18.56 5.44l.94 2.06.94-2.06 2.06-.94-2.06-.94-.94-2.06-.94 2.06-2.06.94zm-11 1L8.5 8.5l.94-2.06 2.06-.94-2.06-.94L8.5 2.5l-.94 2.06-2.06.94zm10 10l.94 2.06.94-2.06 2.06-.94-2.06-.94-.94-2.06-.94 2.06-2.06.94z\"/><path d=\"M17.41 7.96l-1.37-1.37c-.4-.4-.92-.59-1.43-.59-.52 0-1.04.2-1.43.59L10.3 9.45l-7.72 7.72c-.78.78-.78 2.05 0 2.83L4 21.41c.39.39.9.59 1.41.59.51 0 1.02-.2 1.41-.59l7.78-7.78 2.81-2.81c.8-.78.8-2.07 0-2.86zM5.41 20L4 18.59l7.72-7.72 1.47 1.35L5.41 20z\"/>\n",
              "  </svg>\n",
              "      </button>\n",
              "      \n",
              "  <style>\n",
              "    .colab-df-container {\n",
              "      display:flex;\n",
              "      flex-wrap:wrap;\n",
              "      gap: 12px;\n",
              "    }\n",
              "\n",
              "    .colab-df-convert {\n",
              "      background-color: #E8F0FE;\n",
              "      border: none;\n",
              "      border-radius: 50%;\n",
              "      cursor: pointer;\n",
              "      display: none;\n",
              "      fill: #1967D2;\n",
              "      height: 32px;\n",
              "      padding: 0 0 0 0;\n",
              "      width: 32px;\n",
              "    }\n",
              "\n",
              "    .colab-df-convert:hover {\n",
              "      background-color: #E2EBFA;\n",
              "      box-shadow: 0px 1px 2px rgba(60, 64, 67, 0.3), 0px 1px 3px 1px rgba(60, 64, 67, 0.15);\n",
              "      fill: #174EA6;\n",
              "    }\n",
              "\n",
              "    [theme=dark] .colab-df-convert {\n",
              "      background-color: #3B4455;\n",
              "      fill: #D2E3FC;\n",
              "    }\n",
              "\n",
              "    [theme=dark] .colab-df-convert:hover {\n",
              "      background-color: #434B5C;\n",
              "      box-shadow: 0px 1px 3px 1px rgba(0, 0, 0, 0.15);\n",
              "      filter: drop-shadow(0px 1px 2px rgba(0, 0, 0, 0.3));\n",
              "      fill: #FFFFFF;\n",
              "    }\n",
              "  </style>\n",
              "\n",
              "      <script>\n",
              "        const buttonEl =\n",
              "          document.querySelector('#df-e1706abe-9729-4a8d-a6f8-63a2a02e464b button.colab-df-convert');\n",
              "        buttonEl.style.display =\n",
              "          google.colab.kernel.accessAllowed ? 'block' : 'none';\n",
              "\n",
              "        async function convertToInteractive(key) {\n",
              "          const element = document.querySelector('#df-e1706abe-9729-4a8d-a6f8-63a2a02e464b');\n",
              "          const dataTable =\n",
              "            await google.colab.kernel.invokeFunction('convertToInteractive',\n",
              "                                                     [key], {});\n",
              "          if (!dataTable) return;\n",
              "\n",
              "          const docLinkHtml = 'Like what you see? Visit the ' +\n",
              "            '<a target=\"_blank\" href=https://colab.research.google.com/notebooks/data_table.ipynb>data table notebook</a>'\n",
              "            + ' to learn more about interactive tables.';\n",
              "          element.innerHTML = '';\n",
              "          dataTable['output_type'] = 'display_data';\n",
              "          await google.colab.output.renderOutput(dataTable, element);\n",
              "          const docLink = document.createElement('div');\n",
              "          docLink.innerHTML = docLinkHtml;\n",
              "          element.appendChild(docLink);\n",
              "        }\n",
              "      </script>\n",
              "    </div>\n",
              "  </div>\n",
              "  "
            ]
          },
          "metadata": {},
          "execution_count": 18
        }
      ]
    },
    {
      "cell_type": "code",
      "source": [
        "df.groupby('race', group_keys=False)['resume_quality'].value_counts()"
      ],
      "metadata": {
        "colab": {
          "base_uri": "https://localhost:8080/"
        },
        "id": "_8EykWl6UiLz",
        "outputId": "4cc7e47f-7be4-4fa0-ee51-9341fb9ac96a"
      },
      "execution_count": null,
      "outputs": [
        {
          "output_type": "execute_result",
          "data": {
            "text/plain": [
              "race   resume_quality\n",
              "black  high              1223\n",
              "       low               1212\n",
              "white  high              1223\n",
              "       low               1212\n",
              "Name: resume_quality, dtype: int64"
            ]
          },
          "metadata": {},
          "execution_count": 19
        }
      ]
    },
    {
      "cell_type": "code",
      "source": [
        "strat_df = df.groupby('race', group_keys=False).apply(lambda x: x.sample(10, random_state=42))"
      ],
      "metadata": {
        "id": "9dI3P-uTTzzt"
      },
      "execution_count": null,
      "outputs": []
    },
    {
      "cell_type": "code",
      "source": [
        "strat_df.groupby('race', group_keys=False).resume_quality.value_counts()"
      ],
      "metadata": {
        "colab": {
          "base_uri": "https://localhost:8080/"
        },
        "id": "Agquahc7UfdF",
        "outputId": "989b1766-3e5a-4e7f-fd88-65ae9c95fdce"
      },
      "execution_count": null,
      "outputs": [
        {
          "output_type": "execute_result",
          "data": {
            "text/plain": [
              "race   resume_quality\n",
              "black  high              5\n",
              "       low               5\n",
              "white  low               8\n",
              "       high              2\n",
              "Name: resume_quality, dtype: int64"
            ]
          },
          "metadata": {},
          "execution_count": 21
        }
      ]
    },
    {
      "cell_type": "markdown",
      "source": [
        "This stratefied sampling comes to importance when developing ML models that are built using train/test split. "
      ],
      "metadata": {
        "id": "tCaog4tNZUYe"
      }
    },
    {
      "cell_type": "markdown",
      "source": [
        "Back to the lecture."
      ],
      "metadata": {
        "id": "myxdw6GzGCv-"
      }
    },
    {
      "cell_type": "markdown",
      "source": [
        "# The Expected Value and the Standard Error of the Sample Mean"
      ],
      "metadata": {
        "id": "5g3L4rJgV6Q9"
      }
    },
    {
      "cell_type": "markdown",
      "metadata": {
        "id": "CiNr4MtRv9Dq"
      },
      "source": [
        "### Example 7.3\n",
        "\n",
        "Consider how ‘shrinkflation’ is changing the size/weight of their products, Doritos chips claims each bag to weigh 16 ounces. However, there is likely to be a inconsistency due to how the chips are packaged, resulting in a standard deviation of 0.8 ounces.\n",
        "\n",
        "Population mean μ = 16 and the population standard deviation σ = 0.8\n",
        "\n",
        "Comment on the computed probabilities."
      ]
    },
    {
      "cell_type": "code",
      "metadata": {
        "id": "Xu3VrqcvyW0n"
      },
      "source": [
        "# define the inputs\n",
        "mu = 16\n",
        "std = 0.8"
      ],
      "execution_count": null,
      "outputs": []
    },
    {
      "cell_type": "code",
      "metadata": {
        "colab": {
          "base_uri": "https://localhost:8080/",
          "height": 295
        },
        "id": "IRltSqGKwFhg",
        "outputId": "d59f7d2b-32a0-439f-c850-54db1645081d"
      },
      "source": [
        "# plot normal distribution\n",
        "x = np.linspace(mu - 3*std, mu + 3*std, 100) # distribution of 100 samples with mean +- 3 standard deviations\n",
        "# using the stats package to create a probability density function given x\n",
        "plt.plot(x, stats.norm.pdf(x, mu, std))\n",
        "plt.title('Normal Distribution of the Sample Mean')\n",
        "plt.xlabel('Produce Weight (oz)')\n",
        "plt.ylabel('Probability Density')\n",
        "plt.show()"
      ],
      "execution_count": null,
      "outputs": [
        {
          "output_type": "display_data",
          "data": {
            "text/plain": [
              "<Figure size 432x288 with 1 Axes>"
            ],
            "image/png": "[encoded data removed]"
          },
          "metadata": {
            "needs_background": "light"
          }
        }
      ]
    },
    {
      "cell_type": "markdown",
      "metadata": {
        "id": "zCoWoquIwnhl"
      },
      "source": [
        "What is the probability that a randomly selected bag of chips is less than 15.5 ounces?\n",
        "\n"
      ]
    },
    {
      "cell_type": "code",
      "metadata": {
        "colab": {
          "base_uri": "https://localhost:8080/"
        },
        "id": "hZ1Gy3dExc7-",
        "outputId": "9762ab86-631d-476e-da27-9bdf60bf2cde"
      },
      "source": [
        "stats.norm(mu, std).cdf(15.5)"
      ],
      "execution_count": null,
      "outputs": [
        {
          "output_type": "execute_result",
          "data": {
            "text/plain": [
              "0.26598552904870054"
            ]
          },
          "metadata": {},
          "execution_count": 25
        }
      ]
    },
    {
      "cell_type": "markdown",
      "metadata": {
        "id": "RDaNRxn-y5lD"
      },
      "source": [
        "What is the probability that 2 randomly selected bags of chips average less than 15.5 ounces?"
      ]
    },
    {
      "cell_type": "code",
      "metadata": {
        "colab": {
          "base_uri": "https://localhost:8080/",
          "height": 295
        },
        "id": "-q4xUkG9zora",
        "outputId": "c7fc00d9-b7a8-4a65-83d5-3c8b97b5dc8c"
      },
      "source": [
        "# plot normal distribution\n",
        "x = np.linspace(mu - 3*std, mu + 3*std, 100)\n",
        "plt.plot(x, stats.norm.pdf(x, mu, std))\n",
        "plt.plot(x, stats.norm.pdf(x, mu, std/math.sqrt(2)), label='n=2')\n",
        "plt.title('Normal Distribution of the Sample Mean')\n",
        "plt.xlabel('Produce Weight (oz)')\n",
        "plt.ylabel('Probability Density')\n",
        "plt.legend()\n",
        "plt.show()"
      ],
      "execution_count": null,
      "outputs": [
        {
          "output_type": "display_data",
          "data": {
            "text/plain": [
              "<Figure size 432x288 with 1 Axes>"
            ],
            "image/png": "[encoded data removed]"
          },
          "metadata": {
            "needs_background": "light"
          }
        }
      ]
    },
    {
      "cell_type": "code",
      "metadata": {
        "colab": {
          "base_uri": "https://localhost:8080/"
        },
        "id": "j7N9r5XSyE4m",
        "outputId": "a7027cad-0299-4e15-9231-ce8a304dea7a"
      },
      "source": [
        "stats.norm(mu, std/math.sqrt(2)).cdf(15.5)"
      ],
      "execution_count": null,
      "outputs": [
        {
          "output_type": "execute_result",
          "data": {
            "text/plain": [
              "0.188379558905791"
            ]
          },
          "metadata": {},
          "execution_count": 27
        }
      ]
    },
    {
      "cell_type": "markdown",
      "metadata": {
        "id": "Y_UgJNSzz66H"
      },
      "source": [
        "What is the probability that 4 randomly selected bags average less than 15.5 ounces?"
      ]
    },
    {
      "cell_type": "code",
      "metadata": {
        "colab": {
          "base_uri": "https://localhost:8080/",
          "height": 295
        },
        "id": "u93ITH1xz5Gc",
        "outputId": "0d64f5c7-4665-495c-a57a-3d9ca59d9730"
      },
      "source": [
        "# plot normal distribution\n",
        "x = np.linspace(mu - 3*std, mu + 3*std, 100)\n",
        "plt.plot(x, stats.norm.pdf(x, mu, std))\n",
        "plt.plot(x, stats.norm.pdf(x, mu, std/math.sqrt(2)), label='n=2')\n",
        "plt.plot(x, stats.norm.pdf(x, mu, std/math.sqrt(4)), label='n=4')\n",
        "plt.plot(x, stats.norm.pdf(x, mu, std/math.sqrt(3)), label='n=3')\n",
        "plt.xlabel('Produce Weight (oz)')\n",
        "plt.ylabel('Probability Density')\n",
        "plt.title('Normal Distribution of the Sample Mean')\n",
        "plt.legend()\n",
        "plt.show()"
      ],
      "execution_count": null,
      "outputs": [
        {
          "output_type": "display_data",
          "data": {
            "text/plain": [
              "<Figure size 432x288 with 1 Axes>"
            ],
            "image/png": "[encoded data removed]"
          },
          "metadata": {
            "needs_background": "light"
          }
        }
      ]
    },
    {
      "cell_type": "code",
      "metadata": {
        "colab": {
          "base_uri": "https://localhost:8080/"
        },
        "id": "pSDzc3tLz_YI",
        "outputId": "d456e16d-7fa8-4482-8832-412d2e628d56"
      },
      "source": [
        "stats.norm(mu, std/math.sqrt(4)).cdf(15.5)"
      ],
      "execution_count": null,
      "outputs": [
        {
          "output_type": "execute_result",
          "data": {
            "text/plain": [
              "0.10564977366685535"
            ]
          },
          "metadata": {},
          "execution_count": 29
        }
      ]
    },
    {
      "cell_type": "markdown",
      "source": [
        "back to the lecture"
      ],
      "metadata": {
        "id": "0fRuAdZ2GMGo"
      }
    },
    {
      "cell_type": "markdown",
      "source": [
        "# Quality Control Charts\n",
        "\n",
        "This demo has examples for all types of control charts: https://towardsdatascience.com/quality-control-charts-guide-for-python-9bb1c859c051"
      ],
      "metadata": {
        "id": "pncFKnL6qZWU"
      }
    },
    {
      "cell_type": "markdown",
      "source": [
        "The below code was taken from the demo in the link above. We will reuse parts of the structure to answer questions from the textbook."
      ],
      "metadata": {
        "id": "B9fYO251rGRL"
      }
    },
    {
      "cell_type": "markdown",
      "source": [
        "### x-bar chart and R chart\n",
        "\n",
        "Used to monitor the mean and variation of a process based on samples taken in a given time. The sample size n must be greater than 1 and less than 11."
      ],
      "metadata": {
        "id": "4snlRVqPrNBw"
      }
    },
    {
      "cell_type": "code",
      "metadata": {
        "id": "86QoFCtm0Dqj",
        "colab": {
          "base_uri": "https://localhost:8080/",
          "height": 928
        },
        "outputId": "6a5e4422-2b87-43cb-96bf-e974df1637af"
      },
      "source": [
        "# Create dummy data\n",
        "x = np.array([list(np.random.normal(loc=10, scale=2, size=5)),\n",
        "        list(np.random.normal(loc=10, scale=2, size=5)),\n",
        "        list(np.random.normal(loc=10, scale=2, size=5)),\n",
        "        list(np.random.normal(loc=10, scale=2, size=5)),\n",
        "        list(np.random.normal(loc=10, scale=2, size=5)),\n",
        "        list(np.random.normal(loc=17, scale=2, size=5)),\n",
        "        list(np.random.normal(loc=10, scale=2, size=5)),\n",
        "        list(np.random.normal(loc=10, scale=2, size=5)),\n",
        "        list(np.random.normal(loc=10, scale=2, size=5)),\n",
        "        list(np.random.normal(loc=10, scale=2, size=5))])\n",
        "        \n",
        "# Define list variable for groups means\n",
        "x_bar = []\n",
        "\n",
        "# Define list variable for groups ranges\n",
        "r = [] \n",
        "\n",
        "# Get and append groups means and ranges\n",
        "for group in x:\n",
        "    x_bar.append(group.mean())\n",
        "    r.append(group.max() - group.min())\n",
        "    \n",
        "# Plot x-bar and R charts\n",
        "fig, axs = plt.subplots(2, figsize=(15,15))\n",
        "\n",
        "# x-bar chart\n",
        "axs[0].plot(x_bar, linestyle='-', marker='o', color='black')\n",
        "axs[0].axhline((statistics.mean(x_bar)+0.577*statistics.mean(r)), color='red', linestyle='dashed')\n",
        "axs[0].axhline((statistics.mean(x_bar)-0.577*statistics.mean(r)), color='red', linestyle='dashed')\n",
        "axs[0].axhline((statistics.mean(x_bar)), color='blue')\n",
        "axs[0].set_title('x-bar Chart')\n",
        "axs[0].set(xlabel='Group', ylabel='Mean')\n",
        "\n",
        "# R chart\n",
        "axs[1].plot(r, linestyle='-', marker='o', color='black')\n",
        "axs[1].axhline((2.574*statistics.mean(r)), color='red', linestyle='dashed')\n",
        "axs[1].axhline((0*statistics.mean(r)), color='red', linestyle='dashed')\n",
        "axs[1].axhline((statistics.mean(r)), color='blue')\n",
        "axs[1].set_ylim(bottom=0)\n",
        "axs[1].set_title('R Chart')\n",
        "axs[1].set(xlabel='Group', ylabel='Range')\n",
        "\n",
        "# Validate points out of control limits for x-bar chart\n",
        "i = 0\n",
        "control = True\n",
        "for group in x_bar:\n",
        "    if group > statistics.mean(x_bar)+0.577*statistics.mean(r) or group < statistics.mean(x_bar)-0.577*statistics.mean(r):\n",
        "        print('Group', i, 'out of mean control limits!')\n",
        "        control = False\n",
        "    i += 1\n",
        "if control == True:\n",
        "    print('All points within control limits.')\n",
        "    \n",
        "# Validate points out of control limits for R chart\n",
        "i = 0\n",
        "control = True\n",
        "for group in r:\n",
        "    if group > 2.574*statistics.mean(r):\n",
        "        print('Group', i, 'out of range cotrol limits!')\n",
        "        control = False\n",
        "    i += 1\n",
        "if control == True:\n",
        "    print('All points within control limits.')"
      ],
      "execution_count": 36,
      "outputs": [
        {
          "output_type": "stream",
          "name": "stdout",
          "text": [
            "Group 5 out of mean control limits!\n",
            "All points within control limits.\n"
          ]
        },
        {
          "output_type": "display_data",
          "data": {
            "text/plain": [
              "<Figure size 1080x1080 with 2 Axes>"
            ],
            "image/png": "[encoded data removed]"
          },
          "metadata": {
            "needs_background": "light"
          }
        }
      ]
    },
    {
      "cell_type": "markdown",
      "source": [
        "### Example 7.9\n",
        "\n",
        "Manufacturer produces one-gallon jugs of milk, every two hours the company samples 25 jugs and calculates the following sample mean filling weights (in ounces). Assume that when the machine is properly operating, mu = 128, sigma = 2. And that filling weights follow the normal distribution. \n",
        "\n",
        "Is the machine operating properly?"
      ],
      "metadata": {
        "id": "AoKXdUosra-L"
      }
    },
    {
      "cell_type": "code",
      "source": [
        "mu = 128\n",
        "std = 2\n",
        "\n",
        "x = [128.7, 128.4, 128, 127.8, 127.5, 126.9]"
      ],
      "metadata": {
        "id": "p-e61f1NrhI0"
      },
      "execution_count": 37,
      "outputs": []
    },
    {
      "cell_type": "markdown",
      "source": [
        "Construct the x̄ chart, the centerline is the mean when the process is in control. Calculate the UCL and LCL as 3 standard deviations above and below the mean."
      ],
      "metadata": {
        "id": "hOxqbyc1tJpw"
      }
    },
    {
      "cell_type": "code",
      "source": [
        "# calculate the UCL and LCL\n",
        "\n",
        "def calc_limits(mu, std, x_values):\n",
        "  \"\"\"\n",
        "  Takes the expected mean and standard deviation, in addition to the sample of values\n",
        "  Calculates 3 standard deviations above and below the mean multiplied by the\n",
        "  standard error (std/sqrt(n))\n",
        "  Returns: UCL, LCL values\n",
        "  \"\"\"\n",
        "  # n is the number of sample taken, or the length of our list\n",
        "  n = len(x_values)\n",
        "  # calc upper limit\n",
        "  UCL = mu + 3*(std/math.sqrt(n))\n",
        "  # calc lower limit\n",
        "  LCL = mu - 3*(std/math.sqrt(n))\n",
        "  print(f\"From a sample of {n}, the UCL is {round(UCL,2)}, the LCL is {round(LCL,2)}\")\n",
        "\n",
        "  # how many values are above or below?\n",
        "  for i in x_values:\n",
        "    if i > UCL or i < LCL:\n",
        "      print(f'Sample value of {i} falls out of control.')\n",
        "    else:\n",
        "      print('Sample in control')\n",
        "  return UCL, LCL"
      ],
      "metadata": {
        "id": "ahBFx4AZs9D4"
      },
      "execution_count": 38,
      "outputs": []
    },
    {
      "cell_type": "code",
      "source": [
        "UCL, LCL = calc_limits(mu, std, x)"
      ],
      "metadata": {
        "id": "u08ipGhPuVza",
        "colab": {
          "base_uri": "https://localhost:8080/"
        },
        "outputId": "ad256741-e9e7-4283-ea08-78e414f6d580"
      },
      "execution_count": 39,
      "outputs": [
        {
          "output_type": "stream",
          "name": "stdout",
          "text": [
            "From a sample of 6, the UCL is 130.45, the LCL is 125.55\n",
            "Sample in control\n",
            "Sample in control\n",
            "Sample in control\n",
            "Sample in control\n",
            "Sample in control\n",
            "Sample in control\n"
          ]
        }
      ]
    },
    {
      "cell_type": "code",
      "source": [
        "# plot on a control plot\n",
        "# x-bar chart\n",
        "fig, ax = plt.subplots(figsize=(10,5))\n",
        "plt.plot(x, linestyle='-', marker='o', color='black')\n",
        "plt.axhline(UCL, color='red', linestyle='dashed', label=\"Upper Control Limit\")\n",
        "plt.axhline(LCL, color='purple', linestyle='dashed', label=\"Lower Control Limit\")\n",
        "plt.axhline(mu, color='blue', label='Centerline')\n",
        "plt.legend()\n",
        "plt.xlabel('Sample Number')\n",
        "plt.ylabel('Filling weights (ounces)')\n",
        "plt.title('Control Chart')\n",
        "plt.show()\n"
      ],
      "metadata": {
        "id": "juPSgEuiwRaG",
        "colab": {
          "base_uri": "https://localhost:8080/",
          "height": 350
        },
        "outputId": "9d0aed72-f422-434d-cee9-06233ae3f1ee"
      },
      "execution_count": 40,
      "outputs": [
        {
          "output_type": "display_data",
          "data": {
            "text/plain": [
              "<Figure size 720x360 with 1 Axes>"
            ],
            "image/png": "[encoded data removed]"
          },
          "metadata": {
            "needs_background": "light"
          }
        }
      ]
    },
    {
      "cell_type": "markdown",
      "source": [
        "The sample means are consitently decreasing although remaining within the limits. This might indicate a different drift occuring that might be problematic. "
      ],
      "metadata": {
        "id": "8_xyGFQsxneD"
      }
    },
    {
      "cell_type": "markdown",
      "source": [
        "Example 7.11\n",
        "\n",
        "Manufacturer of 4-liter cans of paint. For quality control a random sample of 4 cans are taken each hour and the amount of paint is measured. Past experience has resulted in a standard deviation of .25. The expected value (or the mean) is 4. \n",
        "\n",
        "Use the data from the example to measure if everything is under control."
      ],
      "metadata": {
        "id": "SGaDLpplynIL"
      }
    },
    {
      "cell_type": "code",
      "source": [
        "mu = 4\n",
        "std = .25"
      ],
      "metadata": {
        "id": "4gJNAE6b2jjK"
      },
      "execution_count": 41,
      "outputs": []
    },
    {
      "cell_type": "code",
      "source": [
        "df = pd.read_excel(\"https://lectures.mhhe.com/connect/jaggia4e_1260719294/student/data_files/jaggia_BS_4e_ch07_Data_Files.xlsx\",\n",
        "                   sheet_name=\"Paint\")"
      ],
      "metadata": {
        "id": "SQLJN82Sr_UD"
      },
      "execution_count": 42,
      "outputs": []
    },
    {
      "cell_type": "code",
      "source": [
        "df.head()"
      ],
      "metadata": {
        "id": "de0Iry461csz",
        "colab": {
          "base_uri": "https://localhost:8080/",
          "height": 206
        },
        "outputId": "fa01767a-38b6-48c2-a7c2-c61a6dd490ae"
      },
      "execution_count": 47,
      "outputs": [
        {
          "output_type": "execute_result",
          "data": {
            "text/plain": [
              "   Sample  Obs. 1  Obs. 2  Obs. 3  Obs. 4  Sample Mean    LCL  Centerline  \\\n",
              "0       1   4.175   3.574   3.795   4.211        3.939  3.625           4   \n",
              "1       2   4.254   4.012   4.119   3.866        4.063  3.625           4   \n",
              "2       3   4.096   3.525   3.576   4.061        3.815  3.625           4   \n",
              "3       4   3.966   4.499   4.271   3.705        4.110  3.625           4   \n",
              "4       5   3.672   4.488   3.836   3.723        3.930  3.625           4   \n",
              "\n",
              "     UCL    x_bar  \n",
              "0  4.375  3.93875  \n",
              "1  4.375  4.06275  \n",
              "2  4.375  3.81450  \n",
              "3  4.375  4.11025  \n",
              "4  4.375  3.92975  "
            ],
            "text/html": [
              "\n",
              "  <div id=\"df-3bdac8b4-e764-4544-99f2-08223681f12e\">\n",
              "    <div class=\"colab-df-container\">\n",
              "      <div>\n",
              "<style scoped>\n",
              "    .dataframe tbody tr th:only-of-type {\n",
              "        vertical-align: middle;\n",
              "    }\n",
              "\n",
              "    .dataframe tbody tr th {\n",
              "        vertical-align: top;\n",
              "    }\n",
              "\n",
              "    .dataframe thead th {\n",
              "        text-align: right;\n",
              "    }\n",
              "</style>\n",
              "<table border=\"1\" class=\"dataframe\">\n",
              "  <thead>\n",
              "    <tr style=\"text-align: right;\">\n",
              "      <th></th>\n",
              "      <th>Sample</th>\n",
              "      <th>Obs. 1</th>\n",
              "      <th>Obs. 2</th>\n",
              "      <th>Obs. 3</th>\n",
              "      <th>Obs. 4</th>\n",
              "      <th>Sample Mean</th>\n",
              "      <th>LCL</th>\n",
              "      <th>Centerline</th>\n",
              "      <th>UCL</th>\n",
              "      <th>x_bar</th>\n",
              "    </tr>\n",
              "  </thead>\n",
              "  <tbody>\n",
              "    <tr>\n",
              "      <th>0</th>\n",
              "      <td>1</td>\n",
              "      <td>4.175</td>\n",
              "      <td>3.574</td>\n",
              "      <td>3.795</td>\n",
              "      <td>4.211</td>\n",
              "      <td>3.939</td>\n",
              "      <td>3.625</td>\n",
              "      <td>4</td>\n",
              "      <td>4.375</td>\n",
              "      <td>3.93875</td>\n",
              "    </tr>\n",
              "    <tr>\n",
              "      <th>1</th>\n",
              "      <td>2</td>\n",
              "      <td>4.254</td>\n",
              "      <td>4.012</td>\n",
              "      <td>4.119</td>\n",
              "      <td>3.866</td>\n",
              "      <td>4.063</td>\n",
              "      <td>3.625</td>\n",
              "      <td>4</td>\n",
              "      <td>4.375</td>\n",
              "      <td>4.06275</td>\n",
              "    </tr>\n",
              "    <tr>\n",
              "      <th>2</th>\n",
              "      <td>3</td>\n",
              "      <td>4.096</td>\n",
              "      <td>3.525</td>\n",
              "      <td>3.576</td>\n",
              "      <td>4.061</td>\n",
              "      <td>3.815</td>\n",
              "      <td>3.625</td>\n",
              "      <td>4</td>\n",
              "      <td>4.375</td>\n",
              "      <td>3.81450</td>\n",
              "    </tr>\n",
              "    <tr>\n",
              "      <th>3</th>\n",
              "      <td>4</td>\n",
              "      <td>3.966</td>\n",
              "      <td>4.499</td>\n",
              "      <td>4.271</td>\n",
              "      <td>3.705</td>\n",
              "      <td>4.110</td>\n",
              "      <td>3.625</td>\n",
              "      <td>4</td>\n",
              "      <td>4.375</td>\n",
              "      <td>4.11025</td>\n",
              "    </tr>\n",
              "    <tr>\n",
              "      <th>4</th>\n",
              "      <td>5</td>\n",
              "      <td>3.672</td>\n",
              "      <td>4.488</td>\n",
              "      <td>3.836</td>\n",
              "      <td>3.723</td>\n",
              "      <td>3.930</td>\n",
              "      <td>3.625</td>\n",
              "      <td>4</td>\n",
              "      <td>4.375</td>\n",
              "      <td>3.92975</td>\n",
              "    </tr>\n",
              "  </tbody>\n",
              "</table>\n",
              "</div>\n",
              "      <button class=\"colab-df-convert\" onclick=\"convertToInteractive('df-3bdac8b4-e764-4544-99f2-08223681f12e')\"\n",
              "              title=\"Convert this dataframe to an interactive table.\"\n",
              "              style=\"display:none;\">\n",
              "        \n",
              "  <svg xmlns=\"http://www.w3.org/2000/svg\" height=\"24px\"viewBox=\"0 0 24 24\"\n",
              "       width=\"24px\">\n",
              "    <path d=\"M0 0h24v24H0V0z\" fill=\"none\"/>\n",
              "    <path d=\"M18.56 5.44l.94 2.06.94-2.06 2.06-.94-2.06-.94-.94-2.06-.94 2.06-2.06.94zm-11 1L8.5 8.5l.94-2.06 2.06-.94-2.06-.94L8.5 2.5l-.94 2.06-2.06.94zm10 10l.94 2.06.94-2.06 2.06-.94-2.06-.94-.94-2.06-.94 2.06-2.06.94z\"/><path d=\"M17.41 7.96l-1.37-1.37c-.4-.4-.92-.59-1.43-.59-.52 0-1.04.2-1.43.59L10.3 9.45l-7.72 7.72c-.78.78-.78 2.05 0 2.83L4 21.41c.39.39.9.59 1.41.59.51 0 1.02-.2 1.41-.59l7.78-7.78 2.81-2.81c.8-.78.8-2.07 0-2.86zM5.41 20L4 18.59l7.72-7.72 1.47 1.35L5.41 20z\"/>\n",
              "  </svg>\n",
              "      </button>\n",
              "      \n",
              "  <style>\n",
              "    .colab-df-container {\n",
              "      display:flex;\n",
              "      flex-wrap:wrap;\n",
              "      gap: 12px;\n",
              "    }\n",
              "\n",
              "    .colab-df-convert {\n",
              "      background-color: #E8F0FE;\n",
              "      border: none;\n",
              "      border-radius: 50%;\n",
              "      cursor: pointer;\n",
              "      display: none;\n",
              "      fill: #1967D2;\n",
              "      height: 32px;\n",
              "      padding: 0 0 0 0;\n",
              "      width: 32px;\n",
              "    }\n",
              "\n",
              "    .colab-df-convert:hover {\n",
              "      background-color: #E2EBFA;\n",
              "      box-shadow: 0px 1px 2px rgba(60, 64, 67, 0.3), 0px 1px 3px 1px rgba(60, 64, 67, 0.15);\n",
              "      fill: #174EA6;\n",
              "    }\n",
              "\n",
              "    [theme=dark] .colab-df-convert {\n",
              "      background-color: #3B4455;\n",
              "      fill: #D2E3FC;\n",
              "    }\n",
              "\n",
              "    [theme=dark] .colab-df-convert:hover {\n",
              "      background-color: #434B5C;\n",
              "      box-shadow: 0px 1px 3px 1px rgba(0, 0, 0, 0.15);\n",
              "      filter: drop-shadow(0px 1px 2px rgba(0, 0, 0, 0.3));\n",
              "      fill: #FFFFFF;\n",
              "    }\n",
              "  </style>\n",
              "\n",
              "      <script>\n",
              "        const buttonEl =\n",
              "          document.querySelector('#df-3bdac8b4-e764-4544-99f2-08223681f12e button.colab-df-convert');\n",
              "        buttonEl.style.display =\n",
              "          google.colab.kernel.accessAllowed ? 'block' : 'none';\n",
              "\n",
              "        async function convertToInteractive(key) {\n",
              "          const element = document.querySelector('#df-3bdac8b4-e764-4544-99f2-08223681f12e');\n",
              "          const dataTable =\n",
              "            await google.colab.kernel.invokeFunction('convertToInteractive',\n",
              "                                                     [key], {});\n",
              "          if (!dataTable) return;\n",
              "\n",
              "          const docLinkHtml = 'Like what you see? Visit the ' +\n",
              "            '<a target=\"_blank\" href=https://colab.research.google.com/notebooks/data_table.ipynb>data table notebook</a>'\n",
              "            + ' to learn more about interactive tables.';\n",
              "          element.innerHTML = '';\n",
              "          dataTable['output_type'] = 'display_data';\n",
              "          await google.colab.output.renderOutput(dataTable, element);\n",
              "          const docLink = document.createElement('div');\n",
              "          docLink.innerHTML = docLinkHtml;\n",
              "          element.appendChild(docLink);\n",
              "        }\n",
              "      </script>\n",
              "    </div>\n",
              "  </div>\n",
              "  "
            ]
          },
          "metadata": {},
          "execution_count": 47
        }
      ]
    },
    {
      "cell_type": "markdown",
      "source": [
        "What if the Sample Mean wasn't provided? Let's calculate ourselves and add as a new column"
      ],
      "metadata": {
        "id": "O-O8-7Ww1t0-"
      }
    },
    {
      "cell_type": "code",
      "source": [
        "df.shape"
      ],
      "metadata": {
        "colab": {
          "base_uri": "https://localhost:8080/"
        },
        "id": "ZI6ks3PqXPHQ",
        "outputId": "aa4ccc37-f8cd-4fc0-f5b6-2cc808ec1037"
      },
      "execution_count": 45,
      "outputs": [
        {
          "output_type": "execute_result",
          "data": {
            "text/plain": [
              "(25, 9)"
            ]
          },
          "metadata": {},
          "execution_count": 45
        }
      ]
    },
    {
      "cell_type": "code",
      "source": [
        "df.columns"
      ],
      "metadata": {
        "id": "-8bSN7EX1iIs",
        "colab": {
          "base_uri": "https://localhost:8080/"
        },
        "outputId": "7b5a061e-8542-4729-b155-d6d8225e2b42"
      },
      "execution_count": 44,
      "outputs": [
        {
          "output_type": "execute_result",
          "data": {
            "text/plain": [
              "Index(['Sample', 'Obs. 1', 'Obs. 2', 'Obs. 3', 'Obs. 4', 'Sample Mean', 'LCL',\n",
              "       'Centerline', 'UCL'],\n",
              "      dtype='object')"
            ]
          },
          "metadata": {},
          "execution_count": 44
        }
      ]
    },
    {
      "cell_type": "code",
      "source": [
        "# calculate mean across the observation columns, specify axis to be row-wise, else it will be by column\n",
        "df['x_bar'] = df[['Obs. 1', 'Obs. 2', 'Obs. 3', 'Obs. 4']].mean(axis=1)"
      ],
      "metadata": {
        "id": "KVS41Wu41fxi"
      },
      "execution_count": 46,
      "outputs": []
    },
    {
      "cell_type": "markdown",
      "source": [
        "Let's plot this to see the distribution of sample means."
      ],
      "metadata": {
        "id": "Ckl-g6hB2CeE"
      }
    },
    {
      "cell_type": "code",
      "source": [
        "fig, ax = plt.subplots( figsize=(10,10))\n",
        "df.x_bar.hist(density=True)\n",
        "plt.title('Distribution of Sample Means')\n",
        "plt.xlabel('Weight of Paint Can (liters)')\n",
        "plt.ylabel('Proportion of Samples')\n",
        "plt.show()"
      ],
      "metadata": {
        "id": "Jlo3MdrS1-OV",
        "colab": {
          "base_uri": "https://localhost:8080/",
          "height": 621
        },
        "outputId": "511a38f3-93c3-4872-9376-aa6a5818b1cc"
      },
      "execution_count": 48,
      "outputs": [
        {
          "output_type": "display_data",
          "data": {
            "text/plain": [
              "<Figure size 720x720 with 1 Axes>"
            ],
            "image/png": "[encoded data removed]"
          },
          "metadata": {
            "needs_background": "light"
          }
        }
      ]
    },
    {
      "cell_type": "markdown",
      "source": [
        "The distribution looks normal with a center point at 4 liters which is the average. "
      ],
      "metadata": {
        "id": "ePdI221c2tKW"
      }
    },
    {
      "cell_type": "code",
      "source": [
        "df.shape"
      ],
      "metadata": {
        "id": "TJDsF0cCzURJ"
      },
      "execution_count": null,
      "outputs": []
    },
    {
      "cell_type": "markdown",
      "source": [
        "Use our function to calculate the UCL and LCL"
      ],
      "metadata": {
        "id": "WWOIPXMv2z5p"
      }
    },
    {
      "cell_type": "code",
      "source": [
        "UCL, LCL = calc_limits(mu, std, df['x_bar'])"
      ],
      "metadata": {
        "id": "bEaxOh9j2y0A",
        "colab": {
          "base_uri": "https://localhost:8080/"
        },
        "outputId": "b2ba018b-7fec-44dc-b796-e37658d8160d"
      },
      "execution_count": 50,
      "outputs": [
        {
          "output_type": "stream",
          "name": "stdout",
          "text": [
            "From a sample of 25, the UCL is 4.15, the LCL is 3.85\n",
            "Sample in control\n",
            "Sample in control\n",
            "Sample value of 3.8145000000000002 falls out of control.\n",
            "Sample in control\n",
            "Sample in control\n",
            "Sample in control\n",
            "Sample value of 4.2355 falls out of control.\n",
            "Sample in control\n",
            "Sample in control\n",
            "Sample in control\n",
            "Sample in control\n",
            "Sample in control\n",
            "Sample in control\n",
            "Sample value of 3.79825 falls out of control.\n",
            "Sample in control\n",
            "Sample in control\n",
            "Sample in control\n",
            "Sample in control\n",
            "Sample in control\n",
            "Sample in control\n",
            "Sample in control\n",
            "Sample in control\n",
            "Sample in control\n",
            "Sample in control\n",
            "Sample in control\n"
          ]
        }
      ]
    },
    {
      "cell_type": "code",
      "source": [
        "UCL, LCL"
      ],
      "metadata": {
        "id": "j9m6L1WD276C"
      },
      "execution_count": null,
      "outputs": []
    },
    {
      "cell_type": "markdown",
      "source": [
        "We can't use the same function because the format of this dataframe is a bit different. It calculates a sample of 4 across each observation. So the length of the x_bar list is 25 and not 4."
      ],
      "metadata": {
        "id": "OmcNZ5u-3JTc"
      }
    },
    {
      "cell_type": "code",
      "source": [
        "def simple_UCL_LCL(mu, std, n):\n",
        "  \"\"\"\n",
        "  Function that simply calculates the needed formula for UCL and LCL\n",
        "  \"\"\"\n",
        "  UCL = n + (3*std/math.sqrt(mu))\n",
        "  LCL = n - (3*std/math.sqrt(mu))\n",
        "  return UCL, LCL"
      ],
      "metadata": {
        "id": "tEcZ6xDj3SgA"
      },
      "execution_count": 51,
      "outputs": []
    },
    {
      "cell_type": "code",
      "source": [
        "UCL, LCL = simple_UCL_LCL(mu, std, 4)"
      ],
      "metadata": {
        "id": "VtciuHep3rOE"
      },
      "execution_count": 52,
      "outputs": []
    },
    {
      "cell_type": "code",
      "source": [
        "UCL, LCL"
      ],
      "metadata": {
        "id": "_Z-5lzQ13v_I",
        "colab": {
          "base_uri": "https://localhost:8080/"
        },
        "outputId": "332d2041-f8bb-4191-f89d-efb493dc5ba5"
      },
      "execution_count": 53,
      "outputs": [
        {
          "output_type": "execute_result",
          "data": {
            "text/plain": [
              "(4.375, 3.625)"
            ]
          },
          "metadata": {},
          "execution_count": 53
        }
      ]
    },
    {
      "cell_type": "code",
      "source": [
        "df.head(1)"
      ],
      "metadata": {
        "colab": {
          "base_uri": "https://localhost:8080/",
          "height": 81
        },
        "id": "PEJKuiFnYslx",
        "outputId": "4b572072-03eb-42c1-fe0d-2369a0fd980f"
      },
      "execution_count": 54,
      "outputs": [
        {
          "output_type": "execute_result",
          "data": {
            "text/plain": [
              "   Sample  Obs. 1  Obs. 2  Obs. 3  Obs. 4  Sample Mean    LCL  Centerline  \\\n",
              "0       1   4.175   3.574   3.795   4.211        3.939  3.625           4   \n",
              "\n",
              "     UCL    x_bar  \n",
              "0  4.375  3.93875  "
            ],
            "text/html": [
              "\n",
              "  <div id=\"df-e4d5173c-2694-4c5f-ac95-307ccc18e673\">\n",
              "    <div class=\"colab-df-container\">\n",
              "      <div>\n",
              "<style scoped>\n",
              "    .dataframe tbody tr th:only-of-type {\n",
              "        vertical-align: middle;\n",
              "    }\n",
              "\n",
              "    .dataframe tbody tr th {\n",
              "        vertical-align: top;\n",
              "    }\n",
              "\n",
              "    .dataframe thead th {\n",
              "        text-align: right;\n",
              "    }\n",
              "</style>\n",
              "<table border=\"1\" class=\"dataframe\">\n",
              "  <thead>\n",
              "    <tr style=\"text-align: right;\">\n",
              "      <th></th>\n",
              "      <th>Sample</th>\n",
              "      <th>Obs. 1</th>\n",
              "      <th>Obs. 2</th>\n",
              "      <th>Obs. 3</th>\n",
              "      <th>Obs. 4</th>\n",
              "      <th>Sample Mean</th>\n",
              "      <th>LCL</th>\n",
              "      <th>Centerline</th>\n",
              "      <th>UCL</th>\n",
              "      <th>x_bar</th>\n",
              "    </tr>\n",
              "  </thead>\n",
              "  <tbody>\n",
              "    <tr>\n",
              "      <th>0</th>\n",
              "      <td>1</td>\n",
              "      <td>4.175</td>\n",
              "      <td>3.574</td>\n",
              "      <td>3.795</td>\n",
              "      <td>4.211</td>\n",
              "      <td>3.939</td>\n",
              "      <td>3.625</td>\n",
              "      <td>4</td>\n",
              "      <td>4.375</td>\n",
              "      <td>3.93875</td>\n",
              "    </tr>\n",
              "  </tbody>\n",
              "</table>\n",
              "</div>\n",
              "      <button class=\"colab-df-convert\" onclick=\"convertToInteractive('df-e4d5173c-2694-4c5f-ac95-307ccc18e673')\"\n",
              "              title=\"Convert this dataframe to an interactive table.\"\n",
              "              style=\"display:none;\">\n",
              "        \n",
              "  <svg xmlns=\"http://www.w3.org/2000/svg\" height=\"24px\"viewBox=\"0 0 24 24\"\n",
              "       width=\"24px\">\n",
              "    <path d=\"M0 0h24v24H0V0z\" fill=\"none\"/>\n",
              "    <path d=\"M18.56 5.44l.94 2.06.94-2.06 2.06-.94-2.06-.94-.94-2.06-.94 2.06-2.06.94zm-11 1L8.5 8.5l.94-2.06 2.06-.94-2.06-.94L8.5 2.5l-.94 2.06-2.06.94zm10 10l.94 2.06.94-2.06 2.06-.94-2.06-.94-.94-2.06-.94 2.06-2.06.94z\"/><path d=\"M17.41 7.96l-1.37-1.37c-.4-.4-.92-.59-1.43-.59-.52 0-1.04.2-1.43.59L10.3 9.45l-7.72 7.72c-.78.78-.78 2.05 0 2.83L4 21.41c.39.39.9.59 1.41.59.51 0 1.02-.2 1.41-.59l7.78-7.78 2.81-2.81c.8-.78.8-2.07 0-2.86zM5.41 20L4 18.59l7.72-7.72 1.47 1.35L5.41 20z\"/>\n",
              "  </svg>\n",
              "      </button>\n",
              "      \n",
              "  <style>\n",
              "    .colab-df-container {\n",
              "      display:flex;\n",
              "      flex-wrap:wrap;\n",
              "      gap: 12px;\n",
              "    }\n",
              "\n",
              "    .colab-df-convert {\n",
              "      background-color: #E8F0FE;\n",
              "      border: none;\n",
              "      border-radius: 50%;\n",
              "      cursor: pointer;\n",
              "      display: none;\n",
              "      fill: #1967D2;\n",
              "      height: 32px;\n",
              "      padding: 0 0 0 0;\n",
              "      width: 32px;\n",
              "    }\n",
              "\n",
              "    .colab-df-convert:hover {\n",
              "      background-color: #E2EBFA;\n",
              "      box-shadow: 0px 1px 2px rgba(60, 64, 67, 0.3), 0px 1px 3px 1px rgba(60, 64, 67, 0.15);\n",
              "      fill: #174EA6;\n",
              "    }\n",
              "\n",
              "    [theme=dark] .colab-df-convert {\n",
              "      background-color: #3B4455;\n",
              "      fill: #D2E3FC;\n",
              "    }\n",
              "\n",
              "    [theme=dark] .colab-df-convert:hover {\n",
              "      background-color: #434B5C;\n",
              "      box-shadow: 0px 1px 3px 1px rgba(0, 0, 0, 0.15);\n",
              "      filter: drop-shadow(0px 1px 2px rgba(0, 0, 0, 0.3));\n",
              "      fill: #FFFFFF;\n",
              "    }\n",
              "  </style>\n",
              "\n",
              "      <script>\n",
              "        const buttonEl =\n",
              "          document.querySelector('#df-e4d5173c-2694-4c5f-ac95-307ccc18e673 button.colab-df-convert');\n",
              "        buttonEl.style.display =\n",
              "          google.colab.kernel.accessAllowed ? 'block' : 'none';\n",
              "\n",
              "        async function convertToInteractive(key) {\n",
              "          const element = document.querySelector('#df-e4d5173c-2694-4c5f-ac95-307ccc18e673');\n",
              "          const dataTable =\n",
              "            await google.colab.kernel.invokeFunction('convertToInteractive',\n",
              "                                                     [key], {});\n",
              "          if (!dataTable) return;\n",
              "\n",
              "          const docLinkHtml = 'Like what you see? Visit the ' +\n",
              "            '<a target=\"_blank\" href=https://colab.research.google.com/notebooks/data_table.ipynb>data table notebook</a>'\n",
              "            + ' to learn more about interactive tables.';\n",
              "          element.innerHTML = '';\n",
              "          dataTable['output_type'] = 'display_data';\n",
              "          await google.colab.output.renderOutput(dataTable, element);\n",
              "          const docLink = document.createElement('div');\n",
              "          docLink.innerHTML = docLinkHtml;\n",
              "          element.appendChild(docLink);\n",
              "        }\n",
              "      </script>\n",
              "    </div>\n",
              "  </div>\n",
              "  "
            ]
          },
          "metadata": {},
          "execution_count": 54
        }
      ]
    },
    {
      "cell_type": "code",
      "source": [
        "UCL == 4.375"
      ],
      "metadata": {
        "colab": {
          "base_uri": "https://localhost:8080/"
        },
        "id": "2jXjoTMGYvsN",
        "outputId": "2c24f8bd-6513-4545-a5d0-4a3824796487"
      },
      "execution_count": 55,
      "outputs": [
        {
          "output_type": "execute_result",
          "data": {
            "text/plain": [
              "True"
            ]
          },
          "metadata": {},
          "execution_count": 55
        }
      ]
    },
    {
      "cell_type": "markdown",
      "source": [
        "Let's plot again with these lines to visualize what the distribution tails would need to look like to exceed control."
      ],
      "metadata": {
        "id": "pYcl4IF334e4"
      }
    },
    {
      "cell_type": "code",
      "source": [
        "fig, ax = plt.subplots( figsize=(10,10))\n",
        "df.x_bar.hist(density=True)\n",
        "# plot LCL + UCL\n",
        "plt.axvline(x=LCL, color='r', label='Lower Control Limit')\n",
        "plt.axvline(x=UCL, color='purple', label='Upper Control Limit')\n",
        "plt.title('Distribution of Sample Means')\n",
        "plt.xlabel('Weight of Paint Can (liters)')\n",
        "plt.ylabel('Proportion of Samples')\n",
        "plt.show()"
      ],
      "metadata": {
        "id": "Y4iza0g63yqu",
        "colab": {
          "base_uri": "https://localhost:8080/",
          "height": 621
        },
        "outputId": "d94a8157-c178-458b-92ed-0f5997ac36e8"
      },
      "execution_count": 56,
      "outputs": [
        {
          "output_type": "display_data",
          "data": {
            "text/plain": [
              "<Figure size 720x720 with 1 Axes>"
            ],
            "image/png": "[encoded data removed]"
          },
          "metadata": {
            "needs_background": "light"
          }
        }
      ]
    },
    {
      "cell_type": "markdown",
      "source": [
        "We see the 3 standard deviations above and below the mean has a wide gap compared with the sample values. Therefore this is in control."
      ],
      "metadata": {
        "id": "jfRELiKg4SPa"
      }
    },
    {
      "cell_type": "markdown",
      "source": [
        "The example in the textbook provided the LCL and UCL for us. "
      ],
      "metadata": {
        "id": "JYn19lSZ3zMW"
      }
    },
    {
      "cell_type": "code",
      "source": [
        "LCL = df['LCL'].unique()[0]"
      ],
      "metadata": {
        "id": "HxZHZ0yOzV-O"
      },
      "execution_count": 57,
      "outputs": []
    },
    {
      "cell_type": "code",
      "source": [
        "UCL = df['UCL'].unique()[0]"
      ],
      "metadata": {
        "id": "_aoj6WXb0cXy"
      },
      "execution_count": 58,
      "outputs": []
    },
    {
      "cell_type": "code",
      "source": [
        "LCL, UCL"
      ],
      "metadata": {
        "id": "sDBI1ff30wYW",
        "colab": {
          "base_uri": "https://localhost:8080/"
        },
        "outputId": "6da3a211-03a6-417d-ed58-3858af060a8b"
      },
      "execution_count": 59,
      "outputs": [
        {
          "output_type": "execute_result",
          "data": {
            "text/plain": [
              "(3.625, 4.375)"
            ]
          },
          "metadata": {},
          "execution_count": 59
        }
      ]
    },
    {
      "cell_type": "code",
      "source": [
        "mu = df['Centerline'].unique()[0]"
      ],
      "metadata": {
        "id": "hinSJp5c02n_"
      },
      "execution_count": 60,
      "outputs": []
    },
    {
      "cell_type": "code",
      "source": [
        "# plot on a control plot\n",
        "# x-bar chart\n",
        "fig, ax = plt.subplots( figsize=(10,5))\n",
        "plt.plot(df['Sample Mean'], linestyle='-', marker='o', color='black')\n",
        "plt.axhline(UCL, color='purple', linestyle='dashed', label=\"Upper Control Limit\")\n",
        "plt.axhline(LCL, color='red', linestyle='dashed', label=\"Lower Control Limit\")\n",
        "plt.axhline(mu, color='blue', label='Centerline')\n",
        "plt.legend()\n",
        "plt.xlabel('Sample Number')\n",
        "plt.ylabel('Paint can weight (liters)')\n",
        "plt.title('Control Chart')\n",
        "plt.show()"
      ],
      "metadata": {
        "id": "2rGHDlBW0d_m",
        "colab": {
          "base_uri": "https://localhost:8080/",
          "height": 350
        },
        "outputId": "971d4453-6ade-46de-ee28-2da1e6e8a971"
      },
      "execution_count": 61,
      "outputs": [
        {
          "output_type": "display_data",
          "data": {
            "text/plain": [
              "<Figure size 720x360 with 1 Axes>"
            ],
            "image/png": "[encoded data removed]"
          },
          "metadata": {
            "needs_background": "light"
          }
        }
      ]
    },
    {
      "cell_type": "code",
      "source": [
        ""
      ],
      "metadata": {
        "id": "v25-WJTP05i3"
      },
      "execution_count": null,
      "outputs": []
    }
  ]
}