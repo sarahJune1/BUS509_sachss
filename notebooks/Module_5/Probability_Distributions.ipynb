{
  "nbformat": 4,
  "nbformat_minor": 0,
  "metadata": {
    "colab": {
      "name": "Probability Distributions.ipynb",
      "provenance": [],
      "authorship_tag": "ABX9TyNWMRrOKjUmgEv08ad1t/8O",
      "include_colab_link": true
    },
    "kernelspec": {
      "name": "python3",
      "display_name": "Python 3"
    },
    "language_info": {
      "name": "python"
    }
  },
  "cells": [
    {
      "cell_type": "markdown",
      "metadata": {
        "id": "view-in-github",
        "colab_type": "text"
      },
      "source": [
        "<a href=\"https://colab.research.google.com/github/sarahJune1/BUS509_sachss/blob/main/notebooks/Module_5/Probability_Distributions.ipynb\" target=\"_parent\"><img src=\"https://colab.research.google.com/assets/colab-badge.svg\" alt=\"Open In Colab\"/></a>"
      ]
    },
    {
      "cell_type": "code",
      "execution_count": 60,
      "metadata": {
        "id": "7j1mt4BT0S-y"
      },
      "outputs": [],
      "source": [
        "import pandas as pd\n",
        "import random\n",
        "import matplotlib.pyplot as plt\n",
        "import seaborn as sns\n",
        "import math\n",
        "import scipy\n",
        "import numpy as np"
      ]
    },
    {
      "cell_type": "markdown",
      "source": [
        "# Probability Distributions\n",
        "\n",
        "This module includes topics on probability distributions. This will build upon the previous module of probability with new concepts about measuring and interpreting summary measures. We will learn about randomness and different distributions such as binomial, Poisson, and hypergeometric. \n"
      ],
      "metadata": {
        "id": "1a9zgmYvh0wZ"
      }
    },
    {
      "cell_type": "markdown",
      "source": [
        "## Binomial Distribution"
      ],
      "metadata": {
        "id": "4jfMXOmn3o-G"
      }
    },
    {
      "cell_type": "markdown",
      "source": [
        "In the United States, about 30% of adults have four-year college degrees (U.S. Census Bureau, July 31, 2018). Suppose five adults are randomly selected.\n",
        "\n",
        "a) What is the probability that none of the adults has a college degree?\n",
        "\n",
        "b) What is the probability that no more than two of the adults have a college degree?\n",
        "\n",
        "c) What is the probability that at least two of the adults have a college degree?\n",
        "\n",
        "d) Calculate the expected value, the variance, and the standard deviation of this binomial distribution.\n",
        "\n",
        "e) Graphically depict the probability distribution and comment on its symmetry/skewness."
      ],
      "metadata": {
        "id": "VUUPmo94Tfgo"
      }
    },
    {
      "cell_type": "code",
      "source": [
        "# define variables as it relates to formula\n",
        "n = 5 # sample is 5\n",
        "p = .3 # likelihood of success\n",
        "q = 1 - .3 # likelihood of not success"
      ],
      "metadata": {
        "id": "vETlckUVTcLy"
      },
      "execution_count": 2,
      "outputs": []
    },
    {
      "cell_type": "code",
      "source": [
        "def calc_prob(n, p, x):\n",
        "  \"\"\"\n",
        "  Inputs the variables and applies the binomial distribution formula\n",
        "  \"\"\"\n",
        "  first_term = math.factorial(n)/((math.factorial(x) * math.factorial(n-x)))\n",
        "  second_term = p**x*(1-p)**(n-x)\n",
        "  return first_term * second_term"
      ],
      "metadata": {
        "id": "4x6P_gs6UFEc"
      },
      "execution_count": 3,
      "outputs": []
    },
    {
      "cell_type": "code",
      "source": [
        "# probability of seeing none of the 5 adults having a college degree\n",
        "x = 0\n",
        "calc_prob(n, p, x)"
      ],
      "metadata": {
        "id": "PJWZxtoiUxQ4",
        "colab": {
          "base_uri": "https://localhost:8080/"
        },
        "outputId": "b1401232-34cf-44f3-b18e-be8cddcf72b2"
      },
      "execution_count": 4,
      "outputs": [
        {
          "output_type": "execute_result",
          "data": {
            "text/plain": [
              "0.16806999999999994"
            ]
          },
          "metadata": {},
          "execution_count": 4
        }
      ]
    },
    {
      "cell_type": "markdown",
      "source": [
        "This can be interpreted as out of 5 adults, there is a 16.81% chance that none of the adults have a college degree."
      ],
      "metadata": {
        "id": "wtyPC21WU8Tp"
      }
    },
    {
      "cell_type": "code",
      "source": [
        "# probability of no more than 2 having degree\n",
        "calc_prob(n, p, 0) + calc_prob(n, p, 1) + calc_prob(n, p, 2)"
      ],
      "metadata": {
        "id": "zPwnOTD5U7hA",
        "colab": {
          "base_uri": "https://localhost:8080/"
        },
        "outputId": "c7f68a91-6cf4-4132-c1fa-a9102a2854fa"
      },
      "execution_count": 5,
      "outputs": [
        {
          "output_type": "execute_result",
          "data": {
            "text/plain": [
              "0.8369199999999999"
            ]
          },
          "metadata": {},
          "execution_count": 5
        }
      ]
    },
    {
      "cell_type": "markdown",
      "source": [
        "Out of a random sample, there is a 83.69% chance that no more than 2 will have a college degree. We add up probability that no one has it, with 1 person or 2 people."
      ],
      "metadata": {
        "id": "ojaBcClBVQkF"
      }
    },
    {
      "cell_type": "code",
      "source": [
        "# probability that at least 2 have a college degree\n",
        "calc_prob(n, p, 2) + calc_prob(n, p, 3) + calc_prob(n, p, 4) + calc_prob(n, p, 5)"
      ],
      "metadata": {
        "id": "atRG-oL0VP5N",
        "colab": {
          "base_uri": "https://localhost:8080/"
        },
        "outputId": "693d46e8-024d-4ac9-9a40-07feed3a53df"
      },
      "execution_count": 6,
      "outputs": [
        {
          "output_type": "execute_result",
          "data": {
            "text/plain": [
              "0.47177999999999987"
            ]
          },
          "metadata": {},
          "execution_count": 6
        }
      ]
    },
    {
      "cell_type": "markdown",
      "source": [
        "Out of a random sample, there is 47.18% chance that at least 2 will have a college degree. We add up the probabilities for any outcome that is greater than 2. "
      ],
      "metadata": {
        "id": "r2b_40WvVmjo"
      }
    },
    {
      "cell_type": "code",
      "source": [
        "# calculate the mean\n",
        "np_mean = n * p\n",
        "print(f\"Out of {n} randomly sampled adults, the average number of adults with a degree is {np_mean} adults.\")"
      ],
      "metadata": {
        "id": "pfxJFm4TVkZI",
        "colab": {
          "base_uri": "https://localhost:8080/"
        },
        "outputId": "8f73f9f8-7e27-4bb2-e557-dfe6f4210791"
      },
      "execution_count": 7,
      "outputs": [
        {
          "output_type": "stream",
          "name": "stdout",
          "text": [
            "Out of 5 randomly sampled adults, the average number of adults with a degree is 1.5 adults.\n"
          ]
        }
      ]
    },
    {
      "cell_type": "code",
      "source": [
        "# variance\n",
        "var = np_mean * (1-p)\n",
        "print(f\"The variance of adults with college degree is {round(var,2)} adults squared\")"
      ],
      "metadata": {
        "id": "s6APi2_GWCGY",
        "colab": {
          "base_uri": "https://localhost:8080/"
        },
        "outputId": "d19586c9-9ef4-4ddd-e936-856c1caefecc"
      },
      "execution_count": 8,
      "outputs": [
        {
          "output_type": "stream",
          "name": "stdout",
          "text": [
            "The variance of adults with college degree is 1.05 adults squared\n"
          ]
        }
      ]
    },
    {
      "cell_type": "code",
      "source": [
        "# standard deviation\n",
        "sd = math.sqrt(var)\n",
        "print(f\"The average number of adults with college degree will deviate by {round(sd,2)} adults\")"
      ],
      "metadata": {
        "id": "njtRBMpAWJKb",
        "colab": {
          "base_uri": "https://localhost:8080/"
        },
        "outputId": "8ca39b82-cb72-4127-e0d2-ee10ef4cd99a"
      },
      "execution_count": 9,
      "outputs": [
        {
          "output_type": "stream",
          "name": "stdout",
          "text": [
            "The average number of adults with college degree will deviate by 1.02 adults\n"
          ]
        }
      ]
    },
    {
      "cell_type": "markdown",
      "source": [
        "We can use the scipy package to generate the probability mass function, and use the probability and mean to calculate the probability for each outcome.\n",
        "\n",
        "https://docs.scipy.org/doc/scipy-0.14.0/reference/generated/scipy.stats.binom.html"
      ],
      "metadata": {
        "id": "ycUMofZ_Xia3"
      }
    },
    {
      "cell_type": "code",
      "source": [
        "# set the seed\n",
        "random.seed(42)"
      ],
      "metadata": {
        "id": "PneeTsowZcqs"
      },
      "execution_count": 11,
      "outputs": []
    },
    {
      "cell_type": "code",
      "source": [
        "# visualize\n",
        "r_values = list(range(n + 1))\n",
        "\n",
        "dist = [scipy.stats.binom.pmf(r, n, p) for r in r_values]\n",
        "dist"
      ],
      "metadata": {
        "id": "nI3oMSUQXM6v",
        "colab": {
          "base_uri": "https://localhost:8080/"
        },
        "outputId": "9490ab9a-c826-4e0d-c27c-c9bd7cddbf87"
      },
      "execution_count": 12,
      "outputs": [
        {
          "output_type": "execute_result",
          "data": {
            "text/plain": [
              "[0.16807000000000002,\n",
              " 0.3601499999999999,\n",
              " 0.3086999999999999,\n",
              " 0.13229999999999992,\n",
              " 0.028349999999999976,\n",
              " 0.002429999999999999]"
            ]
          },
          "metadata": {},
          "execution_count": 12
        }
      ]
    },
    {
      "cell_type": "code",
      "source": [
        "r_values"
      ],
      "metadata": {
        "colab": {
          "base_uri": "https://localhost:8080/"
        },
        "id": "wlvny0wrG_do",
        "outputId": "d3103392-7c76-4dd1-80be-279628426148"
      },
      "execution_count": 13,
      "outputs": [
        {
          "output_type": "execute_result",
          "data": {
            "text/plain": [
              "[0, 1, 2, 3, 4, 5]"
            ]
          },
          "metadata": {},
          "execution_count": 13
        }
      ]
    },
    {
      "cell_type": "code",
      "source": [
        "sum(dist)"
      ],
      "metadata": {
        "id": "ISSEFUjNX74X",
        "colab": {
          "base_uri": "https://localhost:8080/"
        },
        "outputId": "23fd7f17-daa4-4b09-e1db-3641c74d9903"
      },
      "execution_count": 14,
      "outputs": [
        {
          "output_type": "execute_result",
          "data": {
            "text/plain": [
              "0.9999999999999998"
            ]
          },
          "metadata": {},
          "execution_count": 14
        }
      ]
    },
    {
      "cell_type": "code",
      "source": [
        "plt.bar(r_values, dist)\n",
        "plt.xlabel('Number of adults')\n",
        "plt.ylabel('Probability')\n",
        "plt.title('Probability Distribution')\n",
        "plt.show()"
      ],
      "metadata": {
        "id": "z6co2pBCXhjg",
        "colab": {
          "base_uri": "https://localhost:8080/",
          "height": 295
        },
        "outputId": "6ed85c6e-5330-4078-890e-e5f866219423"
      },
      "execution_count": 15,
      "outputs": [
        {
          "output_type": "display_data",
          "data": {
            "image/png": "[encoded data removed]",
            "text/plain": [
              "<Figure size 432x288 with 1 Axes>"
            ]
          },
          "metadata": {
            "needs_background": "light"
          }
        }
      ]
    },
    {
      "cell_type": "markdown",
      "source": [
        "This can be interpreted as the liklihood for each outcome, for example there is about a .16 percent chance that no adult has a college degree. \n",
        "\n",
        "Note that when probability of success and failure are equally likely, we will see a normal distribution. "
      ],
      "metadata": {
        "id": "gtZiF5Q1YJCX"
      }
    },
    {
      "cell_type": "code",
      "source": [
        "# probability mass function - pmf\n",
        "scipy.stats.binom.pmf(2, n, p)"
      ],
      "metadata": {
        "id": "kiiznS3FdzH9",
        "colab": {
          "base_uri": "https://localhost:8080/"
        },
        "outputId": "4569e58a-434c-4916-da1a-84b391dcd528"
      },
      "execution_count": 16,
      "outputs": [
        {
          "output_type": "execute_result",
          "data": {
            "text/plain": [
              "0.3086999999999999"
            ]
          },
          "metadata": {},
          "execution_count": 16
        }
      ]
    },
    {
      "cell_type": "code",
      "source": [
        "# cumulative distribution function - cdf\n",
        "scipy.stats.binom.cdf(2, n, p)"
      ],
      "metadata": {
        "id": "maBGH9NMeA7H",
        "colab": {
          "base_uri": "https://localhost:8080/"
        },
        "outputId": "04dd0712-d3ad-406a-8925-5f968c3add2c"
      },
      "execution_count": 17,
      "outputs": [
        {
          "output_type": "execute_result",
          "data": {
            "text/plain": [
              "0.8369199999999999"
            ]
          },
          "metadata": {},
          "execution_count": 17
        }
      ]
    },
    {
      "cell_type": "markdown",
      "source": [
        "Return to lecture"
      ],
      "metadata": {
        "id": "OzFwhT4vgdlj"
      }
    },
    {
      "cell_type": "markdown",
      "source": [
        "## Poisson Distribution"
      ],
      "metadata": {
        "id": "s_yzrhoq3ts4"
      }
    },
    {
      "cell_type": "code",
      "source": [
        "def calc_poisson_prob(lmbda, x):\n",
        "  \"\"\"\n",
        "  Calculate the poisson distribution\n",
        "  \"\"\"\n",
        "  first_term = math.e**-lmbda*lmbda**x\n",
        "  second_term = math.factorial(x)\n",
        "  return first_term/second_term"
      ],
      "metadata": {
        "id": "UmN9D2Kv3ss4"
      },
      "execution_count": 18,
      "outputs": []
    },
    {
      "cell_type": "code",
      "source": [
        "# calculate average rate given interval\n",
        "rate = 18/30\n",
        "interval = 5\n",
        "lmbda = rate * interval\n",
        "lmbda"
      ],
      "metadata": {
        "id": "7mtScusG4WX3",
        "colab": {
          "base_uri": "https://localhost:8080/"
        },
        "outputId": "3f48f917-3801-4c7b-94fe-7310759ec010"
      },
      "execution_count": 19,
      "outputs": [
        {
          "output_type": "execute_result",
          "data": {
            "text/plain": [
              "3.0"
            ]
          },
          "metadata": {},
          "execution_count": 19
        }
      ]
    },
    {
      "cell_type": "code",
      "source": [
        "# probability for 5 day period\n",
        "calc_poisson_prob(lmbda, 5)"
      ],
      "metadata": {
        "id": "ZgnaOEoC4eDO",
        "colab": {
          "base_uri": "https://localhost:8080/"
        },
        "outputId": "0803183e-0044-4607-fb2f-da78daf7db29"
      },
      "execution_count": 20,
      "outputs": [
        {
          "output_type": "execute_result",
          "data": {
            "text/plain": [
              "0.10081881344492451"
            ]
          },
          "metadata": {},
          "execution_count": 20
        }
      ]
    },
    {
      "cell_type": "markdown",
      "source": [
        "What is the probability that a customer visits the chain no more than 2 times in a 5 day period?"
      ],
      "metadata": {
        "id": "rbsQQi5j44E7"
      }
    },
    {
      "cell_type": "code",
      "source": [
        "calc_poisson_prob(lmbda, 0) + calc_poisson_prob(lmbda, 1) + + calc_poisson_prob(lmbda, 2)"
      ],
      "metadata": {
        "id": "TdceOTIM43AV",
        "colab": {
          "base_uri": "https://localhost:8080/"
        },
        "outputId": "d6553b94-570b-43e3-c132-05f7f81c702d"
      },
      "execution_count": 21,
      "outputs": [
        {
          "output_type": "execute_result",
          "data": {
            "text/plain": [
              "0.4231900811268436"
            ]
          },
          "metadata": {},
          "execution_count": 21
        }
      ]
    },
    {
      "cell_type": "markdown",
      "source": [
        "There is a 42% chance that a customer visits the chain no more than 2 times in a 5 day period."
      ],
      "metadata": {
        "id": "wnen6l1o5Dll"
      }
    },
    {
      "cell_type": "code",
      "source": [
        "# calculate the probability the customer visits the chain no more than 2 times\n",
        "\n",
        "scipy.stats.poisson.cdf(2, lmbda)"
      ],
      "metadata": {
        "id": "kjfaqPCA9i_w",
        "colab": {
          "base_uri": "https://localhost:8080/"
        },
        "outputId": "6535e7cb-d19a-45bd-ae04-e08b3e01356e"
      },
      "execution_count": 22,
      "outputs": [
        {
          "output_type": "execute_result",
          "data": {
            "text/plain": [
              "0.42319008112684364"
            ]
          },
          "metadata": {},
          "execution_count": 22
        }
      ]
    },
    {
      "cell_type": "markdown",
      "source": [
        "What is the probability a customer visits the chain at least 3 times? Since this is an inifinite liklihood, a coffee lover might come in many times per day. Therefore we can reverse the area under the curve and subtract the previous calculation by 1 to approximate greater than 3."
      ],
      "metadata": {
        "id": "0XTipdwU5JYL"
      }
    },
    {
      "cell_type": "code",
      "source": [
        "1 - (calc_poisson_prob(lmbda, 0) + calc_poisson_prob(lmbda, 1) + + calc_poisson_prob(lmbda, 2))"
      ],
      "metadata": {
        "id": "g2bHmcno5i6o",
        "colab": {
          "base_uri": "https://localhost:8080/"
        },
        "outputId": "aae14b34-1ecb-4bf5-fb28-d65994443bed"
      },
      "execution_count": 23,
      "outputs": [
        {
          "output_type": "execute_result",
          "data": {
            "text/plain": [
              "0.5768099188731564"
            ]
          },
          "metadata": {},
          "execution_count": 23
        }
      ]
    },
    {
      "cell_type": "markdown",
      "source": [
        "There is a 58% chance a customer will visit at least 3 times in a 5 day period."
      ],
      "metadata": {
        "id": "1lqnm7FU5m1K"
      }
    },
    {
      "cell_type": "code",
      "source": [
        "# or we can use python's probability distribution function.\n",
        "\n",
        "# if we feed in interval, it will calculate for each\n",
        "interval = [0,1,2]"
      ],
      "metadata": {
        "id": "4dF_gYnI7qvI"
      },
      "execution_count": 24,
      "outputs": []
    },
    {
      "cell_type": "code",
      "source": [
        "scipy.stats.poisson.pmf(interval, lmbda)"
      ],
      "metadata": {
        "id": "uQvU4lYc7cD5",
        "colab": {
          "base_uri": "https://localhost:8080/"
        },
        "outputId": "b66cf6d9-b705-42bb-d70d-4c43a63862ef"
      },
      "execution_count": 25,
      "outputs": [
        {
          "output_type": "execute_result",
          "data": {
            "text/plain": [
              "array([0.04978707, 0.14936121, 0.22404181])"
            ]
          },
          "metadata": {},
          "execution_count": 25
        }
      ]
    },
    {
      "cell_type": "code",
      "source": [
        "scipy.stats.poisson.pmf(interval, lmbda).sum()"
      ],
      "metadata": {
        "id": "qAsWYYlO79Dx",
        "colab": {
          "base_uri": "https://localhost:8080/"
        },
        "outputId": "9bc7bce6-0830-48b9-b724-ca075d15dc62"
      },
      "execution_count": 26,
      "outputs": [
        {
          "output_type": "execute_result",
          "data": {
            "text/plain": [
              "0.42319008112684353"
            ]
          },
          "metadata": {},
          "execution_count": 26
        }
      ]
    },
    {
      "cell_type": "code",
      "source": [
        "1 - scipy.stats.poisson.pmf(interval, lmbda).sum()"
      ],
      "metadata": {
        "id": "at43aMFg5mOe",
        "colab": {
          "base_uri": "https://localhost:8080/"
        },
        "outputId": "862f5069-4c4a-4bab-fa42-9bc7a2fbd95b"
      },
      "execution_count": 27,
      "outputs": [
        {
          "output_type": "execute_result",
          "data": {
            "text/plain": [
              "0.5768099188731565"
            ]
          },
          "metadata": {},
          "execution_count": 27
        }
      ]
    },
    {
      "cell_type": "markdown",
      "source": [
        "What does the distribution look like over the 5 day period?"
      ],
      "metadata": {
        "id": "4UrK_Z0l8Ldt"
      }
    },
    {
      "cell_type": "code",
      "source": [
        "interval = range(9)\n",
        "interval"
      ],
      "metadata": {
        "id": "VSAh8jRF8Kuu",
        "colab": {
          "base_uri": "https://localhost:8080/"
        },
        "outputId": "deb7e4c5-8daf-477d-c105-b435521d8731"
      },
      "execution_count": 28,
      "outputs": [
        {
          "output_type": "execute_result",
          "data": {
            "text/plain": [
              "range(0, 9)"
            ]
          },
          "metadata": {},
          "execution_count": 28
        }
      ]
    },
    {
      "cell_type": "code",
      "source": [
        "# Probability values\n",
        "#\n",
        "poisson_pd = scipy.stats.poisson.pmf(interval, lmbda)\n",
        "# create canvas\n",
        "fig, ax = plt.subplots(1, 1, figsize=(8, 6))\n",
        "# plot the interval vs. probabilities\n",
        "ax.plot(interval, poisson_pd, 'bo', ms=8, label='poisson pmf')\n",
        "plt.ylabel(\"Probability\", fontsize=\"18\")\n",
        "plt.xlabel(\"Customer visits for interval\", fontsize=\"18\")\n",
        "plt.title(\"Poisson Distribution - No. of Customer Visits Vs Probability\", fontsize=\"18\")\n",
        "ax.vlines(interval, 0, poisson_pd, colors='b', lw=5, alpha=0.5)"
      ],
      "metadata": {
        "id": "J9IQW1_k8TSU",
        "colab": {
          "base_uri": "https://localhost:8080/",
          "height": 433
        },
        "outputId": "ff3ed337-541e-45cf-ea92-c4bd87c9c775"
      },
      "execution_count": 29,
      "outputs": [
        {
          "output_type": "execute_result",
          "data": {
            "text/plain": [
              "<matplotlib.collections.LineCollection at 0x7fa024709c90>"
            ]
          },
          "metadata": {},
          "execution_count": 29
        },
        {
          "output_type": "display_data",
          "data": {
            "image/png": "[encoded data removed]",
            "text/plain": [
              "<Figure size 576x432 with 1 Axes>"
            ]
          },
          "metadata": {
            "needs_background": "light"
          }
        }
      ]
    },
    {
      "cell_type": "markdown",
      "source": [
        "We see it is most likely a customer will most likely visit 2 or 3 times within an 8 day period. We see a positive skew that the likihood of more than 5 visits decreases. We should note this would approach the limit of 0 if we continue the interval."
      ],
      "metadata": {
        "id": "sUYw-U8s8qWV"
      }
    },
    {
      "cell_type": "code",
      "source": [
        "interval = range(14)\n",
        "# Probability values\n",
        "#\n",
        "poisson_pd = scipy.stats.poisson.pmf(interval, lmbda)\n",
        "\n",
        "fig, ax = plt.subplots(1, 1, figsize=(8, 6))\n",
        "ax.plot(interval, poisson_pd, 'bo', ms=8, label='poisson pmf')\n",
        "plt.ylabel(\"Probability\", fontsize=\"18\")\n",
        "plt.xlabel(\"Customer visits for interval\", fontsize=\"18\")\n",
        "plt.title(\"Poisson Distribution - No. of Customer Visits Vs Probability\", fontsize=\"18\")\n",
        "ax.vlines(interval, 0, poisson_pd, colors='b', lw=5, alpha=0.5)"
      ],
      "metadata": {
        "id": "igdnrKTE9Ryx",
        "colab": {
          "base_uri": "https://localhost:8080/",
          "height": 433
        },
        "outputId": "aab54b9c-1dc1-44de-99c5-e58047887dcc"
      },
      "execution_count": 30,
      "outputs": [
        {
          "output_type": "execute_result",
          "data": {
            "text/plain": [
              "<matplotlib.collections.LineCollection at 0x7fa024684ed0>"
            ]
          },
          "metadata": {},
          "execution_count": 30
        },
        {
          "output_type": "display_data",
          "data": {
            "image/png": "[encoded data removed]",
            "text/plain": [
              "<Figure size 576x432 with 1 Axes>"
            ]
          },
          "metadata": {
            "needs_background": "light"
          }
        }
      ]
    },
    {
      "cell_type": "code",
      "source": [
        "# visualize general distribution\n",
        "\n",
        "#generate Poisson distribution with sample size 10000\n",
        "x = scipy.stats.poisson.rvs(mu=3, size=10000)\n",
        "\n",
        "#create plot of Poisson distribution\n",
        "plt.hist(x, density=True, edgecolor='black')\n",
        "plt.xlabel('Average Number of Visits')\n",
        "plt.ylabel('Probability')\n",
        "plt.title('Probability Distribution')\n",
        "plt.show()"
      ],
      "metadata": {
        "id": "GJy5c_6w6l1Z",
        "colab": {
          "base_uri": "https://localhost:8080/",
          "height": 295
        },
        "outputId": "e64a6db9-5e63-4a8d-ce75-9357152a964d"
      },
      "execution_count": 31,
      "outputs": [
        {
          "output_type": "display_data",
          "data": {
            "image/png": "[encoded data removed]",
            "text/plain": [
              "<Figure size 432x288 with 1 Axes>"
            ]
          },
          "metadata": {
            "needs_background": "light"
          }
        }
      ]
    },
    {
      "cell_type": "code",
      "source": [
        "x"
      ],
      "metadata": {
        "colab": {
          "base_uri": "https://localhost:8080/"
        },
        "id": "w1k6OHJeMAiu",
        "outputId": "d2a3d13f-8dea-4b13-8f57-3043c3683ef0"
      },
      "execution_count": 32,
      "outputs": [
        {
          "output_type": "execute_result",
          "data": {
            "text/plain": [
              "array([4, 5, 3, ..., 4, 3, 2])"
            ]
          },
          "metadata": {},
          "execution_count": 32
        }
      ]
    },
    {
      "cell_type": "markdown",
      "source": [
        "Return to lecture"
      ],
      "metadata": {
        "id": "BeBvS2-wgprK"
      }
    },
    {
      "cell_type": "markdown",
      "source": [
        "## Hypergeometric Distribution\n",
        "\n",
        "\n",
        "Inspection of shipment to quality control for defective products. The manager samples from one box containing 20 inventory units, suppose the manager randomly inspects five units. In the sample box, there are exactly 2 damaged units. \n",
        "\n",
        "Using scipy hypergeom\n",
        "https://docs.scipy.org/doc/scipy/reference/reference/generated/scipy.stats.hypergeom.html"
      ],
      "metadata": {
        "id": "tNCS1HHsL4AM"
      }
    },
    {
      "cell_type": "code",
      "source": [
        "# define variables\n",
        "\n",
        "N = 20 # total number of items we are drawing from\n",
        "n = 5 # number of draws from N we will make\n",
        "S = 2 # total number of 'success' items in N"
      ],
      "metadata": {
        "id": "uGMJXgVWL3ea"
      },
      "execution_count": 35,
      "outputs": []
    },
    {
      "cell_type": "code",
      "source": [
        "def calc_hypergeometric_prob(S, n, N, x):\n",
        "  \"\"\"\n",
        "  Calculate the hypergeometric distribution\n",
        "  \"\"\"\n",
        "  first_term = math.factorial(S)/math.factorial(x)*math.factorial(S-x)\n",
        "  second_term = math.factorial(N-S)/(math.factorial(n-x) * math.factorial(N-S-n+x))\n",
        "  third_term = math.factorial(N)/(math.factorial(n) * math.factorial(N-n))\n",
        "  return (first_term*second_term)/third_term"
      ],
      "metadata": {
        "id": "leUJtK-XMDM1"
      },
      "execution_count": 33,
      "outputs": []
    },
    {
      "cell_type": "markdown",
      "source": [
        "What is the probability that one out of five units used in the inspection is damaged?"
      ],
      "metadata": {
        "id": "6Mf1GhoGRsAG"
      }
    },
    {
      "cell_type": "code",
      "source": [
        "x = 1 # number of desired items in our draw of n items\n",
        "calc_hypergeometric_prob(S, n, N, x)"
      ],
      "metadata": {
        "id": "AsuyniJaRn5W",
        "colab": {
          "base_uri": "https://localhost:8080/"
        },
        "outputId": "7d339ae5-4a76-4077-f1f9-108a832a9cf5"
      },
      "execution_count": 36,
      "outputs": [
        {
          "output_type": "execute_result",
          "data": {
            "text/plain": [
              "0.39473684210526316"
            ]
          },
          "metadata": {},
          "execution_count": 36
        }
      ]
    },
    {
      "cell_type": "code",
      "source": [
        "# using scipy's function\n",
        "scipy.stats.hypergeom(M=N, n=n, N=S).pmf(x)"
      ],
      "metadata": {
        "id": "YBi35YwUSJ5U",
        "colab": {
          "base_uri": "https://localhost:8080/"
        },
        "outputId": "cf838c7b-4583-4d4f-9c20-fb4e2d3a98ba"
      },
      "execution_count": 37,
      "outputs": [
        {
          "output_type": "execute_result",
          "data": {
            "text/plain": [
              "0.3947368421052632"
            ]
          },
          "metadata": {},
          "execution_count": 37
        }
      ]
    },
    {
      "cell_type": "markdown",
      "source": [
        "What is the probability that one or more units are damaged?"
      ],
      "metadata": {
        "id": "cIaTrJR4fkYl"
      }
    },
    {
      "cell_type": "code",
      "source": [
        "# calcualte that probability is greater than 1, so we look at 1 - P(x=0)\n",
        "scipy.stats.hypergeom(M=N, n=n, N=S).pmf(0)"
      ],
      "metadata": {
        "id": "MzpnMJ0Gf3P1",
        "colab": {
          "base_uri": "https://localhost:8080/"
        },
        "outputId": "0afd670d-4206-4e62-8be0-cad5c07ca75a"
      },
      "execution_count": 38,
      "outputs": [
        {
          "output_type": "execute_result",
          "data": {
            "text/plain": [
              "0.552631578947368"
            ]
          },
          "metadata": {},
          "execution_count": 38
        }
      ]
    },
    {
      "cell_type": "code",
      "source": [
        "1 - scipy.stats.hypergeom(M=N, n=n, N=S).pmf(0)"
      ],
      "metadata": {
        "id": "1tF9YwScfjk5",
        "colab": {
          "base_uri": "https://localhost:8080/"
        },
        "outputId": "0a9fcefe-2918-47d9-fe9f-cab2be58db93"
      },
      "execution_count": 39,
      "outputs": [
        {
          "output_type": "execute_result",
          "data": {
            "text/plain": [
              "0.44736842105263197"
            ]
          },
          "metadata": {},
          "execution_count": 39
        }
      ]
    },
    {
      "cell_type": "markdown",
      "source": [
        "Calculate the summary statistics of mean, variance, and standard deviation."
      ],
      "metadata": {
        "id": "X8rFD07UgMB9"
      }
    },
    {
      "cell_type": "code",
      "source": [
        "scipy.stats.hypergeom.mean(M=N, n=n, N=S)"
      ],
      "metadata": {
        "id": "ICmx3F0pgEjJ",
        "colab": {
          "base_uri": "https://localhost:8080/"
        },
        "outputId": "64b338a9-0eb5-46b2-dd83-953030cfd581"
      },
      "execution_count": 40,
      "outputs": [
        {
          "output_type": "execute_result",
          "data": {
            "text/plain": [
              "0.5"
            ]
          },
          "metadata": {},
          "execution_count": 40
        }
      ]
    },
    {
      "cell_type": "code",
      "source": [
        "scipy.stats.hypergeom.var(M=N, n=n, N=S)"
      ],
      "metadata": {
        "id": "_XnpzpHVgoLd",
        "colab": {
          "base_uri": "https://localhost:8080/"
        },
        "outputId": "45b9a789-a9b0-4132-ef57-d6526f724383"
      },
      "execution_count": 41,
      "outputs": [
        {
          "output_type": "execute_result",
          "data": {
            "text/plain": [
              "0.35526315789473684"
            ]
          },
          "metadata": {},
          "execution_count": 41
        }
      ]
    },
    {
      "cell_type": "code",
      "source": [
        "scipy.stats.hypergeom.std(M=N, n=n, N=S)"
      ],
      "metadata": {
        "id": "2Ir6KLkMgqDV",
        "colab": {
          "base_uri": "https://localhost:8080/"
        },
        "outputId": "95b237f8-f20c-4f0f-f4a6-cfa4a7075320"
      },
      "execution_count": 42,
      "outputs": [
        {
          "output_type": "execute_result",
          "data": {
            "text/plain": [
              "0.5960395606792697"
            ]
          },
          "metadata": {},
          "execution_count": 42
        }
      ]
    },
    {
      "cell_type": "code",
      "source": [
        "# visualize probability \n",
        "x = range(0, n+1)\n",
        "rv = scipy.stats.hypergeom(M=N, n=n, N=S)\n",
        "pmf_prob = rv.pmf(x)"
      ],
      "metadata": {
        "id": "6lRdoiNxjBMB"
      },
      "execution_count": 46,
      "outputs": []
    },
    {
      "cell_type": "code",
      "source": [
        "fig = plt.figure()\n",
        "ax = fig.add_subplot(111)\n",
        "ax.plot(x, pmf_prob, 'bo')\n",
        "ax.vlines(x, 0, pmf_prob, lw=2)\n",
        "ax.set_xlabel('# of damaged items in sample')\n",
        "ax.set_ylabel('hypergeom PMF')\n",
        "plt.show()"
      ],
      "metadata": {
        "id": "kqaTT-szjYy_",
        "colab": {
          "base_uri": "https://localhost:8080/",
          "height": 279
        },
        "outputId": "40c7dd64-44cd-4657-f487-e060551e21a2"
      },
      "execution_count": 47,
      "outputs": [
        {
          "output_type": "display_data",
          "data": {
            "image/png": "[encoded data removed]",
            "text/plain": [
              "<Figure size 432x288 with 1 Axes>"
            ]
          },
          "metadata": {
            "needs_background": "light"
          }
        }
      ]
    },
    {
      "cell_type": "markdown",
      "source": [
        "# Demonstration of Distributions"
      ],
      "metadata": {
        "id": "MggnPsKlhtnF"
      }
    },
    {
      "cell_type": "markdown",
      "source": [
        "## Visualize distributions and calculate the expected value, variance, and standard deviation\n",
        "\n",
        "Generate 100 samples of different sizes from 3 different distributions, all with the same population mean. Include =poisson, binomial and normal.\n",
        "\n",
        "For each sample, plot the mean against the sample size.\n",
        "\n",
        "Describe the behavior you see in the plots in terms of the law of large numbers.\n",
        "\n",
        "Plot the distribution of all sample means as a histogram.\n",
        "\n",
        "Code from:\n",
        "https://github.com/fedhere/PUI2018_fb55/blob/master/HW4_fb55/Assignment1_solution.ipynb"
      ],
      "metadata": {
        "id": "VQlk633Z1D06"
      }
    },
    {
      "cell_type": "code",
      "source": [
        "distributions = ['binomial', 'pois', 'gaus']"
      ],
      "metadata": {
        "id": "4csYTUZs1CRA"
      },
      "execution_count": 48,
      "outputs": []
    },
    {
      "cell_type": "code",
      "source": [
        "# let's have all the distributions have the same mean of 42\n",
        "my_mean = 42"
      ],
      "metadata": {
        "id": "PXcgDotg1EtI"
      },
      "execution_count": 49,
      "outputs": []
    },
    {
      "cell_type": "code",
      "source": [
        "# make dictionary for each distribution\n",
        "md = {}\n",
        "for k in distributions: \n",
        "    md[k] = {} "
      ],
      "metadata": {
        "id": "mMyD8ddOaRu8"
      },
      "execution_count": 50,
      "outputs": []
    },
    {
      "cell_type": "code",
      "source": [
        "md"
      ],
      "metadata": {
        "colab": {
          "base_uri": "https://localhost:8080/"
        },
        "id": "RNXPkeYeQ2ci",
        "outputId": "a7294b11-cb6f-4b77-9740-d5d118908284"
      },
      "execution_count": 51,
      "outputs": [
        {
          "output_type": "execute_result",
          "data": {
            "text/plain": [
              "{'binomial': {}, 'gaus': {}, 'pois': {}}"
            ]
          },
          "metadata": {},
          "execution_count": 51
        }
      ]
    },
    {
      "cell_type": "code",
      "source": [
        "def create_distributions(distName, distFunc, distPars, \n",
        "                         distSizes, plotTitle):\n",
        "    '''Creates 100 samples of different sizes into a dictionary\n",
        "    Arguments: \n",
        "        distName: name of the distribution, string\n",
        "        distFunc: the function that creates the distribution\n",
        "        distPars: parameters of the distribution, tuple\n",
        "        distSizes: sizes of the distributions, array\n",
        "        plotTitle: title of the plot, string\n",
        "    Return:\n",
        "        a dictionary containing:\n",
        "            the distibutions as size-distribution key-value pairs\n",
        "            the mean of each distribution, \n",
        "                key:'means', value: array of means\n",
        "    '''\n",
        "    distrib = {}\n",
        "    for n in distSizes:\n",
        "        if distName == 'normal':\n",
        "            distrib[n] = distPars[1]* distFunc(n) + distPars[0]\n",
        "        else:     \n",
        "            distrib[n] = distFunc(*distPars, size=n)\n",
        "        \n",
        "    distrib['means'] = {}\n",
        "    ax = plt.figure(figsize=(10,6)).add_subplot(111)\n",
        "\n",
        "    for nn in distrib:\n",
        "        if not type(nn) == str:\n",
        "            distrib['means'][nn] = distrib[nn].mean()\n",
        "            #and plot it\n",
        "            ax.plot(nn, distrib['means'][nn], 'o')\n",
        "            ax.set_xlabel('sample size', fontsize=18)\n",
        "            ax.set_ylabel('sample mean', fontsize=18)\n",
        "            ax.set_title(plotTitle, fontsize=18)\n",
        "            ax.plot([min(distSizes), max(distSizes)], [my_mean, my_mean], 'k')\n",
        "    return distrib"
      ],
      "metadata": {
        "id": "p1lPJ9JG1OCl"
      },
      "execution_count": 52,
      "outputs": []
    },
    {
      "cell_type": "code",
      "source": [
        "def plotOneDistHistogram(distDic, histTitle):\n",
        "    '''Function to plot a histogram of a distribution\n",
        "    Argumens:\n",
        "        distDic: dictionary containing N a distribution \n",
        "        histTitle: title of the histogram plot\n",
        "    '''\n",
        "    allmeans = list(distDic['means'].values())\n",
        "\n",
        "    plt.figure(figsize=(10, 10))\n",
        "    plt.hist(allmeans, bins=30)\n",
        "    plt.plot([my_mean, my_mean], plt.ylim(), 'k-')\n",
        "    plt.xlabel('sample mean', fontsize = 18)\n",
        "    plt.ylabel('Frequency of sample mean', fontsize = 18)\n",
        "    plt.title(histTitle, fontsize=20)"
      ],
      "metadata": {
        "id": "jp3Yp6uEbxQI"
      },
      "execution_count": 53,
      "outputs": []
    },
    {
      "cell_type": "markdown",
      "source": [
        "Create array of 100 different values that are greater than 10 and less than 2000 for each of the distributions. "
      ],
      "metadata": {
        "id": "MWVJn7B2a-Ql"
      }
    },
    {
      "cell_type": "code",
      "source": [
        "# array of sizes\n",
        "mysizes = (np.linspace(10, np.sqrt(2000), 100)**2).astype(int)"
      ],
      "metadata": {
        "id": "ilKVnnCcaqQV"
      },
      "execution_count": 61,
      "outputs": []
    },
    {
      "cell_type": "code",
      "source": [
        "mysizes[:5]"
      ],
      "metadata": {
        "id": "nvBZD9_Yarbo",
        "colab": {
          "base_uri": "https://localhost:8080/"
        },
        "outputId": "be43e0a1-11bd-4cef-9fce-f66b304dd097"
      },
      "execution_count": 62,
      "outputs": [
        {
          "output_type": "execute_result",
          "data": {
            "text/plain": [
              "array([100, 107, 114, 122, 130])"
            ]
          },
          "metadata": {},
          "execution_count": 62
        }
      ]
    },
    {
      "cell_type": "code",
      "source": [
        "len(mysizes)"
      ],
      "metadata": {
        "id": "JyC1sNEOa7N8",
        "colab": {
          "base_uri": "https://localhost:8080/"
        },
        "outputId": "9efa09db-1f24-4274-fcf5-355c4afe67d6"
      },
      "execution_count": 63,
      "outputs": [
        {
          "output_type": "execute_result",
          "data": {
            "text/plain": [
              "100"
            ]
          },
          "metadata": {},
          "execution_count": 63
        }
      ]
    },
    {
      "cell_type": "code",
      "source": [
        "mysizes.min()"
      ],
      "metadata": {
        "id": "8EERF_tV--aN",
        "colab": {
          "base_uri": "https://localhost:8080/"
        },
        "outputId": "5daa3e81-6d99-4ff8-c322-ae4ff0c87ddd"
      },
      "execution_count": 64,
      "outputs": [
        {
          "output_type": "execute_result",
          "data": {
            "text/plain": [
              "100"
            ]
          },
          "metadata": {},
          "execution_count": 64
        }
      ]
    },
    {
      "cell_type": "code",
      "source": [
        "mysizes.max()"
      ],
      "metadata": {
        "id": "um2WZovS-8MX",
        "colab": {
          "base_uri": "https://localhost:8080/"
        },
        "outputId": "703578b3-655b-432d-b903-3d2583732df2"
      },
      "execution_count": 65,
      "outputs": [
        {
          "output_type": "execute_result",
          "data": {
            "text/plain": [
              "2000"
            ]
          },
          "metadata": {},
          "execution_count": 65
        }
      ]
    },
    {
      "cell_type": "markdown",
      "source": [
        "## Binomial Distribution"
      ],
      "metadata": {
        "id": "nlm2hP06-YgJ"
      }
    },
    {
      "cell_type": "code",
      "source": [
        "binom_p = 0.5\n",
        "binom_n = my_mean / binom_p\n",
        "\n",
        "md['binomial'] = create_distributions('binomial', np.random.binomial, \n",
        "                                      (binom_n, binom_p), \n",
        "                                       mysizes, \n",
        "                                      r'Binomial(n,p), '+\\\n",
        "                                      r'n=%.1f, '%binom_n + \\\n",
        "                                      r'p=%.1f, '%binom_p + \\\n",
        "                                      r'$\\mu=%.1f$, '%(binom_n * \n",
        "                                                      binom_p) +\\\n",
        "                                      r'variance=$%.1f$'%(binom_n * \n",
        "                                                        binom_p * \n",
        "                                                        (1 - binom_p)))"
      ],
      "metadata": {
        "id": "OntIveEEaCq6",
        "colab": {
          "base_uri": "https://localhost:8080/",
          "height": 418
        },
        "outputId": "b333a769-da0e-4a85-fe18-66ce8a201e9e"
      },
      "execution_count": 66,
      "outputs": [
        {
          "output_type": "display_data",
          "data": {
            "image/png": "[encoded data removed]",
            "text/plain": [
              "<Figure size 720x432 with 1 Axes>"
            ]
          },
          "metadata": {
            "needs_background": "light"
          }
        }
      ]
    },
    {
      "cell_type": "markdown",
      "source": [
        "This shows the distribution of points around the mean of 42 from the binomial distribution. We see as the sample size increases the sample mean gets closer to the true mean of 42."
      ],
      "metadata": {
        "id": "TFo2iF_bbS3a"
      }
    },
    {
      "cell_type": "code",
      "source": [
        "plotOneDistHistogram(md['binomial'], \n",
        "                     r\"means of 100 Binomial(n,p) distributions, \" +\\\n",
        "                     \"n=%1.f, p=%.1f, \"%(binom_n, binom_p) +\\\n",
        "                     \"$\\mu=%.1f$, \"%(binom_n * binom_p) +\\\n",
        "                     \"variance$=%.1f$\"%(binom_n * binom_p*(1 - binom_p)))"
      ],
      "metadata": {
        "id": "jdvCDCGTal0M",
        "colab": {
          "base_uri": "https://localhost:8080/",
          "height": 637
        },
        "outputId": "4b3f74e0-60ab-41f4-861b-6ca0a18a2edb"
      },
      "execution_count": 67,
      "outputs": [
        {
          "output_type": "display_data",
          "data": {
            "image/png": "[encoded data removed]",
            "text/plain": [
              "<Figure size 720x720 with 1 Axes>"
            ]
          },
          "metadata": {
            "needs_background": "light"
          }
        }
      ]
    },
    {
      "cell_type": "markdown",
      "source": [
        "We see that the curve looks like a normal distribution, this is because we gave a probability of .5. This provides a demonstration of the law of large numbers that taking the random sample from a binomial distribution we see most of the values center around 42, with a variance of 21 or standard deviation of 4.58."
      ],
      "metadata": {
        "id": "I3a3GFMscZvc"
      }
    },
    {
      "cell_type": "markdown",
      "source": [
        "# Poisson Distribution"
      ],
      "metadata": {
        "id": "LovSkzlN-coV"
      }
    },
    {
      "cell_type": "code",
      "source": [
        "lam = my_mean\n",
        "md['poisson'] = create_distributions('poisson', np.random.poisson, (lam,), \n",
        "                                   mysizes, \n",
        "    r'Poisson($\\lambda$), $\\lambda$=%.1f, $\\mu=%.1f$, variance$=%.1f$'%\\\n",
        "                                     (lam, lam, lam))"
      ],
      "metadata": {
        "id": "xfJqV1Bsc_RN",
        "colab": {
          "base_uri": "https://localhost:8080/",
          "height": 418
        },
        "outputId": "eac7bbcc-29df-4e5a-da06-e32b79bd6111"
      },
      "execution_count": 68,
      "outputs": [
        {
          "output_type": "display_data",
          "data": {
            "image/png": "[encoded data removed]",
            "text/plain": [
              "<Figure size 720x432 with 1 Axes>"
            ]
          },
          "metadata": {
            "needs_background": "light"
          }
        }
      ]
    },
    {
      "cell_type": "markdown",
      "source": [
        "Notice how the mean and variance are the same? The distribution of means of the sample approach the true mean as the population of N increases."
      ],
      "metadata": {
        "id": "Yv935cOS-r1R"
      }
    },
    {
      "cell_type": "code",
      "source": [
        "plotOneDistHistogram(md['poisson'], \n",
        "                     r\"means of 100 Poisson distributions, \" +\\\n",
        "                     \"$\\mu=%.1f$, variance=$%.1f$\"%(lam, lam))"
      ],
      "metadata": {
        "id": "jlVlVN3z-m6Z",
        "colab": {
          "base_uri": "https://localhost:8080/",
          "height": 637
        },
        "outputId": "59b9f19a-2a73-47c2-bc87-39f221bf45fa"
      },
      "execution_count": 69,
      "outputs": [
        {
          "output_type": "display_data",
          "data": {
            "image/png": "[encoded data removed]",
            "text/plain": [
              "<Figure size 720x720 with 1 Axes>"
            ]
          },
          "metadata": {
            "needs_background": "light"
          }
        }
      ]
    },
    {
      "cell_type": "markdown",
      "source": [
        "The sample means are approximately normally distributed, and the peaks at the mean of 42, this aligns with the expectation that the distribution of means approximates the true mean."
      ],
      "metadata": {
        "id": "WvZ5FQOq_M72"
      }
    },
    {
      "cell_type": "markdown",
      "source": [
        "## Normal Distribution"
      ],
      "metadata": {
        "id": "HLli7WYXiIFt"
      }
    },
    {
      "cell_type": "code",
      "source": [
        "stdev = 10\n",
        "md['normal'] = create_distributions('normal', np.random.randn, \n",
        "                                    (my_mean, stdev), mysizes, \n",
        "                r'Normal($\\mu, \\sigma$), $\\mu=%.1f$, variance=$%.1f$'\\\n",
        "                     %(my_mean, stdev))"
      ],
      "metadata": {
        "id": "UsnHhIsQiH6q",
        "colab": {
          "base_uri": "https://localhost:8080/",
          "height": 418
        },
        "outputId": "95c902fd-b716-4b85-a2b5-25fe775533e5"
      },
      "execution_count": 70,
      "outputs": [
        {
          "output_type": "display_data",
          "data": {
            "image/png": "[encoded data removed]",
            "text/plain": [
              "<Figure size 720x432 with 1 Axes>"
            ]
          },
          "metadata": {
            "needs_background": "light"
          }
        }
      ]
    },
    {
      "cell_type": "code",
      "source": [
        "plotOneDistHistogram(md['normal'], \n",
        "            r\"means of 100 Normal distribution $\\mu=%.1f$, \"%my_mean + \n",
        "                     \"variance$=%.1f$\"%stdev)"
      ],
      "metadata": {
        "id": "9moV8Y3KiSs3",
        "colab": {
          "base_uri": "https://localhost:8080/",
          "height": 637
        },
        "outputId": "3ec65a40-75f3-4d35-882d-6976bdf1403f"
      },
      "execution_count": 71,
      "outputs": [
        {
          "output_type": "display_data",
          "data": {
            "image/png": "[encoded data removed]",
            "text/plain": [
              "<Figure size 720x720 with 1 Axes>"
            ]
          },
          "metadata": {
            "needs_background": "light"
          }
        }
      ]
    }
  ]
}