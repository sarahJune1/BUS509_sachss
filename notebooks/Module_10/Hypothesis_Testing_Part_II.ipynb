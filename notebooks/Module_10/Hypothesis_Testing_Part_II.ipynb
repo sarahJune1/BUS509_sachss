{
  "nbformat": 4,
  "nbformat_minor": 0,
  "metadata": {
    "colab": {
      "name": "Hypothesis Testing - Part II.ipynb",
      "provenance": [],
      "collapsed_sections": [],
      "authorship_tag": "ABX9TyPj4Zq9lNR35IdshoHmi3fj",
      "include_colab_link": true
    },
    "kernelspec": {
      "name": "python3",
      "display_name": "Python 3"
    },
    "language_info": {
      "name": "python"
    }
  },
  "cells": [
    {
      "cell_type": "markdown",
      "metadata": {
        "id": "view-in-github",
        "colab_type": "text"
      },
      "source": [
        "<a href=\"https://colab.research.google.com/github/sarahJune1/BUS509_sachss/blob/main/notebooks/Module_10/Hypothesis_Testing_Part_II.ipynb\" target=\"_parent\"><img src=\"https://colab.research.google.com/assets/colab-badge.svg\" alt=\"Open In Colab\"/></a>"
      ]
    },
    {
      "cell_type": "code",
      "metadata": {
        "id": "5gXsRequqi1-",
        "colab": {
          "base_uri": "https://localhost:8080/"
        },
        "outputId": "803ab292-f1f2-4973-b084-b18ff645877b"
      },
      "source": [
        "import pandas as pd\n",
        "import statsmodels.api as sm\n",
        "import math\n",
        "import numpy as np\n",
        "import matplotlib.pyplot as plt\n",
        "from scipy import stats as stats\n",
        "from scipy.stats import chi2"
      ],
      "execution_count": 2,
      "outputs": [
        {
          "output_type": "stream",
          "name": "stderr",
          "text": [
            "/usr/local/lib/python3.7/dist-packages/statsmodels/tools/_testing.py:19: FutureWarning: pandas.util.testing is deprecated. Use the functions in the public API at pandas.testing instead.\n",
            "  import pandas.util.testing as tm\n"
          ]
        }
      ]
    },
    {
      "cell_type": "markdown",
      "source": [
        "# Hypothesis Testing Part II\n",
        "In this module, we will continue the discussion of hypothesis testing as we learn more about choosing the right test and the X<sup>2</sup> distribution."
      ],
      "metadata": {
        "id": "CplTsfVtmS2W"
      }
    },
    {
      "cell_type": "markdown",
      "source": [
        "# Statistical Inference Concerning Two Populations"
      ],
      "metadata": {
        "id": "syHS5D1ynLNE"
      }
    },
    {
      "cell_type": "markdown",
      "metadata": {
        "id": "fv61PkCctC5O"
      },
      "source": [
        "# Expenditure and Default Data\n",
        "Description:\n",
        "\n",
        "Cross-section data on the credit history for a sample of applicants for a type of credit card.\n",
        "\n",
        "https://vincentarelbundock.github.io/Rdatasets/doc/AER/CreditCard.html\n",
        "\n",
        "An analyst claims the average income for credit card applicants that are accepted is more than the average income for credit card applicants that are rejected.\n",
        "\n",
        "1. Specify the competing hypothesis to test the analyst's claim. State the significance level.\n",
        "\n",
        "2. Calculate average income for both groups, and sample standard deviation.\n",
        "\n",
        "3. Calculate value of the test statistic and p-value."
      ]
    },
    {
      "cell_type": "code",
      "metadata": {
        "id": "LFfzWap0s8co"
      },
      "source": [
        "df = sm.datasets.get_rdataset(\"CreditCard\", \"AER\").data"
      ],
      "execution_count": 14,
      "outputs": []
    },
    {
      "cell_type": "code",
      "metadata": {
        "colab": {
          "base_uri": "https://localhost:8080/",
          "height": 206
        },
        "id": "-SOKxRnbtE5Y",
        "outputId": "7d5745ab-c109-43a5-898f-3c84f44fdf41"
      },
      "source": [
        "df.head()"
      ],
      "execution_count": 15,
      "outputs": [
        {
          "output_type": "execute_result",
          "data": {
            "text/plain": [
              "  card  reports       age  income     share  expenditure owner selfemp  \\\n",
              "0  yes        0  37.66667  4.5200  0.033270   124.983300   yes      no   \n",
              "1  yes        0  33.25000  2.4200  0.005217     9.854167    no      no   \n",
              "2  yes        0  33.66667  4.5000  0.004156    15.000000   yes      no   \n",
              "3  yes        0  30.50000  2.5400  0.065214   137.869200    no      no   \n",
              "4  yes        0  32.16667  9.7867  0.067051   546.503300   yes      no   \n",
              "\n",
              "   dependents  months  majorcards  active  \n",
              "0           3      54           1      12  \n",
              "1           3      34           1      13  \n",
              "2           4      58           1       5  \n",
              "3           0      25           1       7  \n",
              "4           2      64           1       5  "
            ],
            "text/html": [
              "\n",
              "  <div id=\"df-33f233f7-487c-4fb7-888f-fda1f77f28be\">\n",
              "    <div class=\"colab-df-container\">\n",
              "      <div>\n",
              "<style scoped>\n",
              "    .dataframe tbody tr th:only-of-type {\n",
              "        vertical-align: middle;\n",
              "    }\n",
              "\n",
              "    .dataframe tbody tr th {\n",
              "        vertical-align: top;\n",
              "    }\n",
              "\n",
              "    .dataframe thead th {\n",
              "        text-align: right;\n",
              "    }\n",
              "</style>\n",
              "<table border=\"1\" class=\"dataframe\">\n",
              "  <thead>\n",
              "    <tr style=\"text-align: right;\">\n",
              "      <th></th>\n",
              "      <th>card</th>\n",
              "      <th>reports</th>\n",
              "      <th>age</th>\n",
              "      <th>income</th>\n",
              "      <th>share</th>\n",
              "      <th>expenditure</th>\n",
              "      <th>owner</th>\n",
              "      <th>selfemp</th>\n",
              "      <th>dependents</th>\n",
              "      <th>months</th>\n",
              "      <th>majorcards</th>\n",
              "      <th>active</th>\n",
              "    </tr>\n",
              "  </thead>\n",
              "  <tbody>\n",
              "    <tr>\n",
              "      <th>0</th>\n",
              "      <td>yes</td>\n",
              "      <td>0</td>\n",
              "      <td>37.66667</td>\n",
              "      <td>4.5200</td>\n",
              "      <td>0.033270</td>\n",
              "      <td>124.983300</td>\n",
              "      <td>yes</td>\n",
              "      <td>no</td>\n",
              "      <td>3</td>\n",
              "      <td>54</td>\n",
              "      <td>1</td>\n",
              "      <td>12</td>\n",
              "    </tr>\n",
              "    <tr>\n",
              "      <th>1</th>\n",
              "      <td>yes</td>\n",
              "      <td>0</td>\n",
              "      <td>33.25000</td>\n",
              "      <td>2.4200</td>\n",
              "      <td>0.005217</td>\n",
              "      <td>9.854167</td>\n",
              "      <td>no</td>\n",
              "      <td>no</td>\n",
              "      <td>3</td>\n",
              "      <td>34</td>\n",
              "      <td>1</td>\n",
              "      <td>13</td>\n",
              "    </tr>\n",
              "    <tr>\n",
              "      <th>2</th>\n",
              "      <td>yes</td>\n",
              "      <td>0</td>\n",
              "      <td>33.66667</td>\n",
              "      <td>4.5000</td>\n",
              "      <td>0.004156</td>\n",
              "      <td>15.000000</td>\n",
              "      <td>yes</td>\n",
              "      <td>no</td>\n",
              "      <td>4</td>\n",
              "      <td>58</td>\n",
              "      <td>1</td>\n",
              "      <td>5</td>\n",
              "    </tr>\n",
              "    <tr>\n",
              "      <th>3</th>\n",
              "      <td>yes</td>\n",
              "      <td>0</td>\n",
              "      <td>30.50000</td>\n",
              "      <td>2.5400</td>\n",
              "      <td>0.065214</td>\n",
              "      <td>137.869200</td>\n",
              "      <td>no</td>\n",
              "      <td>no</td>\n",
              "      <td>0</td>\n",
              "      <td>25</td>\n",
              "      <td>1</td>\n",
              "      <td>7</td>\n",
              "    </tr>\n",
              "    <tr>\n",
              "      <th>4</th>\n",
              "      <td>yes</td>\n",
              "      <td>0</td>\n",
              "      <td>32.16667</td>\n",
              "      <td>9.7867</td>\n",
              "      <td>0.067051</td>\n",
              "      <td>546.503300</td>\n",
              "      <td>yes</td>\n",
              "      <td>no</td>\n",
              "      <td>2</td>\n",
              "      <td>64</td>\n",
              "      <td>1</td>\n",
              "      <td>5</td>\n",
              "    </tr>\n",
              "  </tbody>\n",
              "</table>\n",
              "</div>\n",
              "      <button class=\"colab-df-convert\" onclick=\"convertToInteractive('df-33f233f7-487c-4fb7-888f-fda1f77f28be')\"\n",
              "              title=\"Convert this dataframe to an interactive table.\"\n",
              "              style=\"display:none;\">\n",
              "        \n",
              "  <svg xmlns=\"http://www.w3.org/2000/svg\" height=\"24px\"viewBox=\"0 0 24 24\"\n",
              "       width=\"24px\">\n",
              "    <path d=\"M0 0h24v24H0V0z\" fill=\"none\"/>\n",
              "    <path d=\"M18.56 5.44l.94 2.06.94-2.06 2.06-.94-2.06-.94-.94-2.06-.94 2.06-2.06.94zm-11 1L8.5 8.5l.94-2.06 2.06-.94-2.06-.94L8.5 2.5l-.94 2.06-2.06.94zm10 10l.94 2.06.94-2.06 2.06-.94-2.06-.94-.94-2.06-.94 2.06-2.06.94z\"/><path d=\"M17.41 7.96l-1.37-1.37c-.4-.4-.92-.59-1.43-.59-.52 0-1.04.2-1.43.59L10.3 9.45l-7.72 7.72c-.78.78-.78 2.05 0 2.83L4 21.41c.39.39.9.59 1.41.59.51 0 1.02-.2 1.41-.59l7.78-7.78 2.81-2.81c.8-.78.8-2.07 0-2.86zM5.41 20L4 18.59l7.72-7.72 1.47 1.35L5.41 20z\"/>\n",
              "  </svg>\n",
              "      </button>\n",
              "      \n",
              "  <style>\n",
              "    .colab-df-container {\n",
              "      display:flex;\n",
              "      flex-wrap:wrap;\n",
              "      gap: 12px;\n",
              "    }\n",
              "\n",
              "    .colab-df-convert {\n",
              "      background-color: #E8F0FE;\n",
              "      border: none;\n",
              "      border-radius: 50%;\n",
              "      cursor: pointer;\n",
              "      display: none;\n",
              "      fill: #1967D2;\n",
              "      height: 32px;\n",
              "      padding: 0 0 0 0;\n",
              "      width: 32px;\n",
              "    }\n",
              "\n",
              "    .colab-df-convert:hover {\n",
              "      background-color: #E2EBFA;\n",
              "      box-shadow: 0px 1px 2px rgba(60, 64, 67, 0.3), 0px 1px 3px 1px rgba(60, 64, 67, 0.15);\n",
              "      fill: #174EA6;\n",
              "    }\n",
              "\n",
              "    [theme=dark] .colab-df-convert {\n",
              "      background-color: #3B4455;\n",
              "      fill: #D2E3FC;\n",
              "    }\n",
              "\n",
              "    [theme=dark] .colab-df-convert:hover {\n",
              "      background-color: #434B5C;\n",
              "      box-shadow: 0px 1px 3px 1px rgba(0, 0, 0, 0.15);\n",
              "      filter: drop-shadow(0px 1px 2px rgba(0, 0, 0, 0.3));\n",
              "      fill: #FFFFFF;\n",
              "    }\n",
              "  </style>\n",
              "\n",
              "      <script>\n",
              "        const buttonEl =\n",
              "          document.querySelector('#df-33f233f7-487c-4fb7-888f-fda1f77f28be button.colab-df-convert');\n",
              "        buttonEl.style.display =\n",
              "          google.colab.kernel.accessAllowed ? 'block' : 'none';\n",
              "\n",
              "        async function convertToInteractive(key) {\n",
              "          const element = document.querySelector('#df-33f233f7-487c-4fb7-888f-fda1f77f28be');\n",
              "          const dataTable =\n",
              "            await google.colab.kernel.invokeFunction('convertToInteractive',\n",
              "                                                     [key], {});\n",
              "          if (!dataTable) return;\n",
              "\n",
              "          const docLinkHtml = 'Like what you see? Visit the ' +\n",
              "            '<a target=\"_blank\" href=https://colab.research.google.com/notebooks/data_table.ipynb>data table notebook</a>'\n",
              "            + ' to learn more about interactive tables.';\n",
              "          element.innerHTML = '';\n",
              "          dataTable['output_type'] = 'display_data';\n",
              "          await google.colab.output.renderOutput(dataTable, element);\n",
              "          const docLink = document.createElement('div');\n",
              "          docLink.innerHTML = docLinkHtml;\n",
              "          element.appendChild(docLink);\n",
              "        }\n",
              "      </script>\n",
              "    </div>\n",
              "  </div>\n",
              "  "
            ]
          },
          "metadata": {},
          "execution_count": 15
        }
      ]
    },
    {
      "cell_type": "code",
      "source": [
        "df.card.value_counts()"
      ],
      "metadata": {
        "colab": {
          "base_uri": "https://localhost:8080/"
        },
        "id": "ZXBYq3Q3ltrv",
        "outputId": "94db503c-fe62-4126-bdc4-c9f11bde4501"
      },
      "execution_count": 16,
      "outputs": [
        {
          "output_type": "execute_result",
          "data": {
            "text/plain": [
              "yes    1023\n",
              "no      296\n",
              "Name: card, dtype: int64"
            ]
          },
          "metadata": {},
          "execution_count": 16
        }
      ]
    },
    {
      "cell_type": "code",
      "metadata": {
        "colab": {
          "base_uri": "https://localhost:8080/"
        },
        "id": "Yt5FmFELtEmV",
        "outputId": "8c11b06e-ca32-4654-9059-ea38aa8d4ad4"
      },
      "source": [
        "# split dataset\n",
        "df_approv = df[df['card'] == 'yes']\n",
        "df_reject = df[df['card'] == 'no']\n",
        "print(df_approv.shape, df_reject.shape)"
      ],
      "execution_count": 17,
      "outputs": [
        {
          "output_type": "stream",
          "name": "stdout",
          "text": [
            "(1023, 12) (296, 12)\n"
          ]
        }
      ]
    },
    {
      "cell_type": "markdown",
      "metadata": {
        "id": "pFbDLu37ye0y"
      },
      "source": [
        "Relevant parameter is the mean income between the two groups. \n",
        "\n",
        "Analyst wants to determine if the mean income is higher for accepted applicants vs rejected, that is μ<sub>1</sub> > μ<sub>2</sub>.\n",
        "\n",
        "H<sub>0</sub>\n",
        " :  μ<sub>1</sub> - μ<sub>2</sub> ≤ 0\n",
        "\n",
        "H<sub>A</sub> : μ<sub>1</sub> - μ<sub>2</sub> > 0\n",
        "\n",
        "α = 0.01"
      ]
    },
    {
      "cell_type": "code",
      "metadata": {
        "id": "sEsSMRkG2WNr"
      },
      "source": [
        "alpha = 0.01"
      ],
      "execution_count": 18,
      "outputs": []
    },
    {
      "cell_type": "code",
      "metadata": {
        "colab": {
          "base_uri": "https://localhost:8080/"
        },
        "id": "oXnH8SDxyYiK",
        "outputId": "d9864546-c540-4a9c-8db3-716b3c5ac68d"
      },
      "source": [
        "# mean and std\n",
        "app_mean = df_approv.income.mean()\n",
        "app_std = df_approv.income.std()\n",
        "print(app_mean, app_std)"
      ],
      "execution_count": 19,
      "outputs": [
        {
          "output_type": "stream",
          "name": "stdout",
          "text": [
            "3.4512730205278537 1.7071164556141813\n"
          ]
        }
      ]
    },
    {
      "cell_type": "code",
      "metadata": {
        "colab": {
          "base_uri": "https://localhost:8080/"
        },
        "id": "-FG-gquWyH0R",
        "outputId": "73b30893-856f-496e-d321-a9211980eea6"
      },
      "source": [
        "rej_mean = df_reject.income.mean()\n",
        "rej_std = df_reject.income.std()\n",
        "print(rej_mean, rej_std)"
      ],
      "execution_count": 20,
      "outputs": [
        {
          "output_type": "stream",
          "name": "stdout",
          "text": [
            "3.0685091216216236 1.6153364599777544\n"
          ]
        }
      ]
    },
    {
      "cell_type": "markdown",
      "metadata": {
        "id": "SHw9vY1Nz5yT"
      },
      "source": [
        "Because the population variance is known, we use the sample standard deviation."
      ]
    },
    {
      "cell_type": "code",
      "metadata": {
        "id": "qucRx6qfz3NI"
      },
      "source": [
        "# compute the test statistic\n",
        "\n",
        "def test_stat(mu_1, mu_2, std_1, std_2, n_1, n_2):\n",
        "  z = ((mu_1 - mu_2) - 0) / (math.sqrt((std_1**2/n_1) + (std_2**2/n_2)))\n",
        "  return z\n"
      ],
      "execution_count": 23,
      "outputs": []
    },
    {
      "cell_type": "code",
      "metadata": {
        "colab": {
          "base_uri": "https://localhost:8080/"
        },
        "id": "wLPTq1Pa1IDN",
        "outputId": "93c04686-ed14-44ed-c8ab-62fba24403e7"
      },
      "source": [
        "z_score = test_stat(app_mean, rej_mean, app_std, rej_std, len(df_approv), len(df_reject))\n",
        "z_score"
      ],
      "execution_count": 24,
      "outputs": [
        {
          "output_type": "execute_result",
          "data": {
            "text/plain": [
              "3.544114925520404"
            ]
          },
          "metadata": {},
          "execution_count": 24
        }
      ]
    },
    {
      "cell_type": "code",
      "metadata": {
        "colab": {
          "base_uri": "https://localhost:8080/"
        },
        "id": "zeqQXx-E2Ef3",
        "outputId": "8caab1f2-09d4-429b-d959-b71ba3c33e94"
      },
      "source": [
        "# convert z score to a p-value\n",
        "p_value = stats.norm.sf(abs(z_score)) #onesided\n",
        "p_value"
      ],
      "execution_count": 25,
      "outputs": [
        {
          "output_type": "execute_result",
          "data": {
            "text/plain": [
              "0.00019696674458670644"
            ]
          },
          "metadata": {},
          "execution_count": 25
        }
      ]
    },
    {
      "cell_type": "code",
      "metadata": {
        "colab": {
          "base_uri": "https://localhost:8080/"
        },
        "id": "yRo2btIP2Rzg",
        "outputId": "d3cef0bd-a05b-499f-b212-1bc6f5e43e75"
      },
      "source": [
        "if  p_value > alpha:\n",
        "    # we are done...\n",
        "    print(\"In accordance with Null Hypothesis, fail to reject\")\n",
        "else:\n",
        "    # more work to do\n",
        "    print (\"We must check the significance before we reject the Null Hypothesis\")"
      ],
      "execution_count": 26,
      "outputs": [
        {
          "output_type": "stream",
          "name": "stdout",
          "text": [
            "We must check the significance before we reject the Null Hypothesis\n"
          ]
        }
      ]
    },
    {
      "cell_type": "markdown",
      "metadata": {
        "id": "XAo1FOJd28GP"
      },
      "source": [
        "We reject the null hypothesis because the p_value is less than our chosen alpha. At the 1% significance level, the average income level for applicants that are accpepted is more than the average of applicants that are rejected."
      ]
    },
    {
      "cell_type": "markdown",
      "source": [
        "# Statistical Inference Concerning Variance"
      ],
      "metadata": {
        "id": "54uIY0k8zDMx"
      }
    },
    {
      "cell_type": "markdown",
      "metadata": {
        "id": "Wh9DkVSU-IOz"
      },
      "source": [
        "# Z<sup>2</sup> Distribution\n",
        "\n",
        "Note the upper tail vs. lower, remember to draw the curve. Using the table we can directly use _a_ when analyzing the upper tail. In python we subtract this from 1. When analyzing the lower tail, we must subtract by 1 to use the table, in python we do the opposite. \n",
        "\n",
        "This is because the function ppf looks at the distribution area, the table looks at the upper tail."
      ]
    },
    {
      "cell_type": "markdown",
      "source": [
        "### Example 11.1 \n",
        "\n",
        "_page 385_"
      ],
      "metadata": {
        "id": "_L-8pnHg2Nms"
      }
    },
    {
      "cell_type": "markdown",
      "metadata": {
        "id": "kskeJ1HUB9QH"
      },
      "source": [
        "Find the value x for which:\n",
        "\n",
        "P(X<sup>2</sup><sub>5</sub> ≥ x ) = 0.025"
      ]
    },
    {
      "cell_type": "code",
      "metadata": {
        "id": "-IIPAv1z8ev5"
      },
      "source": [
        "upper_tail = .025\n",
        "degf = 5"
      ],
      "execution_count": 3,
      "outputs": []
    },
    {
      "cell_type": "code",
      "metadata": {
        "colab": {
          "base_uri": "https://localhost:8080/",
          "height": 295
        },
        "id": "9xmhNzGtAcB5",
        "outputId": "c6bc9453-1dd5-46c8-ad1c-fded851a2946"
      },
      "source": [
        "#x-axis ranges from 0 to 20 with .001 steps\n",
        "x = np.arange(0, 20, 0.001)\n",
        "\n",
        "#plot Chi-square distribution with degrees of freedom\n",
        "plt.plot(x, stats.chi2.pdf(x, df=degf))\n",
        "plt.title('X2 distribution')\n",
        "plt.xlabel('X')\n",
        "plt.ylabel('fk(x)')\n",
        "plt.show()"
      ],
      "execution_count": 6,
      "outputs": [
        {
          "output_type": "display_data",
          "data": {
            "text/plain": [
              "<Figure size 432x288 with 1 Axes>"
            ],
            "image/png": "[encoded data removed]"
          },
          "metadata": {
            "needs_background": "light"
          }
        }
      ]
    },
    {
      "cell_type": "code",
      "metadata": {
        "colab": {
          "base_uri": "https://localhost:8080/"
        },
        "id": "B6FJBh13rtpM",
        "outputId": "be8c04c0-22a7-4f68-b746-55a194a3ff5c"
      },
      "source": [
        "p = stats.chi2.ppf(1-upper_tail, degf)\n",
        "p"
      ],
      "execution_count": 8,
      "outputs": [
        {
          "output_type": "execute_result",
          "data": {
            "text/plain": [
              "12.832501994030027"
            ]
          },
          "metadata": {},
          "execution_count": 8
        }
      ]
    },
    {
      "cell_type": "code",
      "metadata": {
        "colab": {
          "base_uri": "https://localhost:8080/",
          "height": 295
        },
        "id": "QceqhzH-A8xq",
        "outputId": "31cd0cc5-aa5d-4d0c-e0e6-7fa10c18e652"
      },
      "source": [
        "#x-axis ranges from 0 to 20 with .001 steps\n",
        "x = np.arange(0, 20, 0.001)\n",
        "\n",
        "#plot Chi-square distribution with degrees of freedom\n",
        "plt.plot(x, stats.chi2.pdf(x, df=degf))\n",
        "plt.axvline(x=p, color='r', linestyle='--', label='percent point function value')\n",
        "plt.title('X2 distribution')\n",
        "plt.xlabel('X')\n",
        "plt.ylabel('fk(x)')\n",
        "plt.legend()\n",
        "plt.show()"
      ],
      "execution_count": 9,
      "outputs": [
        {
          "output_type": "display_data",
          "data": {
            "text/plain": [
              "<Figure size 432x288 with 1 Axes>"
            ],
            "image/png": "[encoded data removed]"
          },
          "metadata": {
            "needs_background": "light"
          }
        }
      ]
    },
    {
      "cell_type": "markdown",
      "metadata": {
        "id": "EzAnrXxYBq34"
      },
      "source": [
        "Find the value x for:\n",
        "\n",
        "P(X<sup>2</sup><sub>8</sub> < x ) = 0.025"
      ]
    },
    {
      "cell_type": "code",
      "metadata": {
        "id": "9wdMVRv2-a2S"
      },
      "source": [
        "lower_tail = .025\n",
        "degf = 8"
      ],
      "execution_count": 12,
      "outputs": []
    },
    {
      "cell_type": "code",
      "metadata": {
        "colab": {
          "base_uri": "https://localhost:8080/",
          "height": 295
        },
        "id": "kbw_1ZDNBaJq",
        "outputId": "b28b1c7b-777e-4a07-ced7-3bdbb95c92fb"
      },
      "source": [
        "#x-axis ranges from 0 to 20 with .001 steps\n",
        "x = np.arange(0, 20, 0.001)\n",
        "\n",
        "#plot Chi-square distribution with degrees of freedom\n",
        "plt.plot(x, stats.chi2.pdf(x, df=degf))\n",
        "plt.title('X2 distribution')\n",
        "plt.xlabel('X')\n",
        "plt.ylabel('fk(x)')\n",
        "plt.show()"
      ],
      "execution_count": 13,
      "outputs": [
        {
          "output_type": "display_data",
          "data": {
            "text/plain": [
              "<Figure size 432x288 with 1 Axes>"
            ],
            "image/png": "[encoded data removed]"
          },
          "metadata": {
            "needs_background": "light"
          }
        }
      ]
    },
    {
      "cell_type": "code",
      "metadata": {
        "colab": {
          "base_uri": "https://localhost:8080/"
        },
        "id": "PWQjq643Bbn8",
        "outputId": "5462bbea-da3b-40eb-bae5-ab0fe0ccc268"
      },
      "source": [
        "p = stats.chi2.ppf(lower_tail, degf)\n",
        "p"
      ],
      "execution_count": 14,
      "outputs": [
        {
          "output_type": "execute_result",
          "data": {
            "text/plain": [
              "2.1797307472526497"
            ]
          },
          "metadata": {},
          "execution_count": 14
        }
      ]
    },
    {
      "cell_type": "code",
      "metadata": {
        "colab": {
          "base_uri": "https://localhost:8080/",
          "height": 295
        },
        "id": "5KVPOfTk81ap",
        "outputId": "5e8da8fa-e334-41b5-dfca-2e047e907dc8"
      },
      "source": [
        "#x-axis ranges from 0 to 20 with .001 steps\n",
        "x = np.arange(0, 20, 0.001)\n",
        "\n",
        "#plot Chi-square distribution with degrees of freedom\n",
        "plt.plot(x, stats.chi2.pdf(x, df=degf))\n",
        "plt.axvline(x=p, color='r', linestyle='--', label='percent point function value')\n",
        "plt.title('X2 distribution')\n",
        "plt.xlabel('X')\n",
        "plt.ylabel('fk(x)')\n",
        "plt.legend()\n",
        "plt.show()"
      ],
      "execution_count": 15,
      "outputs": [
        {
          "output_type": "display_data",
          "data": {
            "text/plain": [
              "<Figure size 432x288 with 1 Axes>"
            ],
            "image/png": "[encoded data removed]"
          },
          "metadata": {
            "needs_background": "light"
          }
        }
      ]
    },
    {
      "cell_type": "markdown",
      "metadata": {
        "id": "IGsn8UfECCmK"
      },
      "source": [
        "### Confidence Intervals\n",
        "\n",
        "###Example 11.2\n",
        "\n",
        "_page 386_\n",
        "\n",
        "Compute the 95% confidence intervals for the population standard deviation for the Growth fund and the Value fund, assume that returns are normally distributed."
      ]
    },
    {
      "cell_type": "code",
      "metadata": {
        "id": "XdCjhbGDBXOD"
      },
      "source": [
        "df = pd.read_excel(\"https://lectures.mhhe.com/connect/jaggia4e_1260719294/student/data_files/jaggia_BS_4e_ch11_Data_Files.xlsx\", \n",
        "                   sheet_name='Growth_Value')"
      ],
      "execution_count": 22,
      "outputs": []
    },
    {
      "cell_type": "code",
      "metadata": {
        "colab": {
          "base_uri": "https://localhost:8080/"
        },
        "id": "yXKej8cZDlrO",
        "outputId": "169bce97-5ba1-4038-e0d6-a2fa2e502c51"
      },
      "source": [
        "df.shape"
      ],
      "execution_count": 23,
      "outputs": [
        {
          "output_type": "execute_result",
          "data": {
            "text/plain": [
              "(36, 3)"
            ]
          },
          "metadata": {},
          "execution_count": 23
        }
      ]
    },
    {
      "cell_type": "code",
      "metadata": {
        "colab": {
          "base_uri": "https://localhost:8080/"
        },
        "id": "8u_MrKlCD8Vr",
        "outputId": "1f161820-7d06-487e-a1f0-a3e683e1ec98"
      },
      "source": [
        "# number of intervals\n",
        "df.index"
      ],
      "execution_count": 24,
      "outputs": [
        {
          "output_type": "execute_result",
          "data": {
            "text/plain": [
              "RangeIndex(start=0, stop=36, step=1)"
            ]
          },
          "metadata": {},
          "execution_count": 24
        }
      ]
    },
    {
      "cell_type": "code",
      "metadata": {
        "colab": {
          "base_uri": "https://localhost:8080/",
          "height": 206
        },
        "id": "sdAfcaGND93g",
        "outputId": "f4e2bb0f-69f3-48b4-926a-eb0960312621"
      },
      "source": [
        "df.head()"
      ],
      "execution_count": 25,
      "outputs": [
        {
          "output_type": "execute_result",
          "data": {
            "text/plain": [
              "   Year  Growth  Value\n",
              "0  1984   -5.50  -8.59\n",
              "1  1985   39.91  22.10\n",
              "2  1986   13.03  14.74\n",
              "3  1987   -1.70  -8.58\n",
              "4  1988   16.05  29.05"
            ],
            "text/html": [
              "\n",
              "  <div id=\"df-45f05915-aca1-4b9d-a043-5cda81d33198\">\n",
              "    <div class=\"colab-df-container\">\n",
              "      <div>\n",
              "<style scoped>\n",
              "    .dataframe tbody tr th:only-of-type {\n",
              "        vertical-align: middle;\n",
              "    }\n",
              "\n",
              "    .dataframe tbody tr th {\n",
              "        vertical-align: top;\n",
              "    }\n",
              "\n",
              "    .dataframe thead th {\n",
              "        text-align: right;\n",
              "    }\n",
              "</style>\n",
              "<table border=\"1\" class=\"dataframe\">\n",
              "  <thead>\n",
              "    <tr style=\"text-align: right;\">\n",
              "      <th></th>\n",
              "      <th>Year</th>\n",
              "      <th>Growth</th>\n",
              "      <th>Value</th>\n",
              "    </tr>\n",
              "  </thead>\n",
              "  <tbody>\n",
              "    <tr>\n",
              "      <th>0</th>\n",
              "      <td>1984</td>\n",
              "      <td>-5.50</td>\n",
              "      <td>-8.59</td>\n",
              "    </tr>\n",
              "    <tr>\n",
              "      <th>1</th>\n",
              "      <td>1985</td>\n",
              "      <td>39.91</td>\n",
              "      <td>22.10</td>\n",
              "    </tr>\n",
              "    <tr>\n",
              "      <th>2</th>\n",
              "      <td>1986</td>\n",
              "      <td>13.03</td>\n",
              "      <td>14.74</td>\n",
              "    </tr>\n",
              "    <tr>\n",
              "      <th>3</th>\n",
              "      <td>1987</td>\n",
              "      <td>-1.70</td>\n",
              "      <td>-8.58</td>\n",
              "    </tr>\n",
              "    <tr>\n",
              "      <th>4</th>\n",
              "      <td>1988</td>\n",
              "      <td>16.05</td>\n",
              "      <td>29.05</td>\n",
              "    </tr>\n",
              "  </tbody>\n",
              "</table>\n",
              "</div>\n",
              "      <button class=\"colab-df-convert\" onclick=\"convertToInteractive('df-45f05915-aca1-4b9d-a043-5cda81d33198')\"\n",
              "              title=\"Convert this dataframe to an interactive table.\"\n",
              "              style=\"display:none;\">\n",
              "        \n",
              "  <svg xmlns=\"http://www.w3.org/2000/svg\" height=\"24px\"viewBox=\"0 0 24 24\"\n",
              "       width=\"24px\">\n",
              "    <path d=\"M0 0h24v24H0V0z\" fill=\"none\"/>\n",
              "    <path d=\"M18.56 5.44l.94 2.06.94-2.06 2.06-.94-2.06-.94-.94-2.06-.94 2.06-2.06.94zm-11 1L8.5 8.5l.94-2.06 2.06-.94-2.06-.94L8.5 2.5l-.94 2.06-2.06.94zm10 10l.94 2.06.94-2.06 2.06-.94-2.06-.94-.94-2.06-.94 2.06-2.06.94z\"/><path d=\"M17.41 7.96l-1.37-1.37c-.4-.4-.92-.59-1.43-.59-.52 0-1.04.2-1.43.59L10.3 9.45l-7.72 7.72c-.78.78-.78 2.05 0 2.83L4 21.41c.39.39.9.59 1.41.59.51 0 1.02-.2 1.41-.59l7.78-7.78 2.81-2.81c.8-.78.8-2.07 0-2.86zM5.41 20L4 18.59l7.72-7.72 1.47 1.35L5.41 20z\"/>\n",
              "  </svg>\n",
              "      </button>\n",
              "      \n",
              "  <style>\n",
              "    .colab-df-container {\n",
              "      display:flex;\n",
              "      flex-wrap:wrap;\n",
              "      gap: 12px;\n",
              "    }\n",
              "\n",
              "    .colab-df-convert {\n",
              "      background-color: #E8F0FE;\n",
              "      border: none;\n",
              "      border-radius: 50%;\n",
              "      cursor: pointer;\n",
              "      display: none;\n",
              "      fill: #1967D2;\n",
              "      height: 32px;\n",
              "      padding: 0 0 0 0;\n",
              "      width: 32px;\n",
              "    }\n",
              "\n",
              "    .colab-df-convert:hover {\n",
              "      background-color: #E2EBFA;\n",
              "      box-shadow: 0px 1px 2px rgba(60, 64, 67, 0.3), 0px 1px 3px 1px rgba(60, 64, 67, 0.15);\n",
              "      fill: #174EA6;\n",
              "    }\n",
              "\n",
              "    [theme=dark] .colab-df-convert {\n",
              "      background-color: #3B4455;\n",
              "      fill: #D2E3FC;\n",
              "    }\n",
              "\n",
              "    [theme=dark] .colab-df-convert:hover {\n",
              "      background-color: #434B5C;\n",
              "      box-shadow: 0px 1px 3px 1px rgba(0, 0, 0, 0.15);\n",
              "      filter: drop-shadow(0px 1px 2px rgba(0, 0, 0, 0.3));\n",
              "      fill: #FFFFFF;\n",
              "    }\n",
              "  </style>\n",
              "\n",
              "      <script>\n",
              "        const buttonEl =\n",
              "          document.querySelector('#df-45f05915-aca1-4b9d-a043-5cda81d33198 button.colab-df-convert');\n",
              "        buttonEl.style.display =\n",
              "          google.colab.kernel.accessAllowed ? 'block' : 'none';\n",
              "\n",
              "        async function convertToInteractive(key) {\n",
              "          const element = document.querySelector('#df-45f05915-aca1-4b9d-a043-5cda81d33198');\n",
              "          const dataTable =\n",
              "            await google.colab.kernel.invokeFunction('convertToInteractive',\n",
              "                                                     [key], {});\n",
              "          if (!dataTable) return;\n",
              "\n",
              "          const docLinkHtml = 'Like what you see? Visit the ' +\n",
              "            '<a target=\"_blank\" href=https://colab.research.google.com/notebooks/data_table.ipynb>data table notebook</a>'\n",
              "            + ' to learn more about interactive tables.';\n",
              "          element.innerHTML = '';\n",
              "          dataTable['output_type'] = 'display_data';\n",
              "          await google.colab.output.renderOutput(dataTable, element);\n",
              "          const docLink = document.createElement('div');\n",
              "          docLink.innerHTML = docLinkHtml;\n",
              "          element.appendChild(docLink);\n",
              "        }\n",
              "      </script>\n",
              "    </div>\n",
              "  </div>\n",
              "  "
            ]
          },
          "metadata": {},
          "execution_count": 25
        }
      ]
    },
    {
      "cell_type": "markdown",
      "source": [
        "### Recall the same dataset from Chapter 3 Descriptive Measures?\n",
        "\n",
        "Let's visualize as a time series."
      ],
      "metadata": {
        "id": "z3NW6fC030n7"
      }
    },
    {
      "cell_type": "code",
      "source": [
        "# lets visualize the time series\n",
        "df.set_index('Year',inplace=True)"
      ],
      "metadata": {
        "id": "2WBA6Sok39Qi"
      },
      "execution_count": 26,
      "outputs": []
    },
    {
      "cell_type": "code",
      "source": [
        "fig, ax = plt.subplots(1, 1, figsize=(8, 6))\n",
        "# plot the values for each index\n",
        "df['Growth'].plot(c='b', ax = ax)\n",
        "df['Value'].plot(c='r', ax = ax)\n",
        "\n",
        "# plot the average return\n",
        "plt.axhline(y=df['Growth'].mean(), color='b', linestyle='--')\n",
        "plt.axhline(y=df['Value'].mean(), color='r', linestyle='--')\n",
        "\n",
        "# add legend and labels\n",
        "plt.legend(loc=4)\n",
        "plt.title(\"Annual Return for Fidelity's Growth and Value Index Fund\", size=15)\n",
        "plt.xlabel('Year', size=12)\n",
        "plt.ylabel('Annual Return (%)', size=12)\n",
        "plt.show()"
      ],
      "metadata": {
        "colab": {
          "base_uri": "https://localhost:8080/",
          "height": 409
        },
        "id": "8kWGWbdq4AVZ",
        "outputId": "a3055441-d860-4a67-b269-b634473ee54f"
      },
      "execution_count": 30,
      "outputs": [
        {
          "output_type": "display_data",
          "data": {
            "text/plain": [
              "<Figure size 576x432 with 1 Axes>"
            ],
            "image/png": "[encoded data removed]"
          },
          "metadata": {
            "needs_background": "light"
          }
        }
      ]
    },
    {
      "cell_type": "markdown",
      "source": [
        "Caption here might remark on the annual return spikes that are noticable in the growth fund before 2000 that didn't appear to affect the Value fund in the same way. However both the Growth and Value fund had negative annual retun in a similar dip in ~2008.\n",
        "\n",
        "Other items to notice are the cyclical nature of the datapoints that seem to occilate each year between high and low. With the Growth fund to have higher highs and the Value to have lower lows in the years 1985-1995."
      ],
      "metadata": {
        "id": "kaooUq9C4aKN"
      }
    },
    {
      "cell_type": "code",
      "metadata": {
        "colab": {
          "base_uri": "https://localhost:8080/"
        },
        "id": "kaJQQlJ9EC0-",
        "outputId": "c5a3ca6f-7914-42ab-d348-18bd1491d5c3"
      },
      "source": [
        "# to calculate the sample standard deviation\n",
        "s_growth = df['Growth'].std()\n",
        "s_growth"
      ],
      "execution_count": 40,
      "outputs": [
        {
          "output_type": "execute_result",
          "data": {
            "text/plain": [
              "23.799285403437764"
            ]
          },
          "metadata": {},
          "execution_count": 40
        }
      ]
    },
    {
      "cell_type": "code",
      "metadata": {
        "colab": {
          "base_uri": "https://localhost:8080/"
        },
        "id": "WroXl7sREIQf",
        "outputId": "fb886d3c-da98-4028-cbe3-f97ced3723b0"
      },
      "source": [
        "v_growth = df['Value'].std()\n",
        "v_growth"
      ],
      "execution_count": 41,
      "outputs": [
        {
          "output_type": "execute_result",
          "data": {
            "text/plain": [
              "17.97918725320236"
            ]
          },
          "metadata": {},
          "execution_count": 41
        }
      ]
    },
    {
      "cell_type": "code",
      "metadata": {
        "id": "QBoyDJ8pEOTw"
      },
      "source": [
        "# determine 95% confidence interval\n",
        "n = len(df)\n",
        "# degrees of freedom\n",
        "degf = n - 1\n",
        "\n",
        "# a = 0.05, a/2 = 0.025\n",
        "upper_tail = (1 - .95)/2\n",
        "lower_tail = 1 - upper_tail"
      ],
      "execution_count": 42,
      "outputs": []
    },
    {
      "cell_type": "code",
      "metadata": {
        "colab": {
          "base_uri": "https://localhost:8080/"
        },
        "id": "XRpPYwo-E-3Q",
        "outputId": "bbc372ec-e541-45b5-8d58-4c86707aec78"
      },
      "source": [
        "# lower tail\n",
        "lower_x = stats.chi2.ppf(lower_tail, degf)\n",
        "lower_x"
      ],
      "execution_count": 43,
      "outputs": [
        {
          "output_type": "execute_result",
          "data": {
            "text/plain": [
              "53.20334854205644"
            ]
          },
          "metadata": {},
          "execution_count": 43
        }
      ]
    },
    {
      "cell_type": "code",
      "metadata": {
        "colab": {
          "base_uri": "https://localhost:8080/"
        },
        "id": "20IoWWkJE_O9",
        "outputId": "807fb66a-f34d-4f96-f042-d7e1ee343f99"
      },
      "source": [
        "# upper tail\n",
        "upper_x = stats.chi2.ppf(upper_tail, degf)\n",
        "upper_x"
      ],
      "execution_count": 45,
      "outputs": [
        {
          "output_type": "execute_result",
          "data": {
            "text/plain": [
              "20.56937663074498"
            ]
          },
          "metadata": {},
          "execution_count": 45
        }
      ]
    },
    {
      "cell_type": "code",
      "metadata": {
        "id": "_hmJsHViF1ms"
      },
      "source": [
        "def conf_interval(degf, s_std, lower_x, upper_x):\n",
        "  \"\"\"\n",
        "  Calculate lower and upper bound confidence interval,\n",
        "  Standard deviation is squared to obtain the variance\n",
        "  \"\"\"\n",
        "  lower_bound = (degf*s_std**2)/lower_x\n",
        "  upper_bound = (degf*s_std**2)/upper_x\n",
        "  return [lower_bound, upper_bound]"
      ],
      "execution_count": 46,
      "outputs": []
    },
    {
      "cell_type": "code",
      "metadata": {
        "colab": {
          "base_uri": "https://localhost:8080/"
        },
        "id": "hNzk2_KEGt1i",
        "outputId": "cded27d6-ca36-4ae7-b614-8c690d89cb57"
      },
      "source": [
        "c_interval = conf_interval(degf, s_growth, lower_x, upper_x)\n",
        "c_interval"
      ],
      "execution_count": 47,
      "outputs": [
        {
          "output_type": "execute_result",
          "data": {
            "text/plain": [
              "[372.6120637750699, 963.7729842706474]"
            ]
          },
          "metadata": {},
          "execution_count": 47
        }
      ]
    },
    {
      "cell_type": "code",
      "metadata": {
        "colab": {
          "base_uri": "https://localhost:8080/"
        },
        "id": "pn2UKsV8Gz5U",
        "outputId": "2e71602b-17d9-47fa-d85f-512db1bc8df8"
      },
      "source": [
        "# Calculate the population standard deviation\n",
        "[math.sqrt(x) for x in c_interval]"
      ],
      "execution_count": 48,
      "outputs": [
        {
          "output_type": "execute_result",
          "data": {
            "text/plain": [
              "[19.30316201494123, 31.044693335103947]"
            ]
          },
          "metadata": {},
          "execution_count": 48
        }
      ]
    },
    {
      "cell_type": "markdown",
      "metadata": {
        "id": "_fE5OsyrIBap"
      },
      "source": [
        "Calculate for Value fund"
      ]
    },
    {
      "cell_type": "code",
      "metadata": {
        "colab": {
          "base_uri": "https://localhost:8080/"
        },
        "id": "1rNW1FsKIAni",
        "outputId": "88a65895-888d-4f3e-d4da-6d246c543ffd"
      },
      "source": [
        "c_interval = conf_interval(degf, v_growth, lower_x, upper_x)\n",
        "c_interval"
      ],
      "execution_count": 49,
      "outputs": [
        {
          "output_type": "execute_result",
          "data": {
            "text/plain": [
              "[212.65186139659275, 550.0308202383399]"
            ]
          },
          "metadata": {},
          "execution_count": 49
        }
      ]
    },
    {
      "cell_type": "code",
      "metadata": {
        "colab": {
          "base_uri": "https://localhost:8080/"
        },
        "id": "w1UEM3CVHSbT",
        "outputId": "94fe43c0-90b4-446d-e614-de5913892798"
      },
      "source": [
        "# Calculate the population standard deviation\n",
        "[math.sqrt(x) for x in c_interval]"
      ],
      "execution_count": 50,
      "outputs": [
        {
          "output_type": "execute_result",
          "data": {
            "text/plain": [
              "[14.582587609769151, 23.452735879601335]"
            ]
          },
          "metadata": {},
          "execution_count": 50
        }
      ]
    },
    {
      "cell_type": "markdown",
      "metadata": {
        "id": "0tDfTMJHIXZJ"
      },
      "source": [
        "### Hypothesis Test for the Population Variance\n",
        "\n",
        "Example 11.4\n",
        "\n",
        "Is the standard deviation of returns for the Value fund different than 15%? (Equivalent to test if the variance differs from 225<sup>2</sup>. Conduct at 5% significance level.\n",
        "\n",
        "H<sub>0</sub>\n",
        " :  σ<sup>2</sup> = 225\n",
        "\n",
        "H<sub>A</sub> : σ<sup>2</sup> ≠ 225\n",
        "\n",
        "α = 0.05"
      ]
    },
    {
      "cell_type": "code",
      "metadata": {
        "colab": {
          "base_uri": "https://localhost:8080/"
        },
        "id": "f1NfKHOJIRbN",
        "outputId": "3db9a320-2b4b-4d0c-a9e8-c75e646ec976"
      },
      "source": [
        "n = 36\n",
        "a = 0.05\n",
        "f_exp = 225\n",
        "v_growth = df['Value'].std()\n",
        "v_growth"
      ],
      "execution_count": 51,
      "outputs": [
        {
          "output_type": "execute_result",
          "data": {
            "text/plain": [
              "17.97918725320236"
            ]
          },
          "metadata": {},
          "execution_count": 51
        }
      ]
    },
    {
      "cell_type": "code",
      "metadata": {
        "id": "NXwxfiahOUoY"
      },
      "source": [
        "def var_test(x, va0, direction = \"two-tailed\", alpha = 0.05):\n",
        "    # size of sample\n",
        "    n = len(x)\n",
        "    # value of test statistic\n",
        "    Q = (n - 1) * np.var(x) / va0 # va is the expected variance from null hypothesis\n",
        "    print('Test statistic is:', Q)\n",
        "    \n",
        "    # tests for one tail lower\n",
        "    if direction == \"lower\":\n",
        "        q = chi2.ppf(alpha, n - 1)\n",
        "        print(\"lower-bound:\", q)\n",
        "        if Q <= q:\n",
        "            return \"H_0 rejected\"\n",
        "        else:\n",
        "            return \"H_0 not rejected\"\n",
        "    # tests for one tail upper\n",
        "    elif direction == \"upper\":\n",
        "        q = chi2.ppf(1 - alpha, n - 1)\n",
        "        print(\"upper-bound:\",q)\n",
        "        if Q >= q:\n",
        "            return \"H_0 rejected\"\n",
        "        else:\n",
        "            return \"H_0 not rejected\"\n",
        "    # tests for two tail\n",
        "    else:\n",
        "        q1 = chi2.ppf(alpha / 2, n - 1)\n",
        "        q2 = chi2.ppf(1 - (alpha / 2), n - 1)\n",
        "        print(\"lower-bound, upper-bound:\", q1, q2)\n",
        "        if Q <= q1 or Q >= q2:\n",
        "            return \"H_0 rejected\"\n",
        "        else:\n",
        "            return \"H_0 not rejected\""
      ],
      "execution_count": 57,
      "outputs": []
    },
    {
      "cell_type": "code",
      "metadata": {
        "colab": {
          "base_uri": "https://localhost:8080/",
          "height": 70
        },
        "id": "aRqTxsUbNQEN",
        "outputId": "d16e4cef-591d-4cea-cbfc-1702c8dfdbc6"
      },
      "source": [
        "var_test(df['Value'], va0 = f_exp, direction=\"two-tailed\", alpha=a)"
      ],
      "execution_count": 58,
      "outputs": [
        {
          "output_type": "stream",
          "name": "stdout",
          "text": [
            "Test statistic is: 48.886751666666676\n",
            "lower-bound, upper-bound: 20.56937663074499 53.20334854205644\n"
          ]
        },
        {
          "output_type": "execute_result",
          "data": {
            "text/plain": [
              "'H_0 not rejected'"
            ],
            "application/vnd.google.colaboratory.intrinsic+json": {
              "type": "string"
            }
          },
          "metadata": {},
          "execution_count": 58
        }
      ]
    },
    {
      "cell_type": "markdown",
      "metadata": {
        "id": "K1JZX32wSek2"
      },
      "source": [
        "Test statistic shows that the X<sup>2</sup><sub>2</sub> is 48.88. We do not reject the null hypothesis because the lower bound is less than the test statistic and the upper bound is greater. "
      ]
    }
  ]
}