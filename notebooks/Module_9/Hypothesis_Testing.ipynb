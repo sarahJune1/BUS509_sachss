{
  "nbformat": 4,
  "nbformat_minor": 0,
  "metadata": {
    "colab": {
      "name": "Hypothesis Testing.ipynb",
      "provenance": [],
      "authorship_tag": "ABX9TyNUrPXzI43u3ZqDIhRsv1wX",
      "include_colab_link": true
    },
    "kernelspec": {
      "name": "python3",
      "display_name": "Python 3"
    },
    "language_info": {
      "name": "python"
    }
  },
  "cells": [
    {
      "cell_type": "markdown",
      "metadata": {
        "id": "view-in-github",
        "colab_type": "text"
      },
      "source": [
        "<a href=\"https://colab.research.google.com/github/sarahJune1/BUS509_sachss/blob/main/notebooks/Module_9/Hypothesis_Testing.ipynb\" target=\"_parent\"><img src=\"https://colab.research.google.com/assets/colab-badge.svg\" alt=\"Open In Colab\"/></a>"
      ]
    },
    {
      "cell_type": "code",
      "metadata": {
        "id": "BZdBS_V4WZB6",
        "colab": {
          "base_uri": "https://localhost:8080/"
        },
        "outputId": "6d57abc1-0c54-4773-c5aa-ab25cc8b7bd9"
      },
      "source": [
        "import statsmodels.api as sm\n",
        "import matplotlib.pyplot as plt\n",
        "from scipy import stats as stats\n",
        "import math\n",
        "import numpy as np"
      ],
      "execution_count": 1,
      "outputs": [
        {
          "output_type": "stream",
          "name": "stderr",
          "text": [
            "/usr/local/lib/python3.7/dist-packages/statsmodels/tools/_testing.py:19: FutureWarning: pandas.util.testing is deprecated. Use the functions in the public API at pandas.testing instead.\n",
            "  import pandas.util.testing as tm\n"
          ]
        }
      ]
    },
    {
      "cell_type": "markdown",
      "source": [
        "# Module Nine: Hypothesis Testing\n",
        "\n",
        "In this module, we will learn about hypothesis testing. This will allow us to test our assumptions and how we understand a population using the sample statistics. \n"
      ],
      "metadata": {
        "id": "CCHOHDWEckCF"
      }
    },
    {
      "cell_type": "markdown",
      "metadata": {
        "id": "Nh1N262jQf0r"
      },
      "source": [
        "# Expenditure and Default Data\n",
        "Description:\n",
        "\n",
        "Cross-section data on the credit history for a sample of applicants for a type of credit card.\n",
        "\n",
        "https://vincentarelbundock.github.io/Rdatasets/doc/AER/CreditCard.html\n"
      ]
    },
    {
      "cell_type": "code",
      "metadata": {
        "id": "ovxD92t4OnIe"
      },
      "source": [
        "df = sm.datasets.get_rdataset(\"CreditCard\", \"AER\").data"
      ],
      "execution_count": 2,
      "outputs": []
    },
    {
      "cell_type": "code",
      "source": [
        "df.head()"
      ],
      "metadata": {
        "colab": {
          "base_uri": "https://localhost:8080/",
          "height": 206
        },
        "id": "Bsy9DD44EdiH",
        "outputId": "119bd6d8-48a3-4ebc-e3d9-548272e965c9"
      },
      "execution_count": 3,
      "outputs": [
        {
          "output_type": "execute_result",
          "data": {
            "text/plain": [
              "  card  reports       age  income     share  expenditure owner selfemp  \\\n",
              "0  yes        0  37.66667  4.5200  0.033270   124.983300   yes      no   \n",
              "1  yes        0  33.25000  2.4200  0.005217     9.854167    no      no   \n",
              "2  yes        0  33.66667  4.5000  0.004156    15.000000   yes      no   \n",
              "3  yes        0  30.50000  2.5400  0.065214   137.869200    no      no   \n",
              "4  yes        0  32.16667  9.7867  0.067051   546.503300   yes      no   \n",
              "\n",
              "   dependents  months  majorcards  active  \n",
              "0           3      54           1      12  \n",
              "1           3      34           1      13  \n",
              "2           4      58           1       5  \n",
              "3           0      25           1       7  \n",
              "4           2      64           1       5  "
            ],
            "text/html": [
              "\n",
              "  <div id=\"df-5196c17e-41c6-459e-b697-4cf282b25256\">\n",
              "    <div class=\"colab-df-container\">\n",
              "      <div>\n",
              "<style scoped>\n",
              "    .dataframe tbody tr th:only-of-type {\n",
              "        vertical-align: middle;\n",
              "    }\n",
              "\n",
              "    .dataframe tbody tr th {\n",
              "        vertical-align: top;\n",
              "    }\n",
              "\n",
              "    .dataframe thead th {\n",
              "        text-align: right;\n",
              "    }\n",
              "</style>\n",
              "<table border=\"1\" class=\"dataframe\">\n",
              "  <thead>\n",
              "    <tr style=\"text-align: right;\">\n",
              "      <th></th>\n",
              "      <th>card</th>\n",
              "      <th>reports</th>\n",
              "      <th>age</th>\n",
              "      <th>income</th>\n",
              "      <th>share</th>\n",
              "      <th>expenditure</th>\n",
              "      <th>owner</th>\n",
              "      <th>selfemp</th>\n",
              "      <th>dependents</th>\n",
              "      <th>months</th>\n",
              "      <th>majorcards</th>\n",
              "      <th>active</th>\n",
              "    </tr>\n",
              "  </thead>\n",
              "  <tbody>\n",
              "    <tr>\n",
              "      <th>0</th>\n",
              "      <td>yes</td>\n",
              "      <td>0</td>\n",
              "      <td>37.66667</td>\n",
              "      <td>4.5200</td>\n",
              "      <td>0.033270</td>\n",
              "      <td>124.983300</td>\n",
              "      <td>yes</td>\n",
              "      <td>no</td>\n",
              "      <td>3</td>\n",
              "      <td>54</td>\n",
              "      <td>1</td>\n",
              "      <td>12</td>\n",
              "    </tr>\n",
              "    <tr>\n",
              "      <th>1</th>\n",
              "      <td>yes</td>\n",
              "      <td>0</td>\n",
              "      <td>33.25000</td>\n",
              "      <td>2.4200</td>\n",
              "      <td>0.005217</td>\n",
              "      <td>9.854167</td>\n",
              "      <td>no</td>\n",
              "      <td>no</td>\n",
              "      <td>3</td>\n",
              "      <td>34</td>\n",
              "      <td>1</td>\n",
              "      <td>13</td>\n",
              "    </tr>\n",
              "    <tr>\n",
              "      <th>2</th>\n",
              "      <td>yes</td>\n",
              "      <td>0</td>\n",
              "      <td>33.66667</td>\n",
              "      <td>4.5000</td>\n",
              "      <td>0.004156</td>\n",
              "      <td>15.000000</td>\n",
              "      <td>yes</td>\n",
              "      <td>no</td>\n",
              "      <td>4</td>\n",
              "      <td>58</td>\n",
              "      <td>1</td>\n",
              "      <td>5</td>\n",
              "    </tr>\n",
              "    <tr>\n",
              "      <th>3</th>\n",
              "      <td>yes</td>\n",
              "      <td>0</td>\n",
              "      <td>30.50000</td>\n",
              "      <td>2.5400</td>\n",
              "      <td>0.065214</td>\n",
              "      <td>137.869200</td>\n",
              "      <td>no</td>\n",
              "      <td>no</td>\n",
              "      <td>0</td>\n",
              "      <td>25</td>\n",
              "      <td>1</td>\n",
              "      <td>7</td>\n",
              "    </tr>\n",
              "    <tr>\n",
              "      <th>4</th>\n",
              "      <td>yes</td>\n",
              "      <td>0</td>\n",
              "      <td>32.16667</td>\n",
              "      <td>9.7867</td>\n",
              "      <td>0.067051</td>\n",
              "      <td>546.503300</td>\n",
              "      <td>yes</td>\n",
              "      <td>no</td>\n",
              "      <td>2</td>\n",
              "      <td>64</td>\n",
              "      <td>1</td>\n",
              "      <td>5</td>\n",
              "    </tr>\n",
              "  </tbody>\n",
              "</table>\n",
              "</div>\n",
              "      <button class=\"colab-df-convert\" onclick=\"convertToInteractive('df-5196c17e-41c6-459e-b697-4cf282b25256')\"\n",
              "              title=\"Convert this dataframe to an interactive table.\"\n",
              "              style=\"display:none;\">\n",
              "        \n",
              "  <svg xmlns=\"http://www.w3.org/2000/svg\" height=\"24px\"viewBox=\"0 0 24 24\"\n",
              "       width=\"24px\">\n",
              "    <path d=\"M0 0h24v24H0V0z\" fill=\"none\"/>\n",
              "    <path d=\"M18.56 5.44l.94 2.06.94-2.06 2.06-.94-2.06-.94-.94-2.06-.94 2.06-2.06.94zm-11 1L8.5 8.5l.94-2.06 2.06-.94-2.06-.94L8.5 2.5l-.94 2.06-2.06.94zm10 10l.94 2.06.94-2.06 2.06-.94-2.06-.94-.94-2.06-.94 2.06-2.06.94z\"/><path d=\"M17.41 7.96l-1.37-1.37c-.4-.4-.92-.59-1.43-.59-.52 0-1.04.2-1.43.59L10.3 9.45l-7.72 7.72c-.78.78-.78 2.05 0 2.83L4 21.41c.39.39.9.59 1.41.59.51 0 1.02-.2 1.41-.59l7.78-7.78 2.81-2.81c.8-.78.8-2.07 0-2.86zM5.41 20L4 18.59l7.72-7.72 1.47 1.35L5.41 20z\"/>\n",
              "  </svg>\n",
              "      </button>\n",
              "      \n",
              "  <style>\n",
              "    .colab-df-container {\n",
              "      display:flex;\n",
              "      flex-wrap:wrap;\n",
              "      gap: 12px;\n",
              "    }\n",
              "\n",
              "    .colab-df-convert {\n",
              "      background-color: #E8F0FE;\n",
              "      border: none;\n",
              "      border-radius: 50%;\n",
              "      cursor: pointer;\n",
              "      display: none;\n",
              "      fill: #1967D2;\n",
              "      height: 32px;\n",
              "      padding: 0 0 0 0;\n",
              "      width: 32px;\n",
              "    }\n",
              "\n",
              "    .colab-df-convert:hover {\n",
              "      background-color: #E2EBFA;\n",
              "      box-shadow: 0px 1px 2px rgba(60, 64, 67, 0.3), 0px 1px 3px 1px rgba(60, 64, 67, 0.15);\n",
              "      fill: #174EA6;\n",
              "    }\n",
              "\n",
              "    [theme=dark] .colab-df-convert {\n",
              "      background-color: #3B4455;\n",
              "      fill: #D2E3FC;\n",
              "    }\n",
              "\n",
              "    [theme=dark] .colab-df-convert:hover {\n",
              "      background-color: #434B5C;\n",
              "      box-shadow: 0px 1px 3px 1px rgba(0, 0, 0, 0.15);\n",
              "      filter: drop-shadow(0px 1px 2px rgba(0, 0, 0, 0.3));\n",
              "      fill: #FFFFFF;\n",
              "    }\n",
              "  </style>\n",
              "\n",
              "      <script>\n",
              "        const buttonEl =\n",
              "          document.querySelector('#df-5196c17e-41c6-459e-b697-4cf282b25256 button.colab-df-convert');\n",
              "        buttonEl.style.display =\n",
              "          google.colab.kernel.accessAllowed ? 'block' : 'none';\n",
              "\n",
              "        async function convertToInteractive(key) {\n",
              "          const element = document.querySelector('#df-5196c17e-41c6-459e-b697-4cf282b25256');\n",
              "          const dataTable =\n",
              "            await google.colab.kernel.invokeFunction('convertToInteractive',\n",
              "                                                     [key], {});\n",
              "          if (!dataTable) return;\n",
              "\n",
              "          const docLinkHtml = 'Like what you see? Visit the ' +\n",
              "            '<a target=\"_blank\" href=https://colab.research.google.com/notebooks/data_table.ipynb>data table notebook</a>'\n",
              "            + ' to learn more about interactive tables.';\n",
              "          element.innerHTML = '';\n",
              "          dataTable['output_type'] = 'display_data';\n",
              "          await google.colab.output.renderOutput(dataTable, element);\n",
              "          const docLink = document.createElement('div');\n",
              "          docLink.innerHTML = docLinkHtml;\n",
              "          element.appendChild(docLink);\n",
              "        }\n",
              "      </script>\n",
              "    </div>\n",
              "  </div>\n",
              "  "
            ]
          },
          "metadata": {},
          "execution_count": 3
        }
      ]
    },
    {
      "cell_type": "markdown",
      "metadata": {
        "id": "4sqdi5bZQv5F"
      },
      "source": [
        "Market analyst wants to establish that the mean age for individuals who are rejected from credit card is less than 25 (μ < 25). It is assumed card applications age is normally distributed with a known population standard deviation of 10 years (σ = 10). Calculate at 95% significance level.\n",
        "\n",
        "H<sub>0</sub>\n",
        " :  μ ≥ 25\n",
        "\n",
        "H<sub>A</sub> : μ < 25\n",
        "\n",
        "α = 0.05"
      ]
    },
    {
      "cell_type": "code",
      "metadata": {
        "id": "vcauXyd8WMUX"
      },
      "source": [
        "# define mu 0\n",
        "mu_0 = 25"
      ],
      "execution_count": 4,
      "outputs": []
    },
    {
      "cell_type": "code",
      "metadata": {
        "id": "j0TvMIQbOzzy"
      },
      "source": [
        "df.head()"
      ],
      "execution_count": null,
      "outputs": []
    },
    {
      "cell_type": "code",
      "metadata": {
        "colab": {
          "base_uri": "https://localhost:8080/",
          "height": 312
        },
        "id": "JS4Kh6aET5fz",
        "outputId": "19eb0c26-dc31-4f9c-aec9-bf5a86481311"
      },
      "source": [
        "df.age.hist()\n",
        "plt.title('Distribution of Age')\n",
        "plt.xlabel('Age')\n",
        "plt.ylabel('Frequency')"
      ],
      "execution_count": 5,
      "outputs": [
        {
          "output_type": "execute_result",
          "data": {
            "text/plain": [
              "Text(0, 0.5, 'Frequency')"
            ]
          },
          "metadata": {},
          "execution_count": 5
        },
        {
          "output_type": "display_data",
          "data": {
            "text/plain": [
              "<Figure size 432x288 with 1 Axes>"
            ],
            "image/png": "[encoded data removed]"
          },
          "metadata": {
            "needs_background": "light"
          }
        }
      ]
    },
    {
      "cell_type": "markdown",
      "source": [
        "Normally distributed with the average around 30. We don't see that many applicants in the pool below 20."
      ],
      "metadata": {
        "id": "j1eIWPDrFU0V"
      }
    },
    {
      "cell_type": "code",
      "source": [
        "df['card'].value_counts()"
      ],
      "metadata": {
        "colab": {
          "base_uri": "https://localhost:8080/"
        },
        "id": "M97WGJHEFu5J",
        "outputId": "41565f93-e545-4956-c5d9-0cc8a72e7782"
      },
      "execution_count": 6,
      "outputs": [
        {
          "output_type": "execute_result",
          "data": {
            "text/plain": [
              "yes    1023\n",
              "no      296\n",
              "Name: card, dtype: int64"
            ]
          },
          "metadata": {},
          "execution_count": 6
        }
      ]
    },
    {
      "cell_type": "code",
      "metadata": {
        "id": "JstpNaK6O0j0"
      },
      "source": [
        "# create subset for df with application not accepted.\n",
        "reject_pop = df[df['card'] == 'no']"
      ],
      "execution_count": 7,
      "outputs": []
    },
    {
      "cell_type": "code",
      "source": [
        "reject_pop['card'].value_counts()"
      ],
      "metadata": {
        "colab": {
          "base_uri": "https://localhost:8080/"
        },
        "id": "qU3RLKWMGKii",
        "outputId": "082f4c82-f61b-46cc-a55b-acf7d7a79fb6"
      },
      "execution_count": 12,
      "outputs": [
        {
          "output_type": "execute_result",
          "data": {
            "text/plain": [
              "no    296\n",
              "Name: card, dtype: int64"
            ]
          },
          "metadata": {},
          "execution_count": 12
        }
      ]
    },
    {
      "cell_type": "code",
      "metadata": {
        "id": "YZfDPFD5VIPK",
        "colab": {
          "base_uri": "https://localhost:8080/"
        },
        "outputId": "e9965f56-e478-4558-f771-72c6a5246feb"
      },
      "source": [
        "# calculate population standard deviation\n",
        "pop_std = reject_pop.age.std()\n",
        "pop_std"
      ],
      "execution_count": 9,
      "outputs": [
        {
          "output_type": "execute_result",
          "data": {
            "text/plain": [
              "9.921287130955733"
            ]
          },
          "metadata": {},
          "execution_count": 9
        }
      ]
    },
    {
      "cell_type": "markdown",
      "metadata": {
        "id": "lSSNQEg8VfqA"
      },
      "source": [
        "Let a random sample of 20 applicants who were rejected from a card equal:"
      ]
    },
    {
      "cell_type": "code",
      "metadata": {
        "id": "6oQjhGrMQ9O_"
      },
      "source": [
        "n = 20\n",
        "sample_0 = reject_pop.sample(n=n, random_state=185)"
      ],
      "execution_count": 13,
      "outputs": []
    },
    {
      "cell_type": "code",
      "metadata": {
        "colab": {
          "base_uri": "https://localhost:8080/"
        },
        "id": "iu_QlUITTHzt",
        "outputId": "8aacdc19-42dc-4dfb-824a-81797fa20ea6"
      },
      "source": [
        "# calculate sample mean.\n",
        "x_bar = sample_0.age.mean()\n",
        "x_bar"
      ],
      "execution_count": 14,
      "outputs": [
        {
          "output_type": "execute_result",
          "data": {
            "text/plain": [
              "29.462500499999994"
            ]
          },
          "metadata": {},
          "execution_count": 14
        }
      ]
    },
    {
      "cell_type": "markdown",
      "metadata": {
        "id": "rxovdeZYTs28"
      },
      "source": [
        "This sample evidence casts doubt on validity of null hypothesis, since the mean is greater than hypothesized value of 25. But this discrepancy does not necessarily imply that the null hypothesis is false.\n",
        "\n",
        "What if this is pure chance? We must evaluate the test statistic."
      ]
    },
    {
      "cell_type": "code",
      "metadata": {
        "id": "CKgYVUE_UXhg"
      },
      "source": [
        "def z_test(x_bar, mu_0, pop_std, n):\n",
        "  \"\"\"\n",
        "  Formula for z test using the sample mean\n",
        "  \"\"\"\n",
        "  sqrt_n = math.sqrt(n)\n",
        "  z = (x_bar - mu_0)/(pop_std/sqrt_n)\n",
        "  return z"
      ],
      "execution_count": 16,
      "outputs": []
    },
    {
      "cell_type": "code",
      "metadata": {
        "colab": {
          "base_uri": "https://localhost:8080/"
        },
        "id": "46xBKktOVCVm",
        "outputId": "e43faf4b-3434-4bc3-ef4a-f74a05ab9068"
      },
      "source": [
        "# calculate the test statistic\n",
        "z_score = z_test(x_bar, mu_0, pop_std, n)\n",
        "z_score"
      ],
      "execution_count": 17,
      "outputs": [
        {
          "output_type": "execute_result",
          "data": {
            "text/plain": [
              "2.011524177441188"
            ]
          },
          "metadata": {},
          "execution_count": 17
        }
      ]
    },
    {
      "cell_type": "markdown",
      "metadata": {
        "id": "FbJkwfKOWY7J"
      },
      "source": [
        "Find the p-value."
      ]
    },
    {
      "cell_type": "code",
      "metadata": {
        "colab": {
          "base_uri": "https://localhost:8080/",
          "height": 281
        },
        "id": "ODdwuzd2V3VL",
        "outputId": "d8a73746-a924-4fcd-f398-7071bce78e2e"
      },
      "source": [
        "fig, ax = plt.subplots()\n",
        "# calculate mean and std\n",
        "mean=reject_pop.age.mean()\n",
        "std=pop_std\n",
        "x=np.linspace(mean-3*std, mean+3*std,250)\n",
        "iq=stats.norm(mean,std)\n",
        "plt.plot(x,iq.pdf(x),'b')\n",
        "\n",
        "px=np.arange(0,mu_0,1)\n",
        "plt.fill_between(px,iq.pdf(px),color='r')\n",
        "plt.title('Distribution for Hypothesis')\n",
        "plt.yticks([])\n",
        "ax.spines['right'].set_visible(False)\n",
        "ax.spines['left'].set_visible(False)\n",
        "ax.spines['top'].set_visible(False)\n",
        "\n",
        "plt.show()"
      ],
      "execution_count": 18,
      "outputs": [
        {
          "output_type": "display_data",
          "data": {
            "text/plain": [
              "<Figure size 432x288 with 1 Axes>"
            ],
            "image/png": "[encoded data removed]"
          },
          "metadata": {
            "needs_background": "light"
          }
        }
      ]
    },
    {
      "cell_type": "code",
      "metadata": {
        "colab": {
          "base_uri": "https://localhost:8080/"
        },
        "id": "V2F17X__YHz8",
        "outputId": "add44b25-b04a-4114-c7b5-0f511ec5d8a2"
      },
      "source": [
        "# convert z score to a p-value\n",
        "p_value = stats.norm.sf(abs(z_score)) #one-sided\n",
        "p_value"
      ],
      "execution_count": 19,
      "outputs": [
        {
          "output_type": "execute_result",
          "data": {
            "text/plain": [
              "0.02213505959365852"
            ]
          },
          "metadata": {},
          "execution_count": 19
        }
      ]
    },
    {
      "cell_type": "markdown",
      "source": [
        "This survival function is equivalent to 1 - cdf\n",
        "\n",
        "https://docs.scipy.org/doc/scipy/reference/generated/scipy.stats.norm.html"
      ],
      "metadata": {
        "id": "uztHaINMvLRM"
      }
    },
    {
      "cell_type": "code",
      "source": [
        "1 - stats.norm.cdf(abs(z_score))"
      ],
      "metadata": {
        "colab": {
          "base_uri": "https://localhost:8080/"
        },
        "id": "N-4N3uTbvHEG",
        "outputId": "b46b6d20-e196-4e4b-c33a-9866e2896448"
      },
      "execution_count": 20,
      "outputs": [
        {
          "output_type": "execute_result",
          "data": {
            "text/plain": [
              "0.022135059593658468"
            ]
          },
          "metadata": {},
          "execution_count": 20
        }
      ]
    },
    {
      "cell_type": "code",
      "metadata": {
        "colab": {
          "base_uri": "https://localhost:8080/"
        },
        "id": "oyePWm72ZsRZ",
        "outputId": "323bfa69-8e00-4170-e815-c63df6f87d77"
      },
      "source": [
        "print(f\"When the null hypothesis is true, there is only a {round(p_value*100,2)}% chance that the sample mean will be 25 or less. This seems like a small chance. \")"
      ],
      "execution_count": 21,
      "outputs": [
        {
          "output_type": "stream",
          "name": "stdout",
          "text": [
            "When the null hypothesis is true, there is only a 2.21% chance that the sample mean will be 25 or less. This seems like a small chance. \n"
          ]
        }
      ]
    },
    {
      "cell_type": "markdown",
      "metadata": {
        "id": "ZwWO-xZUa-k6"
      },
      "source": [
        "Is this small enough to reject the null hypothesis in favor of the alternative?\n",
        "\n",
        "p-value is the observed probability of making a Type I error. Recall\n",
        "\n",
        "- Reject the null hypothesis if the p-value < α, or\n",
        "\n",
        "- Do not reject the null hypothesis if the p-value ≥ α\n"
      ]
    },
    {
      "cell_type": "code",
      "metadata": {
        "colab": {
          "base_uri": "https://localhost:8080/"
        },
        "id": "naIS3TuOau5Q",
        "outputId": "7bdaceba-541a-4f78-95db-cf944d741abc"
      },
      "source": [
        "print(f\"Given the p-value of {round(p_value,5)}, if we decide to reject the null hypothesis, there is a {round(p_value*100,2)}% chance that our decision will be erroneous.\")"
      ],
      "execution_count": 22,
      "outputs": [
        {
          "output_type": "stream",
          "name": "stdout",
          "text": [
            "Given the p-value of 0.02214, if we decide to reject the null hypothesis, there is a 2.21% chance that our decision will be erroneous.\n"
          ]
        }
      ]
    },
    {
      "cell_type": "code",
      "metadata": {
        "id": "h42Eq0Ime-CQ"
      },
      "source": [
        "alpha = .05"
      ],
      "execution_count": 23,
      "outputs": []
    },
    {
      "cell_type": "code",
      "source": [
        "p_value"
      ],
      "metadata": {
        "colab": {
          "base_uri": "https://localhost:8080/"
        },
        "id": "1R6Q_OEvJQeG",
        "outputId": "14d3873c-84ae-46b7-c920-d6db7dd1888c"
      },
      "execution_count": 27,
      "outputs": [
        {
          "output_type": "execute_result",
          "data": {
            "text/plain": [
              "0.02213505959365852"
            ]
          },
          "metadata": {},
          "execution_count": 27
        }
      ]
    },
    {
      "cell_type": "code",
      "metadata": {
        "colab": {
          "base_uri": "https://localhost:8080/"
        },
        "id": "kxK7zSG2ePWF",
        "outputId": "611558bd-178d-4d9c-ea6c-a455d989bdef"
      },
      "source": [
        "if  p_value <= alpha:\n",
        "    # we are done...\n",
        "    print(\"In accordance with Null Hypothesis, we fail to reject the null hypothesis\")\n",
        "else:\n",
        "    # morework to do\n",
        "    print (\"We must check the significance before we reject the Null Hypothesis\")"
      ],
      "execution_count": 24,
      "outputs": [
        {
          "output_type": "stream",
          "name": "stdout",
          "text": [
            "In accordance with Null Hypothesis, we fail to reject the null hypothesis.\n"
          ]
        }
      ]
    },
    {
      "cell_type": "markdown",
      "metadata": {
        "id": "Umep5bQzfuvS"
      },
      "source": [
        "Our sample data is in accordance with the null hypothesis, since the sample mean was 29, which is greater than 25. Therefore there is not enough evidence to reject the null hypothesis."
      ]
    },
    {
      "cell_type": "markdown",
      "source": [
        "### Example 9.7\n",
        "\"A research analyst disputes a trade group's prediction that back-to-school spending will average \\$ 606.40 per family this year.\" \n",
        "\n",
        "Experiment tested a simple random sample of 30 households with school-age children.\n",
        "\n",
        "Calcualted sample mean of \\$622.85\n",
        "\n",
        "Assume normally distributed with a population standard deviation of \\$65.\n",
        "\n",
        "Conduct the signifance threshold at %5 level."
      ],
      "metadata": {
        "id": "8NRhGTtgKeQd"
      }
    },
    {
      "cell_type": "code",
      "metadata": {
        "id": "lZAo7ULEfG3z"
      },
      "source": [
        "# example from textbook\n",
        "mu_0 = 606.40\n",
        "n = 30\n",
        "x_bar = 622.85\n",
        "pop_std = 65\n",
        "\n",
        "alpha = 0.05"
      ],
      "execution_count": 28,
      "outputs": []
    },
    {
      "cell_type": "code",
      "metadata": {
        "colab": {
          "base_uri": "https://localhost:8080/",
          "height": 295
        },
        "id": "7xoELUafj2X-",
        "outputId": "9e80d246-9b39-4deb-ab09-b19405ecc2a1"
      },
      "source": [
        "# plot it\n",
        "fig, ax = plt.subplots()\n",
        "mean=mu_0\n",
        "std=pop_std\n",
        "x=np.linspace(mean-3*std, mean+3*std,250)\n",
        "iq=stats.norm(mean,std)\n",
        "plt.plot(x,iq.pdf(x),'b')\n",
        "\n",
        "plt.axvline(x=mean, color='g', linestyle='-', label='Population mean')\n",
        "plt.axvline(x=x_bar, color='r', linestyle='--', label='Sample mean')\n",
        "plt.legend()\n",
        "plt.title('Distribution for Hypothesis')\n",
        "plt.yticks([])\n",
        "ax.spines['right'].set_visible(False)\n",
        "ax.spines['left'].set_visible(False)\n",
        "ax.spines['top'].set_visible(False)\n",
        "plt.xlabel('Value of Back to School Spending')\n",
        "plt.ylabel('Probability Density Function')\n",
        "plt.show()"
      ],
      "execution_count": 39,
      "outputs": [
        {
          "output_type": "display_data",
          "data": {
            "text/plain": [
              "<Figure size 432x288 with 1 Axes>"
            ],
            "image/png": "[encoded data removed]"
          },
          "metadata": {
            "needs_background": "light"
          }
        }
      ]
    },
    {
      "cell_type": "markdown",
      "source": [
        "Interpretation: there is a .95 probability that the mean spending will be between \\$599.59 and below \\$646.11."
      ],
      "metadata": {
        "id": "E7WkIXHxNS1M"
      }
    },
    {
      "cell_type": "markdown",
      "metadata": {
        "id": "XK89eK47jNAF"
      },
      "source": [
        "H<sub>0</sub>\n",
        " :  μ = 606.40\n",
        "\n",
        "H<sub>A</sub> : μ ≠ 606.40\n",
        "\n",
        "α = 0.05"
      ]
    },
    {
      "cell_type": "code",
      "source": [
        "x_bar"
      ],
      "metadata": {
        "colab": {
          "base_uri": "https://localhost:8080/"
        },
        "id": "Cyvne_vbLNW6",
        "outputId": "b5c658a5-131c-4e01-8077-16d453001c55"
      },
      "execution_count": 30,
      "outputs": [
        {
          "output_type": "execute_result",
          "data": {
            "text/plain": [
              "622.85"
            ]
          },
          "metadata": {},
          "execution_count": 30
        }
      ]
    },
    {
      "cell_type": "code",
      "metadata": {
        "colab": {
          "base_uri": "https://localhost:8080/"
        },
        "id": "4GNWhUs1i5Ii",
        "outputId": "e64a5b43-5a2d-4c25-bebe-4e9a479258dd"
      },
      "source": [
        "z_score = z_test(x_bar, mu_0, pop_std, n)\n",
        "z_score"
      ],
      "execution_count": 31,
      "outputs": [
        {
          "output_type": "execute_result",
          "data": {
            "text/plain": [
              "1.3861593955323088"
            ]
          },
          "metadata": {},
          "execution_count": 31
        }
      ]
    },
    {
      "cell_type": "code",
      "source": [
        "(1 - stats.norm.cdf(abs(z_score))) * 2"
      ],
      "metadata": {
        "colab": {
          "base_uri": "https://localhost:8080/"
        },
        "id": "hx5E3KDDMKG_",
        "outputId": "6f68aebe-6e13-48df-fccd-0a1893634753"
      },
      "execution_count": 37,
      "outputs": [
        {
          "output_type": "execute_result",
          "data": {
            "text/plain": [
              "0.165698237086779"
            ]
          },
          "metadata": {},
          "execution_count": 37
        }
      ]
    },
    {
      "cell_type": "code",
      "metadata": {
        "colab": {
          "base_uri": "https://localhost:8080/"
        },
        "id": "GdmIofg2i53j",
        "outputId": "22bd6768-2a96-42c4-eb61-eaa0b5ad86ca"
      },
      "source": [
        "# convert z score to a p-value\n",
        "p_value = stats.norm.sf(abs(z_score)) * 2 #twosided\n",
        "p_value"
      ],
      "execution_count": 35,
      "outputs": [
        {
          "output_type": "execute_result",
          "data": {
            "text/plain": [
              "0.1656982370867791"
            ]
          },
          "metadata": {},
          "execution_count": 35
        }
      ]
    },
    {
      "cell_type": "code",
      "metadata": {
        "colab": {
          "base_uri": "https://localhost:8080/"
        },
        "id": "ngzHrYjnjXSe",
        "outputId": "cc30f224-394a-4c19-d8ef-91ddf809c6c4"
      },
      "source": [
        "if  p_value > alpha:\n",
        "    # we are done...\n",
        "    print(\"In accordance with Null Hypothesis\")\n",
        "else:\n",
        "    # morework to do\n",
        "    print (\"We must check the significance before we reject the Null Hypothesis\")"
      ],
      "execution_count": 38,
      "outputs": [
        {
          "output_type": "stream",
          "name": "stdout",
          "text": [
            "In accordance with Null Hypothesis\n"
          ]
        }
      ]
    },
    {
      "cell_type": "markdown",
      "metadata": {
        "id": "kwZhZ6lhl6B3"
      },
      "source": [
        "Since 0.1657 > 0.05, we fail to reject H0. Therefore, at the 5% significance level, we cannot conclude that average back-to-school spending differs from $606.40 per family this year. The sample data do not support the research analyst’s claim."
      ]
    },
    {
      "cell_type": "markdown",
      "metadata": {
        "id": "vMn3KuEPmd09"
      },
      "source": [
        "Use confidence interval approach to conduct the hypothesis test."
      ]
    },
    {
      "cell_type": "code",
      "metadata": {
        "id": "_C8zyxkBmizb"
      },
      "source": [
        "# make function that uses the z-score\n",
        "upper_bound = x_bar+1.96*(pop_std/math.sqrt(n))\n",
        "lower_bound = x_bar-1.96*(pop_std/math.sqrt(n))"
      ],
      "execution_count": 40,
      "outputs": []
    },
    {
      "cell_type": "code",
      "metadata": {
        "colab": {
          "base_uri": "https://localhost:8080/",
          "height": 35
        },
        "id": "W6LjKXYFm1Sd",
        "outputId": "a51404f0-80a4-4cba-cdc7-0f5a25d392a0"
      },
      "source": [
        "f\"Interpretation: there is a .95 probability that the mean spending will be\\\n",
        " between ${round(lower_bound,2)} and below ${round(upper_bound,2)}.\""
      ],
      "execution_count": 41,
      "outputs": [
        {
          "output_type": "execute_result",
          "data": {
            "text/plain": [
              "'Interpretation: there is a .95 probability that the mean spending will be between $599.59 and below $646.11.'"
            ],
            "application/vnd.google.colaboratory.intrinsic+json": {
              "type": "string"
            }
          },
          "metadata": {},
          "execution_count": 41
        }
      ]
    },
    {
      "cell_type": "markdown",
      "metadata": {
        "id": "vOD1EuJQnLLX"
      },
      "source": [
        "Since x_bar of 622.85 falls between the 95% confidence interval, we do not reject the null hypothesis. Same outcome as p-value approach, sample data do not support research analyst's claim that average spending differs from $606.40 per family this year."
      ]
    },
    {
      "cell_type": "markdown",
      "metadata": {
        "id": "P5Czo92AoHuo"
      },
      "source": [
        "## Extra Credit:\n",
        "\n",
        "Student is concerned that 80% of applicants will be approved for a credit card because of an annual income greater than $50,000.\n",
        "\n",
        "- State the null and alternative hypothesis, confidence interval\n",
        "- Find the value of the test statistic and the p-value\n",
        "- Can you conclude that the claim is supported by the data?\n",
        "- Interpret your results\n",
        "\n",
        "\n",
        "(5 points)"
      ]
    },
    {
      "cell_type": "code",
      "source": [
        ""
      ],
      "metadata": {
        "id": "1uG93P9meITU"
      },
      "execution_count": null,
      "outputs": []
    }
  ]
}