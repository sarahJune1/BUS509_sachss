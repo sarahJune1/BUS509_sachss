{
  "nbformat": 4,
  "nbformat_minor": 0,
  "metadata": {
    "colab": {
      "name": "Descriptive Measures.ipynb",
      "provenance": [],
      "authorship_tag": "ABX9TyOxacL5WShR2r5f8EHe7zA6",
      "include_colab_link": true
    },
    "kernelspec": {
      "name": "python3",
      "display_name": "Python 3"
    },
    "language_info": {
      "name": "python"
    }
  },
  "cells": [
    {
      "cell_type": "markdown",
      "metadata": {
        "id": "view-in-github",
        "colab_type": "text"
      },
      "source": [
        "<a href=\"https://colab.research.google.com/github/sarahJune1/BUS509_sachss/blob/main/notebooks/Module_3/Descriptive_Measures.ipynb\" target=\"_parent\"><img src=\"https://colab.research.google.com/assets/colab-badge.svg\" alt=\"Open In Colab\"/></a>"
      ]
    },
    {
      "cell_type": "code",
      "execution_count": 1,
      "metadata": {
        "id": "ovIsiYKWKYKE"
      },
      "outputs": [],
      "source": [
        "import pandas as pd\n",
        "import random\n",
        "import matplotlib.pyplot as plt\n",
        "import seaborn as sns\n",
        "import math\n",
        "import scipy\n",
        "import numpy as np\n",
        "import matplotlib.transforms as transforms"
      ]
    },
    {
      "cell_type": "markdown",
      "source": [
        "# Numerical Descriptive Measures\n",
        "\n",
        "In this module, we will be covering the topics of numerical descriptive measures. This provides the foundation for analyzing data as information.\n",
        "Module Learning Objectives:\n",
        "Calculate and interpret central tendency\n",
        "Interpret percentiles and boxplots\n",
        "Calculate and interpret the mean, variance, and standard deviation\n",
        "Explain mean-variance analysis and the Sharpe ratio\n",
        "Apply Chebyshev's theorem, the empirical rule, and z-scores\n",
        "Calculate and interpret measures of association\n"
      ],
      "metadata": {
        "id": "LKLHv3iJNWXM"
      }
    },
    {
      "cell_type": "markdown",
      "source": [
        "## Measures of Central Tendency"
      ],
      "metadata": {
        "id": "dxYXB_-TNcaN"
      }
    },
    {
      "cell_type": "code",
      "source": [
        "# read in dataframe directly from source, to ensure reproducible research\n",
        "df = pd.read_excel(\"https://lectures.mhhe.com/connect/jaggia4e_1260719294/student/data_files/jaggia_BS_4e_ch03_Data_Files.xlsx\",\n",
        "                   sheet_name='Growth_Value')"
      ],
      "metadata": {
        "id": "90seyFoYKdvT"
      },
      "execution_count": 8,
      "outputs": []
    },
    {
      "cell_type": "code",
      "source": [
        "df.head()"
      ],
      "metadata": {
        "colab": {
          "base_uri": "https://localhost:8080/",
          "height": 238
        },
        "id": "oXeYHIj6NUTw",
        "outputId": "597e1285-5061-4f4f-8269-0fac6fac1e6f"
      },
      "execution_count": 12,
      "outputs": [
        {
          "output_type": "execute_result",
          "data": {
            "text/html": [
              "\n",
              "  <div id=\"df-59cd84f8-c713-4c72-86cb-c15c8297a0f3\">\n",
              "    <div class=\"colab-df-container\">\n",
              "      <div>\n",
              "<style scoped>\n",
              "    .dataframe tbody tr th:only-of-type {\n",
              "        vertical-align: middle;\n",
              "    }\n",
              "\n",
              "    .dataframe tbody tr th {\n",
              "        vertical-align: top;\n",
              "    }\n",
              "\n",
              "    .dataframe thead th {\n",
              "        text-align: right;\n",
              "    }\n",
              "</style>\n",
              "<table border=\"1\" class=\"dataframe\">\n",
              "  <thead>\n",
              "    <tr style=\"text-align: right;\">\n",
              "      <th></th>\n",
              "      <th>Growth</th>\n",
              "      <th>Value</th>\n",
              "    </tr>\n",
              "    <tr>\n",
              "      <th>Year</th>\n",
              "      <th></th>\n",
              "      <th></th>\n",
              "    </tr>\n",
              "  </thead>\n",
              "  <tbody>\n",
              "    <tr>\n",
              "      <th>1984</th>\n",
              "      <td>-5.50</td>\n",
              "      <td>-8.59</td>\n",
              "    </tr>\n",
              "    <tr>\n",
              "      <th>1985</th>\n",
              "      <td>39.91</td>\n",
              "      <td>22.10</td>\n",
              "    </tr>\n",
              "    <tr>\n",
              "      <th>1986</th>\n",
              "      <td>13.03</td>\n",
              "      <td>14.74</td>\n",
              "    </tr>\n",
              "    <tr>\n",
              "      <th>1987</th>\n",
              "      <td>-1.70</td>\n",
              "      <td>-8.58</td>\n",
              "    </tr>\n",
              "    <tr>\n",
              "      <th>1988</th>\n",
              "      <td>16.05</td>\n",
              "      <td>29.05</td>\n",
              "    </tr>\n",
              "  </tbody>\n",
              "</table>\n",
              "</div>\n",
              "      <button class=\"colab-df-convert\" onclick=\"convertToInteractive('df-59cd84f8-c713-4c72-86cb-c15c8297a0f3')\"\n",
              "              title=\"Convert this dataframe to an interactive table.\"\n",
              "              style=\"display:none;\">\n",
              "        \n",
              "  <svg xmlns=\"http://www.w3.org/2000/svg\" height=\"24px\"viewBox=\"0 0 24 24\"\n",
              "       width=\"24px\">\n",
              "    <path d=\"M0 0h24v24H0V0z\" fill=\"none\"/>\n",
              "    <path d=\"M18.56 5.44l.94 2.06.94-2.06 2.06-.94-2.06-.94-.94-2.06-.94 2.06-2.06.94zm-11 1L8.5 8.5l.94-2.06 2.06-.94-2.06-.94L8.5 2.5l-.94 2.06-2.06.94zm10 10l.94 2.06.94-2.06 2.06-.94-2.06-.94-.94-2.06-.94 2.06-2.06.94z\"/><path d=\"M17.41 7.96l-1.37-1.37c-.4-.4-.92-.59-1.43-.59-.52 0-1.04.2-1.43.59L10.3 9.45l-7.72 7.72c-.78.78-.78 2.05 0 2.83L4 21.41c.39.39.9.59 1.41.59.51 0 1.02-.2 1.41-.59l7.78-7.78 2.81-2.81c.8-.78.8-2.07 0-2.86zM5.41 20L4 18.59l7.72-7.72 1.47 1.35L5.41 20z\"/>\n",
              "  </svg>\n",
              "      </button>\n",
              "      \n",
              "  <style>\n",
              "    .colab-df-container {\n",
              "      display:flex;\n",
              "      flex-wrap:wrap;\n",
              "      gap: 12px;\n",
              "    }\n",
              "\n",
              "    .colab-df-convert {\n",
              "      background-color: #E8F0FE;\n",
              "      border: none;\n",
              "      border-radius: 50%;\n",
              "      cursor: pointer;\n",
              "      display: none;\n",
              "      fill: #1967D2;\n",
              "      height: 32px;\n",
              "      padding: 0 0 0 0;\n",
              "      width: 32px;\n",
              "    }\n",
              "\n",
              "    .colab-df-convert:hover {\n",
              "      background-color: #E2EBFA;\n",
              "      box-shadow: 0px 1px 2px rgba(60, 64, 67, 0.3), 0px 1px 3px 1px rgba(60, 64, 67, 0.15);\n",
              "      fill: #174EA6;\n",
              "    }\n",
              "\n",
              "    [theme=dark] .colab-df-convert {\n",
              "      background-color: #3B4455;\n",
              "      fill: #D2E3FC;\n",
              "    }\n",
              "\n",
              "    [theme=dark] .colab-df-convert:hover {\n",
              "      background-color: #434B5C;\n",
              "      box-shadow: 0px 1px 3px 1px rgba(0, 0, 0, 0.15);\n",
              "      filter: drop-shadow(0px 1px 2px rgba(0, 0, 0, 0.3));\n",
              "      fill: #FFFFFF;\n",
              "    }\n",
              "  </style>\n",
              "\n",
              "      <script>\n",
              "        const buttonEl =\n",
              "          document.querySelector('#df-59cd84f8-c713-4c72-86cb-c15c8297a0f3 button.colab-df-convert');\n",
              "        buttonEl.style.display =\n",
              "          google.colab.kernel.accessAllowed ? 'block' : 'none';\n",
              "\n",
              "        async function convertToInteractive(key) {\n",
              "          const element = document.querySelector('#df-59cd84f8-c713-4c72-86cb-c15c8297a0f3');\n",
              "          const dataTable =\n",
              "            await google.colab.kernel.invokeFunction('convertToInteractive',\n",
              "                                                     [key], {});\n",
              "          if (!dataTable) return;\n",
              "\n",
              "          const docLinkHtml = 'Like what you see? Visit the ' +\n",
              "            '<a target=\"_blank\" href=https://colab.research.google.com/notebooks/data_table.ipynb>data table notebook</a>'\n",
              "            + ' to learn more about interactive tables.';\n",
              "          element.innerHTML = '';\n",
              "          dataTable['output_type'] = 'display_data';\n",
              "          await google.colab.output.renderOutput(dataTable, element);\n",
              "          const docLink = document.createElement('div');\n",
              "          docLink.innerHTML = docLinkHtml;\n",
              "          element.appendChild(docLink);\n",
              "        }\n",
              "      </script>\n",
              "    </div>\n",
              "  </div>\n",
              "  "
            ],
            "text/plain": [
              "      Growth  Value\n",
              "Year               \n",
              "1984   -5.50  -8.59\n",
              "1985   39.91  22.10\n",
              "1986   13.03  14.74\n",
              "1987   -1.70  -8.58\n",
              "1988   16.05  29.05"
            ]
          },
          "metadata": {},
          "execution_count": 12
        }
      ]
    },
    {
      "cell_type": "code",
      "source": [
        "df.shape"
      ],
      "metadata": {
        "colab": {
          "base_uri": "https://localhost:8080/"
        },
        "id": "eNBZb66rxhoK",
        "outputId": "9f573148-4b86-4661-f33c-1547724295c9"
      },
      "execution_count": 4,
      "outputs": [
        {
          "output_type": "execute_result",
          "data": {
            "text/plain": [
              "(36, 3)"
            ]
          },
          "metadata": {},
          "execution_count": 4
        }
      ]
    },
    {
      "cell_type": "code",
      "source": [
        "# lets visualize the time series\n",
        "df.set_index('Year',inplace=True)"
      ],
      "metadata": {
        "id": "EIymoGdzNkeu"
      },
      "execution_count": 11,
      "outputs": []
    },
    {
      "cell_type": "code",
      "source": [
        "fig, ax = plt.subplots(1, 1, figsize=(8, 6))\n",
        "df['Growth'].plot(c='b', ax = ax)\n",
        "df['Value'].plot(c='r', ax = ax)\n",
        "plt.legend(loc=4)\n",
        "plt.title(\"Annual Return for Fidelity's Growth and Value Index Fund\", size=15)\n",
        "plt.xlabel('Year', size=12)\n",
        "plt.ylabel('Annual Return (%)', size=12)\n",
        "plt.show()"
      ],
      "metadata": {
        "colab": {
          "base_uri": "https://localhost:8080/",
          "height": 409
        },
        "id": "Riof8-iZNrEe",
        "outputId": "449357cd-f11f-4bc8-8972-77d428849c13"
      },
      "execution_count": 6,
      "outputs": [
        {
          "output_type": "display_data",
          "data": {
            "image/png": "[encoded data removed]",
            "text/plain": [
              "<Figure size 576x432 with 1 Axes>"
            ]
          },
          "metadata": {
            "needs_background": "light"
          }
        }
      ]
    },
    {
      "cell_type": "markdown",
      "source": [
        "Here is a time series of the annual return in blue for the Growth stock, in Red is the value fund performance. We see some particular trends with a dip around 2008 during the financial crisis, it also appears the growth fund had a peak and then fell between the year 2000 and 2003, whereas the Growth fund remained more steady."
      ],
      "metadata": {
        "id": "klTEsc-UZl2j"
      }
    },
    {
      "cell_type": "code",
      "source": [
        "# let's analyze the central tendency\n",
        "\n",
        "def calc_mean(vals):\n",
        "  \"\"\"\n",
        "  Calculate the mean from a series of numeric values\n",
        "  \"\"\"\n",
        "  return vals.sum()/len(vals)"
      ],
      "metadata": {
        "id": "vADLYaKzN6PS"
      },
      "execution_count": 13,
      "outputs": []
    },
    {
      "cell_type": "code",
      "source": [
        "growth_mean = calc_mean(df['Growth'])"
      ],
      "metadata": {
        "id": "EnoIdObjbCb2"
      },
      "execution_count": 16,
      "outputs": []
    },
    {
      "cell_type": "code",
      "source": [
        "print(f\"The Growth fund average annual return is: {round(growth_mean,2)}%\")"
      ],
      "metadata": {
        "colab": {
          "base_uri": "https://localhost:8080/"
        },
        "id": "1EmS1mfVaNFS",
        "outputId": "3cd629bb-fdf8-4efe-da5e-109991378835"
      },
      "execution_count": 17,
      "outputs": [
        {
          "output_type": "stream",
          "name": "stdout",
          "text": [
            "The Growth fund average annual return is: 15.76%\n"
          ]
        }
      ]
    },
    {
      "cell_type": "code",
      "source": [
        "value_mean = calc_mean(df['Value'])"
      ],
      "metadata": {
        "id": "Sq6ke1ysbIYk"
      },
      "execution_count": 18,
      "outputs": []
    },
    {
      "cell_type": "code",
      "source": [
        "print(f\"The Value fund average annual return is: {round(value_mean,2)}%\")"
      ],
      "metadata": {
        "colab": {
          "base_uri": "https://localhost:8080/"
        },
        "id": "_-RgzZIZaPMR",
        "outputId": "7fa1f3be-b265-4fa3-edc5-2b24fa107b96"
      },
      "execution_count": 19,
      "outputs": [
        {
          "output_type": "stream",
          "name": "stdout",
          "text": [
            "The Value fund average annual return is: 12.01%\n"
          ]
        }
      ]
    },
    {
      "cell_type": "markdown",
      "source": [
        "Let's plot the mean to see how the central tendency would look over time."
      ],
      "metadata": {
        "id": "QaHn15yhe2GS"
      }
    },
    {
      "cell_type": "code",
      "source": [
        "fig, ax = plt.subplots(1, 1, figsize=(8, 6))\n",
        "df['Growth'].plot( c='b', ax = ax)\n",
        "plt.axhline(y=growth_mean, color='b', linestyle='--')\n",
        "df['Value'].plot(c='r', ax = ax)\n",
        "plt.axhline(y=value_mean, color='r', linestyle='--')\n",
        "plt.legend(loc=4)\n",
        "plt.title(\"Annual Return for Fidelity's Growth and Value Index Fund\", size=15)\n",
        "plt.xlabel('Year', size=12)\n",
        "plt.ylabel('Annual Return (%)', size=12)\n",
        "\n",
        "# annotate the means\n",
        "trans = transforms.blended_transform_factory(\n",
        "    ax.get_yticklabels()[0].get_transform(), ax.transData)\n",
        "ax.text(0,growth_mean, \"{:.0f}\".format(growth_mean), color=\"b\", transform=trans, \n",
        "        ha=\"right\", va=\"center\")\n",
        "ax.text(0,value_mean, \"{:.0f}\".format(value_mean), color=\"r\", transform=trans, \n",
        "        ha=\"right\", va=\"center\")\n",
        "plt.show()"
      ],
      "metadata": {
        "colab": {
          "base_uri": "https://localhost:8080/",
          "height": 409
        },
        "id": "e13wjIp4ahVm",
        "outputId": "0ea59d0f-c799-4be8-9399-64bf7ae89c0d"
      },
      "execution_count": 20,
      "outputs": [
        {
          "output_type": "display_data",
          "data": {
            "image/png": "[encoded data removed]",
            "text/plain": [
              "<Figure size 576x432 with 1 Axes>"
            ]
          },
          "metadata": {
            "needs_background": "light"
          }
        }
      ]
    },
    {
      "cell_type": "markdown",
      "source": [
        "Rather than use the function, we can use the method of .mean() to calculate the average."
      ],
      "metadata": {
        "id": "zTmDn1dTy8mB"
      }
    },
    {
      "cell_type": "code",
      "source": [
        "# can also use mean function in pandas\n",
        "\n",
        "df['Value'].mean(), df['Growth'].mean()"
      ],
      "metadata": {
        "colab": {
          "base_uri": "https://localhost:8080/"
        },
        "id": "e_jYOB2ebTxa",
        "outputId": "1c43d67f-9760-4477-d788-c288c12e39a1"
      },
      "execution_count": 21,
      "outputs": [
        {
          "output_type": "execute_result",
          "data": {
            "text/plain": [
              "(12.004999999999999, 15.755000000000003)"
            ]
          },
          "metadata": {},
          "execution_count": 21
        }
      ]
    },
    {
      "cell_type": "code",
      "source": [
        "# visualize the distribution\n",
        "fig, ax = plt.subplots(1, 1, figsize=(8, 6))\n",
        "df['Value'].hist(ax=ax, density=True, color='r', alpha=.45, label='Value')\n",
        "df['Growth'].hist(ax=ax, density=True, color='b', alpha=.45, label='Growth')\n",
        "plt.xlabel('Annual Return', size=12)\n",
        "plt.ylabel('Frequency', size=12)\n",
        "plt.title('Distribution of Value Fund Annual Performance', size=15)\n",
        "plt.legend()\n",
        "plt.show()"
      ],
      "metadata": {
        "colab": {
          "base_uri": "https://localhost:8080/",
          "height": 409
        },
        "id": "WIHm9POHe9QM",
        "outputId": "8c71fac6-b887-462b-d4ad-6757a919a52b"
      },
      "execution_count": 22,
      "outputs": [
        {
          "output_type": "display_data",
          "data": {
            "image/png": "[encoded data removed]",
            "text/plain": [
              "<Figure size 576x432 with 1 Axes>"
            ]
          },
          "metadata": {
            "needs_background": "light"
          }
        }
      ]
    },
    {
      "cell_type": "markdown",
      "source": [
        "Where the value was around -40% annual return. We can observe the distribution of values using a histogram to see the central tendency differences between the funds, and how both have outliers around -40 percent, where the growth fund also has an outlier near a positive 80% annual return. Having a value that is far away from the cluster of the central mean can skew the sample mean. "
      ],
      "metadata": {
        "id": "zLkQj3QrHj71"
      }
    },
    {
      "cell_type": "markdown",
      "source": [
        "## Median and Mode"
      ],
      "metadata": {
        "id": "UECEbiStHoym"
      }
    },
    {
      "cell_type": "code",
      "source": [
        "def find_median(df_col):\n",
        "  \"\"\"\n",
        "  Identify the median from a dataframe column\n",
        "  \"\"\"\n",
        "  # sort all values\n",
        "  df_values = df_col.sort_values()\n",
        "  # calculate the length\n",
        "  n = len(df_values)\n",
        "\n",
        "  # if there is more than one middle value\n",
        "  if n % 2 == 0: # check if even number\n",
        "    median1 = df_values[n//2]\n",
        "    median2 = df_values[n//2 - 1]\n",
        "    # take average of the two middle values\n",
        "    median = (median1 + median2)/2\n",
        "  else:\n",
        "    median = df_values[n//2]\n",
        "  return median\n",
        "    "
      ],
      "metadata": {
        "id": "-diNlR6FH8iy"
      },
      "execution_count": 49,
      "outputs": []
    },
    {
      "cell_type": "code",
      "source": [
        "df.reset_index(inplace=True)"
      ],
      "metadata": {
        "id": "7_04_0Z00a4d"
      },
      "execution_count": 42,
      "outputs": []
    },
    {
      "cell_type": "code",
      "source": [
        "df['Value'].sort_values()[18]"
      ],
      "metadata": {
        "colab": {
          "base_uri": "https://localhost:8080/"
        },
        "id": "IMGSVB4ozs9q",
        "outputId": "39d8a06c-d1c4-4b89-9302-a6d3af98b865"
      },
      "execution_count": 43,
      "outputs": [
        {
          "output_type": "execute_result",
          "data": {
            "text/plain": [
              "-9.25"
            ]
          },
          "metadata": {},
          "execution_count": 43
        }
      ]
    },
    {
      "cell_type": "code",
      "source": [
        "find_median(df['Value'])"
      ],
      "metadata": {
        "colab": {
          "base_uri": "https://localhost:8080/"
        },
        "id": "Yil5mVxtIAD8",
        "outputId": "620ff1d6-04aa-4de0-d131-4d263187d2c9"
      },
      "execution_count": 50,
      "outputs": [
        {
          "output_type": "execute_result",
          "data": {
            "text/plain": [
              "1.5"
            ]
          },
          "metadata": {},
          "execution_count": 50
        }
      ]
    },
    {
      "cell_type": "code",
      "source": [
        "# or we can use the function\n",
        "df['Value'].median()"
      ],
      "metadata": {
        "colab": {
          "base_uri": "https://localhost:8080/"
        },
        "id": "dWi2SSjSJNHC",
        "outputId": "eccaf5b1-bfd4-4edc-c48c-67d8df27bc53"
      },
      "execution_count": 48,
      "outputs": [
        {
          "output_type": "execute_result",
          "data": {
            "text/plain": [
              "15.379999999999999"
            ]
          },
          "metadata": {},
          "execution_count": 48
        }
      ]
    },
    {
      "cell_type": "code",
      "source": [
        "def find_mode(df_col):\n",
        "  \"\"\"\n",
        "  Identify the mode from a dataframe column\n",
        "  \"\"\"\n",
        "  from collections import Counter\n",
        "  # calculate length\n",
        "  n = len(df_col)\n",
        "\n",
        "  # create counter for finding most frequent number\n",
        "  data = Counter(df_col)\n",
        "  print(data)\n",
        "  # make a dictionary to obtain the highest value\n",
        "  get_mode = dict(data)\n",
        "  # obtain maximum by iterating through dictionary\n",
        "  mode = [k for k, v in get_mode.items() if v == max(list(data.values()))]\n",
        "\n",
        "  if len(mode) == n:\n",
        "    get_mode = \"No mode found\"\n",
        "  else:\n",
        "    get_mode = mode\n",
        "  return get_mode"
      ],
      "metadata": {
        "id": "1u3hS3m6hfQn"
      },
      "execution_count": 51,
      "outputs": []
    },
    {
      "cell_type": "code",
      "source": [
        "find_mode(df['Value'])"
      ],
      "metadata": {
        "colab": {
          "base_uri": "https://localhost:8080/",
          "height": 73
        },
        "id": "hcwv9UX6HsJJ",
        "outputId": "d1dd0b9d-d34f-4e03-96e5-ed41391e584f"
      },
      "execution_count": 52,
      "outputs": [
        {
          "output_type": "stream",
          "name": "stdout",
          "text": [
            "Counter({-8.59: 1, 22.1: 1, 14.74: 1, -8.58: 1, 29.05: 1, 22.95: 1, -12.82: 1, 26.2: 1, 21.15: 1, 22.94: 1, 7.63: 1, 27.13: 1, 16.85: 1, 21.08: 1, 0.18: 1, 8.55: 1, 8.1: 1, 12.25: 1, -9.25: 1, 34.43: 1, 21.21: 1, 14.27: 1, 15.09: 1, 2.21: 1, -46.52: 1, 44.08: 1, 22.27: 1, -6.71: 1, 21.9: 1, 37.07: 1, 11.72: 1, -6.51: 1, 16.06: 1, 15.67: 1, -17.34: 1, 31.62: 1})\n"
          ]
        },
        {
          "output_type": "execute_result",
          "data": {
            "application/vnd.google.colaboratory.intrinsic+json": {
              "type": "string"
            },
            "text/plain": [
              "'No mode found'"
            ]
          },
          "metadata": {},
          "execution_count": 52
        }
      ]
    },
    {
      "cell_type": "code",
      "source": [
        "# example for mode when there is one\n",
        "test = [5,5,5,6,1]"
      ],
      "metadata": {
        "id": "JE_b4MBc1ngq"
      },
      "execution_count": 54,
      "outputs": []
    },
    {
      "cell_type": "code",
      "source": [
        "find_mode(test)"
      ],
      "metadata": {
        "colab": {
          "base_uri": "https://localhost:8080/"
        },
        "id": "h6JRF87I11U0",
        "outputId": "3a519b83-c5b0-4726-f4c1-00c8224ada00"
      },
      "execution_count": 58,
      "outputs": [
        {
          "output_type": "stream",
          "name": "stdout",
          "text": [
            "Counter({5: 3, 6: 1, 1: 1})\n"
          ]
        },
        {
          "output_type": "execute_result",
          "data": {
            "text/plain": [
              "[5]"
            ]
          },
          "metadata": {},
          "execution_count": 58
        }
      ]
    },
    {
      "cell_type": "code",
      "source": [
        "pd.DataFrame(test)"
      ],
      "metadata": {
        "colab": {
          "base_uri": "https://localhost:8080/",
          "height": 206
        },
        "id": "6ERzZbKV1yFb",
        "outputId": "4402d1d7-262b-48a7-835d-23f34295a2ff"
      },
      "execution_count": 57,
      "outputs": [
        {
          "output_type": "execute_result",
          "data": {
            "text/html": [
              "\n",
              "  <div id=\"df-316929c2-4522-450a-a307-9a58fa9a4caf\">\n",
              "    <div class=\"colab-df-container\">\n",
              "      <div>\n",
              "<style scoped>\n",
              "    .dataframe tbody tr th:only-of-type {\n",
              "        vertical-align: middle;\n",
              "    }\n",
              "\n",
              "    .dataframe tbody tr th {\n",
              "        vertical-align: top;\n",
              "    }\n",
              "\n",
              "    .dataframe thead th {\n",
              "        text-align: right;\n",
              "    }\n",
              "</style>\n",
              "<table border=\"1\" class=\"dataframe\">\n",
              "  <thead>\n",
              "    <tr style=\"text-align: right;\">\n",
              "      <th></th>\n",
              "      <th>0</th>\n",
              "    </tr>\n",
              "  </thead>\n",
              "  <tbody>\n",
              "    <tr>\n",
              "      <th>0</th>\n",
              "      <td>5</td>\n",
              "    </tr>\n",
              "    <tr>\n",
              "      <th>1</th>\n",
              "      <td>5</td>\n",
              "    </tr>\n",
              "    <tr>\n",
              "      <th>2</th>\n",
              "      <td>5</td>\n",
              "    </tr>\n",
              "    <tr>\n",
              "      <th>3</th>\n",
              "      <td>6</td>\n",
              "    </tr>\n",
              "    <tr>\n",
              "      <th>4</th>\n",
              "      <td>1</td>\n",
              "    </tr>\n",
              "  </tbody>\n",
              "</table>\n",
              "</div>\n",
              "      <button class=\"colab-df-convert\" onclick=\"convertToInteractive('df-316929c2-4522-450a-a307-9a58fa9a4caf')\"\n",
              "              title=\"Convert this dataframe to an interactive table.\"\n",
              "              style=\"display:none;\">\n",
              "        \n",
              "  <svg xmlns=\"http://www.w3.org/2000/svg\" height=\"24px\"viewBox=\"0 0 24 24\"\n",
              "       width=\"24px\">\n",
              "    <path d=\"M0 0h24v24H0V0z\" fill=\"none\"/>\n",
              "    <path d=\"M18.56 5.44l.94 2.06.94-2.06 2.06-.94-2.06-.94-.94-2.06-.94 2.06-2.06.94zm-11 1L8.5 8.5l.94-2.06 2.06-.94-2.06-.94L8.5 2.5l-.94 2.06-2.06.94zm10 10l.94 2.06.94-2.06 2.06-.94-2.06-.94-.94-2.06-.94 2.06-2.06.94z\"/><path d=\"M17.41 7.96l-1.37-1.37c-.4-.4-.92-.59-1.43-.59-.52 0-1.04.2-1.43.59L10.3 9.45l-7.72 7.72c-.78.78-.78 2.05 0 2.83L4 21.41c.39.39.9.59 1.41.59.51 0 1.02-.2 1.41-.59l7.78-7.78 2.81-2.81c.8-.78.8-2.07 0-2.86zM5.41 20L4 18.59l7.72-7.72 1.47 1.35L5.41 20z\"/>\n",
              "  </svg>\n",
              "      </button>\n",
              "      \n",
              "  <style>\n",
              "    .colab-df-container {\n",
              "      display:flex;\n",
              "      flex-wrap:wrap;\n",
              "      gap: 12px;\n",
              "    }\n",
              "\n",
              "    .colab-df-convert {\n",
              "      background-color: #E8F0FE;\n",
              "      border: none;\n",
              "      border-radius: 50%;\n",
              "      cursor: pointer;\n",
              "      display: none;\n",
              "      fill: #1967D2;\n",
              "      height: 32px;\n",
              "      padding: 0 0 0 0;\n",
              "      width: 32px;\n",
              "    }\n",
              "\n",
              "    .colab-df-convert:hover {\n",
              "      background-color: #E2EBFA;\n",
              "      box-shadow: 0px 1px 2px rgba(60, 64, 67, 0.3), 0px 1px 3px 1px rgba(60, 64, 67, 0.15);\n",
              "      fill: #174EA6;\n",
              "    }\n",
              "\n",
              "    [theme=dark] .colab-df-convert {\n",
              "      background-color: #3B4455;\n",
              "      fill: #D2E3FC;\n",
              "    }\n",
              "\n",
              "    [theme=dark] .colab-df-convert:hover {\n",
              "      background-color: #434B5C;\n",
              "      box-shadow: 0px 1px 3px 1px rgba(0, 0, 0, 0.15);\n",
              "      filter: drop-shadow(0px 1px 2px rgba(0, 0, 0, 0.3));\n",
              "      fill: #FFFFFF;\n",
              "    }\n",
              "  </style>\n",
              "\n",
              "      <script>\n",
              "        const buttonEl =\n",
              "          document.querySelector('#df-316929c2-4522-450a-a307-9a58fa9a4caf button.colab-df-convert');\n",
              "        buttonEl.style.display =\n",
              "          google.colab.kernel.accessAllowed ? 'block' : 'none';\n",
              "\n",
              "        async function convertToInteractive(key) {\n",
              "          const element = document.querySelector('#df-316929c2-4522-450a-a307-9a58fa9a4caf');\n",
              "          const dataTable =\n",
              "            await google.colab.kernel.invokeFunction('convertToInteractive',\n",
              "                                                     [key], {});\n",
              "          if (!dataTable) return;\n",
              "\n",
              "          const docLinkHtml = 'Like what you see? Visit the ' +\n",
              "            '<a target=\"_blank\" href=https://colab.research.google.com/notebooks/data_table.ipynb>data table notebook</a>'\n",
              "            + ' to learn more about interactive tables.';\n",
              "          element.innerHTML = '';\n",
              "          dataTable['output_type'] = 'display_data';\n",
              "          await google.colab.output.renderOutput(dataTable, element);\n",
              "          const docLink = document.createElement('div');\n",
              "          docLink.innerHTML = docLinkHtml;\n",
              "          element.appendChild(docLink);\n",
              "        }\n",
              "      </script>\n",
              "    </div>\n",
              "  </div>\n",
              "  "
            ],
            "text/plain": [
              "   0\n",
              "0  5\n",
              "1  5\n",
              "2  5\n",
              "3  6\n",
              "4  1"
            ]
          },
          "metadata": {},
          "execution_count": 57
        }
      ]
    },
    {
      "cell_type": "code",
      "source": [
        "pd.DataFrame(test).mode()"
      ],
      "metadata": {
        "colab": {
          "base_uri": "https://localhost:8080/",
          "height": 81
        },
        "id": "FnXbVPSE1rxv",
        "outputId": "aa9a8be0-d435-440e-fa98-81461da24a52"
      },
      "execution_count": 56,
      "outputs": [
        {
          "output_type": "execute_result",
          "data": {
            "text/html": [
              "\n",
              "  <div id=\"df-16112e60-b204-4bc7-91cd-1f8e623b60ed\">\n",
              "    <div class=\"colab-df-container\">\n",
              "      <div>\n",
              "<style scoped>\n",
              "    .dataframe tbody tr th:only-of-type {\n",
              "        vertical-align: middle;\n",
              "    }\n",
              "\n",
              "    .dataframe tbody tr th {\n",
              "        vertical-align: top;\n",
              "    }\n",
              "\n",
              "    .dataframe thead th {\n",
              "        text-align: right;\n",
              "    }\n",
              "</style>\n",
              "<table border=\"1\" class=\"dataframe\">\n",
              "  <thead>\n",
              "    <tr style=\"text-align: right;\">\n",
              "      <th></th>\n",
              "      <th>0</th>\n",
              "    </tr>\n",
              "  </thead>\n",
              "  <tbody>\n",
              "    <tr>\n",
              "      <th>0</th>\n",
              "      <td>5</td>\n",
              "    </tr>\n",
              "  </tbody>\n",
              "</table>\n",
              "</div>\n",
              "      <button class=\"colab-df-convert\" onclick=\"convertToInteractive('df-16112e60-b204-4bc7-91cd-1f8e623b60ed')\"\n",
              "              title=\"Convert this dataframe to an interactive table.\"\n",
              "              style=\"display:none;\">\n",
              "        \n",
              "  <svg xmlns=\"http://www.w3.org/2000/svg\" height=\"24px\"viewBox=\"0 0 24 24\"\n",
              "       width=\"24px\">\n",
              "    <path d=\"M0 0h24v24H0V0z\" fill=\"none\"/>\n",
              "    <path d=\"M18.56 5.44l.94 2.06.94-2.06 2.06-.94-2.06-.94-.94-2.06-.94 2.06-2.06.94zm-11 1L8.5 8.5l.94-2.06 2.06-.94-2.06-.94L8.5 2.5l-.94 2.06-2.06.94zm10 10l.94 2.06.94-2.06 2.06-.94-2.06-.94-.94-2.06-.94 2.06-2.06.94z\"/><path d=\"M17.41 7.96l-1.37-1.37c-.4-.4-.92-.59-1.43-.59-.52 0-1.04.2-1.43.59L10.3 9.45l-7.72 7.72c-.78.78-.78 2.05 0 2.83L4 21.41c.39.39.9.59 1.41.59.51 0 1.02-.2 1.41-.59l7.78-7.78 2.81-2.81c.8-.78.8-2.07 0-2.86zM5.41 20L4 18.59l7.72-7.72 1.47 1.35L5.41 20z\"/>\n",
              "  </svg>\n",
              "      </button>\n",
              "      \n",
              "  <style>\n",
              "    .colab-df-container {\n",
              "      display:flex;\n",
              "      flex-wrap:wrap;\n",
              "      gap: 12px;\n",
              "    }\n",
              "\n",
              "    .colab-df-convert {\n",
              "      background-color: #E8F0FE;\n",
              "      border: none;\n",
              "      border-radius: 50%;\n",
              "      cursor: pointer;\n",
              "      display: none;\n",
              "      fill: #1967D2;\n",
              "      height: 32px;\n",
              "      padding: 0 0 0 0;\n",
              "      width: 32px;\n",
              "    }\n",
              "\n",
              "    .colab-df-convert:hover {\n",
              "      background-color: #E2EBFA;\n",
              "      box-shadow: 0px 1px 2px rgba(60, 64, 67, 0.3), 0px 1px 3px 1px rgba(60, 64, 67, 0.15);\n",
              "      fill: #174EA6;\n",
              "    }\n",
              "\n",
              "    [theme=dark] .colab-df-convert {\n",
              "      background-color: #3B4455;\n",
              "      fill: #D2E3FC;\n",
              "    }\n",
              "\n",
              "    [theme=dark] .colab-df-convert:hover {\n",
              "      background-color: #434B5C;\n",
              "      box-shadow: 0px 1px 3px 1px rgba(0, 0, 0, 0.15);\n",
              "      filter: drop-shadow(0px 1px 2px rgba(0, 0, 0, 0.3));\n",
              "      fill: #FFFFFF;\n",
              "    }\n",
              "  </style>\n",
              "\n",
              "      <script>\n",
              "        const buttonEl =\n",
              "          document.querySelector('#df-16112e60-b204-4bc7-91cd-1f8e623b60ed button.colab-df-convert');\n",
              "        buttonEl.style.display =\n",
              "          google.colab.kernel.accessAllowed ? 'block' : 'none';\n",
              "\n",
              "        async function convertToInteractive(key) {\n",
              "          const element = document.querySelector('#df-16112e60-b204-4bc7-91cd-1f8e623b60ed');\n",
              "          const dataTable =\n",
              "            await google.colab.kernel.invokeFunction('convertToInteractive',\n",
              "                                                     [key], {});\n",
              "          if (!dataTable) return;\n",
              "\n",
              "          const docLinkHtml = 'Like what you see? Visit the ' +\n",
              "            '<a target=\"_blank\" href=https://colab.research.google.com/notebooks/data_table.ipynb>data table notebook</a>'\n",
              "            + ' to learn more about interactive tables.';\n",
              "          element.innerHTML = '';\n",
              "          dataTable['output_type'] = 'display_data';\n",
              "          await google.colab.output.renderOutput(dataTable, element);\n",
              "          const docLink = document.createElement('div');\n",
              "          docLink.innerHTML = docLinkHtml;\n",
              "          element.appendChild(docLink);\n",
              "        }\n",
              "      </script>\n",
              "    </div>\n",
              "  </div>\n",
              "  "
            ],
            "text/plain": [
              "   0\n",
              "0  5"
            ]
          },
          "metadata": {},
          "execution_count": 56
        }
      ]
    },
    {
      "cell_type": "code",
      "source": [
        "# use the function to show that no value shows up more than once\n",
        "df['Value'].mode()"
      ],
      "metadata": {
        "colab": {
          "base_uri": "https://localhost:8080/"
        },
        "id": "RRzoWbj7MZ-h",
        "outputId": "62623eee-9e57-49cf-8f64-8dcfca79994b"
      },
      "execution_count": 53,
      "outputs": [
        {
          "output_type": "execute_result",
          "data": {
            "text/plain": [
              "0    -46.52\n",
              "1    -17.34\n",
              "2    -12.82\n",
              "3     -9.25\n",
              "4     -8.59\n",
              "5     -8.58\n",
              "6     -6.71\n",
              "7     -6.51\n",
              "8      0.18\n",
              "9      2.21\n",
              "10     7.63\n",
              "11     8.10\n",
              "12     8.55\n",
              "13    11.72\n",
              "14    12.25\n",
              "15    14.27\n",
              "16    14.74\n",
              "17    15.09\n",
              "18    15.67\n",
              "19    16.06\n",
              "20    16.85\n",
              "21    21.08\n",
              "22    21.15\n",
              "23    21.21\n",
              "24    21.90\n",
              "25    22.10\n",
              "26    22.27\n",
              "27    22.94\n",
              "28    22.95\n",
              "29    26.20\n",
              "30    27.13\n",
              "31    29.05\n",
              "32    31.62\n",
              "33    34.43\n",
              "34    37.07\n",
              "35    44.08\n",
              "dtype: float64"
            ]
          },
          "metadata": {},
          "execution_count": 53
        }
      ]
    },
    {
      "cell_type": "markdown",
      "source": [
        "## Other descriptive measures"
      ],
      "metadata": {
        "id": "YdP87EtIN7lL"
      }
    },
    {
      "cell_type": "code",
      "source": [
        "# show count, mean, standard deviation, percentiles\n",
        "df.describe()"
      ],
      "metadata": {
        "colab": {
          "base_uri": "https://localhost:8080/",
          "height": 300
        },
        "id": "U23x5vudOBpb",
        "outputId": "6a860bbc-5683-4412-e782-92304d83f523"
      },
      "execution_count": 59,
      "outputs": [
        {
          "output_type": "execute_result",
          "data": {
            "text/html": [
              "\n",
              "  <div id=\"df-34c5e334-01c6-4742-88f0-4adaf8d7fefa\">\n",
              "    <div class=\"colab-df-container\">\n",
              "      <div>\n",
              "<style scoped>\n",
              "    .dataframe tbody tr th:only-of-type {\n",
              "        vertical-align: middle;\n",
              "    }\n",
              "\n",
              "    .dataframe tbody tr th {\n",
              "        vertical-align: top;\n",
              "    }\n",
              "\n",
              "    .dataframe thead th {\n",
              "        text-align: right;\n",
              "    }\n",
              "</style>\n",
              "<table border=\"1\" class=\"dataframe\">\n",
              "  <thead>\n",
              "    <tr style=\"text-align: right;\">\n",
              "      <th></th>\n",
              "      <th>Year</th>\n",
              "      <th>Growth</th>\n",
              "      <th>Value</th>\n",
              "    </tr>\n",
              "  </thead>\n",
              "  <tbody>\n",
              "    <tr>\n",
              "      <th>count</th>\n",
              "      <td>36.000000</td>\n",
              "      <td>36.000000</td>\n",
              "      <td>36.000000</td>\n",
              "    </tr>\n",
              "    <tr>\n",
              "      <th>mean</th>\n",
              "      <td>2001.500000</td>\n",
              "      <td>15.755000</td>\n",
              "      <td>12.005000</td>\n",
              "    </tr>\n",
              "    <tr>\n",
              "      <th>std</th>\n",
              "      <td>10.535654</td>\n",
              "      <td>23.799285</td>\n",
              "      <td>17.979187</td>\n",
              "    </tr>\n",
              "    <tr>\n",
              "      <th>min</th>\n",
              "      <td>1984.000000</td>\n",
              "      <td>-40.900000</td>\n",
              "      <td>-46.520000</td>\n",
              "    </tr>\n",
              "    <tr>\n",
              "      <th>25%</th>\n",
              "      <td>1992.750000</td>\n",
              "      <td>2.860000</td>\n",
              "      <td>1.702500</td>\n",
              "    </tr>\n",
              "    <tr>\n",
              "      <th>50%</th>\n",
              "      <td>2001.500000</td>\n",
              "      <td>15.245000</td>\n",
              "      <td>15.380000</td>\n",
              "    </tr>\n",
              "    <tr>\n",
              "      <th>75%</th>\n",
              "      <td>2010.250000</td>\n",
              "      <td>36.972500</td>\n",
              "      <td>22.437500</td>\n",
              "    </tr>\n",
              "    <tr>\n",
              "      <th>max</th>\n",
              "      <td>2019.000000</td>\n",
              "      <td>79.480000</td>\n",
              "      <td>44.080000</td>\n",
              "    </tr>\n",
              "  </tbody>\n",
              "</table>\n",
              "</div>\n",
              "      <button class=\"colab-df-convert\" onclick=\"convertToInteractive('df-34c5e334-01c6-4742-88f0-4adaf8d7fefa')\"\n",
              "              title=\"Convert this dataframe to an interactive table.\"\n",
              "              style=\"display:none;\">\n",
              "        \n",
              "  <svg xmlns=\"http://www.w3.org/2000/svg\" height=\"24px\"viewBox=\"0 0 24 24\"\n",
              "       width=\"24px\">\n",
              "    <path d=\"M0 0h24v24H0V0z\" fill=\"none\"/>\n",
              "    <path d=\"M18.56 5.44l.94 2.06.94-2.06 2.06-.94-2.06-.94-.94-2.06-.94 2.06-2.06.94zm-11 1L8.5 8.5l.94-2.06 2.06-.94-2.06-.94L8.5 2.5l-.94 2.06-2.06.94zm10 10l.94 2.06.94-2.06 2.06-.94-2.06-.94-.94-2.06-.94 2.06-2.06.94z\"/><path d=\"M17.41 7.96l-1.37-1.37c-.4-.4-.92-.59-1.43-.59-.52 0-1.04.2-1.43.59L10.3 9.45l-7.72 7.72c-.78.78-.78 2.05 0 2.83L4 21.41c.39.39.9.59 1.41.59.51 0 1.02-.2 1.41-.59l7.78-7.78 2.81-2.81c.8-.78.8-2.07 0-2.86zM5.41 20L4 18.59l7.72-7.72 1.47 1.35L5.41 20z\"/>\n",
              "  </svg>\n",
              "      </button>\n",
              "      \n",
              "  <style>\n",
              "    .colab-df-container {\n",
              "      display:flex;\n",
              "      flex-wrap:wrap;\n",
              "      gap: 12px;\n",
              "    }\n",
              "\n",
              "    .colab-df-convert {\n",
              "      background-color: #E8F0FE;\n",
              "      border: none;\n",
              "      border-radius: 50%;\n",
              "      cursor: pointer;\n",
              "      display: none;\n",
              "      fill: #1967D2;\n",
              "      height: 32px;\n",
              "      padding: 0 0 0 0;\n",
              "      width: 32px;\n",
              "    }\n",
              "\n",
              "    .colab-df-convert:hover {\n",
              "      background-color: #E2EBFA;\n",
              "      box-shadow: 0px 1px 2px rgba(60, 64, 67, 0.3), 0px 1px 3px 1px rgba(60, 64, 67, 0.15);\n",
              "      fill: #174EA6;\n",
              "    }\n",
              "\n",
              "    [theme=dark] .colab-df-convert {\n",
              "      background-color: #3B4455;\n",
              "      fill: #D2E3FC;\n",
              "    }\n",
              "\n",
              "    [theme=dark] .colab-df-convert:hover {\n",
              "      background-color: #434B5C;\n",
              "      box-shadow: 0px 1px 3px 1px rgba(0, 0, 0, 0.15);\n",
              "      filter: drop-shadow(0px 1px 2px rgba(0, 0, 0, 0.3));\n",
              "      fill: #FFFFFF;\n",
              "    }\n",
              "  </style>\n",
              "\n",
              "      <script>\n",
              "        const buttonEl =\n",
              "          document.querySelector('#df-34c5e334-01c6-4742-88f0-4adaf8d7fefa button.colab-df-convert');\n",
              "        buttonEl.style.display =\n",
              "          google.colab.kernel.accessAllowed ? 'block' : 'none';\n",
              "\n",
              "        async function convertToInteractive(key) {\n",
              "          const element = document.querySelector('#df-34c5e334-01c6-4742-88f0-4adaf8d7fefa');\n",
              "          const dataTable =\n",
              "            await google.colab.kernel.invokeFunction('convertToInteractive',\n",
              "                                                     [key], {});\n",
              "          if (!dataTable) return;\n",
              "\n",
              "          const docLinkHtml = 'Like what you see? Visit the ' +\n",
              "            '<a target=\"_blank\" href=https://colab.research.google.com/notebooks/data_table.ipynb>data table notebook</a>'\n",
              "            + ' to learn more about interactive tables.';\n",
              "          element.innerHTML = '';\n",
              "          dataTable['output_type'] = 'display_data';\n",
              "          await google.colab.output.renderOutput(dataTable, element);\n",
              "          const docLink = document.createElement('div');\n",
              "          docLink.innerHTML = docLinkHtml;\n",
              "          element.appendChild(docLink);\n",
              "        }\n",
              "      </script>\n",
              "    </div>\n",
              "  </div>\n",
              "  "
            ],
            "text/plain": [
              "              Year     Growth      Value\n",
              "count    36.000000  36.000000  36.000000\n",
              "mean   2001.500000  15.755000  12.005000\n",
              "std      10.535654  23.799285  17.979187\n",
              "min    1984.000000 -40.900000 -46.520000\n",
              "25%    1992.750000   2.860000   1.702500\n",
              "50%    2001.500000  15.245000  15.380000\n",
              "75%    2010.250000  36.972500  22.437500\n",
              "max    2019.000000  79.480000  44.080000"
            ]
          },
          "metadata": {},
          "execution_count": 59
        }
      ]
    },
    {
      "cell_type": "code",
      "source": [
        "# other functions to measure central location\n",
        "f\"The maximum value is: {df['Value'].max()}, the minimum value is {df['Value'].min()}\""
      ],
      "metadata": {
        "colab": {
          "base_uri": "https://localhost:8080/",
          "height": 35
        },
        "id": "eAPnkwAzMc4U",
        "outputId": "cee2cc52-e7ad-48b1-867e-52bb13fa426d"
      },
      "execution_count": 60,
      "outputs": [
        {
          "output_type": "execute_result",
          "data": {
            "application/vnd.google.colaboratory.intrinsic+json": {
              "type": "string"
            },
            "text/plain": [
              "'The maximum value is: 44.08, the minimum value is -46.52'"
            ]
          },
          "metadata": {},
          "execution_count": 60
        }
      ]
    },
    {
      "cell_type": "code",
      "source": [
        "# find the percentile\n",
        "np.percentile(df['Value'], 50) # return the 50th percentile, e.g median"
      ],
      "metadata": {
        "colab": {
          "base_uri": "https://localhost:8080/"
        },
        "id": "NxXN2QC8ND1O",
        "outputId": "48f44b42-bed3-47ee-c06f-8b33d698f416"
      },
      "execution_count": 61,
      "outputs": [
        {
          "output_type": "execute_result",
          "data": {
            "text/plain": [
              "15.379999999999999"
            ]
          },
          "metadata": {},
          "execution_count": 61
        }
      ]
    },
    {
      "cell_type": "code",
      "source": [
        "# mean absolute deviation\n",
        "def find_MAD(df_col):\n",
        "  \"\"\"\n",
        "  Calculate the mean absolute deviation\n",
        "  \"\"\"\n",
        "  mu = df_col.mean() # calculate the mean\n",
        "  n = len(df_col) # length of dataset\n",
        "  all_differences = [] # list of all differences\n",
        "  for i in df_col: # iterate through each value\n",
        "    all_differences.append(abs(i-mu)) # take the difference for absolute value\n",
        "  return sum(all_differences)/n # take the sum and divide by n"
      ],
      "metadata": {
        "id": "xYEaf_7n2GZe"
      },
      "execution_count": 62,
      "outputs": []
    },
    {
      "cell_type": "code",
      "source": [
        "find_MAD(df['Value'])"
      ],
      "metadata": {
        "colab": {
          "base_uri": "https://localhost:8080/"
        },
        "id": "WEHuyWy6Flw9",
        "outputId": "65933f4c-840b-456b-a6d9-b94f9a86fc36"
      },
      "execution_count": 63,
      "outputs": [
        {
          "output_type": "execute_result",
          "data": {
            "text/plain": [
              "13.666666666666666"
            ]
          },
          "metadata": {},
          "execution_count": 63
        }
      ]
    },
    {
      "cell_type": "code",
      "source": [
        "find_MAD(df['Growth'])"
      ],
      "metadata": {
        "colab": {
          "base_uri": "https://localhost:8080/"
        },
        "id": "f7I7oeMcGmgG",
        "outputId": "fa51f48b-7b7e-4c97-ac43-9ababd52c338"
      },
      "execution_count": 64,
      "outputs": [
        {
          "output_type": "execute_result",
          "data": {
            "text/plain": [
              "17.490555555555552"
            ]
          },
          "metadata": {},
          "execution_count": 64
        }
      ]
    },
    {
      "cell_type": "markdown",
      "source": [
        "We see that the MAD for Growth fund is higher than the Value fund, which implies the values are more disperesed for Growth."
      ],
      "metadata": {
        "id": "v1Qb4EskGoI3"
      }
    },
    {
      "cell_type": "code",
      "source": [
        "# using the built in function\n",
        "df['Value'].mad()"
      ],
      "metadata": {
        "colab": {
          "base_uri": "https://localhost:8080/"
        },
        "id": "GXP9vrQINSQx",
        "outputId": "e4b1efca-4b0e-4e29-c8e5-696c7b9e4af5"
      },
      "execution_count": 65,
      "outputs": [
        {
          "output_type": "execute_result",
          "data": {
            "text/plain": [
              "13.666666666666666"
            ]
          },
          "metadata": {},
          "execution_count": 65
        }
      ]
    },
    {
      "cell_type": "code",
      "source": [
        "# variance\n",
        "def find_variance(df_col):\n",
        "  \"\"\"\n",
        "  Calculate the variance\n",
        "  \"\"\"\n",
        "  mu = df_col.mean() # calculate the mean\n",
        "  n = len(df_col) # length of dataset\n",
        "  all_differences = [] # list of all differences\n",
        "  for i in df_col: # iterate through each value\n",
        "    all_differences.append((i-mu)**2) # take the difference and square it\n",
        "  return sum(all_differences)/(n-1) # take the sum and divide by n - 1"
      ],
      "metadata": {
        "id": "UWsrSgCWGgGn"
      },
      "execution_count": 66,
      "outputs": []
    },
    {
      "cell_type": "code",
      "source": [
        "find_variance(df['Value'])"
      ],
      "metadata": {
        "colab": {
          "base_uri": "https://localhost:8080/"
        },
        "id": "n1-7Yjb8HBvn",
        "outputId": "5b67b24e-0efd-4329-e6b0-0e1a87e0e41d"
      },
      "execution_count": 67,
      "outputs": [
        {
          "output_type": "execute_result",
          "data": {
            "text/plain": [
              "323.25117428571434"
            ]
          },
          "metadata": {},
          "execution_count": 67
        }
      ]
    },
    {
      "cell_type": "code",
      "source": [
        "# using the built in function\n",
        "df['Value'].var()"
      ],
      "metadata": {
        "colab": {
          "base_uri": "https://localhost:8080/"
        },
        "id": "cXM3R5nXOPvt",
        "outputId": "77ac1b2d-cfe8-4286-9ab9-700f15a40107"
      },
      "execution_count": 68,
      "outputs": [
        {
          "output_type": "execute_result",
          "data": {
            "text/plain": [
              "323.25117428571434"
            ]
          },
          "metadata": {},
          "execution_count": 68
        }
      ]
    },
    {
      "cell_type": "code",
      "source": [
        "find_variance(df['Growth'])"
      ],
      "metadata": {
        "colab": {
          "base_uri": "https://localhost:8080/"
        },
        "id": "Qzkh4wB6IIOK",
        "outputId": "45c1717d-7b80-412e-f2aa-938627126012"
      },
      "execution_count": 69,
      "outputs": [
        {
          "output_type": "execute_result",
          "data": {
            "text/plain": [
              "566.4059857142859"
            ]
          },
          "metadata": {},
          "execution_count": 69
        }
      ]
    },
    {
      "cell_type": "markdown",
      "source": [
        "We see the variance is much greater for the Growth fund, implying that the annual returns vary more for the Growth fund. "
      ],
      "metadata": {
        "id": "5Bp5XphIILA1"
      }
    },
    {
      "cell_type": "code",
      "source": [
        "# standard deviation\n",
        "def find_std(df_col):\n",
        "  \"\"\"\n",
        "  Calculate the standard deviation\n",
        "  \"\"\"\n",
        "  mu = df_col.mean() # calculate the mean\n",
        "  n = len(df_col) # length of dataset\n",
        "  all_differences = [] # list of all differences\n",
        "  for i in df_col: # iterate through each value\n",
        "    all_differences.append((i-mu)**2) # take the difference and square it\n",
        "  return math.sqrt(sum(all_differences)/(n-1)) # take the sum and divide by n - 1, then take the square root"
      ],
      "metadata": {
        "id": "C2LyLIEYHfyx"
      },
      "execution_count": 70,
      "outputs": []
    },
    {
      "cell_type": "code",
      "source": [
        "find_std(df['Value'])"
      ],
      "metadata": {
        "colab": {
          "base_uri": "https://localhost:8080/"
        },
        "id": "EDZyk68XHp8u",
        "outputId": "c66a1567-d533-42c2-b474-a167d6549233"
      },
      "execution_count": 71,
      "outputs": [
        {
          "output_type": "execute_result",
          "data": {
            "text/plain": [
              "17.97918725320236"
            ]
          },
          "metadata": {},
          "execution_count": 71
        }
      ]
    },
    {
      "cell_type": "code",
      "source": [
        "# using the built in function\n",
        "value_std = df['Value'].std()\n",
        "value_std"
      ],
      "metadata": {
        "colab": {
          "base_uri": "https://localhost:8080/"
        },
        "id": "9w-oCvN1OUmg",
        "outputId": "fd4917bf-0bcf-46e0-d8e9-543f73555a07"
      },
      "execution_count": 72,
      "outputs": [
        {
          "output_type": "execute_result",
          "data": {
            "text/plain": [
              "17.97918725320236"
            ]
          },
          "metadata": {},
          "execution_count": 72
        }
      ]
    },
    {
      "cell_type": "code",
      "source": [
        "find_std(df['Growth'])"
      ],
      "metadata": {
        "colab": {
          "base_uri": "https://localhost:8080/"
        },
        "id": "zTGqp6CgIWfa",
        "outputId": "d12a9770-8d57-4feb-8a91-aa45f59994ed"
      },
      "execution_count": 73,
      "outputs": [
        {
          "output_type": "execute_result",
          "data": {
            "text/plain": [
              "23.799285403437764"
            ]
          },
          "metadata": {},
          "execution_count": 73
        }
      ]
    },
    {
      "cell_type": "code",
      "source": [
        "growth_std = df['Growth'].std()\n",
        "growth_std"
      ],
      "metadata": {
        "colab": {
          "base_uri": "https://localhost:8080/"
        },
        "id": "ABUOfztCo0ET",
        "outputId": "7f61cf31-90c0-4510-cf70-230f2a697bee"
      },
      "execution_count": 74,
      "outputs": [
        {
          "output_type": "execute_result",
          "data": {
            "text/plain": [
              "23.799285403437764"
            ]
          },
          "metadata": {},
          "execution_count": 74
        }
      ]
    },
    {
      "cell_type": "markdown",
      "source": [
        "The standard deviation brings the units back to an interpretable value, so we see that one standard deviation from the mean would be about 24% return for the Growth fund, and 18% for the Value fund. This can help measure the level of risk where the higher the fluctuations the higher the risk. A more stable fund with consistent returns would be less risky."
      ],
      "metadata": {
        "id": "4MT-8_O9IZ7p"
      }
    },
    {
      "cell_type": "code",
      "source": [
        "# coefficient of variation\n",
        "find_std(df['Growth'])/df['Growth'].mean()"
      ],
      "metadata": {
        "colab": {
          "base_uri": "https://localhost:8080/"
        },
        "id": "O2XXFhavMR_O",
        "outputId": "26bf6db0-38a7-407e-8325-752c30cb6523"
      },
      "execution_count": 75,
      "outputs": [
        {
          "output_type": "execute_result",
          "data": {
            "text/plain": [
              "1.510586188729785"
            ]
          },
          "metadata": {},
          "execution_count": 75
        }
      ]
    },
    {
      "cell_type": "code",
      "source": [
        "# using the built-in function\n",
        "scipy.stats.variation(df['Growth'])"
      ],
      "metadata": {
        "colab": {
          "base_uri": "https://localhost:8080/"
        },
        "id": "VqSOW40JMcL3",
        "outputId": "47bb4bd0-e410-457a-dc30-edb30d7fd225"
      },
      "execution_count": 76,
      "outputs": [
        {
          "output_type": "execute_result",
          "data": {
            "text/plain": [
              "1.4894580686289638"
            ]
          },
          "metadata": {},
          "execution_count": 76
        }
      ]
    },
    {
      "cell_type": "code",
      "source": [
        "scipy.stats.variation(df['Value'])"
      ],
      "metadata": {
        "colab": {
          "base_uri": "https://localhost:8080/"
        },
        "id": "2v_l09RbMzOq",
        "outputId": "a419b366-41f8-454c-c012-29ae2f4c77f2"
      },
      "execution_count": 77,
      "outputs": [
        {
          "output_type": "execute_result",
          "data": {
            "text/plain": [
              "1.4766945193007466"
            ]
          },
          "metadata": {},
          "execution_count": 77
        }
      ]
    },
    {
      "cell_type": "markdown",
      "source": [
        "Interesting to see the coefficient of variation is about the same, we can infer that both funds have a similar level of dispersion around the mean. This is a meausre of relative variability."
      ],
      "metadata": {
        "id": "Ulbcgq7eMxYZ"
      }
    },
    {
      "cell_type": "code",
      "source": [
        "# skewness\n",
        "df['Value'].skew()"
      ],
      "metadata": {
        "colab": {
          "base_uri": "https://localhost:8080/"
        },
        "id": "w7f53K0bOdes",
        "outputId": "9a19c0df-3a62-4dd8-9c70-a1e7e0490689"
      },
      "execution_count": 78,
      "outputs": [
        {
          "output_type": "execute_result",
          "data": {
            "text/plain": [
              "-1.0235910814635056"
            ]
          },
          "metadata": {},
          "execution_count": 78
        }
      ]
    },
    {
      "cell_type": "markdown",
      "source": [
        "We see the annual returns are negatively skewed and we can assume that extreme values lie to the left of the mean. "
      ],
      "metadata": {
        "id": "9T0UFKwhPkdg"
      }
    },
    {
      "cell_type": "code",
      "source": [
        "# kurtosis\n",
        "df['Value'].kurtosis()"
      ],
      "metadata": {
        "colab": {
          "base_uri": "https://localhost:8080/"
        },
        "id": "-610S5mCOikk",
        "outputId": "f5387d1a-c706-4a05-d1d2-73935c8382fe"
      },
      "execution_count": 79,
      "outputs": [
        {
          "output_type": "execute_result",
          "data": {
            "text/plain": [
              "1.8533507615120426"
            ]
          },
          "metadata": {},
          "execution_count": 79
        }
      ]
    },
    {
      "cell_type": "markdown",
      "source": [
        "https://docs.scipy.org/doc/scipy/reference/generated/scipy.stats.kurtosis.html\n",
        "\n",
        "Kurtosis is the measure of \"tailedness\", to measure what proportion of the data is in the tail. The kurtosis of a normal distribution is zero, the higher the kurtosis the heavier the tail"
      ],
      "metadata": {
        "id": "4RFbIu81QE-A"
      }
    },
    {
      "cell_type": "markdown",
      "source": [
        "### Subsetted Means\n",
        "\n",
        "Understanding the sample vs population. \n",
        "\n",
        "Consider the example of spending patterns during the holiday season, the following dataframe contains 130 existing customers,demographic data and $ spent on different categories of retail.\n",
        "\n",
        "Let's calculate the average for each category between male and female customers. This will help direct marketing for the target market for each product category."
      ],
      "metadata": {
        "id": "7xe8C8RtRAiD"
      }
    },
    {
      "cell_type": "code",
      "source": [
        "df1 = pd.read_excel(\"https://lectures.mhhe.com/connect/jaggia4e_1260719294/student/data_files/jaggia_BS_4e_ch03_Data_Files.xlsx\",\n",
        "                   sheet_name='Online')"
      ],
      "metadata": {
        "id": "5PUpifsHO8MI"
      },
      "execution_count": 80,
      "outputs": []
    },
    {
      "cell_type": "code",
      "source": [
        "df1.head()"
      ],
      "metadata": {
        "colab": {
          "base_uri": "https://localhost:8080/",
          "height": 206
        },
        "id": "e1K_eDDPRFZK",
        "outputId": "b13d7dc8-70f6-46ea-d684-878cd5e35306"
      },
      "execution_count": 81,
      "outputs": [
        {
          "output_type": "execute_result",
          "data": {
            "text/html": [
              "\n",
              "  <div id=\"df-977d4405-9857-44bf-b42d-25ef895a6983\">\n",
              "    <div class=\"colab-df-container\">\n",
              "      <div>\n",
              "<style scoped>\n",
              "    .dataframe tbody tr th:only-of-type {\n",
              "        vertical-align: middle;\n",
              "    }\n",
              "\n",
              "    .dataframe tbody tr th {\n",
              "        vertical-align: top;\n",
              "    }\n",
              "\n",
              "    .dataframe thead th {\n",
              "        text-align: right;\n",
              "    }\n",
              "</style>\n",
              "<table border=\"1\" class=\"dataframe\">\n",
              "  <thead>\n",
              "    <tr style=\"text-align: right;\">\n",
              "      <th></th>\n",
              "      <th>Customer</th>\n",
              "      <th>Sex</th>\n",
              "      <th>Clothing</th>\n",
              "      <th>Health</th>\n",
              "      <th>Tech</th>\n",
              "      <th>Misc</th>\n",
              "    </tr>\n",
              "  </thead>\n",
              "  <tbody>\n",
              "    <tr>\n",
              "      <th>0</th>\n",
              "      <td>1</td>\n",
              "      <td>Female</td>\n",
              "      <td>246</td>\n",
              "      <td>185</td>\n",
              "      <td>64</td>\n",
              "      <td>75</td>\n",
              "    </tr>\n",
              "    <tr>\n",
              "      <th>1</th>\n",
              "      <td>2</td>\n",
              "      <td>Male</td>\n",
              "      <td>171</td>\n",
              "      <td>78</td>\n",
              "      <td>345</td>\n",
              "      <td>10</td>\n",
              "    </tr>\n",
              "    <tr>\n",
              "      <th>2</th>\n",
              "      <td>3</td>\n",
              "      <td>Female</td>\n",
              "      <td>95</td>\n",
              "      <td>15</td>\n",
              "      <td>47</td>\n",
              "      <td>90</td>\n",
              "    </tr>\n",
              "    <tr>\n",
              "      <th>3</th>\n",
              "      <td>4</td>\n",
              "      <td>Male</td>\n",
              "      <td>125</td>\n",
              "      <td>16</td>\n",
              "      <td>493</td>\n",
              "      <td>13</td>\n",
              "    </tr>\n",
              "    <tr>\n",
              "      <th>4</th>\n",
              "      <td>5</td>\n",
              "      <td>Female</td>\n",
              "      <td>368</td>\n",
              "      <td>100</td>\n",
              "      <td>82</td>\n",
              "      <td>109</td>\n",
              "    </tr>\n",
              "  </tbody>\n",
              "</table>\n",
              "</div>\n",
              "      <button class=\"colab-df-convert\" onclick=\"convertToInteractive('df-977d4405-9857-44bf-b42d-25ef895a6983')\"\n",
              "              title=\"Convert this dataframe to an interactive table.\"\n",
              "              style=\"display:none;\">\n",
              "        \n",
              "  <svg xmlns=\"http://www.w3.org/2000/svg\" height=\"24px\"viewBox=\"0 0 24 24\"\n",
              "       width=\"24px\">\n",
              "    <path d=\"M0 0h24v24H0V0z\" fill=\"none\"/>\n",
              "    <path d=\"M18.56 5.44l.94 2.06.94-2.06 2.06-.94-2.06-.94-.94-2.06-.94 2.06-2.06.94zm-11 1L8.5 8.5l.94-2.06 2.06-.94-2.06-.94L8.5 2.5l-.94 2.06-2.06.94zm10 10l.94 2.06.94-2.06 2.06-.94-2.06-.94-.94-2.06-.94 2.06-2.06.94z\"/><path d=\"M17.41 7.96l-1.37-1.37c-.4-.4-.92-.59-1.43-.59-.52 0-1.04.2-1.43.59L10.3 9.45l-7.72 7.72c-.78.78-.78 2.05 0 2.83L4 21.41c.39.39.9.59 1.41.59.51 0 1.02-.2 1.41-.59l7.78-7.78 2.81-2.81c.8-.78.8-2.07 0-2.86zM5.41 20L4 18.59l7.72-7.72 1.47 1.35L5.41 20z\"/>\n",
              "  </svg>\n",
              "      </button>\n",
              "      \n",
              "  <style>\n",
              "    .colab-df-container {\n",
              "      display:flex;\n",
              "      flex-wrap:wrap;\n",
              "      gap: 12px;\n",
              "    }\n",
              "\n",
              "    .colab-df-convert {\n",
              "      background-color: #E8F0FE;\n",
              "      border: none;\n",
              "      border-radius: 50%;\n",
              "      cursor: pointer;\n",
              "      display: none;\n",
              "      fill: #1967D2;\n",
              "      height: 32px;\n",
              "      padding: 0 0 0 0;\n",
              "      width: 32px;\n",
              "    }\n",
              "\n",
              "    .colab-df-convert:hover {\n",
              "      background-color: #E2EBFA;\n",
              "      box-shadow: 0px 1px 2px rgba(60, 64, 67, 0.3), 0px 1px 3px 1px rgba(60, 64, 67, 0.15);\n",
              "      fill: #174EA6;\n",
              "    }\n",
              "\n",
              "    [theme=dark] .colab-df-convert {\n",
              "      background-color: #3B4455;\n",
              "      fill: #D2E3FC;\n",
              "    }\n",
              "\n",
              "    [theme=dark] .colab-df-convert:hover {\n",
              "      background-color: #434B5C;\n",
              "      box-shadow: 0px 1px 3px 1px rgba(0, 0, 0, 0.15);\n",
              "      filter: drop-shadow(0px 1px 2px rgba(0, 0, 0, 0.3));\n",
              "      fill: #FFFFFF;\n",
              "    }\n",
              "  </style>\n",
              "\n",
              "      <script>\n",
              "        const buttonEl =\n",
              "          document.querySelector('#df-977d4405-9857-44bf-b42d-25ef895a6983 button.colab-df-convert');\n",
              "        buttonEl.style.display =\n",
              "          google.colab.kernel.accessAllowed ? 'block' : 'none';\n",
              "\n",
              "        async function convertToInteractive(key) {\n",
              "          const element = document.querySelector('#df-977d4405-9857-44bf-b42d-25ef895a6983');\n",
              "          const dataTable =\n",
              "            await google.colab.kernel.invokeFunction('convertToInteractive',\n",
              "                                                     [key], {});\n",
              "          if (!dataTable) return;\n",
              "\n",
              "          const docLinkHtml = 'Like what you see? Visit the ' +\n",
              "            '<a target=\"_blank\" href=https://colab.research.google.com/notebooks/data_table.ipynb>data table notebook</a>'\n",
              "            + ' to learn more about interactive tables.';\n",
              "          element.innerHTML = '';\n",
              "          dataTable['output_type'] = 'display_data';\n",
              "          await google.colab.output.renderOutput(dataTable, element);\n",
              "          const docLink = document.createElement('div');\n",
              "          docLink.innerHTML = docLinkHtml;\n",
              "          element.appendChild(docLink);\n",
              "        }\n",
              "      </script>\n",
              "    </div>\n",
              "  </div>\n",
              "  "
            ],
            "text/plain": [
              "   Customer     Sex  Clothing  Health  Tech  Misc\n",
              "0         1  Female       246     185    64    75\n",
              "1         2    Male       171      78   345    10\n",
              "2         3  Female        95      15    47    90\n",
              "3         4    Male       125      16   493    13\n",
              "4         5  Female       368     100    82   109"
            ]
          },
          "metadata": {},
          "execution_count": 81
        }
      ]
    },
    {
      "cell_type": "code",
      "source": [
        "# print out all columns\n",
        "df1.columns"
      ],
      "metadata": {
        "colab": {
          "base_uri": "https://localhost:8080/"
        },
        "id": "Fp4BmWaMRzyD",
        "outputId": "2434a83f-8544-4ece-e2c0-ce017cac85eb"
      },
      "execution_count": 82,
      "outputs": [
        {
          "output_type": "execute_result",
          "data": {
            "text/plain": [
              "Index(['Customer', 'Sex', 'Clothing', 'Health', 'Tech', 'Misc'], dtype='object')"
            ]
          },
          "metadata": {},
          "execution_count": 82
        }
      ]
    },
    {
      "cell_type": "code",
      "source": [
        "# group by male and female and then calcualte the mean\n",
        "df1.groupby(['Sex'])[['Clothing', 'Health', 'Tech', 'Misc']].mean()"
      ],
      "metadata": {
        "colab": {
          "base_uri": "https://localhost:8080/",
          "height": 143
        },
        "id": "UrHXdJLORIdc",
        "outputId": "2962bbae-ee56-4b58-c3da-b0c31b7c7bec"
      },
      "execution_count": 83,
      "outputs": [
        {
          "output_type": "execute_result",
          "data": {
            "text/html": [
              "\n",
              "  <div id=\"df-a39584c2-fb8c-4469-afb5-207201762599\">\n",
              "    <div class=\"colab-df-container\">\n",
              "      <div>\n",
              "<style scoped>\n",
              "    .dataframe tbody tr th:only-of-type {\n",
              "        vertical-align: middle;\n",
              "    }\n",
              "\n",
              "    .dataframe tbody tr th {\n",
              "        vertical-align: top;\n",
              "    }\n",
              "\n",
              "    .dataframe thead th {\n",
              "        text-align: right;\n",
              "    }\n",
              "</style>\n",
              "<table border=\"1\" class=\"dataframe\">\n",
              "  <thead>\n",
              "    <tr style=\"text-align: right;\">\n",
              "      <th></th>\n",
              "      <th>Clothing</th>\n",
              "      <th>Health</th>\n",
              "      <th>Tech</th>\n",
              "      <th>Misc</th>\n",
              "    </tr>\n",
              "    <tr>\n",
              "      <th>Sex</th>\n",
              "      <th></th>\n",
              "      <th></th>\n",
              "      <th></th>\n",
              "      <th></th>\n",
              "    </tr>\n",
              "  </thead>\n",
              "  <tbody>\n",
              "    <tr>\n",
              "      <th>Female</th>\n",
              "      <td>225.666667</td>\n",
              "      <td>100.250000</td>\n",
              "      <td>47.097222</td>\n",
              "      <td>159.875000</td>\n",
              "    </tr>\n",
              "    <tr>\n",
              "      <th>Male</th>\n",
              "      <td>97.931034</td>\n",
              "      <td>100.637931</td>\n",
              "      <td>310.965517</td>\n",
              "      <td>85.844828</td>\n",
              "    </tr>\n",
              "  </tbody>\n",
              "</table>\n",
              "</div>\n",
              "      <button class=\"colab-df-convert\" onclick=\"convertToInteractive('df-a39584c2-fb8c-4469-afb5-207201762599')\"\n",
              "              title=\"Convert this dataframe to an interactive table.\"\n",
              "              style=\"display:none;\">\n",
              "        \n",
              "  <svg xmlns=\"http://www.w3.org/2000/svg\" height=\"24px\"viewBox=\"0 0 24 24\"\n",
              "       width=\"24px\">\n",
              "    <path d=\"M0 0h24v24H0V0z\" fill=\"none\"/>\n",
              "    <path d=\"M18.56 5.44l.94 2.06.94-2.06 2.06-.94-2.06-.94-.94-2.06-.94 2.06-2.06.94zm-11 1L8.5 8.5l.94-2.06 2.06-.94-2.06-.94L8.5 2.5l-.94 2.06-2.06.94zm10 10l.94 2.06.94-2.06 2.06-.94-2.06-.94-.94-2.06-.94 2.06-2.06.94z\"/><path d=\"M17.41 7.96l-1.37-1.37c-.4-.4-.92-.59-1.43-.59-.52 0-1.04.2-1.43.59L10.3 9.45l-7.72 7.72c-.78.78-.78 2.05 0 2.83L4 21.41c.39.39.9.59 1.41.59.51 0 1.02-.2 1.41-.59l7.78-7.78 2.81-2.81c.8-.78.8-2.07 0-2.86zM5.41 20L4 18.59l7.72-7.72 1.47 1.35L5.41 20z\"/>\n",
              "  </svg>\n",
              "      </button>\n",
              "      \n",
              "  <style>\n",
              "    .colab-df-container {\n",
              "      display:flex;\n",
              "      flex-wrap:wrap;\n",
              "      gap: 12px;\n",
              "    }\n",
              "\n",
              "    .colab-df-convert {\n",
              "      background-color: #E8F0FE;\n",
              "      border: none;\n",
              "      border-radius: 50%;\n",
              "      cursor: pointer;\n",
              "      display: none;\n",
              "      fill: #1967D2;\n",
              "      height: 32px;\n",
              "      padding: 0 0 0 0;\n",
              "      width: 32px;\n",
              "    }\n",
              "\n",
              "    .colab-df-convert:hover {\n",
              "      background-color: #E2EBFA;\n",
              "      box-shadow: 0px 1px 2px rgba(60, 64, 67, 0.3), 0px 1px 3px 1px rgba(60, 64, 67, 0.15);\n",
              "      fill: #174EA6;\n",
              "    }\n",
              "\n",
              "    [theme=dark] .colab-df-convert {\n",
              "      background-color: #3B4455;\n",
              "      fill: #D2E3FC;\n",
              "    }\n",
              "\n",
              "    [theme=dark] .colab-df-convert:hover {\n",
              "      background-color: #434B5C;\n",
              "      box-shadow: 0px 1px 3px 1px rgba(0, 0, 0, 0.15);\n",
              "      filter: drop-shadow(0px 1px 2px rgba(0, 0, 0, 0.3));\n",
              "      fill: #FFFFFF;\n",
              "    }\n",
              "  </style>\n",
              "\n",
              "      <script>\n",
              "        const buttonEl =\n",
              "          document.querySelector('#df-a39584c2-fb8c-4469-afb5-207201762599 button.colab-df-convert');\n",
              "        buttonEl.style.display =\n",
              "          google.colab.kernel.accessAllowed ? 'block' : 'none';\n",
              "\n",
              "        async function convertToInteractive(key) {\n",
              "          const element = document.querySelector('#df-a39584c2-fb8c-4469-afb5-207201762599');\n",
              "          const dataTable =\n",
              "            await google.colab.kernel.invokeFunction('convertToInteractive',\n",
              "                                                     [key], {});\n",
              "          if (!dataTable) return;\n",
              "\n",
              "          const docLinkHtml = 'Like what you see? Visit the ' +\n",
              "            '<a target=\"_blank\" href=https://colab.research.google.com/notebooks/data_table.ipynb>data table notebook</a>'\n",
              "            + ' to learn more about interactive tables.';\n",
              "          element.innerHTML = '';\n",
              "          dataTable['output_type'] = 'display_data';\n",
              "          await google.colab.output.renderOutput(dataTable, element);\n",
              "          const docLink = document.createElement('div');\n",
              "          docLink.innerHTML = docLinkHtml;\n",
              "          element.appendChild(docLink);\n",
              "        }\n",
              "      </script>\n",
              "    </div>\n",
              "  </div>\n",
              "  "
            ],
            "text/plain": [
              "          Clothing      Health        Tech        Misc\n",
              "Sex                                                   \n",
              "Female  225.666667  100.250000   47.097222  159.875000\n",
              "Male     97.931034  100.637931  310.965517   85.844828"
            ]
          },
          "metadata": {},
          "execution_count": 83
        }
      ]
    },
    {
      "cell_type": "markdown",
      "source": [
        "# Percentiles and Boxplots"
      ],
      "metadata": {
        "id": "ATjRGZu9Yx3L"
      }
    },
    {
      "cell_type": "code",
      "source": [
        "df.boxplot(column=['Growth', 'Value'])"
      ],
      "metadata": {
        "colab": {
          "base_uri": "https://localhost:8080/",
          "height": 282
        },
        "id": "fgHaT39kYzYQ",
        "outputId": "543c8d1c-fd2e-4afb-ba26-d4f2a239853b"
      },
      "execution_count": 84,
      "outputs": [
        {
          "output_type": "execute_result",
          "data": {
            "text/plain": [
              "<matplotlib.axes._subplots.AxesSubplot at 0x7f172a500210>"
            ]
          },
          "metadata": {},
          "execution_count": 84
        },
        {
          "output_type": "display_data",
          "data": {
            "image/png": "[encoded data removed]",
            "text/plain": [
              "<Figure size 432x288 with 1 Axes>"
            ]
          },
          "metadata": {
            "needs_background": "light"
          }
        }
      ]
    },
    {
      "cell_type": "code",
      "source": [
        "# using seaborne\n",
        "fig, ax = plt.subplots(1, 1, figsize=(10, 5))\n",
        "# set the colors\n",
        "my_pal = {\"Growth\": \"b\", \"Value\": \"r\"}\n",
        "sns.boxplot(data=df[['Growth', 'Value']], ax=ax, orient=\"h\", palette=my_pal)\n",
        "plt.xticks(size=12)\n",
        "plt.xlabel('Annual Return', size=12)\n",
        "plt.ylabel('Frequency', size=12)\n",
        "plt.title('Distribution of Value Fund Annual Performance', size=15)\n",
        "plt.show()"
      ],
      "metadata": {
        "colab": {
          "base_uri": "https://localhost:8080/",
          "height": 358
        },
        "id": "CDZqFCyybOna",
        "outputId": "ac506e87-648c-4927-e321-dde14ba47adf"
      },
      "execution_count": 85,
      "outputs": [
        {
          "output_type": "display_data",
          "data": {
            "image/png": "[encoded data removed]",
            "text/plain": [
              "<Figure size 720x360 with 1 Axes>"
            ]
          },
          "metadata": {
            "needs_background": "light"
          }
        }
      ]
    },
    {
      "cell_type": "markdown",
      "source": [
        "We see the median which is the middle line is actually the same between the two funds. The edges of the box show the 25th and 75th percentiles and the whiskers from the plot show the range of values. Notice for the value we have a diamond that shows the outlier that is not included in the percentile calculation automatically.\n",
        "\n",
        "It seems the Growth has a wider distribution of values with more values above the median. Comapred to the Value fund that has shorter range of values and are more centralized to the median.\n"
      ],
      "metadata": {
        "id": "bjyz9LgTdd8v"
      }
    },
    {
      "cell_type": "markdown",
      "source": [
        "## Analysis of Relative Location"
      ],
      "metadata": {
        "id": "n8Nt-i7QfFCp"
      }
    },
    {
      "cell_type": "code",
      "source": [
        "# visualize distribution\n",
        "mu = 74\n",
        "std = 8\n",
        "x = np.linspace(mu - 3*std, mu + 3*std, 100)\n",
        "\n",
        "fig, ax = plt.subplots(1, 1, figsize=(8, 6))\n",
        "plt.plot(x, scipy.stats.norm.pdf(x, mu, std))\n",
        "plt.axvline(x=mu, color='r', linestyle='--')\n",
        "plt.axvline(x=58, color='y', linestyle='-')\n",
        "plt.axvline(x=90, color='y', linestyle='-')\n",
        "plt.axvline(x=mu-std, color='g', linestyle='--')\n",
        "plt.axvline(x=mu+std, color='g', linestyle='--')\n",
        "plt.xlabel('Score', size=12)\n",
        "plt.ylabel('Proportion', size=12)\n",
        "plt.title('Distribution of Scores', size=15)\n",
        "plt.show()"
      ],
      "metadata": {
        "colab": {
          "base_uri": "https://localhost:8080/",
          "height": 409
        },
        "id": "YaJ79BhUcBv9",
        "outputId": "12878fe7-594e-4962-93f8-490aae4c7dd2"
      },
      "execution_count": 86,
      "outputs": [
        {
          "output_type": "display_data",
          "data": {
            "image/png": "[encoded data removed]",
            "text/plain": [
              "<Figure size 576x432 with 1 Axes>"
            ]
          },
          "metadata": {
            "needs_background": "light"
          }
        }
      ]
    },
    {
      "cell_type": "markdown",
      "source": [
        "We see a normal distribution of scores, where the red line is the mean and 2 standard deviations away is yellow. The scores of 58 and 90 are 2 standard devations from the mean. Which using chebyshev's theorem is .75 or 75% of the observations fall within this interval.\n"
      ],
      "metadata": {
        "id": "BS2nzATliRko"
      }
    },
    {
      "cell_type": "markdown",
      "source": [
        "### Outliers\n",
        "\n",
        "We use the z-score to determine if there are any outliers, observations that fall outside of 3 standard deviations are considered to be an outlier.\n",
        "\n",
        "Let's evaluate the Growth and Value fund data for any outliers."
      ],
      "metadata": {
        "id": "KJhMFXfboG_M"
      }
    },
    {
      "cell_type": "code",
      "source": [
        "growth_mean, growth_std"
      ],
      "metadata": {
        "colab": {
          "base_uri": "https://localhost:8080/"
        },
        "id": "yJtAS0QToQVi",
        "outputId": "46f6bfff-91d5-4f8f-ec93-a53e5017a64a"
      },
      "execution_count": 87,
      "outputs": [
        {
          "output_type": "execute_result",
          "data": {
            "text/plain": [
              "(15.754999999999999, 23.799285403437764)"
            ]
          },
          "metadata": {},
          "execution_count": 87
        }
      ]
    },
    {
      "cell_type": "code",
      "source": [
        "value_mean, value_std"
      ],
      "metadata": {
        "colab": {
          "base_uri": "https://localhost:8080/"
        },
        "id": "XvBOh-APoojg",
        "outputId": "6795c696-cdd1-4f6a-89c5-cf6dd3c7cf80"
      },
      "execution_count": 88,
      "outputs": [
        {
          "output_type": "execute_result",
          "data": {
            "text/plain": [
              "(12.005000000000003, 17.97918725320236)"
            ]
          },
          "metadata": {},
          "execution_count": 88
        }
      ]
    },
    {
      "cell_type": "code",
      "source": [
        "\n",
        "def find_outlier(df_col):\n",
        "  \"\"\"\n",
        "  Calculates z score and compares it to threshold of 3 as an outlier\n",
        "  \"\"\"\n",
        "  threshold = 3\n",
        "  print(\"Highest allowed\",df_col.mean() + threshold*df_col.std())\n",
        "  print(\"Lowest allowed\",df_col.mean() - threshold*df_col.std())\n",
        "\n",
        "  print(f\"Highest Value: {df_col.max()}, lowest value: {df_col.min()}\")\n",
        "  outlier = []\n",
        "  for i in df_col:\n",
        "      z = (i-df_col.mean())/df_col.std()\n",
        "      if z >= threshold or z <= -threshold :\n",
        "          outlier.append(i)\n",
        "  print('outlier in dataset is', outlier)\n",
        "  return outlier"
      ],
      "metadata": {
        "id": "eARjzap9opzV"
      },
      "execution_count": 89,
      "outputs": []
    },
    {
      "cell_type": "code",
      "source": [
        "find_outlier(df['Growth'])"
      ],
      "metadata": {
        "colab": {
          "base_uri": "https://localhost:8080/"
        },
        "id": "wFAILlG6pQMY",
        "outputId": "18758e48-52f6-4b10-d331-3893a4b48528"
      },
      "execution_count": 90,
      "outputs": [
        {
          "output_type": "stream",
          "name": "stdout",
          "text": [
            "Highest allowed 87.1528562103133\n",
            "Lowest allowed -55.64285621031329\n",
            "Highest Value: 79.48, lowest value: -40.9\n",
            "outlier in dataset is []\n"
          ]
        },
        {
          "output_type": "execute_result",
          "data": {
            "text/plain": [
              "[]"
            ]
          },
          "metadata": {},
          "execution_count": 90
        }
      ]
    },
    {
      "cell_type": "code",
      "source": [
        "find_outlier(df['Value'])"
      ],
      "metadata": {
        "colab": {
          "base_uri": "https://localhost:8080/"
        },
        "id": "RJ8O-TJhpMmg",
        "outputId": "55ff5b00-3985-4aac-d618-965a7f636516"
      },
      "execution_count": 91,
      "outputs": [
        {
          "output_type": "stream",
          "name": "stdout",
          "text": [
            "Highest allowed 65.94256175960709\n",
            "Lowest allowed -41.93256175960708\n",
            "Highest Value: 44.08, lowest value: -46.52\n",
            "outlier in dataset is [-46.52]\n"
          ]
        },
        {
          "output_type": "execute_result",
          "data": {
            "text/plain": [
              "[-46.52]"
            ]
          },
          "metadata": {},
          "execution_count": 91
        }
      ]
    },
    {
      "cell_type": "markdown",
      "source": [
        "We see in the value fund there is one outlier that was detected by our box plot."
      ],
      "metadata": {
        "id": "2qHKXbWVq-W1"
      }
    },
    {
      "cell_type": "code",
      "source": [
        "# let's visualize over time\n",
        "\n",
        "fig, ax = plt.subplots(1, 1, figsize=(8, 6))\n",
        "df['Value'].plot(c='r', ax = ax)\n",
        "plt.axhline(y=value_mean, color='r', linestyle='--')\n",
        "plt.axhline(y=value_mean+(value_std*3), color='y', linestyle='--')\n",
        "plt.axhline(y=value_mean-(value_std*3), color='y', linestyle='--')\n",
        "plt.legend(loc=4)\n",
        "plt.title(\"Annual Return for Fidelity's Value Index Fund\", size=15)\n",
        "plt.xlabel('Year', size=12)\n",
        "plt.ylabel('Annual Return (%)', size=12)\n",
        "\n",
        "# annotate the means\n",
        "trans = transforms.blended_transform_factory(\n",
        "    ax.get_yticklabels()[0].get_transform(), ax.transData)\n",
        "ax.text(0,value_mean, \"{:.0f}\".format(value_mean), color=\"r\", transform=trans, \n",
        "        ha=\"right\", va=\"center\")\n",
        "ax.text(0,value_mean+(value_std*3), \"{:.0f}\".format(value_mean+(value_std*3)), color=\"y\", transform=trans, \n",
        "        ha=\"right\", va=\"center\")\n",
        "ax.text(0,value_mean-(value_std*3), \"{:.0f}\".format(value_mean-(value_std*3)), color=\"y\", transform=trans, \n",
        "        ha=\"right\", va=\"center\")\n",
        "plt.show()"
      ],
      "metadata": {
        "colab": {
          "base_uri": "https://localhost:8080/",
          "height": 409
        },
        "id": "pb7A4exxqdXm",
        "outputId": "b138814c-fa86-4ee9-c52e-766c96fda7da"
      },
      "execution_count": 92,
      "outputs": [
        {
          "output_type": "display_data",
          "data": {
            "image/png": "[encoded data removed]",
            "text/plain": [
              "<Figure size 576x432 with 1 Axes>"
            ]
          },
          "metadata": {
            "needs_background": "light"
          }
        }
      ]
    },
    {
      "cell_type": "markdown",
      "source": [
        "We can visualize what 3 standard deviations below and above the mean would look like and see that in 2008 the annual return reached below -42% and can be considered an outlier. Such observations should be reviewed to determine if they should remain in the data set."
      ],
      "metadata": {
        "id": "Tv-ceO402XAA"
      }
    },
    {
      "cell_type": "markdown",
      "source": [
        "## Measures of Association\n",
        "\n",
        "### Covariance"
      ],
      "metadata": {
        "id": "JlnbE9EYz9u1"
      }
    },
    {
      "cell_type": "code",
      "source": [
        "# visualize scatterplot\n",
        "fig, ax = plt.subplots(1, 1, figsize=(8, 6))\n",
        "plt.scatter(x = df['Growth'], y= df['Value'])\n",
        "plt.axhline(y=0, color='lightgrey', linestyle='-')\n",
        "plt.axvline(x=0, color='lightgrey', linestyle='-')\n",
        "plt.title(\"Growth vs. Value Annual Return\", size=15)\n",
        "plt.xlabel('Growth', size=12)\n",
        "plt.ylabel('Value', size=12)"
      ],
      "metadata": {
        "colab": {
          "base_uri": "https://localhost:8080/",
          "height": 426
        },
        "id": "vrAWl1o91rpT",
        "outputId": "88ff278b-4120-4c2d-c82f-903c0a569970"
      },
      "execution_count": 93,
      "outputs": [
        {
          "output_type": "execute_result",
          "data": {
            "text/plain": [
              "Text(0, 0.5, 'Value')"
            ]
          },
          "metadata": {},
          "execution_count": 93
        },
        {
          "output_type": "display_data",
          "data": {
            "image/png": "[encoded data removed]",
            "text/plain": [
              "<Figure size 576x432 with 1 Axes>"
            ]
          },
          "metadata": {
            "needs_background": "light"
          }
        }
      ]
    },
    {
      "cell_type": "markdown",
      "source": [
        "We see there is a positive relationship between the annual return between the growth and value fund, perhaps indicating that if one does well, the other fund tends to do well too. Intuitively this makes sense because the stock market would likely deliver similar waves between the two funds."
      ],
      "metadata": {
        "id": "vUVShgcp2UY5"
      }
    },
    {
      "cell_type": "code",
      "source": [
        "def calc_covariance(df_col_x, df_col_y):\n",
        "  \"\"\"\n",
        "  Calculates the covariance between two series\n",
        "  \"\"\"\n",
        "  mu_x = df_col_x.mean() # calculate the mean of x\n",
        "  mu_y = df_col_y.mean() # calculate the mean of y\n",
        "  n = len(df_col_x) # length of dataset\n",
        "  differences = [] # list of all differences\n",
        "\n",
        "  for x,y in zip(df_col_x,df_col_y) : # iterate through each value pair\n",
        "    # subtract the x from mean of x, subtract y from the mean of y\n",
        "    differences.append((x-mu_x)*(y-mu_y)) # multiply the difference\n",
        "\n",
        "  return sum(differences)/(n-1) # take the sum and divide by n - 1"
      ],
      "metadata": {
        "id": "G1sZe5_z1AyM"
      },
      "execution_count": 94,
      "outputs": []
    },
    {
      "cell_type": "code",
      "source": [
        "calc_covariance(df['Growth'], df['Value'])"
      ],
      "metadata": {
        "colab": {
          "base_uri": "https://localhost:8080/"
        },
        "id": "LH58Vzpq3Y8c",
        "outputId": "f4020bd2-0933-49ca-8989-a0d6d137938e"
      },
      "execution_count": 95,
      "outputs": [
        {
          "output_type": "execute_result",
          "data": {
            "text/plain": [
              "285.6054485714285"
            ]
          },
          "metadata": {},
          "execution_count": 95
        }
      ]
    },
    {
      "cell_type": "code",
      "source": [
        "# covariance\n",
        "np.cov(m= df['Growth'], y=df['Value'])"
      ],
      "metadata": {
        "colab": {
          "base_uri": "https://localhost:8080/"
        },
        "id": "pv0CmmiJOl3q",
        "outputId": "f636b0e5-93aa-4665-927c-35451f2ec48c"
      },
      "execution_count": 96,
      "outputs": [
        {
          "output_type": "execute_result",
          "data": {
            "text/plain": [
              "array([[566.40598571, 285.60544857],\n",
              "       [285.60544857, 323.25117429]])"
            ]
          },
          "metadata": {},
          "execution_count": 96
        }
      ]
    },
    {
      "cell_type": "code",
      "source": [
        "sns.heatmap(np.cov(m= df['Growth'], y=df['Value']), cmap='Blues', annot=True, fmt='g')\n",
        "plt.title('Heatmap of Covariance')\n",
        "plt.show()"
      ],
      "metadata": {
        "colab": {
          "base_uri": "https://localhost:8080/",
          "height": 281
        },
        "id": "UomUB8wp6Kug",
        "outputId": "d5198f58-c579-4de8-a321-3c4d1530a8ec"
      },
      "execution_count": 97,
      "outputs": [
        {
          "output_type": "display_data",
          "data": {
            "image/png": "[encoded data removed]",
            "text/plain": [
              "<Figure size 432x288 with 2 Axes>"
            ]
          },
          "metadata": {
            "needs_background": "light"
          }
        }
      ]
    },
    {
      "cell_type": "markdown",
      "source": [
        "We see the covariance we calcualted of 285 when x is considered Growth, and Y is value. We also can see the covariance matrix showing what is the covariance of the other combinations."
      ],
      "metadata": {
        "id": "npQDFDxc6n2h"
      }
    },
    {
      "cell_type": "code",
      "source": [
        "calc_covariance(df['Growth'], df['Growth'])"
      ],
      "metadata": {
        "colab": {
          "base_uri": "https://localhost:8080/"
        },
        "id": "-nTbbyMc6zvk",
        "outputId": "a99a859b-a52f-4e87-b08f-de0f6087c999"
      },
      "execution_count": 98,
      "outputs": [
        {
          "output_type": "execute_result",
          "data": {
            "text/plain": [
              "566.4059857142859"
            ]
          },
          "metadata": {},
          "execution_count": 98
        }
      ]
    },
    {
      "cell_type": "code",
      "source": [
        "calc_covariance(df['Value'], df['Value'])"
      ],
      "metadata": {
        "colab": {
          "base_uri": "https://localhost:8080/"
        },
        "id": "CqM4zquO62U-",
        "outputId": "d6d89e2b-4a35-4ddc-9bd9-1bd745b024d5"
      },
      "execution_count": 99,
      "outputs": [
        {
          "output_type": "execute_result",
          "data": {
            "text/plain": [
              "323.25117428571434"
            ]
          },
          "metadata": {},
          "execution_count": 99
        }
      ]
    },
    {
      "cell_type": "code",
      "source": [
        "def calc_correlation(df_col_x, df_col_y):\n",
        "  \"\"\"\n",
        "  Calculates the correlation between two series\n",
        "  \"\"\"\n",
        "  mu_x = df_col_x.mean() # calculate the mean of x\n",
        "  mu_y = df_col_y.mean() # calculate the mean of y\n",
        "  n = len(df_col_x) # length of dataset\n",
        "  differences = [] # list of all differences\n",
        "\n",
        "  for x,y in zip(df_col_x,df_col_y) : # iterate through each value pair\n",
        "    # subtract the x from mean of x, subtract y from the mean of y\n",
        "    differences.append((x-mu_x)*(y-mu_y)) # multiply the difference\n",
        "  covariance = sum(differences)/(n-1)\n",
        "  correlation = covariance/(df_col_x.std() * df_col_y.std())\n",
        "  return correlation"
      ],
      "metadata": {
        "id": "GHU5iWCd5Zrr"
      },
      "execution_count": 100,
      "outputs": []
    },
    {
      "cell_type": "code",
      "source": [
        "calc_correlation(df['Growth'], df['Value'])"
      ],
      "metadata": {
        "colab": {
          "base_uri": "https://localhost:8080/"
        },
        "id": "QfBmCkA6st6Z",
        "outputId": "858a4c6d-29d9-49f1-919b-ba5b61e6cdf6"
      },
      "execution_count": 101,
      "outputs": [
        {
          "output_type": "execute_result",
          "data": {
            "text/plain": [
              "0.6674711754790303"
            ]
          },
          "metadata": {},
          "execution_count": 101
        }
      ]
    },
    {
      "cell_type": "code",
      "source": [
        "# correlation using function\n",
        "df[['Growth', 'Value']].corr()"
      ],
      "metadata": {
        "colab": {
          "base_uri": "https://localhost:8080/",
          "height": 112
        },
        "id": "WSd2KGR7Otq1",
        "outputId": "73b48ebd-6fe0-446d-dc3c-d30b80a769c6"
      },
      "execution_count": 102,
      "outputs": [
        {
          "output_type": "execute_result",
          "data": {
            "text/html": [
              "\n",
              "  <div id=\"df-176dc43b-4207-4c84-b9be-d97ede9fef3d\">\n",
              "    <div class=\"colab-df-container\">\n",
              "      <div>\n",
              "<style scoped>\n",
              "    .dataframe tbody tr th:only-of-type {\n",
              "        vertical-align: middle;\n",
              "    }\n",
              "\n",
              "    .dataframe tbody tr th {\n",
              "        vertical-align: top;\n",
              "    }\n",
              "\n",
              "    .dataframe thead th {\n",
              "        text-align: right;\n",
              "    }\n",
              "</style>\n",
              "<table border=\"1\" class=\"dataframe\">\n",
              "  <thead>\n",
              "    <tr style=\"text-align: right;\">\n",
              "      <th></th>\n",
              "      <th>Growth</th>\n",
              "      <th>Value</th>\n",
              "    </tr>\n",
              "  </thead>\n",
              "  <tbody>\n",
              "    <tr>\n",
              "      <th>Growth</th>\n",
              "      <td>1.000000</td>\n",
              "      <td>0.667471</td>\n",
              "    </tr>\n",
              "    <tr>\n",
              "      <th>Value</th>\n",
              "      <td>0.667471</td>\n",
              "      <td>1.000000</td>\n",
              "    </tr>\n",
              "  </tbody>\n",
              "</table>\n",
              "</div>\n",
              "      <button class=\"colab-df-convert\" onclick=\"convertToInteractive('df-176dc43b-4207-4c84-b9be-d97ede9fef3d')\"\n",
              "              title=\"Convert this dataframe to an interactive table.\"\n",
              "              style=\"display:none;\">\n",
              "        \n",
              "  <svg xmlns=\"http://www.w3.org/2000/svg\" height=\"24px\"viewBox=\"0 0 24 24\"\n",
              "       width=\"24px\">\n",
              "    <path d=\"M0 0h24v24H0V0z\" fill=\"none\"/>\n",
              "    <path d=\"M18.56 5.44l.94 2.06.94-2.06 2.06-.94-2.06-.94-.94-2.06-.94 2.06-2.06.94zm-11 1L8.5 8.5l.94-2.06 2.06-.94-2.06-.94L8.5 2.5l-.94 2.06-2.06.94zm10 10l.94 2.06.94-2.06 2.06-.94-2.06-.94-.94-2.06-.94 2.06-2.06.94z\"/><path d=\"M17.41 7.96l-1.37-1.37c-.4-.4-.92-.59-1.43-.59-.52 0-1.04.2-1.43.59L10.3 9.45l-7.72 7.72c-.78.78-.78 2.05 0 2.83L4 21.41c.39.39.9.59 1.41.59.51 0 1.02-.2 1.41-.59l7.78-7.78 2.81-2.81c.8-.78.8-2.07 0-2.86zM5.41 20L4 18.59l7.72-7.72 1.47 1.35L5.41 20z\"/>\n",
              "  </svg>\n",
              "      </button>\n",
              "      \n",
              "  <style>\n",
              "    .colab-df-container {\n",
              "      display:flex;\n",
              "      flex-wrap:wrap;\n",
              "      gap: 12px;\n",
              "    }\n",
              "\n",
              "    .colab-df-convert {\n",
              "      background-color: #E8F0FE;\n",
              "      border: none;\n",
              "      border-radius: 50%;\n",
              "      cursor: pointer;\n",
              "      display: none;\n",
              "      fill: #1967D2;\n",
              "      height: 32px;\n",
              "      padding: 0 0 0 0;\n",
              "      width: 32px;\n",
              "    }\n",
              "\n",
              "    .colab-df-convert:hover {\n",
              "      background-color: #E2EBFA;\n",
              "      box-shadow: 0px 1px 2px rgba(60, 64, 67, 0.3), 0px 1px 3px 1px rgba(60, 64, 67, 0.15);\n",
              "      fill: #174EA6;\n",
              "    }\n",
              "\n",
              "    [theme=dark] .colab-df-convert {\n",
              "      background-color: #3B4455;\n",
              "      fill: #D2E3FC;\n",
              "    }\n",
              "\n",
              "    [theme=dark] .colab-df-convert:hover {\n",
              "      background-color: #434B5C;\n",
              "      box-shadow: 0px 1px 3px 1px rgba(0, 0, 0, 0.15);\n",
              "      filter: drop-shadow(0px 1px 2px rgba(0, 0, 0, 0.3));\n",
              "      fill: #FFFFFF;\n",
              "    }\n",
              "  </style>\n",
              "\n",
              "      <script>\n",
              "        const buttonEl =\n",
              "          document.querySelector('#df-176dc43b-4207-4c84-b9be-d97ede9fef3d button.colab-df-convert');\n",
              "        buttonEl.style.display =\n",
              "          google.colab.kernel.accessAllowed ? 'block' : 'none';\n",
              "\n",
              "        async function convertToInteractive(key) {\n",
              "          const element = document.querySelector('#df-176dc43b-4207-4c84-b9be-d97ede9fef3d');\n",
              "          const dataTable =\n",
              "            await google.colab.kernel.invokeFunction('convertToInteractive',\n",
              "                                                     [key], {});\n",
              "          if (!dataTable) return;\n",
              "\n",
              "          const docLinkHtml = 'Like what you see? Visit the ' +\n",
              "            '<a target=\"_blank\" href=https://colab.research.google.com/notebooks/data_table.ipynb>data table notebook</a>'\n",
              "            + ' to learn more about interactive tables.';\n",
              "          element.innerHTML = '';\n",
              "          dataTable['output_type'] = 'display_data';\n",
              "          await google.colab.output.renderOutput(dataTable, element);\n",
              "          const docLink = document.createElement('div');\n",
              "          docLink.innerHTML = docLinkHtml;\n",
              "          element.appendChild(docLink);\n",
              "        }\n",
              "      </script>\n",
              "    </div>\n",
              "  </div>\n",
              "  "
            ],
            "text/plain": [
              "          Growth     Value\n",
              "Growth  1.000000  0.667471\n",
              "Value   0.667471  1.000000"
            ]
          },
          "metadata": {},
          "execution_count": 102
        }
      ]
    },
    {
      "cell_type": "code",
      "source": [
        "sns.heatmap(df[['Growth', 'Value']].corr(), cmap='Blues', annot=True, fmt='g')\n",
        "plt.title('Heatmap of Covariance')\n",
        "plt.show()"
      ],
      "metadata": {
        "colab": {
          "base_uri": "https://localhost:8080/",
          "height": 281
        },
        "id": "K3WJAHhC51yv",
        "outputId": "1e9404d1-c3c5-4ee1-b950-28bb9a50df97"
      },
      "execution_count": 103,
      "outputs": [
        {
          "output_type": "display_data",
          "data": {
            "image/png": "[encoded data removed]",
            "text/plain": [
              "<Figure size 432x288 with 2 Axes>"
            ]
          },
          "metadata": {
            "needs_background": "light"
          }
        }
      ]
    },
    {
      "cell_type": "markdown",
      "source": [
        "We see the correlation of a value to itself is 1. Since we divide by the standard deviation, it cancels the variation out and leaves a perfectly correlated (and meaningless) relationship. "
      ],
      "metadata": {
        "id": "jhaQfeEo7NXj"
      }
    }
  ]
}