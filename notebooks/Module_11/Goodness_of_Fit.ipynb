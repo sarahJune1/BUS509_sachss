{
  "nbformat": 4,
  "nbformat_minor": 0,
  "metadata": {
    "colab": {
      "name": "Goodness of Fit.ipynb",
      "provenance": [],
      "authorship_tag": "ABX9TyP1EUnNRadtquJMiEXRL37M",
      "include_colab_link": true
    },
    "kernelspec": {
      "name": "python3",
      "display_name": "Python 3"
    },
    "language_info": {
      "name": "python"
    }
  },
  "cells": [
    {
      "cell_type": "markdown",
      "metadata": {
        "id": "view-in-github",
        "colab_type": "text"
      },
      "source": [
        "<a href=\"https://colab.research.google.com/github/sarahJune1/BUS509_sachss/blob/main/notebooks/Module_11/Goodness_of_Fit.ipynb\" target=\"_parent\"><img src=\"https://colab.research.google.com/assets/colab-badge.svg\" alt=\"Open In Colab\"/></a>"
      ]
    },
    {
      "cell_type": "code",
      "execution_count": null,
      "metadata": {
        "id": "fJASmgf7VCzY"
      },
      "outputs": [],
      "source": [
        "import pandas as pd\n",
        "import statsmodels.api as sm\n",
        "import math\n",
        "import numpy as np\n",
        "import matplotlib.pyplot as plt\n",
        "from scipy import stats as stats"
      ]
    },
    {
      "cell_type": "markdown",
      "source": [
        "# F Distribution\n",
        "\n",
        "Using scipy package ppf\n",
        "\n",
        "dfn denotes number of degrees of freedom that the estimate of variance used in the numerator.\n",
        "\n",
        "dfd is the number of degrees of freedom that the estimate of variance used in the denominator."
      ],
      "metadata": {
        "id": "HFwDIrfPVVlC"
      }
    },
    {
      "cell_type": "markdown",
      "source": [
        "### Example 11.5\n",
        "\n",
        "a. P(F<sub>(7,10)</sub> ≥ x) = 0.025\n",
        "\n",
        "b. P(F<sub>(7,10)</sub> < x) = 0.05"
      ],
      "metadata": {
        "id": "1sK9TnWeVnxz"
      }
    },
    {
      "cell_type": "code",
      "source": [
        "# calculate the critical value\n",
        "upper_tail_prob = 0.025\n",
        "dfn = 7\n",
        "dfd = 10"
      ],
      "metadata": {
        "id": "PPUpw1DiWJET"
      },
      "execution_count": null,
      "outputs": []
    },
    {
      "cell_type": "code",
      "source": [
        "critical_value = stats.f.ppf(q=1-upper_tail_prob, dfn=dfn, dfd=dfd)\n",
        "\n",
        "critical_value"
      ],
      "metadata": {
        "colab": {
          "base_uri": "https://localhost:8080/"
        },
        "id": "lVgdadYoVJiK",
        "outputId": "2d5dfc9a-f8d2-4574-bbda-a4fb3069c51f"
      },
      "execution_count": null,
      "outputs": [
        {
          "output_type": "execute_result",
          "data": {
            "text/plain": [
              "3.9498240689393143"
            ]
          },
          "metadata": {},
          "execution_count": 24
        }
      ]
    },
    {
      "cell_type": "code",
      "source": [
        "# lower the degrees of freedom, the larger the value of F needs to be significant"
      ],
      "metadata": {
        "id": "NrK5l-wXW1sj"
      },
      "execution_count": null,
      "outputs": []
    },
    {
      "cell_type": "code",
      "source": [
        "stats.f.cdf(critical_value, dfn=dfn, dfd=dfd)"
      ],
      "metadata": {
        "colab": {
          "base_uri": "https://localhost:8080/"
        },
        "id": "JDxsat-kWY0b",
        "outputId": "917979f5-4a1d-4ef4-d9e9-757c3777fe1f"
      },
      "execution_count": null,
      "outputs": [
        {
          "output_type": "execute_result",
          "data": {
            "text/plain": [
              "0.975"
            ]
          },
          "metadata": {},
          "execution_count": 25
        }
      ]
    },
    {
      "cell_type": "markdown",
      "source": [
        "Notice the lower vs. upper tail probability"
      ],
      "metadata": {
        "id": "sirjFG7eXCVc"
      }
    },
    {
      "cell_type": "code",
      "source": [
        "# calculate the critical value\n",
        "lower_tail_prob = 0.05\n",
        "dfn = 7\n",
        "dfd = 10"
      ],
      "metadata": {
        "id": "eZ3nSlKWWojB"
      },
      "execution_count": null,
      "outputs": []
    },
    {
      "cell_type": "code",
      "source": [
        "# don't need to subtract from 1\n",
        "critical_value = stats.f.ppf(q=lower_tail_prob, dfn=dfn, dfd=dfd)"
      ],
      "metadata": {
        "id": "C34tL40HXAhX"
      },
      "execution_count": null,
      "outputs": []
    },
    {
      "cell_type": "code",
      "source": [
        "critical_value"
      ],
      "metadata": {
        "colab": {
          "base_uri": "https://localhost:8080/"
        },
        "id": "RHnG-0PReeCH",
        "outputId": "8fd9bbbb-31a8-40a6-cf17-b1935169ee6e"
      },
      "execution_count": null,
      "outputs": [
        {
          "output_type": "execute_result",
          "data": {
            "text/plain": [
              "0.2749879395314314"
            ]
          },
          "metadata": {},
          "execution_count": 28
        }
      ]
    },
    {
      "cell_type": "code",
      "source": [
        "stats.f.cdf(critical_value, dfn=dfn, dfd=dfd)"
      ],
      "metadata": {
        "colab": {
          "base_uri": "https://localhost:8080/"
        },
        "id": "12-ISNelXIHg",
        "outputId": "c32aa266-6ecf-416a-b85f-e9bef1557bf1"
      },
      "execution_count": null,
      "outputs": [
        {
          "output_type": "execute_result",
          "data": {
            "text/plain": [
              "0.050000000000000024"
            ]
          },
          "metadata": {},
          "execution_count": 29
        }
      ]
    },
    {
      "cell_type": "markdown",
      "source": [
        "Now we can make statistical inferences about the ratio of two population variances with confidence intervals."
      ],
      "metadata": {
        "id": "ztOEECohXVKy"
      }
    },
    {
      "cell_type": "code",
      "source": [
        "# define inputs\n",
        "alpha = .05\n",
        "n1 = 11\n",
        "n2 = 16\n",
        "s1 = 182.25\n",
        "s2 = 457.96"
      ],
      "metadata": {
        "id": "s8ZIDd-RZsAD"
      },
      "execution_count": null,
      "outputs": []
    },
    {
      "cell_type": "markdown",
      "source": [
        "Look into differences of dividing by 1 vs. subtracting by 1."
      ],
      "metadata": {
        "id": "0zlse6Fdf58t"
      }
    },
    {
      "cell_type": "code",
      "source": [
        "upper_crit = 1/stats.f.ppf(q=alpha/2, dfn=n1-1, dfd=n2-1)\n",
        "lower_crit = stats.f.ppf(q=alpha/2, dfn=n1-1, dfd=n2-1)\n",
        "lower_crit, upper_crit"
      ],
      "metadata": {
        "colab": {
          "base_uri": "https://localhost:8080/"
        },
        "id": "xFURA9WsXZWd",
        "outputId": "69dd841d-fc1c-4b4a-a805-7796d1f9f868"
      },
      "execution_count": null,
      "outputs": [
        {
          "output_type": "execute_result",
          "data": {
            "text/plain": [
              "(0.2839559298942954, 3.521673241239431)"
            ]
          },
          "metadata": {},
          "execution_count": 39
        }
      ]
    },
    {
      "cell_type": "code",
      "source": [
        "# find confidence intervals\n",
        "lower_bound = (s1/s2) * lower_crit\n",
        "upper_bound = (s1/s2) * upper_crit\n",
        "lower_bound, upper_bound"
      ],
      "metadata": {
        "colab": {
          "base_uri": "https://localhost:8080/"
        },
        "id": "GfsNNDAbaGX8",
        "outputId": "1739b290-ba58-46c0-e0e9-1949f489e233"
      },
      "execution_count": null,
      "outputs": [
        {
          "output_type": "execute_result",
          "data": {
            "text/plain": [
              "(0.11300324967952516, 1.4014869163592591)"
            ]
          },
          "metadata": {},
          "execution_count": 40
        }
      ]
    },
    {
      "cell_type": "markdown",
      "source": [
        "95% confidence interval for the ratio of population variances is (0.11, 1.40). The variance of scores in the first section is between 13% and 140% of the variance of scores in the second section."
      ],
      "metadata": {
        "id": "esiQh4iVaaeN"
      }
    },
    {
      "cell_type": "code",
      "source": [
        "# test if 1 is between lower and upper bound, if True then we do not reject the null hypothesis.\n",
        "lower_bound < 1 < upper_bound"
      ],
      "metadata": {
        "colab": {
          "base_uri": "https://localhost:8080/"
        },
        "id": "ccpVg-CuaW2s",
        "outputId": "41ade7a4-c194-4998-8e3c-e2848e6825b3"
      },
      "execution_count": null,
      "outputs": [
        {
          "output_type": "execute_result",
          "data": {
            "text/plain": [
              "True"
            ]
          },
          "metadata": {},
          "execution_count": 36
        }
      ]
    },
    {
      "cell_type": "markdown",
      "source": [
        "### Hypothesis Testing\n",
        "\n",
        "If the confidence interval contains the value 1, we do not reject the null hypothsis.\n",
        "\n",
        "H<sub>0</sub>\n",
        " :  σ<sup>2</sup><sub>1</sub>/σ<sup>2</sup><sub>2</sub> = 1\n",
        "\n",
        "H<sub>A</sub> : σ<sup>2</sup><sub>1</sub>/σ<sup>2</sup><sub>2</sub> ≠ 1\n"
      ],
      "metadata": {
        "id": "4WDA3mO1cqkS"
      }
    },
    {
      "cell_type": "code",
      "source": [
        "total_sum = (59262 + 43345 + 43230 + 41904 +35658)"
      ],
      "metadata": {
        "id": "sT0iHBp2cyWe"
      },
      "execution_count": null,
      "outputs": []
    },
    {
      "cell_type": "code",
      "source": [
        "59262/ total_sum"
      ],
      "metadata": {
        "colab": {
          "base_uri": "https://localhost:8080/"
        },
        "id": "BT9MzbmT8Npv",
        "outputId": "6e3c5ecf-d415-4e8a-9bcd-024a5102470d"
      },
      "execution_count": null,
      "outputs": [
        {
          "output_type": "execute_result",
          "data": {
            "text/plain": [
              "0.26527424026069946"
            ]
          },
          "metadata": {},
          "execution_count": 38
        }
      ]
    },
    {
      "cell_type": "markdown",
      "source": [
        "# Actual vs. Expected"
      ],
      "metadata": {
        "id": "NKkfJfHoTTQR"
      }
    },
    {
      "cell_type": "code",
      "source": [
        "file = \"https://lectures.mhhe.com/connect/jaggia4e_1260719294/student/data_files/jaggia_BS_4e_ch12_Data_Files.xlsx\""
      ],
      "metadata": {
        "id": "1DUoDVs73av6"
      },
      "execution_count": null,
      "outputs": []
    },
    {
      "cell_type": "code",
      "source": [
        "xl = pd.ExcelFile(file)\n",
        "\n",
        "xl.sheet_names"
      ],
      "metadata": {
        "colab": {
          "base_uri": "https://localhost:8080/"
        },
        "id": "uhwwgJJY3YXP",
        "outputId": "b0949c6c-9083-4361-a88f-4ef36c6ae679"
      },
      "execution_count": null,
      "outputs": [
        {
          "output_type": "execute_result",
          "data": {
            "text/plain": [
              "['50 Largest Funds',\n",
              " 'Car_Preferences',\n",
              " 'Crash',\n",
              " 'Degrees',\n",
              " 'Happiness',\n",
              " 'HomePrice',\n",
              " 'Improvement',\n",
              " 'Income',\n",
              " 'Machine',\n",
              " 'MPG',\n",
              " 'Reorder',\n",
              " 'Returns',\n",
              " 'Shaft_Diameter',\n",
              " 'Share',\n",
              " 'Social_Media',\n",
              " 'SP500']"
            ]
          },
          "metadata": {},
          "execution_count": 42
        }
      ]
    },
    {
      "cell_type": "code",
      "source": [
        "df = xl.parse('Share')"
      ],
      "metadata": {
        "id": "cpqFOrsxAFvk"
      },
      "execution_count": null,
      "outputs": []
    },
    {
      "cell_type": "code",
      "source": [
        "df.shape"
      ],
      "metadata": {
        "colab": {
          "base_uri": "https://localhost:8080/"
        },
        "id": "IL-36hQksawH",
        "outputId": "b181818f-58c4-4513-967b-93b6cde7ff10"
      },
      "execution_count": null,
      "outputs": [
        {
          "output_type": "execute_result",
          "data": {
            "text/plain": [
              "(4, 3)"
            ]
          },
          "metadata": {},
          "execution_count": 47
        }
      ]
    },
    {
      "cell_type": "code",
      "source": [
        "# number of observations\n",
        "n = df.Recent_Customers.sum()\n",
        "n"
      ],
      "metadata": {
        "colab": {
          "base_uri": "https://localhost:8080/"
        },
        "id": "80qVaPjbsj6V",
        "outputId": "d5c3344c-a65c-46dc-bf49-a234722f4f96"
      },
      "execution_count": null,
      "outputs": [
        {
          "output_type": "execute_result",
          "data": {
            "text/plain": [
              "200"
            ]
          },
          "metadata": {},
          "execution_count": 50
        }
      ]
    },
    {
      "cell_type": "markdown",
      "source": [
        "Have the shares changed? Compare sample of recent customers for each firm and compare against the expected market share from the 2019 analyst report. "
      ],
      "metadata": {
        "id": "BD7j9Og739Em"
      }
    },
    {
      "cell_type": "code",
      "source": [
        "# how we usually import \n",
        "#test = pd.read_excel(\"https://lectures.mhhe.com/connect/jaggia4e_1260719294/student/data_files/jaggia_BS_4e_ch12_Data_Files.xlsx\", sheet_name='Share')"
      ],
      "metadata": {
        "id": "7oP-FqSo3Mpr"
      },
      "execution_count": null,
      "outputs": []
    },
    {
      "cell_type": "markdown",
      "source": [
        "a. specify the competing hypotheses to test whether the market shares have changed since 2019\n",
        "\n",
        "H<sub>0</sub>\n",
        " :  p<sub>1</sub>= 0.40,  p<sub>2</sub>= 0.32,  p<sub>3</sub>= 0.24,  p<sub>4</sub>= 0.04,  \n",
        "\n",
        "H<sub>A</sub> : Not all market shares equal their hypothesized values.\n",
        "\n",
        "alpha = 0.05 (significance of 95%)"
      ],
      "metadata": {
        "id": "OrS6Oqv54Tov"
      }
    },
    {
      "cell_type": "code",
      "source": [
        "[i/200 for i in df[\"Recent_Customers\"]]"
      ],
      "metadata": {
        "colab": {
          "base_uri": "https://localhost:8080/"
        },
        "id": "0fTzCgZDtBpN",
        "outputId": "3fbaf215-1697-4072-eda7-824690c89842"
      },
      "execution_count": null,
      "outputs": [
        {
          "output_type": "execute_result",
          "data": {
            "text/plain": [
              "[0.35, 0.3, 0.27, 0.08]"
            ]
          },
          "metadata": {},
          "execution_count": 55
        }
      ]
    },
    {
      "cell_type": "code",
      "source": [
        "# divide each observed value by total proportion\n",
        "total_sum = df[\"Recent_Customers\"].sum()\n",
        "# iterate for each value of customers and divide by total_sum (or n)\n",
        "observed_proportions = [i/total_sum for i in df[\"Recent_Customers\"]]\n",
        "observed_proportions"
      ],
      "metadata": {
        "colab": {
          "base_uri": "https://localhost:8080/"
        },
        "id": "mPp6JIbb5JqE",
        "outputId": "31abd552-6684-4da6-e81e-8b889e24e64d"
      },
      "execution_count": null,
      "outputs": [
        {
          "output_type": "execute_result",
          "data": {
            "text/plain": [
              "[0.35, 0.3, 0.27, 0.08]"
            ]
          },
          "metadata": {},
          "execution_count": 51
        }
      ]
    },
    {
      "cell_type": "code",
      "source": [
        "# create a new column\n",
        "df['observed_prop'] = observed_proportions"
      ],
      "metadata": {
        "id": "c5GwD8zytPOQ"
      },
      "execution_count": null,
      "outputs": []
    },
    {
      "cell_type": "markdown",
      "source": [
        "Do not use the proportions, make the proportions into the expected values. "
      ],
      "metadata": {
        "id": "wzFAR6Ai87Z_"
      }
    },
    {
      "cell_type": "code",
      "source": [
        "expected_values= [i*total_sum for i in df[\"Market_Share\"]]\n",
        "expected_values"
      ],
      "metadata": {
        "colab": {
          "base_uri": "https://localhost:8080/"
        },
        "id": "Kv86HeBD7JRj",
        "outputId": "feeab43c-8883-4624-e000-355dd94c8212"
      },
      "execution_count": null,
      "outputs": [
        {
          "output_type": "execute_result",
          "data": {
            "text/plain": [
              "[80.0, 64.0, 48.0, 8.0]"
            ]
          },
          "metadata": {},
          "execution_count": 58
        }
      ]
    },
    {
      "cell_type": "code",
      "source": [
        "# create a new column\n",
        "df['expected_values'] = expected_values"
      ],
      "metadata": {
        "id": "_Fw-EGc1timr"
      },
      "execution_count": null,
      "outputs": []
    },
    {
      "cell_type": "code",
      "source": [
        "df.head()"
      ],
      "metadata": {
        "colab": {
          "base_uri": "https://localhost:8080/",
          "height": 175
        },
        "id": "y51CvwiXsQPy",
        "outputId": "96e4cd8c-cdea-481a-d8ee-16b66d674c30"
      },
      "execution_count": null,
      "outputs": [
        {
          "output_type": "execute_result",
          "data": {
            "text/plain": [
              "   Firm  Market_Share  Recent_Customers  observed_prop  expected_values\n",
              "0     1          0.40                70           0.35             80.0\n",
              "1     2          0.32                60           0.30             64.0\n",
              "2     3          0.24                54           0.27             48.0\n",
              "3     4          0.04                16           0.08              8.0"
            ],
            "text/html": [
              "\n",
              "  <div id=\"df-d1099b20-0b96-4036-a24a-3fa024e7af74\">\n",
              "    <div class=\"colab-df-container\">\n",
              "      <div>\n",
              "<style scoped>\n",
              "    .dataframe tbody tr th:only-of-type {\n",
              "        vertical-align: middle;\n",
              "    }\n",
              "\n",
              "    .dataframe tbody tr th {\n",
              "        vertical-align: top;\n",
              "    }\n",
              "\n",
              "    .dataframe thead th {\n",
              "        text-align: right;\n",
              "    }\n",
              "</style>\n",
              "<table border=\"1\" class=\"dataframe\">\n",
              "  <thead>\n",
              "    <tr style=\"text-align: right;\">\n",
              "      <th></th>\n",
              "      <th>Firm</th>\n",
              "      <th>Market_Share</th>\n",
              "      <th>Recent_Customers</th>\n",
              "      <th>observed_prop</th>\n",
              "      <th>expected_values</th>\n",
              "    </tr>\n",
              "  </thead>\n",
              "  <tbody>\n",
              "    <tr>\n",
              "      <th>0</th>\n",
              "      <td>1</td>\n",
              "      <td>0.40</td>\n",
              "      <td>70</td>\n",
              "      <td>0.35</td>\n",
              "      <td>80.0</td>\n",
              "    </tr>\n",
              "    <tr>\n",
              "      <th>1</th>\n",
              "      <td>2</td>\n",
              "      <td>0.32</td>\n",
              "      <td>60</td>\n",
              "      <td>0.30</td>\n",
              "      <td>64.0</td>\n",
              "    </tr>\n",
              "    <tr>\n",
              "      <th>2</th>\n",
              "      <td>3</td>\n",
              "      <td>0.24</td>\n",
              "      <td>54</td>\n",
              "      <td>0.27</td>\n",
              "      <td>48.0</td>\n",
              "    </tr>\n",
              "    <tr>\n",
              "      <th>3</th>\n",
              "      <td>4</td>\n",
              "      <td>0.04</td>\n",
              "      <td>16</td>\n",
              "      <td>0.08</td>\n",
              "      <td>8.0</td>\n",
              "    </tr>\n",
              "  </tbody>\n",
              "</table>\n",
              "</div>\n",
              "      <button class=\"colab-df-convert\" onclick=\"convertToInteractive('df-d1099b20-0b96-4036-a24a-3fa024e7af74')\"\n",
              "              title=\"Convert this dataframe to an interactive table.\"\n",
              "              style=\"display:none;\">\n",
              "        \n",
              "  <svg xmlns=\"http://www.w3.org/2000/svg\" height=\"24px\"viewBox=\"0 0 24 24\"\n",
              "       width=\"24px\">\n",
              "    <path d=\"M0 0h24v24H0V0z\" fill=\"none\"/>\n",
              "    <path d=\"M18.56 5.44l.94 2.06.94-2.06 2.06-.94-2.06-.94-.94-2.06-.94 2.06-2.06.94zm-11 1L8.5 8.5l.94-2.06 2.06-.94-2.06-.94L8.5 2.5l-.94 2.06-2.06.94zm10 10l.94 2.06.94-2.06 2.06-.94-2.06-.94-.94-2.06-.94 2.06-2.06.94z\"/><path d=\"M17.41 7.96l-1.37-1.37c-.4-.4-.92-.59-1.43-.59-.52 0-1.04.2-1.43.59L10.3 9.45l-7.72 7.72c-.78.78-.78 2.05 0 2.83L4 21.41c.39.39.9.59 1.41.59.51 0 1.02-.2 1.41-.59l7.78-7.78 2.81-2.81c.8-.78.8-2.07 0-2.86zM5.41 20L4 18.59l7.72-7.72 1.47 1.35L5.41 20z\"/>\n",
              "  </svg>\n",
              "      </button>\n",
              "      \n",
              "  <style>\n",
              "    .colab-df-container {\n",
              "      display:flex;\n",
              "      flex-wrap:wrap;\n",
              "      gap: 12px;\n",
              "    }\n",
              "\n",
              "    .colab-df-convert {\n",
              "      background-color: #E8F0FE;\n",
              "      border: none;\n",
              "      border-radius: 50%;\n",
              "      cursor: pointer;\n",
              "      display: none;\n",
              "      fill: #1967D2;\n",
              "      height: 32px;\n",
              "      padding: 0 0 0 0;\n",
              "      width: 32px;\n",
              "    }\n",
              "\n",
              "    .colab-df-convert:hover {\n",
              "      background-color: #E2EBFA;\n",
              "      box-shadow: 0px 1px 2px rgba(60, 64, 67, 0.3), 0px 1px 3px 1px rgba(60, 64, 67, 0.15);\n",
              "      fill: #174EA6;\n",
              "    }\n",
              "\n",
              "    [theme=dark] .colab-df-convert {\n",
              "      background-color: #3B4455;\n",
              "      fill: #D2E3FC;\n",
              "    }\n",
              "\n",
              "    [theme=dark] .colab-df-convert:hover {\n",
              "      background-color: #434B5C;\n",
              "      box-shadow: 0px 1px 3px 1px rgba(0, 0, 0, 0.15);\n",
              "      filter: drop-shadow(0px 1px 2px rgba(0, 0, 0, 0.3));\n",
              "      fill: #FFFFFF;\n",
              "    }\n",
              "  </style>\n",
              "\n",
              "      <script>\n",
              "        const buttonEl =\n",
              "          document.querySelector('#df-d1099b20-0b96-4036-a24a-3fa024e7af74 button.colab-df-convert');\n",
              "        buttonEl.style.display =\n",
              "          google.colab.kernel.accessAllowed ? 'block' : 'none';\n",
              "\n",
              "        async function convertToInteractive(key) {\n",
              "          const element = document.querySelector('#df-d1099b20-0b96-4036-a24a-3fa024e7af74');\n",
              "          const dataTable =\n",
              "            await google.colab.kernel.invokeFunction('convertToInteractive',\n",
              "                                                     [key], {});\n",
              "          if (!dataTable) return;\n",
              "\n",
              "          const docLinkHtml = 'Like what you see? Visit the ' +\n",
              "            '<a target=\"_blank\" href=https://colab.research.google.com/notebooks/data_table.ipynb>data table notebook</a>'\n",
              "            + ' to learn more about interactive tables.';\n",
              "          element.innerHTML = '';\n",
              "          dataTable['output_type'] = 'display_data';\n",
              "          await google.colab.output.renderOutput(dataTable, element);\n",
              "          const docLink = document.createElement('div');\n",
              "          docLink.innerHTML = docLinkHtml;\n",
              "          element.appendChild(docLink);\n",
              "        }\n",
              "      </script>\n",
              "    </div>\n",
              "  </div>\n",
              "  "
            ]
          },
          "metadata": {},
          "execution_count": 60
        }
      ]
    },
    {
      "cell_type": "markdown",
      "source": [
        "Observed Prop is what we actually saw as a result of our experiment."
      ],
      "metadata": {
        "id": "tF4jNG9rus6v"
      }
    },
    {
      "cell_type": "code",
      "source": [
        "result, p_val = stats.chisquare(f_obs = df[\"Recent_Customers\"], f_exp = expected_values,\n",
        "                ddof=3, axis = 0)\n",
        "result"
      ],
      "metadata": {
        "colab": {
          "base_uri": "https://localhost:8080/"
        },
        "id": "bUQIq1k-8Ync",
        "outputId": "57b7126d-9117-4fe2-bacd-3542fde80433"
      },
      "execution_count": null,
      "outputs": [
        {
          "output_type": "execute_result",
          "data": {
            "text/plain": [
              "10.25"
            ]
          },
          "metadata": {},
          "execution_count": 62
        }
      ]
    },
    {
      "cell_type": "code",
      "source": [
        "p_val"
      ],
      "metadata": {
        "colab": {
          "base_uri": "https://localhost:8080/"
        },
        "id": "-9KiWOUIwN8o",
        "outputId": "54777f18-5696-4420-9eed-17eaa3ef5ad3"
      },
      "execution_count": null,
      "outputs": [
        {
          "output_type": "execute_result",
          "data": {
            "text/plain": [
              "nan"
            ]
          },
          "metadata": {},
          "execution_count": 63
        }
      ]
    },
    {
      "cell_type": "code",
      "source": [
        "# p value\n",
        "stats.distributions.chi2.sf(result, df=3)"
      ],
      "metadata": {
        "colab": {
          "base_uri": "https://localhost:8080/"
        },
        "id": "2DnTUfUc67_0",
        "outputId": "bd48e72f-32d9-4703-b643-12aa0bc298be"
      },
      "execution_count": null,
      "outputs": [
        {
          "output_type": "execute_result",
          "data": {
            "text/plain": [
              "0.016556321391633846"
            ]
          },
          "metadata": {},
          "execution_count": 64
        }
      ]
    },
    {
      "cell_type": "code",
      "source": [
        "p_value = 1 - stats.distributions.chi2.cdf(result, df=3)"
      ],
      "metadata": {
        "id": "ev_Qd397wbh5"
      },
      "execution_count": null,
      "outputs": []
    },
    {
      "cell_type": "code",
      "source": [
        "if  p_value > alpha:\n",
        "    # we are done...\n",
        "    print(\"In accordance with Null Hypothesis, fail to reject\")\n",
        "else:\n",
        "    # more work to do\n",
        "    print (\"We must check the significance before we reject the Null Hypothesis\")"
      ],
      "metadata": {
        "colab": {
          "base_uri": "https://localhost:8080/"
        },
        "id": "3eqHH2uSw9gy",
        "outputId": "9d88299b-f7f1-40f1-f61f-e9d48d1a2714"
      },
      "execution_count": null,
      "outputs": [
        {
          "output_type": "stream",
          "name": "stdout",
          "text": [
            "In accordance with Null Hypothesis, fail to reject\n"
          ]
        }
      ]
    },
    {
      "cell_type": "code",
      "source": [
        "# this is an equivalent statement\n",
        "p_value < alpha"
      ],
      "metadata": {
        "colab": {
          "base_uri": "https://localhost:8080/"
        },
        "id": "i0z0swKRwxqo",
        "outputId": "f13a7112-ad6b-461e-eb89-a0ef4de67c69"
      },
      "execution_count": null,
      "outputs": [
        {
          "output_type": "execute_result",
          "data": {
            "text/plain": [
              "True"
            ]
          },
          "metadata": {},
          "execution_count": 68
        }
      ]
    },
    {
      "cell_type": "markdown",
      "source": [
        "This value falls between 9.348 and 11.345, implying the p value is between 0.01 and 0.024. Which is lower than 0.05, therefore we reject the null hypothesis at the 5% significance level, we conclude that market shares have changed.\n",
        "\n",
        "Limitation? We don't know which proportions differ from their hypothesized values."
      ],
      "metadata": {
        "id": "QlWALLGe9et4"
      }
    },
    {
      "cell_type": "markdown",
      "source": [
        "-----"
      ],
      "metadata": {
        "id": "yvwl73Hy0w0j"
      }
    },
    {
      "cell_type": "markdown",
      "source": [
        "## X<sup>2</sup> Test for Independence\n",
        "\n",
        "H<sub>0</sub>\n",
        " :  The two categorical variables are independent\n",
        "\n",
        "H<sub>A</sub> : The two categorical variables are not independent, they are dependent\n",
        "\n",
        "Example looks into Impact of Beauty on Instructor's Teaching Ratings\n",
        "\n",
        "https://vincentarelbundock.github.io/Rdatasets/doc/AER/TeachingRatings.html\n",
        "\n",
        "Question: Are teachers gender independent of tenure? Sample of 463 teachers. At the 10% significance level, determine whether the sample data supports gender difference between tenure.\n"
      ],
      "metadata": {
        "id": "7iGI-oOe0gmm"
      }
    },
    {
      "cell_type": "code",
      "source": [
        "alpha = .10"
      ],
      "metadata": {
        "id": "3cxcxl-04FKE"
      },
      "execution_count": null,
      "outputs": []
    },
    {
      "cell_type": "code",
      "source": [
        "df1 = pd.read_csv(\"https://vincentarelbundock.github.io/Rdatasets/csv/AER/TeachingRatings.csv\")"
      ],
      "metadata": {
        "id": "XUaV0g_y0vTN"
      },
      "execution_count": null,
      "outputs": []
    },
    {
      "cell_type": "code",
      "source": [
        "df1.head()"
      ],
      "metadata": {
        "colab": {
          "base_uri": "https://localhost:8080/",
          "height": 206
        },
        "id": "4QESzdJG3KPx",
        "outputId": "24fc1368-de9f-4d07-9c47-db110cecd985"
      },
      "execution_count": null,
      "outputs": [
        {
          "output_type": "execute_result",
          "data": {
            "text/plain": [
              "   Unnamed: 0 minority  age  gender credits    beauty  eval division native  \\\n",
              "0           1      yes   36  female    more  0.289916   4.3    upper    yes   \n",
              "1           2       no   59    male    more -0.737732   4.5    upper    yes   \n",
              "2           3       no   51    male    more -0.571984   3.7    upper    yes   \n",
              "3           4       no   40  female    more -0.677963   4.3    upper    yes   \n",
              "4           5       no   31  female    more  1.509794   4.4    upper    yes   \n",
              "\n",
              "  tenure  students  allstudents  prof  \n",
              "0    yes        24           43     1  \n",
              "1    yes        17           20     2  \n",
              "2    yes        55           55     3  \n",
              "3    yes        40           46     4  \n",
              "4    yes        42           48     5  "
            ],
            "text/html": [
              "\n",
              "  <div id=\"df-44cabd64-6b6a-4f5b-bb97-65fb35a8048b\">\n",
              "    <div class=\"colab-df-container\">\n",
              "      <div>\n",
              "<style scoped>\n",
              "    .dataframe tbody tr th:only-of-type {\n",
              "        vertical-align: middle;\n",
              "    }\n",
              "\n",
              "    .dataframe tbody tr th {\n",
              "        vertical-align: top;\n",
              "    }\n",
              "\n",
              "    .dataframe thead th {\n",
              "        text-align: right;\n",
              "    }\n",
              "</style>\n",
              "<table border=\"1\" class=\"dataframe\">\n",
              "  <thead>\n",
              "    <tr style=\"text-align: right;\">\n",
              "      <th></th>\n",
              "      <th>Unnamed: 0</th>\n",
              "      <th>minority</th>\n",
              "      <th>age</th>\n",
              "      <th>gender</th>\n",
              "      <th>credits</th>\n",
              "      <th>beauty</th>\n",
              "      <th>eval</th>\n",
              "      <th>division</th>\n",
              "      <th>native</th>\n",
              "      <th>tenure</th>\n",
              "      <th>students</th>\n",
              "      <th>allstudents</th>\n",
              "      <th>prof</th>\n",
              "    </tr>\n",
              "  </thead>\n",
              "  <tbody>\n",
              "    <tr>\n",
              "      <th>0</th>\n",
              "      <td>1</td>\n",
              "      <td>yes</td>\n",
              "      <td>36</td>\n",
              "      <td>female</td>\n",
              "      <td>more</td>\n",
              "      <td>0.289916</td>\n",
              "      <td>4.3</td>\n",
              "      <td>upper</td>\n",
              "      <td>yes</td>\n",
              "      <td>yes</td>\n",
              "      <td>24</td>\n",
              "      <td>43</td>\n",
              "      <td>1</td>\n",
              "    </tr>\n",
              "    <tr>\n",
              "      <th>1</th>\n",
              "      <td>2</td>\n",
              "      <td>no</td>\n",
              "      <td>59</td>\n",
              "      <td>male</td>\n",
              "      <td>more</td>\n",
              "      <td>-0.737732</td>\n",
              "      <td>4.5</td>\n",
              "      <td>upper</td>\n",
              "      <td>yes</td>\n",
              "      <td>yes</td>\n",
              "      <td>17</td>\n",
              "      <td>20</td>\n",
              "      <td>2</td>\n",
              "    </tr>\n",
              "    <tr>\n",
              "      <th>2</th>\n",
              "      <td>3</td>\n",
              "      <td>no</td>\n",
              "      <td>51</td>\n",
              "      <td>male</td>\n",
              "      <td>more</td>\n",
              "      <td>-0.571984</td>\n",
              "      <td>3.7</td>\n",
              "      <td>upper</td>\n",
              "      <td>yes</td>\n",
              "      <td>yes</td>\n",
              "      <td>55</td>\n",
              "      <td>55</td>\n",
              "      <td>3</td>\n",
              "    </tr>\n",
              "    <tr>\n",
              "      <th>3</th>\n",
              "      <td>4</td>\n",
              "      <td>no</td>\n",
              "      <td>40</td>\n",
              "      <td>female</td>\n",
              "      <td>more</td>\n",
              "      <td>-0.677963</td>\n",
              "      <td>4.3</td>\n",
              "      <td>upper</td>\n",
              "      <td>yes</td>\n",
              "      <td>yes</td>\n",
              "      <td>40</td>\n",
              "      <td>46</td>\n",
              "      <td>4</td>\n",
              "    </tr>\n",
              "    <tr>\n",
              "      <th>4</th>\n",
              "      <td>5</td>\n",
              "      <td>no</td>\n",
              "      <td>31</td>\n",
              "      <td>female</td>\n",
              "      <td>more</td>\n",
              "      <td>1.509794</td>\n",
              "      <td>4.4</td>\n",
              "      <td>upper</td>\n",
              "      <td>yes</td>\n",
              "      <td>yes</td>\n",
              "      <td>42</td>\n",
              "      <td>48</td>\n",
              "      <td>5</td>\n",
              "    </tr>\n",
              "  </tbody>\n",
              "</table>\n",
              "</div>\n",
              "      <button class=\"colab-df-convert\" onclick=\"convertToInteractive('df-44cabd64-6b6a-4f5b-bb97-65fb35a8048b')\"\n",
              "              title=\"Convert this dataframe to an interactive table.\"\n",
              "              style=\"display:none;\">\n",
              "        \n",
              "  <svg xmlns=\"http://www.w3.org/2000/svg\" height=\"24px\"viewBox=\"0 0 24 24\"\n",
              "       width=\"24px\">\n",
              "    <path d=\"M0 0h24v24H0V0z\" fill=\"none\"/>\n",
              "    <path d=\"M18.56 5.44l.94 2.06.94-2.06 2.06-.94-2.06-.94-.94-2.06-.94 2.06-2.06.94zm-11 1L8.5 8.5l.94-2.06 2.06-.94-2.06-.94L8.5 2.5l-.94 2.06-2.06.94zm10 10l.94 2.06.94-2.06 2.06-.94-2.06-.94-.94-2.06-.94 2.06-2.06.94z\"/><path d=\"M17.41 7.96l-1.37-1.37c-.4-.4-.92-.59-1.43-.59-.52 0-1.04.2-1.43.59L10.3 9.45l-7.72 7.72c-.78.78-.78 2.05 0 2.83L4 21.41c.39.39.9.59 1.41.59.51 0 1.02-.2 1.41-.59l7.78-7.78 2.81-2.81c.8-.78.8-2.07 0-2.86zM5.41 20L4 18.59l7.72-7.72 1.47 1.35L5.41 20z\"/>\n",
              "  </svg>\n",
              "      </button>\n",
              "      \n",
              "  <style>\n",
              "    .colab-df-container {\n",
              "      display:flex;\n",
              "      flex-wrap:wrap;\n",
              "      gap: 12px;\n",
              "    }\n",
              "\n",
              "    .colab-df-convert {\n",
              "      background-color: #E8F0FE;\n",
              "      border: none;\n",
              "      border-radius: 50%;\n",
              "      cursor: pointer;\n",
              "      display: none;\n",
              "      fill: #1967D2;\n",
              "      height: 32px;\n",
              "      padding: 0 0 0 0;\n",
              "      width: 32px;\n",
              "    }\n",
              "\n",
              "    .colab-df-convert:hover {\n",
              "      background-color: #E2EBFA;\n",
              "      box-shadow: 0px 1px 2px rgba(60, 64, 67, 0.3), 0px 1px 3px 1px rgba(60, 64, 67, 0.15);\n",
              "      fill: #174EA6;\n",
              "    }\n",
              "\n",
              "    [theme=dark] .colab-df-convert {\n",
              "      background-color: #3B4455;\n",
              "      fill: #D2E3FC;\n",
              "    }\n",
              "\n",
              "    [theme=dark] .colab-df-convert:hover {\n",
              "      background-color: #434B5C;\n",
              "      box-shadow: 0px 1px 3px 1px rgba(0, 0, 0, 0.15);\n",
              "      filter: drop-shadow(0px 1px 2px rgba(0, 0, 0, 0.3));\n",
              "      fill: #FFFFFF;\n",
              "    }\n",
              "  </style>\n",
              "\n",
              "      <script>\n",
              "        const buttonEl =\n",
              "          document.querySelector('#df-44cabd64-6b6a-4f5b-bb97-65fb35a8048b button.colab-df-convert');\n",
              "        buttonEl.style.display =\n",
              "          google.colab.kernel.accessAllowed ? 'block' : 'none';\n",
              "\n",
              "        async function convertToInteractive(key) {\n",
              "          const element = document.querySelector('#df-44cabd64-6b6a-4f5b-bb97-65fb35a8048b');\n",
              "          const dataTable =\n",
              "            await google.colab.kernel.invokeFunction('convertToInteractive',\n",
              "                                                     [key], {});\n",
              "          if (!dataTable) return;\n",
              "\n",
              "          const docLinkHtml = 'Like what you see? Visit the ' +\n",
              "            '<a target=\"_blank\" href=https://colab.research.google.com/notebooks/data_table.ipynb>data table notebook</a>'\n",
              "            + ' to learn more about interactive tables.';\n",
              "          element.innerHTML = '';\n",
              "          dataTable['output_type'] = 'display_data';\n",
              "          await google.colab.output.renderOutput(dataTable, element);\n",
              "          const docLink = document.createElement('div');\n",
              "          docLink.innerHTML = docLinkHtml;\n",
              "          element.appendChild(docLink);\n",
              "        }\n",
              "      </script>\n",
              "    </div>\n",
              "  </div>\n",
              "  "
            ]
          },
          "metadata": {},
          "execution_count": 71
        }
      ]
    },
    {
      "cell_type": "code",
      "source": [
        "df1.shape"
      ],
      "metadata": {
        "colab": {
          "base_uri": "https://localhost:8080/"
        },
        "id": "3BBaOomr1Ini",
        "outputId": "3238f915-a24e-4f0a-d06c-beb45b2021f5"
      },
      "execution_count": null,
      "outputs": [
        {
          "output_type": "execute_result",
          "data": {
            "text/plain": [
              "(463, 13)"
            ]
          },
          "metadata": {},
          "execution_count": 72
        }
      ]
    },
    {
      "cell_type": "code",
      "source": [
        "df1['tenure'].value_counts()"
      ],
      "metadata": {
        "colab": {
          "base_uri": "https://localhost:8080/"
        },
        "id": "2NAZjDil1JYt",
        "outputId": "b19d4252-ad03-4838-80e6-353475f3b4d9"
      },
      "execution_count": null,
      "outputs": [
        {
          "output_type": "execute_result",
          "data": {
            "text/plain": [
              "yes    361\n",
              "no     102\n",
              "Name: tenure, dtype: int64"
            ]
          },
          "metadata": {},
          "execution_count": 73
        }
      ]
    },
    {
      "cell_type": "code",
      "source": [
        "df1['gender'].value_counts()"
      ],
      "metadata": {
        "colab": {
          "base_uri": "https://localhost:8080/"
        },
        "id": "-wzBGQHk1Mpq",
        "outputId": "685d4db5-0cca-4036-fe5b-ade0a585d86b"
      },
      "execution_count": null,
      "outputs": [
        {
          "output_type": "execute_result",
          "data": {
            "text/plain": [
              "male      268\n",
              "female    195\n",
              "Name: gender, dtype: int64"
            ]
          },
          "metadata": {},
          "execution_count": 74
        }
      ]
    },
    {
      "cell_type": "code",
      "source": [
        "# create continency table\n",
        "contingency_table = pd.crosstab(df1.gender, df1.tenure)\n",
        "contingency_table"
      ],
      "metadata": {
        "colab": {
          "base_uri": "https://localhost:8080/",
          "height": 143
        },
        "id": "hmxaP1nL3RrK",
        "outputId": "f1717a63-da79-44fd-8bc1-755e62a859b2"
      },
      "execution_count": null,
      "outputs": [
        {
          "output_type": "execute_result",
          "data": {
            "text/plain": [
              "tenure  no  yes\n",
              "gender         \n",
              "female  50  145\n",
              "male    52  216"
            ],
            "text/html": [
              "\n",
              "  <div id=\"df-6d95b683-2a2d-4e7a-b72e-170a00d0f91e\">\n",
              "    <div class=\"colab-df-container\">\n",
              "      <div>\n",
              "<style scoped>\n",
              "    .dataframe tbody tr th:only-of-type {\n",
              "        vertical-align: middle;\n",
              "    }\n",
              "\n",
              "    .dataframe tbody tr th {\n",
              "        vertical-align: top;\n",
              "    }\n",
              "\n",
              "    .dataframe thead th {\n",
              "        text-align: right;\n",
              "    }\n",
              "</style>\n",
              "<table border=\"1\" class=\"dataframe\">\n",
              "  <thead>\n",
              "    <tr style=\"text-align: right;\">\n",
              "      <th>tenure</th>\n",
              "      <th>no</th>\n",
              "      <th>yes</th>\n",
              "    </tr>\n",
              "    <tr>\n",
              "      <th>gender</th>\n",
              "      <th></th>\n",
              "      <th></th>\n",
              "    </tr>\n",
              "  </thead>\n",
              "  <tbody>\n",
              "    <tr>\n",
              "      <th>female</th>\n",
              "      <td>50</td>\n",
              "      <td>145</td>\n",
              "    </tr>\n",
              "    <tr>\n",
              "      <th>male</th>\n",
              "      <td>52</td>\n",
              "      <td>216</td>\n",
              "    </tr>\n",
              "  </tbody>\n",
              "</table>\n",
              "</div>\n",
              "      <button class=\"colab-df-convert\" onclick=\"convertToInteractive('df-6d95b683-2a2d-4e7a-b72e-170a00d0f91e')\"\n",
              "              title=\"Convert this dataframe to an interactive table.\"\n",
              "              style=\"display:none;\">\n",
              "        \n",
              "  <svg xmlns=\"http://www.w3.org/2000/svg\" height=\"24px\"viewBox=\"0 0 24 24\"\n",
              "       width=\"24px\">\n",
              "    <path d=\"M0 0h24v24H0V0z\" fill=\"none\"/>\n",
              "    <path d=\"M18.56 5.44l.94 2.06.94-2.06 2.06-.94-2.06-.94-.94-2.06-.94 2.06-2.06.94zm-11 1L8.5 8.5l.94-2.06 2.06-.94-2.06-.94L8.5 2.5l-.94 2.06-2.06.94zm10 10l.94 2.06.94-2.06 2.06-.94-2.06-.94-.94-2.06-.94 2.06-2.06.94z\"/><path d=\"M17.41 7.96l-1.37-1.37c-.4-.4-.92-.59-1.43-.59-.52 0-1.04.2-1.43.59L10.3 9.45l-7.72 7.72c-.78.78-.78 2.05 0 2.83L4 21.41c.39.39.9.59 1.41.59.51 0 1.02-.2 1.41-.59l7.78-7.78 2.81-2.81c.8-.78.8-2.07 0-2.86zM5.41 20L4 18.59l7.72-7.72 1.47 1.35L5.41 20z\"/>\n",
              "  </svg>\n",
              "      </button>\n",
              "      \n",
              "  <style>\n",
              "    .colab-df-container {\n",
              "      display:flex;\n",
              "      flex-wrap:wrap;\n",
              "      gap: 12px;\n",
              "    }\n",
              "\n",
              "    .colab-df-convert {\n",
              "      background-color: #E8F0FE;\n",
              "      border: none;\n",
              "      border-radius: 50%;\n",
              "      cursor: pointer;\n",
              "      display: none;\n",
              "      fill: #1967D2;\n",
              "      height: 32px;\n",
              "      padding: 0 0 0 0;\n",
              "      width: 32px;\n",
              "    }\n",
              "\n",
              "    .colab-df-convert:hover {\n",
              "      background-color: #E2EBFA;\n",
              "      box-shadow: 0px 1px 2px rgba(60, 64, 67, 0.3), 0px 1px 3px 1px rgba(60, 64, 67, 0.15);\n",
              "      fill: #174EA6;\n",
              "    }\n",
              "\n",
              "    [theme=dark] .colab-df-convert {\n",
              "      background-color: #3B4455;\n",
              "      fill: #D2E3FC;\n",
              "    }\n",
              "\n",
              "    [theme=dark] .colab-df-convert:hover {\n",
              "      background-color: #434B5C;\n",
              "      box-shadow: 0px 1px 3px 1px rgba(0, 0, 0, 0.15);\n",
              "      filter: drop-shadow(0px 1px 2px rgba(0, 0, 0, 0.3));\n",
              "      fill: #FFFFFF;\n",
              "    }\n",
              "  </style>\n",
              "\n",
              "      <script>\n",
              "        const buttonEl =\n",
              "          document.querySelector('#df-6d95b683-2a2d-4e7a-b72e-170a00d0f91e button.colab-df-convert');\n",
              "        buttonEl.style.display =\n",
              "          google.colab.kernel.accessAllowed ? 'block' : 'none';\n",
              "\n",
              "        async function convertToInteractive(key) {\n",
              "          const element = document.querySelector('#df-6d95b683-2a2d-4e7a-b72e-170a00d0f91e');\n",
              "          const dataTable =\n",
              "            await google.colab.kernel.invokeFunction('convertToInteractive',\n",
              "                                                     [key], {});\n",
              "          if (!dataTable) return;\n",
              "\n",
              "          const docLinkHtml = 'Like what you see? Visit the ' +\n",
              "            '<a target=\"_blank\" href=https://colab.research.google.com/notebooks/data_table.ipynb>data table notebook</a>'\n",
              "            + ' to learn more about interactive tables.';\n",
              "          element.innerHTML = '';\n",
              "          dataTable['output_type'] = 'display_data';\n",
              "          await google.colab.output.renderOutput(dataTable, element);\n",
              "          const docLink = document.createElement('div');\n",
              "          docLink.innerHTML = docLinkHtml;\n",
              "          element.appendChild(docLink);\n",
              "        }\n",
              "      </script>\n",
              "    </div>\n",
              "  </div>\n",
              "  "
            ]
          },
          "metadata": {},
          "execution_count": 101
        }
      ]
    },
    {
      "cell_type": "code",
      "source": [
        "145/(50+145)"
      ],
      "metadata": {
        "colab": {
          "base_uri": "https://localhost:8080/"
        },
        "id": "eC1SEO2H4fKc",
        "outputId": "866f32f5-72bd-4f93-a152-780048892725"
      },
      "execution_count": null,
      "outputs": [
        {
          "output_type": "execute_result",
          "data": {
            "text/plain": [
              "0.7435897435897436"
            ]
          },
          "metadata": {},
          "execution_count": 103
        }
      ]
    },
    {
      "cell_type": "code",
      "source": [
        "216/(216+52)"
      ],
      "metadata": {
        "colab": {
          "base_uri": "https://localhost:8080/"
        },
        "id": "iaQQEZ6O44xi",
        "outputId": "5504a6f2-eac9-4727-e676-1c6e222ec43c"
      },
      "execution_count": null,
      "outputs": [
        {
          "output_type": "execute_result",
          "data": {
            "text/plain": [
              "0.8059701492537313"
            ]
          },
          "metadata": {},
          "execution_count": 104
        }
      ]
    },
    {
      "cell_type": "markdown",
      "source": [
        "H<sub>0</sub>\n",
        " :  Gender and tenure are independent\n",
        "\n",
        "H<sub>A</sub> : Gender and tenure are not independent"
      ],
      "metadata": {
        "id": "-HWscB6v4RxH"
      }
    },
    {
      "cell_type": "code",
      "source": [
        "# calculate each cell's expected frequency\n",
        "test_stat, p_value, dof, expctd = stats.chi2_contingency(contingency_table)"
      ],
      "metadata": {
        "id": "5kIWTEs_3ly4"
      },
      "execution_count": null,
      "outputs": []
    },
    {
      "cell_type": "code",
      "source": [
        "expctd"
      ],
      "metadata": {
        "colab": {
          "base_uri": "https://localhost:8080/"
        },
        "id": "ByuXprIY44rB",
        "outputId": "456d3bf5-fac9-4df9-8aa3-c53954464199"
      },
      "execution_count": null,
      "outputs": [
        {
          "output_type": "execute_result",
          "data": {
            "text/plain": [
              "array([[ 42.95896328, 152.04103672],\n",
              "       [ 59.04103672, 208.95896328]])"
            ]
          },
          "metadata": {},
          "execution_count": 78
        }
      ]
    },
    {
      "cell_type": "code",
      "source": [
        "p_value"
      ],
      "metadata": {
        "colab": {
          "base_uri": "https://localhost:8080/"
        },
        "id": "XzQX5Qj22grm",
        "outputId": "bab60c40-7a76-4291-eec5-9149a96e0267"
      },
      "execution_count": null,
      "outputs": [
        {
          "output_type": "execute_result",
          "data": {
            "text/plain": [
              "0.1374050603563787"
            ]
          },
          "metadata": {},
          "execution_count": 91
        }
      ]
    },
    {
      "cell_type": "code",
      "source": [
        "test_stat"
      ],
      "metadata": {
        "colab": {
          "base_uri": "https://localhost:8080/"
        },
        "id": "Di5juqd32dt5",
        "outputId": "ee35a599-1396-4197-9ae0-7ee42fa575aa"
      },
      "execution_count": null,
      "outputs": [
        {
          "output_type": "execute_result",
          "data": {
            "text/plain": [
              "2.20678166999886"
            ]
          },
          "metadata": {},
          "execution_count": 92
        }
      ]
    },
    {
      "cell_type": "code",
      "source": [
        "# check that the math adds up :)"
      ],
      "metadata": {
        "id": "6wWUgUfh5onY"
      },
      "execution_count": null,
      "outputs": []
    },
    {
      "cell_type": "code",
      "source": [
        "50+145"
      ],
      "metadata": {
        "colab": {
          "base_uri": "https://localhost:8080/"
        },
        "id": "oIpJdkCq5H3d",
        "outputId": "e548041e-1571-475b-bf9a-ada75507db54"
      },
      "execution_count": null,
      "outputs": [
        {
          "output_type": "execute_result",
          "data": {
            "text/plain": [
              "195"
            ]
          },
          "metadata": {},
          "execution_count": 82
        }
      ]
    },
    {
      "cell_type": "code",
      "source": [
        "52+216"
      ],
      "metadata": {
        "colab": {
          "base_uri": "https://localhost:8080/"
        },
        "id": "KKw_sVW75NNs",
        "outputId": "b9075365-5c99-4232-ff6c-7d128f3178a3"
      },
      "execution_count": null,
      "outputs": [
        {
          "output_type": "execute_result",
          "data": {
            "text/plain": [
              "268"
            ]
          },
          "metadata": {},
          "execution_count": 83
        }
      ]
    },
    {
      "cell_type": "code",
      "source": [
        "50+52"
      ],
      "metadata": {
        "colab": {
          "base_uri": "https://localhost:8080/"
        },
        "id": "58rSQ41o5cHv",
        "outputId": "6a645710-b5f7-4b5f-805f-fa88d6700a0c"
      },
      "execution_count": null,
      "outputs": [
        {
          "output_type": "execute_result",
          "data": {
            "text/plain": [
              "102"
            ]
          },
          "metadata": {},
          "execution_count": 84
        }
      ]
    },
    {
      "cell_type": "code",
      "source": [
        "145+216"
      ],
      "metadata": {
        "colab": {
          "base_uri": "https://localhost:8080/"
        },
        "id": "0xUFj_YH5du3",
        "outputId": "16eae6af-06f4-4574-c4ab-a22e9d3591f5"
      },
      "execution_count": null,
      "outputs": [
        {
          "output_type": "execute_result",
          "data": {
            "text/plain": [
              "361"
            ]
          },
          "metadata": {},
          "execution_count": 85
        }
      ]
    },
    {
      "cell_type": "code",
      "source": [
        "(195*102)/len(df1)"
      ],
      "metadata": {
        "colab": {
          "base_uri": "https://localhost:8080/"
        },
        "id": "E6zNo2gk5fWu",
        "outputId": "e435bcfd-ceeb-4acc-b300-47e4b7f5bb5f"
      },
      "execution_count": null,
      "outputs": [
        {
          "output_type": "execute_result",
          "data": {
            "text/plain": [
              "42.95896328293737"
            ]
          },
          "metadata": {},
          "execution_count": 86
        }
      ]
    },
    {
      "cell_type": "code",
      "source": [
        "# also outputs test statistic, p-value of the test, and the degrees of freedom\n",
        "test_stat, p_value, dof"
      ],
      "metadata": {
        "colab": {
          "base_uri": "https://localhost:8080/"
        },
        "id": "7xJZcpiw5k3p",
        "outputId": "0797d76d-3ae3-40f9-c1b0-34beb8f841ac"
      },
      "execution_count": null,
      "outputs": [
        {
          "output_type": "execute_result",
          "data": {
            "text/plain": [
              "(2.20678166999886, 0.1374050603563787, 1)"
            ]
          },
          "metadata": {},
          "execution_count": 98
        }
      ]
    },
    {
      "cell_type": "code",
      "source": [
        "alpha"
      ],
      "metadata": {
        "colab": {
          "base_uri": "https://localhost:8080/"
        },
        "id": "9dp_56hC3_Gb",
        "outputId": "fbbe10ba-30b9-4416-ba37-e12813a372f7"
      },
      "execution_count": null,
      "outputs": [
        {
          "output_type": "execute_result",
          "data": {
            "text/plain": [
              "0.1"
            ]
          },
          "metadata": {},
          "execution_count": 97
        }
      ]
    },
    {
      "cell_type": "code",
      "source": [
        "if  p_value > alpha:\n",
        "    # we are done...\n",
        "    print(\"In accordance with Null Hypothesis, fail to reject\")\n",
        "else:\n",
        "    # more work to do\n",
        "    print (\"We must check the significance before we reject the Null Hypothesis\")"
      ],
      "metadata": {
        "colab": {
          "base_uri": "https://localhost:8080/"
        },
        "id": "uTwjWX9c4BmA",
        "outputId": "6ee4e1f0-8ff7-43d0-d9a2-f9fca996d88e"
      },
      "execution_count": null,
      "outputs": [
        {
          "output_type": "stream",
          "name": "stdout",
          "text": [
            "In accordance with Null Hypothesis, fail to reject\n"
          ]
        }
      ]
    },
    {
      "cell_type": "markdown",
      "source": [
        "The X<sup>2</sup> test statistic is 2.206, and associate p-value is 0.137, which is larger than our alpha of .10, therefore we fail to reject the null hypothesis and can assume that gener and tenure are independent."
      ],
      "metadata": {
        "id": "KcQ7AmBA54IA"
      }
    },
    {
      "cell_type": "code",
      "source": [
        "# using the previous mehtod of calculating the p-value\n",
        "stats.distributions.chi2.sf(g, dof)"
      ],
      "metadata": {
        "id": "R-7zwc7X6JRH"
      },
      "execution_count": null,
      "outputs": []
    },
    {
      "cell_type": "markdown",
      "source": [
        "## X<sup>2</sup> Test for Homogeneity/Normality\n",
        "\n",
        "H<sub>0</sub>\n",
        " :  Sample population does not follow a _normal_ distribution with a mean of X and standard deviation of y.\n",
        "\n",
        "H<sub>A</sub> : Sample population follows a _normal_ distribution with a mean of X and standard deviation of y.\n",
        "\n",
        "Note this can be used for any type of distribution such as Poisson or binomial."
      ],
      "metadata": {
        "id": "2SQuYUlh3VmG"
      }
    },
    {
      "cell_type": "code",
      "source": [
        "df = pd.read_excel(\"https://lectures.mhhe.com/connect/jaggia4e_1260719294/student/data_files/jaggia_BS_4e_ch12_Data_Files.xlsx\",\n",
        "                   sheet_name = 'Income')"
      ],
      "metadata": {
        "id": "uBj4tt7F6Wl-"
      },
      "execution_count": null,
      "outputs": []
    },
    {
      "cell_type": "code",
      "source": [
        "len(df)"
      ],
      "metadata": {
        "colab": {
          "base_uri": "https://localhost:8080/"
        },
        "id": "LX0oIKoM3sH3",
        "outputId": "f108e8d8-36e3-47f6-9214-af686bfd1f62"
      },
      "execution_count": null,
      "outputs": [
        {
          "output_type": "execute_result",
          "data": {
            "text/plain": [
              "50"
            ]
          },
          "metadata": {},
          "execution_count": 106
        }
      ]
    },
    {
      "cell_type": "code",
      "source": [
        "df.hist()\n",
        "plt.xlabel('Income ($)')\n",
        "plt.ylabel('Frequency')"
      ],
      "metadata": {
        "colab": {
          "base_uri": "https://localhost:8080/",
          "height": 313
        },
        "id": "RU3vBbup6zRf",
        "outputId": "5baf6cf8-9358-4e7e-f78b-8b301456eb1b"
      },
      "execution_count": null,
      "outputs": [
        {
          "output_type": "execute_result",
          "data": {
            "text/plain": [
              "Text(0, 0.5, 'Frequency')"
            ]
          },
          "metadata": {},
          "execution_count": 136
        },
        {
          "output_type": "display_data",
          "data": {
            "text/plain": [
              "<Figure size 432x288 with 1 Axes>"
            ],
            "image/png": "[encoded data removed]"
          },
          "metadata": {
            "needs_background": "light"
          }
        }
      ]
    },
    {
      "cell_type": "code",
      "source": [
        "df.head()"
      ],
      "metadata": {
        "colab": {
          "base_uri": "https://localhost:8080/",
          "height": 206
        },
        "id": "wN4xPgCA3vhn",
        "outputId": "785cca53-714a-4b02-ddbc-1ac5b2baae82"
      },
      "execution_count": null,
      "outputs": [
        {
          "output_type": "execute_result",
          "data": {
            "text/plain": [
              "   Income\n",
              "0      90\n",
              "1      15\n",
              "2      85\n",
              "3      54\n",
              "4      62"
            ],
            "text/html": [
              "\n",
              "  <div id=\"df-6011e8c0-76b8-448d-96f5-c3c988087104\">\n",
              "    <div class=\"colab-df-container\">\n",
              "      <div>\n",
              "<style scoped>\n",
              "    .dataframe tbody tr th:only-of-type {\n",
              "        vertical-align: middle;\n",
              "    }\n",
              "\n",
              "    .dataframe tbody tr th {\n",
              "        vertical-align: top;\n",
              "    }\n",
              "\n",
              "    .dataframe thead th {\n",
              "        text-align: right;\n",
              "    }\n",
              "</style>\n",
              "<table border=\"1\" class=\"dataframe\">\n",
              "  <thead>\n",
              "    <tr style=\"text-align: right;\">\n",
              "      <th></th>\n",
              "      <th>Income</th>\n",
              "    </tr>\n",
              "  </thead>\n",
              "  <tbody>\n",
              "    <tr>\n",
              "      <th>0</th>\n",
              "      <td>90</td>\n",
              "    </tr>\n",
              "    <tr>\n",
              "      <th>1</th>\n",
              "      <td>15</td>\n",
              "    </tr>\n",
              "    <tr>\n",
              "      <th>2</th>\n",
              "      <td>85</td>\n",
              "    </tr>\n",
              "    <tr>\n",
              "      <th>3</th>\n",
              "      <td>54</td>\n",
              "    </tr>\n",
              "    <tr>\n",
              "      <th>4</th>\n",
              "      <td>62</td>\n",
              "    </tr>\n",
              "  </tbody>\n",
              "</table>\n",
              "</div>\n",
              "      <button class=\"colab-df-convert\" onclick=\"convertToInteractive('df-6011e8c0-76b8-448d-96f5-c3c988087104')\"\n",
              "              title=\"Convert this dataframe to an interactive table.\"\n",
              "              style=\"display:none;\">\n",
              "        \n",
              "  <svg xmlns=\"http://www.w3.org/2000/svg\" height=\"24px\"viewBox=\"0 0 24 24\"\n",
              "       width=\"24px\">\n",
              "    <path d=\"M0 0h24v24H0V0z\" fill=\"none\"/>\n",
              "    <path d=\"M18.56 5.44l.94 2.06.94-2.06 2.06-.94-2.06-.94-.94-2.06-.94 2.06-2.06.94zm-11 1L8.5 8.5l.94-2.06 2.06-.94-2.06-.94L8.5 2.5l-.94 2.06-2.06.94zm10 10l.94 2.06.94-2.06 2.06-.94-2.06-.94-.94-2.06-.94 2.06-2.06.94z\"/><path d=\"M17.41 7.96l-1.37-1.37c-.4-.4-.92-.59-1.43-.59-.52 0-1.04.2-1.43.59L10.3 9.45l-7.72 7.72c-.78.78-.78 2.05 0 2.83L4 21.41c.39.39.9.59 1.41.59.51 0 1.02-.2 1.41-.59l7.78-7.78 2.81-2.81c.8-.78.8-2.07 0-2.86zM5.41 20L4 18.59l7.72-7.72 1.47 1.35L5.41 20z\"/>\n",
              "  </svg>\n",
              "      </button>\n",
              "      \n",
              "  <style>\n",
              "    .colab-df-container {\n",
              "      display:flex;\n",
              "      flex-wrap:wrap;\n",
              "      gap: 12px;\n",
              "    }\n",
              "\n",
              "    .colab-df-convert {\n",
              "      background-color: #E8F0FE;\n",
              "      border: none;\n",
              "      border-radius: 50%;\n",
              "      cursor: pointer;\n",
              "      display: none;\n",
              "      fill: #1967D2;\n",
              "      height: 32px;\n",
              "      padding: 0 0 0 0;\n",
              "      width: 32px;\n",
              "    }\n",
              "\n",
              "    .colab-df-convert:hover {\n",
              "      background-color: #E2EBFA;\n",
              "      box-shadow: 0px 1px 2px rgba(60, 64, 67, 0.3), 0px 1px 3px 1px rgba(60, 64, 67, 0.15);\n",
              "      fill: #174EA6;\n",
              "    }\n",
              "\n",
              "    [theme=dark] .colab-df-convert {\n",
              "      background-color: #3B4455;\n",
              "      fill: #D2E3FC;\n",
              "    }\n",
              "\n",
              "    [theme=dark] .colab-df-convert:hover {\n",
              "      background-color: #434B5C;\n",
              "      box-shadow: 0px 1px 3px 1px rgba(0, 0, 0, 0.15);\n",
              "      filter: drop-shadow(0px 1px 2px rgba(0, 0, 0, 0.3));\n",
              "      fill: #FFFFFF;\n",
              "    }\n",
              "  </style>\n",
              "\n",
              "      <script>\n",
              "        const buttonEl =\n",
              "          document.querySelector('#df-6011e8c0-76b8-448d-96f5-c3c988087104 button.colab-df-convert');\n",
              "        buttonEl.style.display =\n",
              "          google.colab.kernel.accessAllowed ? 'block' : 'none';\n",
              "\n",
              "        async function convertToInteractive(key) {\n",
              "          const element = document.querySelector('#df-6011e8c0-76b8-448d-96f5-c3c988087104');\n",
              "          const dataTable =\n",
              "            await google.colab.kernel.invokeFunction('convertToInteractive',\n",
              "                                                     [key], {});\n",
              "          if (!dataTable) return;\n",
              "\n",
              "          const docLinkHtml = 'Like what you see? Visit the ' +\n",
              "            '<a target=\"_blank\" href=https://colab.research.google.com/notebooks/data_table.ipynb>data table notebook</a>'\n",
              "            + ' to learn more about interactive tables.';\n",
              "          element.innerHTML = '';\n",
              "          dataTable['output_type'] = 'display_data';\n",
              "          await google.colab.output.renderOutput(dataTable, element);\n",
              "          const docLink = document.createElement('div');\n",
              "          docLink.innerHTML = docLinkHtml;\n",
              "          element.appendChild(docLink);\n",
              "        }\n",
              "      </script>\n",
              "    </div>\n",
              "  </div>\n",
              "  "
            ]
          },
          "metadata": {},
          "execution_count": 108
        }
      ]
    },
    {
      "cell_type": "markdown",
      "source": [
        "All values are in thousands"
      ],
      "metadata": {
        "id": "bVD0y8i09LOJ"
      }
    },
    {
      "cell_type": "code",
      "source": [
        "x_bar = df['Income'].mean()\n",
        "x_bar"
      ],
      "metadata": {
        "colab": {
          "base_uri": "https://localhost:8080/"
        },
        "id": "FXpBSRKo3xat",
        "outputId": "614afd2c-ac8a-46a2-877d-aef1cf4413c1"
      },
      "execution_count": null,
      "outputs": [
        {
          "output_type": "execute_result",
          "data": {
            "text/plain": [
              "63.8"
            ]
          },
          "metadata": {},
          "execution_count": 110
        }
      ]
    },
    {
      "cell_type": "code",
      "source": [
        "s = df['Income'].std()\n",
        "s"
      ],
      "metadata": {
        "colab": {
          "base_uri": "https://localhost:8080/"
        },
        "id": "q00NydFf3y0z",
        "outputId": "88d42e2a-709c-48f8-c9aa-8c716b798460"
      },
      "execution_count": null,
      "outputs": [
        {
          "output_type": "execute_result",
          "data": {
            "text/plain": [
              "45.78387560382064"
            ]
          },
          "metadata": {},
          "execution_count": 111
        }
      ]
    },
    {
      "cell_type": "code",
      "source": [
        "# create intervals to then test the frequency\n",
        "interval_num = (0,20,20,40,40,60,60,80,80,251)"
      ],
      "metadata": {
        "id": "Px6DjtfED5oy"
      },
      "execution_count": null,
      "outputs": []
    },
    {
      "cell_type": "code",
      "source": [
        "#observed frequency between each interval\n",
        "[len(df[(df['Income'] > i) & (df['Income'] < j)]) for i,j in zip(*[iter(interval_num)]*2)]"
      ],
      "metadata": {
        "colab": {
          "base_uri": "https://localhost:8080/"
        },
        "id": "pkckxgw7DyqF",
        "outputId": "6fc7cac7-b860-4243-f4ea-d5a09c021a84"
      },
      "execution_count": null,
      "outputs": [
        {
          "output_type": "execute_result",
          "data": {
            "text/plain": [
              "[6, 10, 13, 10, 11]"
            ]
          },
          "metadata": {},
          "execution_count": 113
        }
      ]
    },
    {
      "cell_type": "markdown",
      "source": [
        "Calculate the probability of seeing 20, given the mean and deviation."
      ],
      "metadata": {
        "id": "kcq1gL5Z9xD5"
      }
    },
    {
      "cell_type": "code",
      "source": [
        "stats.norm.cdf(20, loc=x_bar, scale=s)"
      ],
      "metadata": {
        "colab": {
          "base_uri": "https://localhost:8080/"
        },
        "id": "pNOG9vFf6wjB",
        "outputId": "2bfe960e-71d6-45b3-b423-90ff013aea7d"
      },
      "execution_count": null,
      "outputs": [
        {
          "output_type": "execute_result",
          "data": {
            "text/plain": [
              "0.16936725476477776"
            ]
          },
          "metadata": {},
          "execution_count": 117
        }
      ]
    },
    {
      "cell_type": "markdown",
      "source": [
        "Using formula of X - μ / σ"
      ],
      "metadata": {
        "id": "R3LOL0MS-bUD"
      }
    },
    {
      "cell_type": "code",
      "source": [
        "def calc_prob(actual_value):\n",
        "  z_score = (actual_value-x_bar)/s\n",
        "  prob = stats.norm.cdf(z_score)\n",
        "  return prob"
      ],
      "metadata": {
        "id": "9oOlOznU-uxi"
      },
      "execution_count": null,
      "outputs": []
    },
    {
      "cell_type": "code",
      "source": [
        "# how to calculate probability of z score between two values, consider area under curve"
      ],
      "metadata": {
        "id": "cQIUiTcTCZsG"
      },
      "execution_count": null,
      "outputs": []
    },
    {
      "cell_type": "code",
      "source": [
        "interval_0 = calc_prob(20)\n",
        "interval_0"
      ],
      "metadata": {
        "colab": {
          "base_uri": "https://localhost:8080/"
        },
        "id": "NrOqfkL2C_sr",
        "outputId": "f08d9ec0-8d64-4bd9-d828-a2e0fc775abd"
      },
      "execution_count": null,
      "outputs": [
        {
          "output_type": "execute_result",
          "data": {
            "text/plain": [
              "0.16936725476477776"
            ]
          },
          "metadata": {},
          "execution_count": 119
        }
      ]
    },
    {
      "cell_type": "code",
      "source": [
        "interval_1 = calc_prob(40)-calc_prob(20)\n",
        "interval_1"
      ],
      "metadata": {
        "colab": {
          "base_uri": "https://localhost:8080/"
        },
        "id": "Gp-1Vepr-OPW",
        "outputId": "0a701518-97ea-419c-a82f-5a60edd9f137"
      },
      "execution_count": null,
      "outputs": [
        {
          "output_type": "execute_result",
          "data": {
            "text/plain": [
              "0.13222250067226216"
            ]
          },
          "metadata": {},
          "execution_count": 120
        }
      ]
    },
    {
      "cell_type": "code",
      "source": [
        "interval_2 = (calc_prob(40)-calc_prob(60))*-1\n",
        "interval_2"
      ],
      "metadata": {
        "colab": {
          "base_uri": "https://localhost:8080/"
        },
        "id": "cwvwaxrh_8NU",
        "outputId": "b39e38cf-7389-44d6-f922-ecac3896d42a"
      },
      "execution_count": null,
      "outputs": [
        {
          "output_type": "execute_result",
          "data": {
            "text/plain": [
              "0.16533654993480645"
            ]
          },
          "metadata": {},
          "execution_count": 121
        }
      ]
    },
    {
      "cell_type": "code",
      "source": [
        "interval_3 = (calc_prob(60)-calc_prob(80))*-1\n",
        "interval_3"
      ],
      "metadata": {
        "colab": {
          "base_uri": "https://localhost:8080/"
        },
        "id": "f5yB3G3j9ZIP",
        "outputId": "84b168fb-a67f-45f2-c383-1e0fb02bb327"
      },
      "execution_count": null,
      "outputs": [
        {
          "output_type": "execute_result",
          "data": {
            "text/plain": [
              "0.17134293419803698"
            ]
          },
          "metadata": {},
          "execution_count": 123
        }
      ]
    },
    {
      "cell_type": "code",
      "source": [
        "interval_4 = 1- calc_prob(80)\n",
        "interval_4"
      ],
      "metadata": {
        "colab": {
          "base_uri": "https://localhost:8080/"
        },
        "id": "ZzEzQfhlA-TW",
        "outputId": "d9cd9106-a59b-4baa-b610-c8d6d40f2494"
      },
      "execution_count": null,
      "outputs": [
        {
          "output_type": "execute_result",
          "data": {
            "text/plain": [
              "0.36173076043011665"
            ]
          },
          "metadata": {},
          "execution_count": 124
        }
      ]
    },
    {
      "cell_type": "code",
      "source": [
        "all_intervals = [interval_0, interval_1,interval_2,interval_3, interval_4]"
      ],
      "metadata": {
        "id": "r4vX-lgNCBUL"
      },
      "execution_count": null,
      "outputs": []
    },
    {
      "cell_type": "code",
      "source": [
        "[interval * 50 for interval in all_intervals]"
      ],
      "metadata": {
        "colab": {
          "base_uri": "https://localhost:8080/"
        },
        "id": "AHdy7QkCCIcF",
        "outputId": "0740f8e1-bebb-4dab-b3d0-0ced12a3d825"
      },
      "execution_count": null,
      "outputs": [
        {
          "output_type": "execute_result",
          "data": {
            "text/plain": [
              "[8.468362738238888,\n",
              " 6.611125033613108,\n",
              " 8.266827496740323,\n",
              " 8.567146709901849,\n",
              " 18.08653802150583]"
            ]
          },
          "metadata": {},
          "execution_count": 127
        }
      ]
    },
    {
      "cell_type": "code",
      "source": [
        "interval_0 = stats.chisquare(f_obs=[6], f_exp=[8.468362738238888])\n",
        "interval_0"
      ],
      "metadata": {
        "colab": {
          "base_uri": "https://localhost:8080/"
        },
        "id": "mwTmtp9bCYGw",
        "outputId": "d3e056e7-11c7-4f00-9c8b-e296c1d9d52d"
      },
      "execution_count": null,
      "outputs": [
        {
          "output_type": "execute_result",
          "data": {
            "text/plain": [
              "Power_divergenceResult(statistic=0.7194796439238578, pvalue=nan)"
            ]
          },
          "metadata": {},
          "execution_count": 128
        }
      ]
    },
    {
      "cell_type": "code",
      "source": [
        "interval_1 = stats.chisquare(f_obs=[10], f_exp=[6.611125033613108])\n",
        "interval_1"
      ],
      "metadata": {
        "colab": {
          "base_uri": "https://localhost:8080/"
        },
        "id": "gXrXH7-YBzBn",
        "outputId": "61627afa-8211-4602-8d31-fbc76891acca"
      },
      "execution_count": null,
      "outputs": [
        {
          "output_type": "execute_result",
          "data": {
            "text/plain": [
              "Power_divergenceResult(statistic=1.737143599525491, pvalue=nan)"
            ]
          },
          "metadata": {},
          "execution_count": 129
        }
      ]
    },
    {
      "cell_type": "code",
      "source": [
        "interval_2 = stats.chisquare(f_obs=[13], f_exp=[8.266827496740323])\n",
        "interval_2"
      ],
      "metadata": {
        "colab": {
          "base_uri": "https://localhost:8080/"
        },
        "id": "pyqSCJdHDfR3",
        "outputId": "d0b8126c-a0f1-4d80-85eb-41becc0a50f0"
      },
      "execution_count": null,
      "outputs": [
        {
          "output_type": "execute_result",
          "data": {
            "text/plain": [
              "Power_divergenceResult(statistic=2.709978157212925, pvalue=nan)"
            ]
          },
          "metadata": {},
          "execution_count": 130
        }
      ]
    },
    {
      "cell_type": "code",
      "source": [
        "interval_3 = stats.chisquare(f_obs=[10], f_exp=[8.567146709901849])\n",
        "interval_3"
      ],
      "metadata": {
        "colab": {
          "base_uri": "https://localhost:8080/"
        },
        "id": "2gphJ5D-DktE",
        "outputId": "753435e1-39af-4b1c-fffa-317b45ce9547"
      },
      "execution_count": null,
      "outputs": [
        {
          "output_type": "execute_result",
          "data": {
            "text/plain": [
              "Power_divergenceResult(statistic=0.23964437874889838, pvalue=nan)"
            ]
          },
          "metadata": {},
          "execution_count": 131
        }
      ]
    },
    {
      "cell_type": "code",
      "source": [
        "interval_4 = stats.chisquare(f_obs=[11], f_exp=[18.08653802150583])\n",
        "interval_4"
      ],
      "metadata": {
        "colab": {
          "base_uri": "https://localhost:8080/"
        },
        "id": "CU1byaLeDpsh",
        "outputId": "c58c1bf8-070a-4b59-95dd-3394406afd23"
      },
      "execution_count": null,
      "outputs": [
        {
          "output_type": "execute_result",
          "data": {
            "text/plain": [
              "Power_divergenceResult(statistic=2.7765966638023682, pvalue=nan)"
            ]
          },
          "metadata": {},
          "execution_count": 132
        }
      ]
    },
    {
      "cell_type": "code",
      "source": [
        "test_stat = sum([interval_0.statistic, interval_1.statistic, \n",
        "                 interval_2.statistic, interval_3.statistic, interval_4.statistic])\n",
        "test_stat"
      ],
      "metadata": {
        "colab": {
          "base_uri": "https://localhost:8080/"
        },
        "id": "wz-FXwubFjSd",
        "outputId": "ff57a143-59b2-4d53-8d3c-3454772dba05"
      },
      "execution_count": null,
      "outputs": [
        {
          "output_type": "execute_result",
          "data": {
            "text/plain": [
              "8.18284244321354"
            ]
          },
          "metadata": {},
          "execution_count": 133
        }
      ]
    },
    {
      "cell_type": "code",
      "source": [
        "dof = 2"
      ],
      "metadata": {
        "id": "MqdpXOGEGdPy"
      },
      "execution_count": null,
      "outputs": []
    },
    {
      "cell_type": "code",
      "source": [
        "# calcualte the test statistic, since it's a right tailed test, we subtract 1\n",
        "1 - stats.chi2.cdf(test_stat, dof)"
      ],
      "metadata": {
        "colab": {
          "base_uri": "https://localhost:8080/"
        },
        "id": "TtHh17t4F3Ce",
        "outputId": "294ccdd4-221c-441f-a441-914002d2b73a"
      },
      "execution_count": null,
      "outputs": [
        {
          "output_type": "execute_result",
          "data": {
            "text/plain": [
              "0.016715460295705364"
            ]
          },
          "metadata": {},
          "execution_count": 135
        }
      ]
    },
    {
      "cell_type": "markdown",
      "source": [
        "This p value is lower than .05. Therefore at the 5% significance level, we reject the null hypothesis, the income of this city does not follow a normal distribution with a mean of \\$63,800 and a standard deviation of $45,780"
      ],
      "metadata": {
        "id": "3-xJi1BMG_pP"
      }
    },
    {
      "cell_type": "markdown",
      "source": [
        "## Jarque Bera\n",
        "\n",
        "The Jarque-Bera test tests whether the sample data has the skewness and kurtosis matching a normal distribution.\n",
        "\n",
        "H<sub>0</sub>\n",
        " :  Sample population does not follow a _normal_ distribution with a mean of X and standard deviation of y.\n",
        "\n",
        "H<sub>A</sub> : Sample population follows a _normal_ distribution with a mean of X and standard deviation of y.\n",
        "\n"
      ],
      "metadata": {
        "id": "FcMx4t3cI42I"
      }
    },
    {
      "cell_type": "code",
      "source": [
        "s = stats.skew(df['Income'])\n",
        "s"
      ],
      "metadata": {
        "colab": {
          "base_uri": "https://localhost:8080/"
        },
        "id": "ajNgvK5eJY2X",
        "outputId": "fcfa8618-f66c-4eb4-f410-79a9f952bdeb"
      },
      "execution_count": null,
      "outputs": [
        {
          "output_type": "execute_result",
          "data": {
            "text/plain": [
              "2.2488190268630164"
            ]
          },
          "metadata": {},
          "execution_count": 137
        }
      ]
    },
    {
      "cell_type": "markdown",
      "source": [
        "\"If bias is False then the kurtosis is calculated using k statistics to eliminate bias coming from biased moment estimators.\"\n",
        "\n",
        "https://docs.scipy.org/doc/scipy/reference/generated/scipy.stats.kurtosis.html"
      ],
      "metadata": {
        "id": "WleTRWfTJ2mE"
      }
    },
    {
      "cell_type": "code",
      "source": [
        "k = stats.kurtosis(df['Income'], bias = False)\n",
        "k"
      ],
      "metadata": {
        "colab": {
          "base_uri": "https://localhost:8080/"
        },
        "id": "jRX9qEvtJf43",
        "outputId": "86c1b976-f451-4364-8083-55dc37d15aea"
      },
      "execution_count": null,
      "outputs": [
        {
          "output_type": "execute_result",
          "data": {
            "text/plain": [
              "6.732158660542542"
            ]
          },
          "metadata": {},
          "execution_count": 138
        }
      ]
    },
    {
      "cell_type": "code",
      "source": [
        "test_stat = (50/6)*(s**2 + k**2/4)\n",
        "test_stat"
      ],
      "metadata": {
        "colab": {
          "base_uri": "https://localhost:8080/"
        },
        "id": "Ba40W7KFLJ9t",
        "outputId": "d23ab87c-025e-4eae-e3bc-562983cbf59e"
      },
      "execution_count": null,
      "outputs": [
        {
          "output_type": "execute_result",
          "data": {
            "text/plain": [
              "136.5639756105051"
            ]
          },
          "metadata": {},
          "execution_count": 139
        }
      ]
    },
    {
      "cell_type": "code",
      "source": [
        "1 - stats.chi2.cdf(test_stat, 2)"
      ],
      "metadata": {
        "colab": {
          "base_uri": "https://localhost:8080/"
        },
        "id": "2F4Ld0JALn_h",
        "outputId": "a6a06e28-702c-4d52-f86a-a570f07688af"
      },
      "execution_count": null,
      "outputs": [
        {
          "output_type": "execute_result",
          "data": {
            "text/plain": [
              "0.0"
            ]
          },
          "metadata": {},
          "execution_count": 140
        }
      ]
    },
    {
      "cell_type": "markdown",
      "source": [
        "p value is 0, at a 1% confidence interval we can reject the null hypothesis that the income does not follow a normal distribution."
      ],
      "metadata": {
        "id": "9mIWM_egL7rg"
      }
    },
    {
      "cell_type": "code",
      "source": [
        "stats.jarque_bera(df['Income'])"
      ],
      "metadata": {
        "colab": {
          "base_uri": "https://localhost:8080/"
        },
        "id": "58wsH4izIS3s",
        "outputId": "52215432-71c8-436d-95c4-89b80aef900e"
      },
      "execution_count": null,
      "outputs": [
        {
          "output_type": "execute_result",
          "data": {
            "text/plain": [
              "(116.14367605756448, 0.0)"
            ]
          },
          "metadata": {},
          "execution_count": 141
        }
      ]
    },
    {
      "cell_type": "code",
      "source": [
        "df['Income'].hist()\n",
        "plt.title('Income')\n",
        "plt.xlabel('Income $')\n",
        "plt.ylabel('Frequency')"
      ],
      "metadata": {
        "colab": {
          "base_uri": "https://localhost:8080/",
          "height": 313
        },
        "id": "vGLVn0NRI0sj",
        "outputId": "90151e01-0f8d-4380-d68e-9edb0fb38fc5"
      },
      "execution_count": null,
      "outputs": [
        {
          "output_type": "execute_result",
          "data": {
            "text/plain": [
              "Text(0, 0.5, 'Frequency')"
            ]
          },
          "metadata": {},
          "execution_count": 142
        },
        {
          "output_type": "display_data",
          "data": {
            "text/plain": [
              "<Figure size 432x288 with 1 Axes>"
            ],
            "image/png": "[encoded data removed]"
          },
          "metadata": {
            "needs_background": "light"
          }
        }
      ]
    },
    {
      "cell_type": "markdown",
      "source": [
        "Finally, we can see this does not look like a normal distribution :)"
      ],
      "metadata": {
        "id": "rrUUyMrpKyce"
      }
    }
  ]
}