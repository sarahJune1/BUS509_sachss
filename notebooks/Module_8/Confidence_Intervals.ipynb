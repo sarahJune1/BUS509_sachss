{
  "nbformat": 4,
  "nbformat_minor": 0,
  "metadata": {
    "colab": {
      "name": "Confidence Intervals.ipynb",
      "provenance": [],
      "collapsed_sections": [],
      "authorship_tag": "ABX9TyMb0ujqUXfq1UIsvyE7pqn1",
      "include_colab_link": true
    },
    "kernelspec": {
      "name": "python3",
      "display_name": "Python 3"
    },
    "language_info": {
      "name": "python"
    }
  },
  "cells": [
    {
      "cell_type": "markdown",
      "metadata": {
        "id": "view-in-github",
        "colab_type": "text"
      },
      "source": [
        "<a href=\"https://colab.research.google.com/github/sarahJune1/BUS509_sachss/blob/main/notebooks/Module_8/Confidence_Intervals.ipynb\" target=\"_parent\"><img src=\"https://colab.research.google.com/assets/colab-badge.svg\" alt=\"Open In Colab\"/></a>"
      ]
    },
    {
      "cell_type": "code",
      "metadata": {
        "id": "mb9buz7b9sV4"
      },
      "source": [
        "import numpy as np\n",
        "import matplotlib.pyplot as plt\n",
        "import pandas as pd\n",
        "import math\n",
        "import scipy.stats as stats"
      ],
      "execution_count": 1,
      "outputs": []
    },
    {
      "cell_type": "markdown",
      "source": [
        "### Calculating the Confidence Interval\n",
        "\n",
        "A sample of 25 doritos bags had a mean weight of 1.02 ounces per bag. Construct the 95% confidence interval for the mean weight of all doritos bags. Assume the weight is normally distributed with a population standard deviation of 0.03 ounces."
      ],
      "metadata": {
        "id": "fV9zTZT9cA_6"
      }
    },
    {
      "cell_type": "code",
      "source": [
        "def calc_conf_interval(x_bar, std, n, z):\n",
        "  # confidence interval\n",
        "  conf_ = z*(std/math.sqrt(n))\n",
        "  \n",
        "  print(x_bar,'+-', round(conf_, 3))\n",
        "  print(f\"Value will range between {x_bar - conf_} and {x_bar + conf_}\")\n",
        "  \n"
      ],
      "metadata": {
        "id": "IO7fZzCWcAHW"
      },
      "execution_count": 3,
      "outputs": []
    },
    {
      "cell_type": "code",
      "source": [
        "a = (1 - .85)/2"
      ],
      "metadata": {
        "id": "GDXTOLqVNBgT"
      },
      "execution_count": 16,
      "outputs": []
    },
    {
      "cell_type": "code",
      "source": [
        "a"
      ],
      "metadata": {
        "colab": {
          "base_uri": "https://localhost:8080/"
        },
        "id": "Eq34ZYLENS4j",
        "outputId": "5f5b24a4-6eb3-489c-9a1f-1db10c4c351d"
      },
      "execution_count": 17,
      "outputs": [
        {
          "output_type": "execute_result",
          "data": {
            "text/plain": [
              "0.07500000000000001"
            ]
          },
          "metadata": {},
          "execution_count": 17
        }
      ]
    },
    {
      "cell_type": "code",
      "source": [
        "stats.norm.ppf(a)"
      ],
      "metadata": {
        "colab": {
          "base_uri": "https://localhost:8080/"
        },
        "id": "q7SiNRJvM_X8",
        "outputId": "b3811c09-b319-46ee-9b06-c2f6c689efc5"
      },
      "execution_count": 18,
      "outputs": [
        {
          "output_type": "execute_result",
          "data": {
            "text/plain": [
              "-1.4395314709384557"
            ]
          },
          "metadata": {},
          "execution_count": 18
        }
      ]
    },
    {
      "cell_type": "code",
      "source": [
        "x_bar = 1.02\n",
        "std = .03\n",
        "n = 25\n",
        "z = 1.96"
      ],
      "metadata": {
        "id": "rtIC4p4LcmRd"
      },
      "execution_count": 20,
      "outputs": []
    },
    {
      "cell_type": "code",
      "source": [
        "calc_conf_interval(x_bar, std, n, z)"
      ],
      "metadata": {
        "id": "CmluEkWmctmC",
        "colab": {
          "base_uri": "https://localhost:8080/"
        },
        "outputId": "35263cf5-8a80-484f-aaf8-9be4311250fa"
      },
      "execution_count": 5,
      "outputs": [
        {
          "output_type": "stream",
          "name": "stdout",
          "text": [
            "1.02 +- 0.012\n",
            "Value will range between 1.00824 and 1.03176\n"
          ]
        }
      ]
    },
    {
      "cell_type": "markdown",
      "source": [
        "## The Width of a Confidence Interval\n",
        "\n",
        "Let's explore the relationship between the margin of error and the confidence interval for the population mean as we consider different width of a confidence interval that is influenced by various factors.\n",
        "\n",
        "Review the prior example, what if we change the standard deviation to be 0.05 ounces rather than 0.03?"
      ],
      "metadata": {
        "id": "8v9q8HjCgh9n"
      }
    },
    {
      "cell_type": "code",
      "source": [
        "std = 0.05"
      ],
      "metadata": {
        "id": "7y943Nnug9ei"
      },
      "execution_count": 21,
      "outputs": []
    },
    {
      "cell_type": "code",
      "source": [
        "x_bar, std, n, z"
      ],
      "metadata": {
        "colab": {
          "base_uri": "https://localhost:8080/"
        },
        "id": "UNcwheCcN6uL",
        "outputId": "0e0d1d74-c672-44d7-ba2a-f4c706031a45"
      },
      "execution_count": 22,
      "outputs": [
        {
          "output_type": "execute_result",
          "data": {
            "text/plain": [
              "(1.02, 0.05, 25, 1.96)"
            ]
          },
          "metadata": {},
          "execution_count": 22
        }
      ]
    },
    {
      "cell_type": "code",
      "source": [
        "calc_conf_interval(x_bar, std, n, z)"
      ],
      "metadata": {
        "id": "-wxbx8Izf8MA",
        "colab": {
          "base_uri": "https://localhost:8080/"
        },
        "outputId": "f0994e11-ead8-41a6-a184-613b57fccf8b"
      },
      "execution_count": 23,
      "outputs": [
        {
          "output_type": "stream",
          "name": "stdout",
          "text": [
            "1.02 +- 0.02\n",
            "Value will range between 1.0004 and 1.0396\n"
          ]
        }
      ]
    },
    {
      "cell_type": "markdown",
      "source": [
        "Let's visualize to see how the distribution has changed."
      ],
      "metadata": {
        "id": "AJIFcP9biMLI"
      }
    },
    {
      "cell_type": "code",
      "source": [
        "# plot normal distribution\n",
        "fig, ax = plt.subplots(figsize=(10,10))\n",
        "x1 = np.linspace(x_bar - 3*.03, x_bar + 3*.03, 100)\n",
        "plt.plot(x1, stats.norm.pdf(x1, x_bar, .03/math.sqrt(n)), label='Original: sigma=0.03')\n",
        "\n",
        "# compare with original\n",
        "x = np.linspace(x_bar - 3*std, x_bar + 3*std, 100)\n",
        "plt.plot(x, stats.norm.pdf(x, x_bar, std/math.sqrt(n)), label='sigma=0.05')\n",
        "plt.title('Normal Distribution of the Sample Mean')\n",
        "plt.xlabel('Produce Weight (oz)')\n",
        "plt.ylabel('Probability Density')\n",
        "plt.legend()\n",
        "plt.show()"
      ],
      "metadata": {
        "id": "f9vMoN0phMbh",
        "colab": {
          "base_uri": "https://localhost:8080/",
          "height": 621
        },
        "outputId": "98e310cf-ed37-46a4-bbce-a3cb9b6f1e49"
      },
      "execution_count": 24,
      "outputs": [
        {
          "output_type": "display_data",
          "data": {
            "text/plain": [
              "<Figure size 720x720 with 1 Axes>"
            ],
            "image/png": "[encoded data removed]"
          },
          "metadata": {
            "needs_background": "light"
          }
        }
      ]
    },
    {
      "cell_type": "markdown",
      "source": [
        "The width has increased from 0.24 to 0.4 (we multiply the margin of error by two for both tails). The larger the population standard deviation the wider the confidence interval."
      ],
      "metadata": {
        "id": "X1jL8ylUiDBi"
      }
    },
    {
      "cell_type": "markdown",
      "source": [
        "What if we change the sample size, from 25 to 16?"
      ],
      "metadata": {
        "id": "NVQ0UsQ7id6A"
      }
    },
    {
      "cell_type": "code",
      "source": [
        "n = 16\n",
        "std = 0.03 # change this back"
      ],
      "metadata": {
        "id": "9NFPhqWMhAmH"
      },
      "execution_count": 25,
      "outputs": []
    },
    {
      "cell_type": "code",
      "source": [
        "x_bar, std, n, z"
      ],
      "metadata": {
        "colab": {
          "base_uri": "https://localhost:8080/"
        },
        "id": "6MyGGjveOwOy",
        "outputId": "f2c305ca-c741-4cb9-f8af-6793922898c4"
      },
      "execution_count": 26,
      "outputs": [
        {
          "output_type": "execute_result",
          "data": {
            "text/plain": [
              "(1.02, 0.03, 16, 1.96)"
            ]
          },
          "metadata": {},
          "execution_count": 26
        }
      ]
    },
    {
      "cell_type": "code",
      "source": [
        "calc_conf_interval(x_bar, std, n, z)"
      ],
      "metadata": {
        "id": "JhNiFEw_izF-",
        "colab": {
          "base_uri": "https://localhost:8080/"
        },
        "outputId": "333ba338-24b5-47fc-f32c-cecb77ec9d71"
      },
      "execution_count": 27,
      "outputs": [
        {
          "output_type": "stream",
          "name": "stdout",
          "text": [
            "1.02 +- 0.015\n",
            "Value will range between 1.0053 and 1.0347\n"
          ]
        }
      ]
    },
    {
      "cell_type": "code",
      "source": [
        "# plot normal distribution\n",
        "fig, ax = plt.subplots(figsize=(10,10))\n",
        "x = np.linspace(x_bar - 3*std, x_bar + 3*std, 100)\n",
        "plt.plot(x, stats.norm.pdf(x, x_bar, std/math.sqrt(25)), label='original')\n",
        "# compare with original\n",
        "plt.plot(x, stats.norm.pdf(x, x_bar, .03/math.sqrt(n)), label='n=16')\n",
        "plt.title('Normal Distribution of the Sample Mean')\n",
        "plt.xlabel('Produce Weight (oz)')\n",
        "plt.ylabel('Probability Density')\n",
        "plt.legend()\n",
        "plt.show()"
      ],
      "metadata": {
        "id": "Ei0CDGNDi6HI",
        "colab": {
          "base_uri": "https://localhost:8080/",
          "height": 621
        },
        "outputId": "33354107-2d6e-40c2-e61b-4fcd208b8b56"
      },
      "execution_count": 28,
      "outputs": [
        {
          "output_type": "display_data",
          "data": {
            "text/plain": [
              "<Figure size 720x720 with 1 Axes>"
            ],
            "image/png": "[encoded data removed]"
          },
          "metadata": {
            "needs_background": "light"
          }
        }
      ]
    },
    {
      "cell_type": "markdown",
      "source": [
        "The width of the confidence interval has increased from 0.24 to .03. The smaller the sample size n, the wider the confidence interval."
      ],
      "metadata": {
        "id": "7yqpZSunjaMm"
      }
    },
    {
      "cell_type": "markdown",
      "source": [
        "What if we change from 95% to 99% confidence? Now we use a z value of 2.576 rather than 1.96"
      ],
      "metadata": {
        "id": "3nWxaLZVjy0Y"
      }
    },
    {
      "cell_type": "code",
      "source": [
        "# recall we can use the ppf to calculate the z score to use\n",
        "a = (1- .99)/2\n",
        "z = stats.norm.ppf(a)\n",
        "round(a, 3), z"
      ],
      "metadata": {
        "id": "-8h9UxRvjyjh",
        "colab": {
          "base_uri": "https://localhost:8080/"
        },
        "outputId": "aec65e9f-7af6-46ab-f801-67a4b3434013"
      },
      "execution_count": 29,
      "outputs": [
        {
          "output_type": "execute_result",
          "data": {
            "text/plain": [
              "(0.005, -2.5758293035489004)"
            ]
          },
          "metadata": {},
          "execution_count": 29
        }
      ]
    },
    {
      "cell_type": "code",
      "source": [
        "n = 25 # change this back"
      ],
      "metadata": {
        "id": "JuhvbHerkfIB"
      },
      "execution_count": 30,
      "outputs": []
    },
    {
      "cell_type": "code",
      "source": [
        "x_bar, std, n, z"
      ],
      "metadata": {
        "colab": {
          "base_uri": "https://localhost:8080/"
        },
        "id": "_I8b9nfCQXdA",
        "outputId": "1f56fbe0-2bac-47ae-e635-ca39aec93143"
      },
      "execution_count": 31,
      "outputs": [
        {
          "output_type": "execute_result",
          "data": {
            "text/plain": [
              "(1.02, 0.03, 25, -2.5758293035489004)"
            ]
          },
          "metadata": {},
          "execution_count": 31
        }
      ]
    },
    {
      "cell_type": "code",
      "source": [
        "calc_conf_interval(x_bar, std, n, z)"
      ],
      "metadata": {
        "id": "IXkHTvN-kt9i",
        "colab": {
          "base_uri": "https://localhost:8080/"
        },
        "outputId": "ff9c1f86-7603-4e6e-f14b-090338950f84"
      },
      "execution_count": 32,
      "outputs": [
        {
          "output_type": "stream",
          "name": "stdout",
          "text": [
            "1.02 +- -0.015\n",
            "Value will range between 1.0354549758212934 and 1.0045450241787066\n"
          ]
        }
      ]
    },
    {
      "cell_type": "markdown",
      "source": [
        "## Example 8.2\n",
        "\n",
        "Sample of the weight (in grams) of 80 hockey pucks. Construct the 90% confidence interval for the population mean weight assuming that the population standard deviation is 7.5 grams. "
      ],
      "metadata": {
        "id": "a8gR4OldlCQt"
      }
    },
    {
      "cell_type": "code",
      "source": [
        "# assign variables\n",
        "n = 80\n",
        "a = (1-.90)/2 # take error percent, divide by 2 for each tail\n",
        "std = 7.5"
      ],
      "metadata": {
        "id": "rEYlykfilBsC"
      },
      "execution_count": null,
      "outputs": []
    },
    {
      "cell_type": "code",
      "source": [
        "z = stats.norm.ppf(a)\n",
        "round(a, 3), z"
      ],
      "metadata": {
        "id": "u_Cb5tJwhw2o"
      },
      "execution_count": null,
      "outputs": []
    },
    {
      "cell_type": "code",
      "source": [
        "df = pd.read_excel(\"https://lectures.mhhe.com/connect/jaggia4e_1260719294/student/data_files/jaggia_BS_4e_ch08_Data_Files.xlsx\", \n",
        "                   sheet_name=\"Hockey_Pucks\")"
      ],
      "metadata": {
        "id": "1Imluw__hdzt"
      },
      "execution_count": null,
      "outputs": []
    },
    {
      "cell_type": "code",
      "source": [
        "df.head()"
      ],
      "metadata": {
        "id": "Ch_TrDwQhm5m"
      },
      "execution_count": null,
      "outputs": []
    },
    {
      "cell_type": "code",
      "source": [
        "# check the number of observations\n",
        "df.shape"
      ],
      "metadata": {
        "id": "r5zJf01niPJ7"
      },
      "execution_count": null,
      "outputs": []
    },
    {
      "cell_type": "code",
      "source": [
        "# calc sample mean\n",
        "x_bar = df['Weight'].mean()\n",
        "x_bar"
      ],
      "metadata": {
        "id": "wym1CR-OiIWX"
      },
      "execution_count": null,
      "outputs": []
    },
    {
      "cell_type": "code",
      "source": [
        "calc_conf_interval(x_bar, std, n, z)"
      ],
      "metadata": {
        "id": "Hph0nP2thoL5"
      },
      "execution_count": null,
      "outputs": []
    },
    {
      "cell_type": "markdown",
      "metadata": {
        "id": "XoNyQmv0BoTt"
      },
      "source": [
        "## Confidence Interval for the Population Mean when the standard deviation is unknown.\n",
        "\n",
        "Estimate the mean mpg of all cars with 90% confidence."
      ]
    },
    {
      "cell_type": "code",
      "source": [
        "textbook = pd.read_excel(\"https://lectures.mhhe.com/connect/jaggia4e_1260719294/student/data_files/jaggia_BS_4e_ch08_Data_Files.xlsx\",\n",
        "                         sheet_name=\"MPG\")"
      ],
      "metadata": {
        "id": "lnflrFRx6jzS"
      },
      "execution_count": 35,
      "outputs": []
    },
    {
      "cell_type": "code",
      "source": [
        "textbook.shape"
      ],
      "metadata": {
        "id": "JWIp-nXZ6plY",
        "colab": {
          "base_uri": "https://localhost:8080/"
        },
        "outputId": "13a39c92-69da-4d59-807d-2f4b0169a7f2"
      },
      "execution_count": 36,
      "outputs": [
        {
          "output_type": "execute_result",
          "data": {
            "text/plain": [
              "(25, 1)"
            ]
          },
          "metadata": {},
          "execution_count": 36
        }
      ]
    },
    {
      "cell_type": "code",
      "source": [
        "textbook.head()"
      ],
      "metadata": {
        "colab": {
          "base_uri": "https://localhost:8080/",
          "height": 206
        },
        "id": "kUitsFamXX9Q",
        "outputId": "799b24a4-46dc-4336-90e0-57892e1f6b6d"
      },
      "execution_count": 38,
      "outputs": [
        {
          "output_type": "execute_result",
          "data": {
            "text/plain": [
              "   MPG\n",
              "0   97\n",
              "1  117\n",
              "2   93\n",
              "3   79\n",
              "4   97"
            ],
            "text/html": [
              "\n",
              "  <div id=\"df-33f1cfdc-37cb-4684-bf8d-8e17bc3f9d67\">\n",
              "    <div class=\"colab-df-container\">\n",
              "      <div>\n",
              "<style scoped>\n",
              "    .dataframe tbody tr th:only-of-type {\n",
              "        vertical-align: middle;\n",
              "    }\n",
              "\n",
              "    .dataframe tbody tr th {\n",
              "        vertical-align: top;\n",
              "    }\n",
              "\n",
              "    .dataframe thead th {\n",
              "        text-align: right;\n",
              "    }\n",
              "</style>\n",
              "<table border=\"1\" class=\"dataframe\">\n",
              "  <thead>\n",
              "    <tr style=\"text-align: right;\">\n",
              "      <th></th>\n",
              "      <th>MPG</th>\n",
              "    </tr>\n",
              "  </thead>\n",
              "  <tbody>\n",
              "    <tr>\n",
              "      <th>0</th>\n",
              "      <td>97</td>\n",
              "    </tr>\n",
              "    <tr>\n",
              "      <th>1</th>\n",
              "      <td>117</td>\n",
              "    </tr>\n",
              "    <tr>\n",
              "      <th>2</th>\n",
              "      <td>93</td>\n",
              "    </tr>\n",
              "    <tr>\n",
              "      <th>3</th>\n",
              "      <td>79</td>\n",
              "    </tr>\n",
              "    <tr>\n",
              "      <th>4</th>\n",
              "      <td>97</td>\n",
              "    </tr>\n",
              "  </tbody>\n",
              "</table>\n",
              "</div>\n",
              "      <button class=\"colab-df-convert\" onclick=\"convertToInteractive('df-33f1cfdc-37cb-4684-bf8d-8e17bc3f9d67')\"\n",
              "              title=\"Convert this dataframe to an interactive table.\"\n",
              "              style=\"display:none;\">\n",
              "        \n",
              "  <svg xmlns=\"http://www.w3.org/2000/svg\" height=\"24px\"viewBox=\"0 0 24 24\"\n",
              "       width=\"24px\">\n",
              "    <path d=\"M0 0h24v24H0V0z\" fill=\"none\"/>\n",
              "    <path d=\"M18.56 5.44l.94 2.06.94-2.06 2.06-.94-2.06-.94-.94-2.06-.94 2.06-2.06.94zm-11 1L8.5 8.5l.94-2.06 2.06-.94-2.06-.94L8.5 2.5l-.94 2.06-2.06.94zm10 10l.94 2.06.94-2.06 2.06-.94-2.06-.94-.94-2.06-.94 2.06-2.06.94z\"/><path d=\"M17.41 7.96l-1.37-1.37c-.4-.4-.92-.59-1.43-.59-.52 0-1.04.2-1.43.59L10.3 9.45l-7.72 7.72c-.78.78-.78 2.05 0 2.83L4 21.41c.39.39.9.59 1.41.59.51 0 1.02-.2 1.41-.59l7.78-7.78 2.81-2.81c.8-.78.8-2.07 0-2.86zM5.41 20L4 18.59l7.72-7.72 1.47 1.35L5.41 20z\"/>\n",
              "  </svg>\n",
              "      </button>\n",
              "      \n",
              "  <style>\n",
              "    .colab-df-container {\n",
              "      display:flex;\n",
              "      flex-wrap:wrap;\n",
              "      gap: 12px;\n",
              "    }\n",
              "\n",
              "    .colab-df-convert {\n",
              "      background-color: #E8F0FE;\n",
              "      border: none;\n",
              "      border-radius: 50%;\n",
              "      cursor: pointer;\n",
              "      display: none;\n",
              "      fill: #1967D2;\n",
              "      height: 32px;\n",
              "      padding: 0 0 0 0;\n",
              "      width: 32px;\n",
              "    }\n",
              "\n",
              "    .colab-df-convert:hover {\n",
              "      background-color: #E2EBFA;\n",
              "      box-shadow: 0px 1px 2px rgba(60, 64, 67, 0.3), 0px 1px 3px 1px rgba(60, 64, 67, 0.15);\n",
              "      fill: #174EA6;\n",
              "    }\n",
              "\n",
              "    [theme=dark] .colab-df-convert {\n",
              "      background-color: #3B4455;\n",
              "      fill: #D2E3FC;\n",
              "    }\n",
              "\n",
              "    [theme=dark] .colab-df-convert:hover {\n",
              "      background-color: #434B5C;\n",
              "      box-shadow: 0px 1px 3px 1px rgba(0, 0, 0, 0.15);\n",
              "      filter: drop-shadow(0px 1px 2px rgba(0, 0, 0, 0.3));\n",
              "      fill: #FFFFFF;\n",
              "    }\n",
              "  </style>\n",
              "\n",
              "      <script>\n",
              "        const buttonEl =\n",
              "          document.querySelector('#df-33f1cfdc-37cb-4684-bf8d-8e17bc3f9d67 button.colab-df-convert');\n",
              "        buttonEl.style.display =\n",
              "          google.colab.kernel.accessAllowed ? 'block' : 'none';\n",
              "\n",
              "        async function convertToInteractive(key) {\n",
              "          const element = document.querySelector('#df-33f1cfdc-37cb-4684-bf8d-8e17bc3f9d67');\n",
              "          const dataTable =\n",
              "            await google.colab.kernel.invokeFunction('convertToInteractive',\n",
              "                                                     [key], {});\n",
              "          if (!dataTable) return;\n",
              "\n",
              "          const docLinkHtml = 'Like what you see? Visit the ' +\n",
              "            '<a target=\"_blank\" href=https://colab.research.google.com/notebooks/data_table.ipynb>data table notebook</a>'\n",
              "            + ' to learn more about interactive tables.';\n",
              "          element.innerHTML = '';\n",
              "          dataTable['output_type'] = 'display_data';\n",
              "          await google.colab.output.renderOutput(dataTable, element);\n",
              "          const docLink = document.createElement('div');\n",
              "          docLink.innerHTML = docLinkHtml;\n",
              "          element.appendChild(docLink);\n",
              "        }\n",
              "      </script>\n",
              "    </div>\n",
              "  </div>\n",
              "  "
            ]
          },
          "metadata": {},
          "execution_count": 38
        }
      ]
    },
    {
      "cell_type": "code",
      "source": [
        "# number of observations\n",
        "n = textbook.shape[0]\n",
        "n"
      ],
      "metadata": {
        "id": "of1pbftg7Tkt",
        "colab": {
          "base_uri": "https://localhost:8080/"
        },
        "outputId": "f45212b8-ec2c-4cf2-ec9d-d8f06eba88a8"
      },
      "execution_count": 40,
      "outputs": [
        {
          "output_type": "execute_result",
          "data": {
            "text/plain": [
              "25"
            ]
          },
          "metadata": {},
          "execution_count": 40
        }
      ]
    },
    {
      "cell_type": "markdown",
      "source": [
        "For calculating the 90% confidence interval, let's define a and the df"
      ],
      "metadata": {
        "id": "i8PJsJzC5-zw"
      }
    },
    {
      "cell_type": "code",
      "source": [
        "a = (1-.90)/2\n",
        "a"
      ],
      "metadata": {
        "id": "g2jLJ1TZ6EDR",
        "colab": {
          "base_uri": "https://localhost:8080/"
        },
        "outputId": "79d79f0a-cf81-4e75-8ba6-dcc005b53286"
      },
      "execution_count": 41,
      "outputs": [
        {
          "output_type": "execute_result",
          "data": {
            "text/plain": [
              "0.04999999999999999"
            ]
          },
          "metadata": {},
          "execution_count": 41
        }
      ]
    },
    {
      "cell_type": "code",
      "source": [
        "df = n - 1\n",
        "df"
      ],
      "metadata": {
        "id": "9vrPZ0P-6IPP",
        "colab": {
          "base_uri": "https://localhost:8080/"
        },
        "outputId": "4c48296b-3768-47e4-8fdb-6856c8e5fda1"
      },
      "execution_count": 42,
      "outputs": [
        {
          "output_type": "execute_result",
          "data": {
            "text/plain": [
              "24"
            ]
          },
          "metadata": {},
          "execution_count": 42
        }
      ]
    },
    {
      "cell_type": "markdown",
      "source": [
        "How to obtain the t statistic, below is to Calculate 90% confidence interval\n",
        "a = 0.10\n",
        "a/2 = 0.05\n",
        "df = 25 - 1 = 24\n"
      ],
      "metadata": {
        "id": "KtD22pMY2sFL"
      }
    },
    {
      "cell_type": "markdown",
      "source": [
        "We use the students t continuous random variable: https://docs.scipy.org/doc/scipy/reference/generated/scipy.stats.t.html"
      ],
      "metadata": {
        "id": "OFTwaLGW-1eS"
      }
    },
    {
      "cell_type": "code",
      "source": [
        "df"
      ],
      "metadata": {
        "colab": {
          "base_uri": "https://localhost:8080/"
        },
        "id": "3taISWAxYXin",
        "outputId": "1d2311d4-745a-4e59-989f-8dc96c466be2"
      },
      "execution_count": 45,
      "outputs": [
        {
          "output_type": "execute_result",
          "data": {
            "text/plain": [
              "24"
            ]
          },
          "metadata": {},
          "execution_count": 45
        }
      ]
    },
    {
      "cell_type": "code",
      "source": [
        "t_stat = stats.t.ppf(1-(a), df)"
      ],
      "metadata": {
        "id": "rn9-QS7K6Riy"
      },
      "execution_count": 48,
      "outputs": []
    },
    {
      "cell_type": "code",
      "source": [
        "t_stat"
      ],
      "metadata": {
        "colab": {
          "base_uri": "https://localhost:8080/"
        },
        "id": "OvfByfArZ4ox",
        "outputId": "c899c34e-62af-4ff1-cafd-800c25633a80"
      },
      "execution_count": 53,
      "outputs": [
        {
          "output_type": "execute_result",
          "data": {
            "text/plain": [
              "1.7108820799094275"
            ]
          },
          "metadata": {},
          "execution_count": 53
        }
      ]
    },
    {
      "cell_type": "code",
      "source": [
        "fig, ax = plt.subplots(figsize=(10,5))\n",
        "textbook.hist(ax=ax)\n",
        "plt.title('MPG Distribution')\n",
        "plt.xlabel('MPG')\n",
        "plt.axvline(x=textbook['MPG'].mean(), label='Sample Mean', c='r')\n",
        "plt.axvline(x=92.85972516071554, label='Lower confidence interval', c='g')\n",
        "plt.axvline(x=100.18027483928445, label='Higher Confidence interval', c='g')\n",
        "plt.legend()\n",
        "plt.ylabel('Count')\n",
        "plt.show()"
      ],
      "metadata": {
        "id": "ncjq_lx36sub",
        "colab": {
          "base_uri": "https://localhost:8080/",
          "height": 350
        },
        "outputId": "17079154-3e17-48c1-bc6b-995a30d190b7"
      },
      "execution_count": 57,
      "outputs": [
        {
          "output_type": "display_data",
          "data": {
            "text/plain": [
              "<Figure size 720x360 with 1 Axes>"
            ],
            "image/png": "[encoded data removed]"
          },
          "metadata": {
            "needs_background": "light"
          }
        }
      ]
    },
    {
      "cell_type": "markdown",
      "source": [
        "What do we notice about the distribution? We assume a normal distribution, thus we can construct the confidence interval as ![image.png](data:image/png;base64,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)"
      ],
      "metadata": {
        "id": "CQCMNlKD7pNb"
      }
    },
    {
      "cell_type": "markdown",
      "source": [
        "We can use the above formula and plug in our values of the standard deviation and t statistic, we can also use the below function that calculates the standard error of the mean and uses the t statistic in the function to calculate."
      ],
      "metadata": {
        "id": "gROtEM6u8M82"
      }
    },
    {
      "cell_type": "code",
      "metadata": {
        "id": "CsGxv9SBFPGM"
      },
      "source": [
        "def mean_confidence_interval(data, confidence=0.95):\n",
        "    # create array from data\n",
        "    a = 1.0 * np.array(data)\n",
        "    # what is the sample size?\n",
        "    n = len(a)\n",
        "    # calculates the standard error of the mean\n",
        "    m, se = np.mean(a), stats.sem(a)\n",
        "    h = se * stats.t.ppf((1 + confidence) / 2., n-1)\n",
        "    return m, m-h, m+h"
      ],
      "execution_count": 55,
      "outputs": []
    },
    {
      "cell_type": "code",
      "source": [
        "mean_confidence_interval(textbook['MPG'], confidence=0.90)"
      ],
      "metadata": {
        "id": "xLxmmrhq6sb-",
        "colab": {
          "base_uri": "https://localhost:8080/"
        },
        "outputId": "35fbc8b2-fa3d-415f-be5d-746216b9c751"
      },
      "execution_count": 56,
      "outputs": [
        {
          "output_type": "execute_result",
          "data": {
            "text/plain": [
              "(96.52, 92.85972516071554, 100.18027483928445)"
            ]
          },
          "metadata": {},
          "execution_count": 56
        }
      ]
    },
    {
      "cell_type": "markdown",
      "source": [
        "Next we will compare this to a new dataset that was used for machine learning task, but we will consider this to be a population of cars and explore a sample estimate.\n",
        "\n",
        "http://archive.ics.uci.edu/ml/index.php From the UC Irvine Machine Learning Repository."
      ],
      "metadata": {
        "id": "yveBeS3b681c"
      }
    },
    {
      "cell_type": "code",
      "metadata": {
        "id": "t7DWiecD-WVb"
      },
      "source": [
        "df = pd.read_csv(\"http://archive.ics.uci.edu/ml/machine-learning-databases/auto-mpg/auto-mpg.data\", sep='\\t', header=None)"
      ],
      "execution_count": 58,
      "outputs": []
    },
    {
      "cell_type": "code",
      "metadata": {
        "id": "u0ibBzdLCQMO"
      },
      "source": [
        "df.rename(columns={0:'data'},inplace=True)"
      ],
      "execution_count": 60,
      "outputs": []
    },
    {
      "cell_type": "code",
      "metadata": {
        "id": "UPDkzXSt_Aon"
      },
      "source": [
        "df['mpg'] = df['data'].str.split(' ', 1, expand=True)[0].astype(float)"
      ],
      "execution_count": 61,
      "outputs": []
    },
    {
      "cell_type": "code",
      "metadata": {
        "id": "IykrN1hzCINy"
      },
      "source": [
        "df= df[['mpg']]"
      ],
      "execution_count": 62,
      "outputs": []
    },
    {
      "cell_type": "code",
      "metadata": {
        "id": "7hFD4DFwCtwV",
        "colab": {
          "base_uri": "https://localhost:8080/",
          "height": 206
        },
        "outputId": "57eca6bd-3cef-4c4d-90f1-b70dbcec14f2"
      },
      "source": [
        "df.head()"
      ],
      "execution_count": 63,
      "outputs": [
        {
          "output_type": "execute_result",
          "data": {
            "text/plain": [
              "    mpg\n",
              "0  18.0\n",
              "1  15.0\n",
              "2  18.0\n",
              "3  16.0\n",
              "4  17.0"
            ],
            "text/html": [
              "\n",
              "  <div id=\"df-90602944-92d0-44ad-a444-0e12fc23dfa0\">\n",
              "    <div class=\"colab-df-container\">\n",
              "      <div>\n",
              "<style scoped>\n",
              "    .dataframe tbody tr th:only-of-type {\n",
              "        vertical-align: middle;\n",
              "    }\n",
              "\n",
              "    .dataframe tbody tr th {\n",
              "        vertical-align: top;\n",
              "    }\n",
              "\n",
              "    .dataframe thead th {\n",
              "        text-align: right;\n",
              "    }\n",
              "</style>\n",
              "<table border=\"1\" class=\"dataframe\">\n",
              "  <thead>\n",
              "    <tr style=\"text-align: right;\">\n",
              "      <th></th>\n",
              "      <th>mpg</th>\n",
              "    </tr>\n",
              "  </thead>\n",
              "  <tbody>\n",
              "    <tr>\n",
              "      <th>0</th>\n",
              "      <td>18.0</td>\n",
              "    </tr>\n",
              "    <tr>\n",
              "      <th>1</th>\n",
              "      <td>15.0</td>\n",
              "    </tr>\n",
              "    <tr>\n",
              "      <th>2</th>\n",
              "      <td>18.0</td>\n",
              "    </tr>\n",
              "    <tr>\n",
              "      <th>3</th>\n",
              "      <td>16.0</td>\n",
              "    </tr>\n",
              "    <tr>\n",
              "      <th>4</th>\n",
              "      <td>17.0</td>\n",
              "    </tr>\n",
              "  </tbody>\n",
              "</table>\n",
              "</div>\n",
              "      <button class=\"colab-df-convert\" onclick=\"convertToInteractive('df-90602944-92d0-44ad-a444-0e12fc23dfa0')\"\n",
              "              title=\"Convert this dataframe to an interactive table.\"\n",
              "              style=\"display:none;\">\n",
              "        \n",
              "  <svg xmlns=\"http://www.w3.org/2000/svg\" height=\"24px\"viewBox=\"0 0 24 24\"\n",
              "       width=\"24px\">\n",
              "    <path d=\"M0 0h24v24H0V0z\" fill=\"none\"/>\n",
              "    <path d=\"M18.56 5.44l.94 2.06.94-2.06 2.06-.94-2.06-.94-.94-2.06-.94 2.06-2.06.94zm-11 1L8.5 8.5l.94-2.06 2.06-.94-2.06-.94L8.5 2.5l-.94 2.06-2.06.94zm10 10l.94 2.06.94-2.06 2.06-.94-2.06-.94-.94-2.06-.94 2.06-2.06.94z\"/><path d=\"M17.41 7.96l-1.37-1.37c-.4-.4-.92-.59-1.43-.59-.52 0-1.04.2-1.43.59L10.3 9.45l-7.72 7.72c-.78.78-.78 2.05 0 2.83L4 21.41c.39.39.9.59 1.41.59.51 0 1.02-.2 1.41-.59l7.78-7.78 2.81-2.81c.8-.78.8-2.07 0-2.86zM5.41 20L4 18.59l7.72-7.72 1.47 1.35L5.41 20z\"/>\n",
              "  </svg>\n",
              "      </button>\n",
              "      \n",
              "  <style>\n",
              "    .colab-df-container {\n",
              "      display:flex;\n",
              "      flex-wrap:wrap;\n",
              "      gap: 12px;\n",
              "    }\n",
              "\n",
              "    .colab-df-convert {\n",
              "      background-color: #E8F0FE;\n",
              "      border: none;\n",
              "      border-radius: 50%;\n",
              "      cursor: pointer;\n",
              "      display: none;\n",
              "      fill: #1967D2;\n",
              "      height: 32px;\n",
              "      padding: 0 0 0 0;\n",
              "      width: 32px;\n",
              "    }\n",
              "\n",
              "    .colab-df-convert:hover {\n",
              "      background-color: #E2EBFA;\n",
              "      box-shadow: 0px 1px 2px rgba(60, 64, 67, 0.3), 0px 1px 3px 1px rgba(60, 64, 67, 0.15);\n",
              "      fill: #174EA6;\n",
              "    }\n",
              "\n",
              "    [theme=dark] .colab-df-convert {\n",
              "      background-color: #3B4455;\n",
              "      fill: #D2E3FC;\n",
              "    }\n",
              "\n",
              "    [theme=dark] .colab-df-convert:hover {\n",
              "      background-color: #434B5C;\n",
              "      box-shadow: 0px 1px 3px 1px rgba(0, 0, 0, 0.15);\n",
              "      filter: drop-shadow(0px 1px 2px rgba(0, 0, 0, 0.3));\n",
              "      fill: #FFFFFF;\n",
              "    }\n",
              "  </style>\n",
              "\n",
              "      <script>\n",
              "        const buttonEl =\n",
              "          document.querySelector('#df-90602944-92d0-44ad-a444-0e12fc23dfa0 button.colab-df-convert');\n",
              "        buttonEl.style.display =\n",
              "          google.colab.kernel.accessAllowed ? 'block' : 'none';\n",
              "\n",
              "        async function convertToInteractive(key) {\n",
              "          const element = document.querySelector('#df-90602944-92d0-44ad-a444-0e12fc23dfa0');\n",
              "          const dataTable =\n",
              "            await google.colab.kernel.invokeFunction('convertToInteractive',\n",
              "                                                     [key], {});\n",
              "          if (!dataTable) return;\n",
              "\n",
              "          const docLinkHtml = 'Like what you see? Visit the ' +\n",
              "            '<a target=\"_blank\" href=https://colab.research.google.com/notebooks/data_table.ipynb>data table notebook</a>'\n",
              "            + ' to learn more about interactive tables.';\n",
              "          element.innerHTML = '';\n",
              "          dataTable['output_type'] = 'display_data';\n",
              "          await google.colab.output.renderOutput(dataTable, element);\n",
              "          const docLink = document.createElement('div');\n",
              "          docLink.innerHTML = docLinkHtml;\n",
              "          element.appendChild(docLink);\n",
              "        }\n",
              "      </script>\n",
              "    </div>\n",
              "  </div>\n",
              "  "
            ]
          },
          "metadata": {},
          "execution_count": 63
        }
      ]
    },
    {
      "cell_type": "markdown",
      "source": [
        "Let's assume this dataframe represents the population of all cars in a dealership. We will take a sample and test the mean against the \"population\"."
      ],
      "metadata": {
        "id": "n2nIbDCm3wf3"
      }
    },
    {
      "cell_type": "code",
      "source": [
        "df.shape"
      ],
      "metadata": {
        "id": "4tc9Ucst2JyY",
        "colab": {
          "base_uri": "https://localhost:8080/"
        },
        "outputId": "8b17b5ce-2a68-44a3-889a-5cbce3d57503"
      },
      "execution_count": 64,
      "outputs": [
        {
          "output_type": "execute_result",
          "data": {
            "text/plain": [
              "(398, 1)"
            ]
          },
          "metadata": {},
          "execution_count": 64
        }
      ]
    },
    {
      "cell_type": "code",
      "source": [
        "pop_mean = df.mean()[0]\n",
        "pop_mean"
      ],
      "metadata": {
        "id": "-xesCYwy4aGA",
        "colab": {
          "base_uri": "https://localhost:8080/"
        },
        "outputId": "744375d0-aa83-493f-a316-4ff809c293de"
      },
      "execution_count": 65,
      "outputs": [
        {
          "output_type": "execute_result",
          "data": {
            "text/plain": [
              "23.514572864321615"
            ]
          },
          "metadata": {},
          "execution_count": 65
        }
      ]
    },
    {
      "cell_type": "code",
      "metadata": {
        "id": "7AGsKnFbCckh",
        "colab": {
          "base_uri": "https://localhost:8080/",
          "height": 350
        },
        "outputId": "29b93d1b-9ced-44fe-ddf6-426c2d562106"
      },
      "source": [
        "fig, ax = plt.subplots(figsize=(10,5))\n",
        "df.hist(ax=ax)\n",
        "plt.title('MPG Distribution')\n",
        "plt.xlabel('MPG')\n",
        "plt.axvline(x=pop_mean, label='Population Mean', c='r')\n",
        "plt.legend()\n",
        "plt.ylabel('Count')\n",
        "plt.show()"
      ],
      "execution_count": 66,
      "outputs": [
        {
          "output_type": "display_data",
          "data": {
            "text/plain": [
              "<Figure size 720x360 with 1 Axes>"
            ],
            "image/png": "[encoded data removed]"
          },
          "metadata": {
            "needs_background": "light"
          }
        }
      ]
    },
    {
      "cell_type": "markdown",
      "metadata": {
        "id": "WOzYCRcmFsyg"
      },
      "source": [
        "Distribution is relatively normal with jump between 10 mpg to 15 mpg. The mean is somewhat skewed to the left due to the distribution concentration at 15 mpg."
      ]
    },
    {
      "cell_type": "markdown",
      "metadata": {
        "id": "FZjjwuK87B-i"
      },
      "source": [
        "## Example of Point Estimate\n",
        "\n",
        "Take sample of 25 cars from population. \n",
        "\n",
        "Don't forget to set the random state."
      ]
    },
    {
      "cell_type": "code",
      "metadata": {
        "id": "XuhkX_jx60hF"
      },
      "source": [
        "n = 25\n",
        "sample_0 = df['mpg'].sample(n=n, random_state=42)"
      ],
      "execution_count": 67,
      "outputs": []
    },
    {
      "cell_type": "code",
      "source": [
        "sample_0"
      ],
      "metadata": {
        "colab": {
          "base_uri": "https://localhost:8080/"
        },
        "id": "gTkMvcZjbMPR",
        "outputId": "7677cf81-e066-4088-9476-f52ad9b7180b"
      },
      "execution_count": 68,
      "outputs": [
        {
          "output_type": "execute_result",
          "data": {
            "text/plain": [
              "198    33.0\n",
              "396    28.0\n",
              "33     19.0\n",
              "208    13.0\n",
              "93     14.0\n",
              "84     27.0\n",
              "373    24.0\n",
              "94     13.0\n",
              "222    17.0\n",
              "126    21.0\n",
              "9      15.0\n",
              "383    38.0\n",
              "56     26.0\n",
              "72     15.0\n",
              "132    25.0\n",
              "42     12.0\n",
              "370    31.0\n",
              "275    17.0\n",
              "229    16.0\n",
              "377    31.0\n",
              "77     22.0\n",
              "15     22.0\n",
              "389    22.0\n",
              "238    33.5\n",
              "0      18.0\n",
              "Name: mpg, dtype: float64"
            ]
          },
          "metadata": {},
          "execution_count": 68
        }
      ]
    },
    {
      "cell_type": "code",
      "metadata": {
        "id": "RL2NYrqwFf3g",
        "colab": {
          "base_uri": "https://localhost:8080/"
        },
        "outputId": "732d3fd0-2b03-422a-a792-ccce9f2f13a8"
      },
      "source": [
        "sample_0.mean()"
      ],
      "execution_count": 69,
      "outputs": [
        {
          "output_type": "execute_result",
          "data": {
            "text/plain": [
              "22.1"
            ]
          },
          "metadata": {},
          "execution_count": 69
        }
      ]
    },
    {
      "cell_type": "code",
      "metadata": {
        "id": "inxSl7tTY0hJ",
        "colab": {
          "base_uri": "https://localhost:8080/"
        },
        "outputId": "180c808b-01be-46da-c04f-d3c3379155a5"
      },
      "source": [
        "sample_0.std()"
      ],
      "execution_count": 70,
      "outputs": [
        {
          "output_type": "execute_result",
          "data": {
            "text/plain": [
              "7.351303739246982"
            ]
          },
          "metadata": {},
          "execution_count": 70
        }
      ]
    },
    {
      "cell_type": "markdown",
      "source": [
        "Let's plot the distribution"
      ],
      "metadata": {
        "id": "PFA7EY5n5OGQ"
      }
    },
    {
      "cell_type": "code",
      "source": [
        "fig, ax = plt.subplots(figsize=(10,5))\n",
        "sample_0.hist(ax=ax)\n",
        "plt.title('Sample - MPG Distribution')\n",
        "plt.xlabel('MPG')\n",
        "plt.axvline(x=sample_0.mean(), label='Sample Mean', c='r')\n",
        "plt.legend()\n",
        "plt.ylabel('Count')\n",
        "plt.show()"
      ],
      "metadata": {
        "id": "Ig_kaRkQ5ND3",
        "colab": {
          "base_uri": "https://localhost:8080/",
          "height": 350
        },
        "outputId": "3d98c37b-ea05-4607-8a2b-4b2a423d3e00"
      },
      "execution_count": 71,
      "outputs": [
        {
          "output_type": "display_data",
          "data": {
            "text/plain": [
              "<Figure size 720x360 with 1 Axes>"
            ],
            "image/png": "[encoded data removed]"
          },
          "metadata": {
            "needs_background": "light"
          }
        }
      ]
    },
    {
      "cell_type": "markdown",
      "source": [
        "When visualizing the sample of 25 we see a lower resolution of the distribution from the population. The sample mean seems to be slightly lower as well. The general shape of the sample distribution aligns with the population."
      ],
      "metadata": {
        "id": "WYMfPzYQ5ZH8"
      }
    },
    {
      "cell_type": "markdown",
      "metadata": {
        "id": "8yp78VmkFKI5"
      },
      "source": [
        "Sample of 25 cars yields a mean mpg of 22.1.\n",
        "\n",
        "Estimate the mean mpg of all cars with 95% confidence."
      ]
    },
    {
      "cell_type": "code",
      "source": [
        "deg_free = sample_0.shape[0]-1\n",
        "deg_free"
      ],
      "metadata": {
        "id": "rMqEM1c1-EL4",
        "colab": {
          "base_uri": "https://localhost:8080/"
        },
        "outputId": "1eb474fe-5891-449a-e6b4-f1be3e17359d"
      },
      "execution_count": 72,
      "outputs": [
        {
          "output_type": "execute_result",
          "data": {
            "text/plain": [
              "24"
            ]
          },
          "metadata": {},
          "execution_count": 72
        }
      ]
    },
    {
      "cell_type": "code",
      "source": [
        "a = (1-.95)/2"
      ],
      "metadata": {
        "id": "mQeA2w1B-UcZ"
      },
      "execution_count": 73,
      "outputs": []
    },
    {
      "cell_type": "code",
      "source": [
        "# obtain t statistic\n",
        "t = stats.t.ppf(1-(a), deg_free)\n",
        "t"
      ],
      "metadata": {
        "id": "bxoUoT5l9zy7",
        "colab": {
          "base_uri": "https://localhost:8080/"
        },
        "outputId": "38401b53-1172-4a71-ccd1-0bac0c21f45d"
      },
      "execution_count": 74,
      "outputs": [
        {
          "output_type": "execute_result",
          "data": {
            "text/plain": [
              "2.0638985616280205"
            ]
          },
          "metadata": {},
          "execution_count": 74
        }
      ]
    },
    {
      "cell_type": "code",
      "source": [
        "sample_0.mean()"
      ],
      "metadata": {
        "id": "4nSs3hlS-dDU",
        "colab": {
          "base_uri": "https://localhost:8080/"
        },
        "outputId": "246cfcb4-1c05-48c2-c868-f20c548c0264"
      },
      "execution_count": 75,
      "outputs": [
        {
          "output_type": "execute_result",
          "data": {
            "text/plain": [
              "22.1"
            ]
          },
          "metadata": {},
          "execution_count": 75
        }
      ]
    },
    {
      "cell_type": "code",
      "metadata": {
        "id": "ZN1PX3rJDfCm"
      },
      "source": [
        "# make function that uses the t-score value\n",
        "upper_bound = sample_0.mean()+t*(sample_0.std()/math.sqrt(sample_0.shape[0]))\n",
        "lower_bound = sample_0.mean()-t*(sample_0.std()/math.sqrt(sample_0.shape[0]))"
      ],
      "execution_count": 76,
      "outputs": []
    },
    {
      "cell_type": "code",
      "metadata": {
        "id": "YIJxP_I8EXol",
        "colab": {
          "base_uri": "https://localhost:8080/",
          "height": 35
        },
        "outputId": "fac6271d-a298-4911-ffe8-9e670b016f0b"
      },
      "source": [
        "f\"Interpretation: for a .95 confidence interval, the mean car's mpg will fall above {lower_bound} and below {upper_bound}.\""
      ],
      "execution_count": 79,
      "outputs": [
        {
          "output_type": "execute_result",
          "data": {
            "text/plain": [
              "\"Interpretation: for a .95 confidence interval, the mean car's mpg will fall above 19.065530957295493 and below 25.13446904270451.\""
            ],
            "application/vnd.google.colaboratory.intrinsic+json": {
              "type": "string"
            }
          },
          "metadata": {},
          "execution_count": 79
        }
      ]
    },
    {
      "cell_type": "markdown",
      "metadata": {
        "id": "TV9dy2wbLYNZ"
      },
      "source": [
        "Check agains our other function."
      ]
    },
    {
      "cell_type": "code",
      "metadata": {
        "id": "B9MgdUQADcNu",
        "colab": {
          "base_uri": "https://localhost:8080/"
        },
        "outputId": "a61bb341-c324-4c52-d52e-0aeb7517770b"
      },
      "source": [
        "mean_confidence_interval(sample_0, confidence=0.95)"
      ],
      "execution_count": 80,
      "outputs": [
        {
          "output_type": "execute_result",
          "data": {
            "text/plain": [
              "(22.1, 19.065530957295493, 25.13446904270451)"
            ]
          },
          "metadata": {},
          "execution_count": 80
        }
      ]
    },
    {
      "cell_type": "markdown",
      "metadata": {
        "id": "aPf1wgf4EkfX"
      },
      "source": [
        "### Calculate for other confidence levels or alpha *a*, in hypothesis testing this is referred to as the significance level.\n",
        "\n",
        "The significance level of an event is the probability that the event could have occurred by chance. Can also be thought of as the probability of rejecting the null hypothesis given that it is true (a type I error).\n",
        "\n",
        "In terms of testing for the mean:\n",
        "this is the probability that the estimation procedure will generate an interval that does not contain μ.\n",
        "\n",
        "![image.png](data:image/png;base64,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)\n",
        "\n"
      ]
    },
    {
      "cell_type": "markdown",
      "metadata": {
        "id": "g8Lj8dbNGxUs"
      },
      "source": [
        "### Confidence coefficient (1 - *a*) is interpreted as the probability that the estimation procedure will generate an interval that contains μ.\n",
        "\n",
        "Based on this experiment, can we assume we got a true outcome?\n",
        "\n",
        "Interpretation: there is a .95 probability that the mean car's mpg will fall above 19.065530957295493 and below 25.13446904270451.\n",
        "\n",
        "And the population mean is: 23.5\n",
        "\n",
        "Therefore our 95% confidence resulted in an interval that does contain the mean of the population."
      ]
    },
    {
      "cell_type": "code",
      "source": [
        "pop_mean"
      ],
      "metadata": {
        "id": "kjoyIrpB_DbT",
        "colab": {
          "base_uri": "https://localhost:8080/"
        },
        "outputId": "e27c9346-b18f-417e-c20e-896f6144b3eb"
      },
      "execution_count": 81,
      "outputs": [
        {
          "output_type": "execute_result",
          "data": {
            "text/plain": [
              "23.514572864321615"
            ]
          },
          "metadata": {},
          "execution_count": 81
        }
      ]
    },
    {
      "cell_type": "markdown",
      "metadata": {
        "id": "cMKgtCj_MHE1"
      },
      "source": [
        "What if the populations standard deviation was actually 9 mpg?"
      ]
    },
    {
      "cell_type": "code",
      "metadata": {
        "id": "P3EQ_yw2MTiP"
      },
      "source": [
        "upper_bound_2 = sample_0.mean()+t*(9/math.sqrt(len(sample_0)))\n",
        "lower_bound_2 = sample_0.mean()-t*(9/math.sqrt(len(sample_0)))"
      ],
      "execution_count": 82,
      "outputs": []
    },
    {
      "cell_type": "code",
      "source": [
        "f\"Interpretation: there is a .95 probability that the mean car's mpg will fall above {lower_bound} and below {upper_bound}.\""
      ],
      "metadata": {
        "id": "jbBtar0t_n_q",
        "colab": {
          "base_uri": "https://localhost:8080/",
          "height": 35
        },
        "outputId": "c2de216d-f402-4550-d910-49291bfa3a67"
      },
      "execution_count": 83,
      "outputs": [
        {
          "output_type": "execute_result",
          "data": {
            "text/plain": [
              "\"Interpretation: there is a .95 probability that the mean car's mpg will fall above 19.065530957295493 and below 25.13446904270451.\""
            ],
            "application/vnd.google.colaboratory.intrinsic+json": {
              "type": "string"
            }
          },
          "metadata": {},
          "execution_count": 83
        }
      ]
    },
    {
      "cell_type": "code",
      "metadata": {
        "id": "Ky3WKVtQMaf9",
        "colab": {
          "base_uri": "https://localhost:8080/",
          "height": 35
        },
        "outputId": "b2519a7d-1415-46fc-d92a-1ba9fb0f59ec"
      },
      "source": [
        "f\"The width has increased to {upper_bound_2 - lower_bound_2} from {upper_bound - lower_bound}\""
      ],
      "execution_count": 84,
      "outputs": [
        {
          "output_type": "execute_result",
          "data": {
            "text/plain": [
              "'The width has increased to 7.430034821860872 from 6.068938085409016'"
            ],
            "application/vnd.google.colaboratory.intrinsic+json": {
              "type": "string"
            }
          },
          "metadata": {},
          "execution_count": 84
        }
      ]
    },
    {
      "cell_type": "markdown",
      "metadata": {
        "id": "5wpRV1K-NCJz"
      },
      "source": [
        "Let's take a smaller sample and see what happens."
      ]
    },
    {
      "cell_type": "code",
      "metadata": {
        "id": "Lz3W3shZMt3p"
      },
      "source": [
        "n = 15\n",
        "sample_1 = df['mpg'].sample(n=n, random_state=2)"
      ],
      "execution_count": 85,
      "outputs": []
    },
    {
      "cell_type": "code",
      "metadata": {
        "id": "jcFCkaL1NKnr",
        "colab": {
          "base_uri": "https://localhost:8080/"
        },
        "outputId": "0318eec0-bd24-4ff8-b8cd-8e26cb0cce42"
      },
      "source": [
        "mean_confidence_interval(sample_1, confidence=0.95)"
      ],
      "execution_count": 86,
      "outputs": [
        {
          "output_type": "execute_result",
          "data": {
            "text/plain": [
              "(21.326666666666664, 17.076829931908915, 25.576503401424414)"
            ]
          },
          "metadata": {},
          "execution_count": 86
        }
      ]
    },
    {
      "cell_type": "code",
      "metadata": {
        "id": "XGpE0ej6NVI5"
      },
      "source": [
        "# comment on the width change"
      ],
      "execution_count": null,
      "outputs": []
    },
    {
      "cell_type": "markdown",
      "metadata": {
        "id": "uSgYQSN5NrCL"
      },
      "source": [
        "Instead of 95% confidence, what about 99% confidence from original sample?"
      ]
    },
    {
      "cell_type": "code",
      "metadata": {
        "id": "Wa5s5UDkN6ul",
        "colab": {
          "base_uri": "https://localhost:8080/"
        },
        "outputId": "f5451f70-841c-4560-b433-755d974ebdbd"
      },
      "source": [
        "mean_confidence_interval(sample_0, confidence=0.95)"
      ],
      "execution_count": 87,
      "outputs": [
        {
          "output_type": "execute_result",
          "data": {
            "text/plain": [
              "(22.1, 19.065530957295493, 25.13446904270451)"
            ]
          },
          "metadata": {},
          "execution_count": 87
        }
      ]
    },
    {
      "cell_type": "code",
      "metadata": {
        "id": "pONpeny8Nv1s",
        "colab": {
          "base_uri": "https://localhost:8080/"
        },
        "outputId": "c339bf6d-198a-479d-f869-a0292811d8fa"
      },
      "source": [
        "mean_confidence_interval(sample_0, confidence=0.99)"
      ],
      "execution_count": 88,
      "outputs": [
        {
          "output_type": "execute_result",
          "data": {
            "text/plain": [
              "(22.1, 17.987769632023216, 26.212230367976787)"
            ]
          },
          "metadata": {},
          "execution_count": 88
        }
      ]
    },
    {
      "cell_type": "code",
      "metadata": {
        "id": "HuWmnN4zN063"
      },
      "source": [
        "# comment on the width change"
      ],
      "execution_count": null,
      "outputs": []
    },
    {
      "cell_type": "markdown",
      "metadata": {
        "id": "Ccqo9P8TOM1K"
      },
      "source": [
        "The wider the interval, the lower its precision. Think back to the package delivery. \n",
        "\n",
        "What is the certainty of 3-5 days vs 2-7 days?\n",
        "\n",
        "In the next chapter we will start to build upon the t distribution and get into t-tests!"
      ]
    },
    {
      "cell_type": "code",
      "source": [
        ""
      ],
      "metadata": {
        "id": "JAkL3KsrAII2"
      },
      "execution_count": null,
      "outputs": []
    }
  ]
}