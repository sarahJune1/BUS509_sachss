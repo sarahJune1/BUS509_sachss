{
  "nbformat": 4,
  "nbformat_minor": 0,
  "metadata": {
    "colab": {
      "name": "Continuous Probability Distributions.ipynb",
      "provenance": [],
      "include_colab_link": true
    },
    "kernelspec": {
      "name": "python3",
      "display_name": "Python 3"
    },
    "language_info": {
      "name": "python"
    }
  },
  "cells": [
    {
      "cell_type": "markdown",
      "metadata": {
        "id": "view-in-github",
        "colab_type": "text"
      },
      "source": [
        "<a href=\"https://colab.research.google.com/github/sarahJune1/BUS509_sachss/blob/main/notebooks/Module_6/Continuous_Probability_Distributions.ipynb\" target=\"_parent\"><img src=\"https://colab.research.google.com/assets/colab-badge.svg\" alt=\"Open In Colab\"/></a>"
      ]
    },
    {
      "cell_type": "code",
      "execution_count": null,
      "metadata": {
        "id": "oM4AyCJOQFAG"
      },
      "outputs": [],
      "source": [
        "# author Sarah Sachs @sarah_june42\n",
        "import numpy as np\n",
        "import scipy.stats as stats\n",
        "import math\n",
        "import matplotlib.pyplot as plt\n",
        "import seaborn as sns"
      ]
    },
    {
      "cell_type": "markdown",
      "source": [
        "# Continuous Probability Distributions\n",
        "\n",
        "This notebook covers exercises about:\n",
        "\n",
        "- The uniform distribution \n",
        "- The normal distribution\n",
        "- The exponential distribution\n",
        "- The lognormal distribution\n",
        "\n",
        "____"
      ],
      "metadata": {
        "id": "CG1hKft2ZOtL"
      }
    },
    {
      "cell_type": "markdown",
      "source": [
        "## Uniform Distribution\n",
        "\n",
        "Suppose a sales team is projecting next month's sales for an existing product line. The sales previously have followed a uniform distribution with a lower limit of \\$25,000 and upper limit of $50,000.\n",
        "\n",
        "What is the mean and standard deviation?\n",
        "\n",
        "What is the probability that sales exceed \\$40,000?\n",
        "\n",
        "What is the probability that sales are between \\$32,000 and $38,000?"
      ],
      "metadata": {
        "id": "pQiNQnTOQSV3"
      }
    },
    {
      "cell_type": "code",
      "source": [
        "# define interval\n",
        "a, b = 25000, 50000"
      ],
      "metadata": {
        "id": "AtJOWbWUSsME"
      },
      "execution_count": null,
      "outputs": []
    },
    {
      "cell_type": "code",
      "source": [
        "# what is the mean and standard deviation?\n",
        "\n",
        "def mu_uniform(a,b):\n",
        "  \"\"\"\n",
        "  Computes a+b/2 for a uniform distribution\n",
        "  \"\"\"\n",
        "  return (a+b)/2"
      ],
      "metadata": {
        "id": "a1PcQ4MvSEgl"
      },
      "execution_count": null,
      "outputs": []
    },
    {
      "cell_type": "code",
      "source": [
        "def std_uniform(a,b):\n",
        "  \"\"\"\n",
        "  Computes standard deviation for a uniform distribution\n",
        "  \"\"\"\n",
        "  std = math.sqrt(((b-a)**2)/12)\n",
        "  return std"
      ],
      "metadata": {
        "id": "ygE3Bx8qSU3N"
      },
      "execution_count": null,
      "outputs": []
    },
    {
      "cell_type": "code",
      "source": [
        "print(f\"The mean is: ${mu_uniform(a,b)}\")"
      ],
      "metadata": {
        "colab": {
          "base_uri": "https://localhost:8080/"
        },
        "id": "qdebJwa2Sp1V",
        "outputId": "06eadbdf-1a30-40d2-e35e-9cee8c41279b"
      },
      "execution_count": null,
      "outputs": [
        {
          "output_type": "stream",
          "name": "stdout",
          "text": [
            "The mean is: $37500.0\n"
          ]
        }
      ]
    },
    {
      "cell_type": "code",
      "source": [
        "print(f\"The standard deviation is: ${std_uniform(a,b)}\")"
      ],
      "metadata": {
        "colab": {
          "base_uri": "https://localhost:8080/"
        },
        "id": "xDkg4k9ZSw-F",
        "outputId": "afa65651-f4d5-4816-a054-6a4c861b2aaf"
      },
      "execution_count": null,
      "outputs": [
        {
          "output_type": "stream",
          "name": "stdout",
          "text": [
            "The standard deviation is: $7216.878364870322\n"
          ]
        }
      ]
    },
    {
      "cell_type": "markdown",
      "source": [
        "Let's see what a random distribution from the uniform distribution would look like given this interval. \n",
        "\n",
        "Code referenced from: https://www.alphacodingskills.com/numpy/numpy-uniform-distribution.php"
      ],
      "metadata": {
        "id": "e6apJIMGVmHE"
      }
    },
    {
      "cell_type": "code",
      "source": [
        "# don't forget to set the seed for reproducible results\n",
        "np.random.seed(42)"
      ],
      "metadata": {
        "id": "2KMrEQlnVXaa"
      },
      "execution_count": null,
      "outputs": []
    },
    {
      "cell_type": "code",
      "source": [
        "# create random sample of 100 samples from uniform distribution\n",
        "sample = np.random.uniform(a, b, 100)\n",
        "print(sample)"
      ],
      "metadata": {
        "colab": {
          "base_uri": "https://localhost:8080/"
        },
        "id": "QZGRJgyvVJa2",
        "outputId": "1291a514-d48f-4d3f-ccc0-ff70fa7b0980"
      },
      "execution_count": null,
      "outputs": [
        {
          "output_type": "stream",
          "name": "stdout",
          "text": [
            "[34363.50297118 48767.85766025 43299.84854529 39966.46210493\n",
            " 28900.46601106 28899.86300841 26452.0903042  46654.40364437\n",
            " 40027.87529358 42701.8144449  25514.6123574  49247.74630405\n",
            " 45811.06602001 30308.47776696 29545.62418018 29585.11274634\n",
            " 32606.05607399 38118.91079081 35798.62546605 32280.72850495\n",
            " 40296.32236806 28487.3465163  32303.61621338 34159.04608234\n",
            " 36401.74960543 44629.39903483 29991.84455396 37855.86096034\n",
            " 39810.36422155 26161.260318   40188.62129754 29263.10309218\n",
            " 26626.28982463 48722.13843133 49140.80082686 45209.93370291\n",
            " 32615.34422933 27441.80285016 42105.8256628  36003.81234349\n",
            " 28050.95587112 37379.42275278 25859.71302788 47733.01005197\n",
            " 31469.49954    41563.05710885 32792.77690224 38001.70052945\n",
            " 38667.75698358 29621.36138814 49239.61569411 44378.32058403\n",
            " 48487.4735391  47370.68376069 39947.49947028 48046.85587558\n",
            " 27212.3125513  29899.57156048 26130.68222276 33133.25826908\n",
            " 34716.93224224 31783.72579435 45718.4377288  33918.83316734\n",
            " 32023.36274218 38567.40207896 28523.10562437 45054.92451885\n",
            " 26863.76609199 49672.17341501 44306.11923242 29967.89203835\n",
            " 25138.05292809 45386.53571137 42671.43359619 43225.17920102\n",
            " 44281.75866715 26851.11629335 33961.64321361 27896.72648813\n",
            " 46577.58564689 40582.45317069 33272.45062132 26588.95875715\n",
            " 32774.55804289 33129.58305067 43240.15445845 40938.93678388\n",
            " 47180.31856441 36805.37312905 27989.85614846 42831.11968057\n",
            " 44019.62621542 39031.92993924 44274.17949886 37344.88990911\n",
            " 38068.32073455 35688.52545896 25635.4781686  27697.28567483]\n"
          ]
        }
      ]
    },
    {
      "cell_type": "code",
      "source": [
        "# how does the mean compare?\n",
        "sample.mean()"
      ],
      "metadata": {
        "colab": {
          "base_uri": "https://localhost:8080/"
        },
        "id": "GWDbtMOSTY3T",
        "outputId": "207ed71d-78b4-4628-e17e-912fa250cc7b"
      },
      "execution_count": null,
      "outputs": [
        {
          "output_type": "execute_result",
          "data": {
            "text/plain": [
              "36754.51858445523"
            ]
          },
          "metadata": {},
          "execution_count": 57
        }
      ]
    },
    {
      "cell_type": "code",
      "source": [
        "sample.std()"
      ],
      "metadata": {
        "colab": {
          "base_uri": "https://localhost:8080/"
        },
        "id": "pepQpGwlV08A",
        "outputId": "ca7cf17d-bda2-4568-a14d-0e778ce21719"
      },
      "execution_count": null,
      "outputs": [
        {
          "output_type": "execute_result",
          "data": {
            "text/plain": [
              "7399.95566581226"
            ]
          },
          "metadata": {},
          "execution_count": 58
        }
      ]
    },
    {
      "cell_type": "markdown",
      "source": [
        "We see the mean and standard deviation from our random sample of 100 observations from this uniform distribution is very similar to the output of the formula."
      ],
      "metadata": {
        "id": "BnvYh3TzV5RM"
      }
    },
    {
      "cell_type": "code",
      "source": [
        "# let's plot it\n",
        "bin = np.arange(a, b, 100)\n",
        "\n",
        "plt.hist(sample, bins=bin, edgecolor='blue') \n",
        "plt.title(\"Uniform Distribution\") \n",
        "plt.xlabel('Sales $')\n",
        "plt.show()"
      ],
      "metadata": {
        "id": "T5ka8GQkRetn",
        "colab": {
          "base_uri": "https://localhost:8080/",
          "height": 295
        },
        "outputId": "67754353-16d4-43dc-d25a-2d5227a45d60"
      },
      "execution_count": null,
      "outputs": [
        {
          "output_type": "display_data",
          "data": {
            "image/png": "[encoded data removed]",
            "text/plain": [
              "<Figure size 432x288 with 1 Axes>"
            ]
          },
          "metadata": {
            "needs_background": "light"
          }
        }
      ]
    },
    {
      "cell_type": "code",
      "source": [
        "# how would this look as a continuous distribution\n",
        "sns.kdeplot(sample)\n",
        "plt.title(\"Uniform Distribution\") \n",
        "plt.xlabel('Sales $')\n",
        "plt.show()"
      ],
      "metadata": {
        "colab": {
          "base_uri": "https://localhost:8080/",
          "height": 295
        },
        "id": "0NdZWUi5XSIo",
        "outputId": "9cc823f7-8e23-44c7-bcda-958c2ff4c3db"
      },
      "execution_count": null,
      "outputs": [
        {
          "output_type": "display_data",
          "data": {
            "image/png": "[encoded data removed]",
            "text/plain": [
              "<Figure size 432x288 with 1 Axes>"
            ]
          },
          "metadata": {
            "needs_background": "light"
          }
        }
      ]
    },
    {
      "cell_type": "markdown",
      "source": [
        "Solving the probability that sales exceed $40,000 we look to the right of this value on the distribution. Our goal is to measure the area between 40,000 and 50,000, since the base of this area is 10,000 we multiply this by the height which is 1/50,000 - 25,000 = 0.0004"
      ],
      "metadata": {
        "id": "Ec_X0Z5UWdA5"
      }
    },
    {
      "cell_type": "code",
      "source": [
        "# solve for probability that sales exceed 40,000\n",
        "value_x = 40000\n",
        "\n",
        "# calculate the height\n",
        "height = 1/(b-a) \n",
        "height"
      ],
      "metadata": {
        "colab": {
          "base_uri": "https://localhost:8080/"
        },
        "id": "Z8abXed8WGOX",
        "outputId": "2525feb7-8acb-4a67-dd8e-56694f944741"
      },
      "execution_count": null,
      "outputs": [
        {
          "output_type": "execute_result",
          "data": {
            "text/plain": [
              "4e-05"
            ]
          },
          "metadata": {},
          "execution_count": 61
        }
      ]
    },
    {
      "cell_type": "code",
      "source": [
        "# calculate the difference between the value and upper bound area\n",
        "value_x_interval = b - value_x \n",
        "value_x_interval"
      ],
      "metadata": {
        "colab": {
          "base_uri": "https://localhost:8080/"
        },
        "id": "Ms5u5QdtWNet",
        "outputId": "058518f9-5b95-4cb0-b9ce-2dde61934d09"
      },
      "execution_count": null,
      "outputs": [
        {
          "output_type": "execute_result",
          "data": {
            "text/plain": [
              "10000"
            ]
          },
          "metadata": {},
          "execution_count": 62
        }
      ]
    },
    {
      "cell_type": "code",
      "source": [
        "print(f\"The probability that sales are between $40,000 and $50,000 is: {value_x_interval*height}\")"
      ],
      "metadata": {
        "colab": {
          "base_uri": "https://localhost:8080/"
        },
        "id": "125Pj6o4YJNv",
        "outputId": "218de95c-9bf0-4ebb-dbc2-cc9db045b251"
      },
      "execution_count": null,
      "outputs": [
        {
          "output_type": "stream",
          "name": "stdout",
          "text": [
            "The probability that sales are between $40,000 and $50,000 is: 0.4\n"
          ]
        }
      ]
    },
    {
      "cell_type": "markdown",
      "source": [
        "Solving the probability that sales are between $32,000 and 38,000, we slice the area in a similar way. In this case we only want the area between this interval so rather than subtract from b, we subtract the base between this interval."
      ],
      "metadata": {
        "id": "SKHEPAT6YOTH"
      }
    },
    {
      "cell_type": "code",
      "source": [
        "value_x1 = 32000\n",
        "value_x2 = 38000"
      ],
      "metadata": {
        "id": "CTF-KemxYLMl"
      },
      "execution_count": null,
      "outputs": []
    },
    {
      "cell_type": "code",
      "source": [
        "value_x_interval = value_x2 - value_x1\n",
        "value_x_interval"
      ],
      "metadata": {
        "colab": {
          "base_uri": "https://localhost:8080/"
        },
        "id": "dwRfzTQIYZ-R",
        "outputId": "0205b804-7cb6-4f60-e6fa-95df91c365fa"
      },
      "execution_count": null,
      "outputs": [
        {
          "output_type": "execute_result",
          "data": {
            "text/plain": [
              "6000"
            ]
          },
          "metadata": {},
          "execution_count": 65
        }
      ]
    },
    {
      "cell_type": "code",
      "source": [
        "print(f\"The probability that sales are between $32,000 and $38,000 is: {value_x_interval*height}\")"
      ],
      "metadata": {
        "colab": {
          "base_uri": "https://localhost:8080/"
        },
        "id": "W707yl9yYmjV",
        "outputId": "6950f8ea-013d-48c2-dbdc-4a32ffdaa0a0"
      },
      "execution_count": null,
      "outputs": [
        {
          "output_type": "stream",
          "name": "stdout",
          "text": [
            "The probability that sales are between $32,000 and $38,000 is: 0.24000000000000002\n"
          ]
        }
      ]
    },
    {
      "cell_type": "markdown",
      "source": [
        "Back to presentation"
      ],
      "metadata": {
        "id": "UoHmV0UDeiYi"
      }
    },
    {
      "cell_type": "markdown",
      "source": [
        "# The Normal Distribution"
      ],
      "metadata": {
        "id": "mPDBxfeLdQIq"
      }
    },
    {
      "cell_type": "markdown",
      "source": [
        "The following case study is how to graph a distribution given the mean and standard deviation. This code is mostly for demonstration purposes and not directly related to code needed for the homework.\n",
        "\n",
        "\n",
        "Suppose we know the age of users on social media platform Twitter, TikTok, and Facebook are normally distributed. We are given the following information on the relevant parameters:"
      ],
      "metadata": {
        "id": "FnmyyrmUdT9O"
      }
    },
    {
      "cell_type": "code",
      "source": [
        "# define the variables for mean and standard deviation\n",
        "twitter_mean = 25\n",
        "twitter_std = 8\n",
        "tt_mean = 18\n",
        "tt_std = 10\n",
        "fb_mean = 40\n",
        "fb_std = 20"
      ],
      "metadata": {
        "id": "DHoVXRCyYpQ9"
      },
      "execution_count": null,
      "outputs": []
    },
    {
      "cell_type": "code",
      "source": [
        "# let's graphically compare the ages between platforms\n",
        "\n",
        "def norm_dist_coordinates(mu, sigma):\n",
        "  \"\"\"\n",
        "  Return the normal distribution given a mean and standard deviation\n",
        "  \"\"\"\n",
        "  # create x observations\n",
        "  x = np.linspace(mu - 3*sigma, mu + 3*sigma, 100)\n",
        "  # create probability distribution function along y\n",
        "  return x, stats.norm.pdf(x, mu, sigma)\n"
      ],
      "metadata": {
        "id": "7iQlMxmZdgoZ"
      },
      "execution_count": null,
      "outputs": []
    },
    {
      "cell_type": "code",
      "source": [
        "# define for each\n",
        "twitter_x, twitter_y = norm_dist_coordinates(twitter_mean, twitter_std)\n",
        "tt_x, tt_y = norm_dist_coordinates(tt_mean, tt_std)\n",
        "fb_x, fb_y = norm_dist_coordinates(fb_mean, fb_std)"
      ],
      "metadata": {
        "id": "09sziu7JeA2v"
      },
      "execution_count": null,
      "outputs": []
    },
    {
      "cell_type": "code",
      "source": [
        "# let's plot all three together\n",
        "# define the canvas\n",
        "plt.figure(figsize=(10,8))\n",
        "# plot twitter\n",
        "plt.plot(twitter_x, twitter_y, label='Twitter')\n",
        "# plot tiktok\n",
        "plt.plot(tt_x, tt_y, label='TikTok')\n",
        "# plot fb\n",
        "plt.plot(fb_x, fb_y, label='Facebook')\n",
        "# add labels\n",
        "plt.title('Age Distribution for Social Media')\n",
        "plt.xlabel('Age')\n",
        "plt.ylabel('Probability Density')\n",
        "plt.legend()\n",
        "plt.show()"
      ],
      "metadata": {
        "colab": {
          "base_uri": "https://localhost:8080/",
          "height": 513
        },
        "id": "1GUD5Y3UeJTS",
        "outputId": "ce614b8c-6eca-4670-8791-223ac2b7ab6e"
      },
      "execution_count": null,
      "outputs": [
        {
          "output_type": "display_data",
          "data": {
            "image/png": "[encoded data removed]",
            "text/plain": [
              "<Figure size 720x576 with 1 Axes>"
            ]
          },
          "metadata": {
            "needs_background": "light"
          }
        }
      ]
    },
    {
      "cell_type": "markdown",
      "source": [
        "We see that the demographics for twitter and tiktok are relatively similar compared to Facebook. The tailedness for Facebook is wider and we see there is a general overlap between all three platforms for the age range of 20-40. \n",
        "\n",
        "Notice that the age goes negative which doesn't make sense and also we should assume 2 year olds are not using any of these platforms."
      ],
      "metadata": {
        "id": "bz_4VJn9gWmG"
      }
    },
    {
      "cell_type": "markdown",
      "source": [
        "## Calculating the Z score and Probability\n",
        "\n",
        "Example: \n",
        "A company’s ESG score, which approximates the company’s long term sustainability metrics,  are normally distributed with a mean of 72 and standard deviation of 8. \n",
        "\n",
        "1. What is the probability that a randomly selected company will score above 60?\n",
        "\n",
        "2. What is the probability that a randomly selected company will score between 68 and 84?\n"
      ],
      "metadata": {
        "id": "brkfIaznVp1C"
      }
    },
    {
      "cell_type": "code",
      "source": [
        "# define variables\n",
        "mu = 72\n",
        "std = 8"
      ],
      "metadata": {
        "id": "RwOrVk9HYTCJ"
      },
      "execution_count": 73,
      "outputs": []
    },
    {
      "cell_type": "code",
      "source": [
        "# define the variables\n",
        "esg_x, esg_y = norm_dist_coordinates(mu, std)"
      ],
      "metadata": {
        "id": "iLhjfeh2WFli"
      },
      "execution_count": 74,
      "outputs": []
    },
    {
      "cell_type": "code",
      "source": [
        "# let's plot the distribution\n",
        "plt.figure(figsize=(10,8))\n",
        "plt.plot(esg_x, esg_y)\n",
        "plt.title('ESG Scores')\n",
        "plt.xlabel('Score')\n",
        "plt.ylabel('Probability Density')\n",
        "plt.show()"
      ],
      "metadata": {
        "id": "0RHE50YbYWXi",
        "colab": {
          "base_uri": "https://localhost:8080/",
          "height": 513
        },
        "outputId": "ac8d2167-b906-48c5-fe9c-0fe002051c4e"
      },
      "execution_count": 75,
      "outputs": [
        {
          "output_type": "display_data",
          "data": {
            "image/png": "[encoded data removed]",
            "text/plain": [
              "<Figure size 720x576 with 1 Axes>"
            ]
          },
          "metadata": {
            "needs_background": "light"
          }
        }
      ]
    },
    {
      "cell_type": "markdown",
      "source": [
        "This is the the cumulative probability function for our distribution of ESG scores, we see the mean at 70 and a relatively steep middle."
      ],
      "metadata": {
        "id": "Ki9658P5YqF7"
      }
    },
    {
      "cell_type": "code",
      "source": [
        "# calculate the probability to score above 60\n",
        "x = 60"
      ],
      "metadata": {
        "id": "REp2yl8QYiis"
      },
      "execution_count": 76,
      "outputs": []
    },
    {
      "cell_type": "markdown",
      "source": [
        "We will use https://docs.scipy.org/doc/scipy/reference/generated/scipy.stats.norm.html for calcualting the normal distribution and the cumulative density function for our desired value of x. "
      ],
      "metadata": {
        "id": "-JHVYHVCZ46I"
      }
    },
    {
      "cell_type": "code",
      "source": [
        "# we subtract from 1 since the cdf will provide only the area before the value\n",
        "1-stats.norm(mu, std).cdf(x)"
      ],
      "metadata": {
        "id": "YdWhKqYMZCdJ",
        "colab": {
          "base_uri": "https://localhost:8080/"
        },
        "outputId": "c835298a-dbfd-41fb-8b9f-2746fd7bf2b6"
      },
      "execution_count": 77,
      "outputs": [
        {
          "output_type": "execute_result",
          "data": {
            "text/plain": [
              "0.9331927987311419"
            ]
          },
          "metadata": {},
          "execution_count": 77
        }
      ]
    },
    {
      "cell_type": "code",
      "source": [
        "# probability between 68 and 84\n",
        "x_low = 68\n",
        "x_high = 84"
      ],
      "metadata": {
        "id": "nSVVhZpvalZO"
      },
      "execution_count": 78,
      "outputs": []
    },
    {
      "cell_type": "code",
      "source": [
        "stats.norm(mu, std).cdf(x_high) - stats.norm(mu, std).cdf(x_low)"
      ],
      "metadata": {
        "id": "yz21Qys9b404",
        "colab": {
          "base_uri": "https://localhost:8080/"
        },
        "outputId": "ab391b50-1d03-4683-e9a9-a4e2bdf3dc11"
      },
      "execution_count": 79,
      "outputs": [
        {
          "output_type": "execute_result",
          "data": {
            "text/plain": [
              "0.624655260005155"
            ]
          },
          "metadata": {},
          "execution_count": 79
        }
      ]
    },
    {
      "cell_type": "markdown",
      "source": [
        "# The Exponential Distribution\n",
        "\n",
        "Let the time between emergency calls for a call center be exponentially distributed with a mean of 25 minutes.\n",
        "- Calculate the rate parameter λ\n",
        "- What is the probability that a call does not happen for more than one hour?\n",
        "- What is the probability you receive a call within 10 minutes?\n"
      ],
      "metadata": {
        "id": "aRUnz_X6f7iJ"
      }
    },
    {
      "cell_type": "markdown",
      "source": [
        "Calculate the rate parameter λ \n",
        "\n",
        "Recall that,\n",
        "Mean E(X) = 1/λ and λ = 1/E(X)"
      ],
      "metadata": {
        "id": "eFQMsVwyg18w"
      }
    },
    {
      "cell_type": "code",
      "source": [
        "# define variable\n",
        "rate_mean = 25"
      ],
      "metadata": {
        "id": "KVUtuuFgcC2C"
      },
      "execution_count": 80,
      "outputs": []
    },
    {
      "cell_type": "code",
      "source": [
        "def calc_rate_param(rate_mean):\n",
        "  \"\"\"\n",
        "  Calculates the rate parameter, given that mean 1/rate parameter\n",
        "  \"\"\"\n",
        "  rate_param = 1/rate_mean\n",
        "  return rate_param"
      ],
      "metadata": {
        "id": "J6meWJYIiMfN"
      },
      "execution_count": 81,
      "outputs": []
    },
    {
      "cell_type": "code",
      "source": [
        "# rate param\n",
        "rate_param = calc_rate_param(rate_mean)\n",
        "print(\"The rate parameter is\", rate_param)"
      ],
      "metadata": {
        "id": "gJ_u0JsdhVui",
        "colab": {
          "base_uri": "https://localhost:8080/"
        },
        "outputId": "392a3cdf-67b0-49b9-cf34-6d33ddacb91a"
      },
      "execution_count": 82,
      "outputs": [
        {
          "output_type": "stream",
          "name": "stdout",
          "text": [
            "The rate parameter is 0.04\n"
          ]
        }
      ]
    },
    {
      "cell_type": "markdown",
      "source": [
        "What is the probability that a call does not happen for more than one hour?\n",
        "\n",
        "We are calculating: P(X > 60)\n"
      ],
      "metadata": {
        "id": "KAg4pr-LhroO"
      }
    },
    {
      "cell_type": "code",
      "source": [
        "# define x\n",
        "x = 60"
      ],
      "metadata": {
        "id": "tGBhgQYYh0A8"
      },
      "execution_count": 84,
      "outputs": []
    },
    {
      "cell_type": "code",
      "source": [
        "def cum_prob_greater_than(rate_param, x):\n",
        "  \"\"\"\n",
        "  Calculates cumulative probability greater than an x value\n",
        "  \"\"\"\n",
        "  cum_prob = math.e**(-rate_param * x)\n",
        "  return cum_prob"
      ],
      "metadata": {
        "id": "jvfv_BqNieZw"
      },
      "execution_count": 85,
      "outputs": []
    },
    {
      "cell_type": "code",
      "source": [
        "cum_prob_greater_than(rate_param, x)"
      ],
      "metadata": {
        "id": "4R_hx9TwhYnc",
        "colab": {
          "base_uri": "https://localhost:8080/"
        },
        "outputId": "99afd252-46de-4e41-885b-678b95390922"
      },
      "execution_count": 86,
      "outputs": [
        {
          "output_type": "execute_result",
          "data": {
            "text/plain": [
              "0.09071795328941253"
            ]
          },
          "metadata": {},
          "execution_count": 86
        }
      ]
    },
    {
      "cell_type": "markdown",
      "source": [
        "For calculating the probability distribution that is less than a given value of x, we can use the above function and simply subtract from 1."
      ],
      "metadata": {
        "id": "QgZ7J1FOjhGc"
      }
    },
    {
      "cell_type": "code",
      "source": [
        "# example, probability that call happens within one hour\n",
        "1 - cum_prob_greater_than(rate_param, x)"
      ],
      "metadata": {
        "id": "NiBwIdxxiG-G",
        "colab": {
          "base_uri": "https://localhost:8080/"
        },
        "outputId": "3f27845e-50ff-4c18-dd7a-481dd5a6e600"
      },
      "execution_count": 87,
      "outputs": [
        {
          "output_type": "execute_result",
          "data": {
            "text/plain": [
              "0.9092820467105874"
            ]
          },
          "metadata": {},
          "execution_count": 87
        }
      ]
    },
    {
      "cell_type": "markdown",
      "source": [
        "What is the probability you receive a call within 10 minutes?"
      ],
      "metadata": {
        "id": "IZjDeX-DjzVK"
      }
    },
    {
      "cell_type": "code",
      "source": [
        "x = 10"
      ],
      "metadata": {
        "id": "Sy_XUjqZj0Gw"
      },
      "execution_count": 88,
      "outputs": []
    },
    {
      "cell_type": "markdown",
      "source": [
        "We can use the function and then subtract from 1 since we are looking at the probability less than a value."
      ],
      "metadata": {
        "id": "yIlOUqOWj2Ac"
      }
    },
    {
      "cell_type": "code",
      "source": [
        "1 - cum_prob_greater_than(rate_param, x)"
      ],
      "metadata": {
        "id": "alI7MA_Dj7CT",
        "colab": {
          "base_uri": "https://localhost:8080/"
        },
        "outputId": "b90afd7a-9f8c-4acf-841d-5142758c62f8"
      },
      "execution_count": 89,
      "outputs": [
        {
          "output_type": "execute_result",
          "data": {
            "text/plain": [
              "0.3296799539643607"
            ]
          },
          "metadata": {},
          "execution_count": 89
        }
      ]
    },
    {
      "cell_type": "markdown",
      "source": [
        "Back to lecture"
      ],
      "metadata": {
        "id": "yBvg61-OmSHS"
      }
    },
    {
      "cell_type": "markdown",
      "source": [
        "# The Lognormal Distribution\n",
        "\n",
        "Consider the price of a penny stock has an underlying normal distribution with a mean of 5 and a standard deviation of 1.2, what is the lognormal distribution mean and standard deviation?"
      ],
      "metadata": {
        "id": "oG50R5CNjJaN"
      }
    },
    {
      "cell_type": "code",
      "source": [
        "# define inputs\n",
        "normal_mean = 5\n",
        "normal_std = 1.2"
      ],
      "metadata": {
        "id": "Sv219xILjKof"
      },
      "execution_count": 90,
      "outputs": []
    },
    {
      "cell_type": "code",
      "source": [
        "def lognormal_conversion(normal_mean, normal_std):\n",
        "  \"\"\"\n",
        "  Converts normally distributed mean, std into lognormal\n",
        "  Returns the lognormal mean and lognormal standard deviation\n",
        "  \"\"\"\n",
        "  logn_mean = math.e**(((2*normal_mean) + normal_std**2)/2)\n",
        "\n",
        "  logn_std = math.sqrt((math.e**(normal_std**2) - 1) * math.e**((2*normal_mean) +normal_std**2 ) )\n",
        "  return logn_mean, logn_std"
      ],
      "metadata": {
        "id": "fViCVkDImaNr"
      },
      "execution_count": 92,
      "outputs": []
    },
    {
      "cell_type": "code",
      "source": [
        "# convert to lognormal\n",
        "log_mean, log_std = lognormal_conversion(normal_mean, normal_std)"
      ],
      "metadata": {
        "id": "nM7fPpEAnH9s"
      },
      "execution_count": 93,
      "outputs": []
    },
    {
      "cell_type": "code",
      "source": [
        "print(\"The lognormal mean and standard deviation is\", log_mean, log_std)"
      ],
      "metadata": {
        "id": "p6TkBzu6nK_x",
        "colab": {
          "base_uri": "https://localhost:8080/"
        },
        "outputId": "22c58b98-5027-4407-a2a2-b223faee1dfd"
      },
      "execution_count": 94,
      "outputs": [
        {
          "output_type": "stream",
          "name": "stdout",
          "text": [
            "The lognormal mean and standard deviation is 304.9049229569084 547.191435246123\n"
          ]
        }
      ]
    },
    {
      "cell_type": "markdown",
      "source": [
        "What is the probability that y will be less than or equal to 200?\n",
        "\n",
        "P(Y ≤ 200) = P(ln(Y) ≤ ln(200)) = P(X ≤ 5.30)"
      ],
      "metadata": {
        "id": "3x1NUbeXojhE"
      }
    },
    {
      "cell_type": "code",
      "source": [
        "# define variable\n",
        "x = 200"
      ],
      "metadata": {
        "id": "_1Tto47unbe9"
      },
      "execution_count": 95,
      "outputs": []
    },
    {
      "cell_type": "code",
      "source": [
        "# convert into lognormal\n",
        "x_log = np.log(x)\n",
        "x_log"
      ],
      "metadata": {
        "id": "LPB3OjwSoqVy",
        "colab": {
          "base_uri": "https://localhost:8080/"
        },
        "outputId": "d6383fc2-b64f-4629-f194-78015ad4abf5"
      },
      "execution_count": 96,
      "outputs": [
        {
          "output_type": "execute_result",
          "data": {
            "text/plain": [
              "5.298317366548036"
            ]
          },
          "metadata": {},
          "execution_count": 96
        }
      ]
    },
    {
      "cell_type": "code",
      "source": [
        "def calc_z_score(mean, std, x):\n",
        "  \"\"\"\n",
        "  Z score calculation\n",
        "  \"\"\"\n",
        "  return (x - normal_mean)/std"
      ],
      "metadata": {
        "id": "apdC9a92ozbW"
      },
      "execution_count": 97,
      "outputs": []
    },
    {
      "cell_type": "code",
      "source": [
        "z_score = calc_z_score(normal_mean, normal_std, x_log)\n",
        "z_score"
      ],
      "metadata": {
        "id": "Q3YRhcALp61f",
        "colab": {
          "base_uri": "https://localhost:8080/"
        },
        "outputId": "997dd077-b26e-4439-d3f1-8ed8cc4502db"
      },
      "execution_count": 98,
      "outputs": [
        {
          "output_type": "execute_result",
          "data": {
            "text/plain": [
              "0.24859780545669694"
            ]
          },
          "metadata": {},
          "execution_count": 98
        }
      ]
    },
    {
      "cell_type": "code",
      "source": [
        "# convert to a normal probability\n",
        "stats.norm.cdf(z_score)"
      ],
      "metadata": {
        "id": "SyYt57Rmq5Rn",
        "colab": {
          "base_uri": "https://localhost:8080/"
        },
        "outputId": "26451e79-c7b7-4225-935f-3fa62572a213"
      },
      "execution_count": 99,
      "outputs": [
        {
          "output_type": "execute_result",
          "data": {
            "text/plain": [
              "0.5981640468951666"
            ]
          },
          "metadata": {},
          "execution_count": 99
        }
      ]
    },
    {
      "cell_type": "markdown",
      "source": [
        "We can use the stats package for calculating the probability, rather than using the z score and using the table lookup."
      ],
      "metadata": {
        "id": "RrMGGyFUq8Kj"
      }
    },
    {
      "cell_type": "code",
      "source": [
        "stats.norm(normal_mean, normal_std).cdf(x_log)"
      ],
      "metadata": {
        "id": "RaAbJd13qDaD",
        "colab": {
          "base_uri": "https://localhost:8080/"
        },
        "outputId": "74eead96-a9f4-4162-c7f9-77416a7f3740"
      },
      "execution_count": 100,
      "outputs": [
        {
          "output_type": "execute_result",
          "data": {
            "text/plain": [
              "0.5981640468951666"
            ]
          },
          "metadata": {},
          "execution_count": 100
        }
      ]
    },
    {
      "cell_type": "code",
      "source": [
        ""
      ],
      "metadata": {
        "id": "wU0zAWI0rU7r"
      },
      "execution_count": null,
      "outputs": []
    }
  ]
}